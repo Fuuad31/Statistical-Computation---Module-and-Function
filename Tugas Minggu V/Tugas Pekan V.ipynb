{
 "cells": [
  {
   "cell_type": "markdown",
   "metadata": {},
   "source": [
    "# Kalkulasi Nilai Akhir Menggunakan Data Frame"
   ]
  },
  {
   "cell_type": "markdown",
   "metadata": {},
   "source": [
    "# Linear Regression "
   ]
  },
  {
   "cell_type": "markdown",
   "metadata": {},
   "source": [
    "## Simple Linear Regression"
   ]
  },
  {
   "cell_type": "markdown",
   "metadata": {},
   "source": [
    "## Multiple Linear Regression"
   ]
  },
  {
   "cell_type": "markdown",
   "metadata": {},
   "source": [
    "### Try to Data"
   ]
  },
  {
   "cell_type": "markdown",
   "metadata": {},
   "source": [
    "#### Import Data"
   ]
  },
  {
   "cell_type": "code",
   "execution_count": 1,
   "metadata": {},
   "outputs": [],
   "source": [
    "import pandas as pd\n",
    "import numpy as np"
   ]
  },
  {
   "cell_type": "code",
   "execution_count": 2,
   "metadata": {},
   "outputs": [
    {
     "data": {
      "text/html": [
       "<div>\n",
       "<style scoped>\n",
       "    .dataframe tbody tr th:only-of-type {\n",
       "        vertical-align: middle;\n",
       "    }\n",
       "\n",
       "    .dataframe tbody tr th {\n",
       "        vertical-align: top;\n",
       "    }\n",
       "\n",
       "    .dataframe thead th {\n",
       "        text-align: right;\n",
       "    }\n",
       "</style>\n",
       "<table border=\"1\" class=\"dataframe\">\n",
       "  <thead>\n",
       "    <tr style=\"text-align: right;\">\n",
       "      <th></th>\n",
       "      <th>age</th>\n",
       "      <th>bmi</th>\n",
       "      <th>children</th>\n",
       "      <th>smoker</th>\n",
       "      <th>region</th>\n",
       "      <th>premium</th>\n",
       "    </tr>\n",
       "  </thead>\n",
       "  <tbody>\n",
       "    <tr>\n",
       "      <th>0</th>\n",
       "      <td>37</td>\n",
       "      <td>29.8</td>\n",
       "      <td>2</td>\n",
       "      <td>no</td>\n",
       "      <td>northeast</td>\n",
       "      <td>6406.41</td>\n",
       "    </tr>\n",
       "    <tr>\n",
       "      <th>1</th>\n",
       "      <td>25</td>\n",
       "      <td>26.2</td>\n",
       "      <td>0</td>\n",
       "      <td>no</td>\n",
       "      <td>northeast</td>\n",
       "      <td>2721.32</td>\n",
       "    </tr>\n",
       "    <tr>\n",
       "      <th>2</th>\n",
       "      <td>52</td>\n",
       "      <td>30.8</td>\n",
       "      <td>1</td>\n",
       "      <td>no</td>\n",
       "      <td>northeast</td>\n",
       "      <td>10797.34</td>\n",
       "    </tr>\n",
       "    <tr>\n",
       "      <th>3</th>\n",
       "      <td>23</td>\n",
       "      <td>23.8</td>\n",
       "      <td>0</td>\n",
       "      <td>no</td>\n",
       "      <td>northeast</td>\n",
       "      <td>2395.17</td>\n",
       "    </tr>\n",
       "    <tr>\n",
       "      <th>4</th>\n",
       "      <td>60</td>\n",
       "      <td>36.0</td>\n",
       "      <td>0</td>\n",
       "      <td>no</td>\n",
       "      <td>northeast</td>\n",
       "      <td>13228.85</td>\n",
       "    </tr>\n",
       "  </tbody>\n",
       "</table>\n",
       "</div>"
      ],
      "text/plain": [
       "   age   bmi  children smoker     region   premium\n",
       "0   37  29.8         2     no  northeast   6406.41\n",
       "1   25  26.2         0     no  northeast   2721.32\n",
       "2   52  30.8         1     no  northeast  10797.34\n",
       "3   23  23.8         0     no  northeast   2395.17\n",
       "4   60  36.0         0     no  northeast  13228.85"
      ]
     },
     "execution_count": 2,
     "metadata": {},
     "output_type": "execute_result"
    }
   ],
   "source": [
    "# Read the data\n",
    "df = pd.read_excel('Dataset Pertemuan 2.xlsx', sheet_name='Latihan 2')\n",
    "df.head()"
   ]
  },
  {
   "cell_type": "markdown",
   "metadata": {},
   "source": [
    "Akan bla bla ...."
   ]
  },
  {
   "cell_type": "markdown",
   "metadata": {},
   "source": [
    "#### Looking The data"
   ]
  },
  {
   "cell_type": "code",
   "execution_count": 3,
   "metadata": {},
   "outputs": [
    {
     "name": "stdout",
     "output_type": "stream",
     "text": [
      "<class 'pandas.core.frame.DataFrame'>\n",
      "RangeIndex: 120 entries, 0 to 119\n",
      "Data columns (total 6 columns):\n",
      " #   Column    Non-Null Count  Dtype  \n",
      "---  ------    --------------  -----  \n",
      " 0   age       120 non-null    int64  \n",
      " 1   bmi       120 non-null    float64\n",
      " 2   children  120 non-null    int64  \n",
      " 3   smoker    120 non-null    object \n",
      " 4   region    120 non-null    object \n",
      " 5   premium   120 non-null    float64\n",
      "dtypes: float64(2), int64(2), object(2)\n",
      "memory usage: 5.8+ KB\n"
     ]
    }
   ],
   "source": [
    "df.info()"
   ]
  },
  {
   "cell_type": "code",
   "execution_count": 12,
   "metadata": {},
   "outputs": [],
   "source": [
    "def info_data(df):\n",
    "    print(f'Jumlah baris: {df.shape[0]}')\n",
    "    print(f'Jumlah kolom: {df.shape[1]}')\n",
    "    print(f'Data duplikat: {df.duplicated().sum()}')\n",
    "    print(f'Jumlah data yang hilang: {df.isnull().sum().sum()}')"
   ]
  },
  {
   "cell_type": "code",
   "execution_count": 13,
   "metadata": {},
   "outputs": [
    {
     "name": "stdout",
     "output_type": "stream",
     "text": [
      "Jumlah baris: 120\n",
      "Jumlah kolom: 6\n",
      "Data duplikat: 0\n",
      "Jumlah data yang hilang: 0\n"
     ]
    }
   ],
   "source": [
    "info_data(df)"
   ]
  },
  {
   "cell_type": "markdown",
   "metadata": {},
   "source": [
    "#### Asumption Checking"
   ]
  },
  {
   "cell_type": "markdown",
   "metadata": {},
   "source": [
    "##### Variabel Dependen Merupakan Variabel Kontinu"
   ]
  },
  {
   "cell_type": "code",
   "execution_count": 28,
   "metadata": {},
   "outputs": [],
   "source": [
    "import matplotlib.pyplot as plt\n",
    "import seaborn as sns"
   ]
  },
  {
   "cell_type": "code",
   "execution_count": 34,
   "metadata": {},
   "outputs": [
    {
     "data": {
      "text/plain": [
       "<AxesSubplot:xlabel='premium', ylabel='Density'>"
      ]
     },
     "execution_count": 34,
     "metadata": {},
     "output_type": "execute_result"
    },
    {
     "data": {
      "image/png": "[encoded data removed]",
      "text/plain": [
       "<Figure size 640x480 with 1 Axes>"
      ]
     },
     "metadata": {},
     "output_type": "display_data"
    }
   ],
   "source": [
    "fig, ax = figsize=(15, 25)\n",
    "sns.set(style='whitegrid')\n",
    "sns.kdeplot(df['premium'], shade=True)"
   ]
  },
  {
   "cell_type": "markdown",
   "metadata": {},
   "source": [
    "#### Variabel dependen berdistribusi normal"
   ]
  },
  {
   "cell_type": "code",
   "execution_count": 20,
   "metadata": {},
   "outputs": [],
   "source": [
    "# checking normality\n",
    "from scipy.stats import shapiro\n",
    "from scipy.stats import kstest\n",
    "\n",
    "def normality_test(data, coloumn_name):\n",
    "    if len(data[coloumn_name]) < 50:\n",
    "        stat, p = shapiro(data[coloumn_name])\n",
    "        print('Shapiro-Wilk Test')\n",
    "        print(f'Statistics={stat}, p={p}')\n",
    "        if p > 0.05:\n",
    "            print('Data terdistribusi normal')\n",
    "        else:\n",
    "            print('Data tidak terdistribusi normal')\n",
    "    else:\n",
    "        stat, p = kstest(data[coloumn_name], 'norm')\n",
    "        print('Kolmogorov-Smirnov Test')\n",
    "        print(f'Statistics={stat}, p={p}')\n",
    "        if p > 0.05:\n",
    "            print('Data terdistribusi normal')\n",
    "        else:\n",
    "            print('Data tidak terdistribusi normal')\n",
    "\n"
   ]
  },
  {
   "cell_type": "code",
   "execution_count": 21,
   "metadata": {},
   "outputs": [
    {
     "name": "stdout",
     "output_type": "stream",
     "text": [
      "Kolmogorov-Smirnov Test\n",
      "Statistics=1.0, p=0.0\n",
      "Data tidak terdistribusi normal\n"
     ]
    }
   ],
   "source": [
    "normality_test(df, 'premium')"
   ]
  },
  {
   "cell_type": "code",
   "execution_count": 63,
   "metadata": {},
   "outputs": [],
   "source": [
    "from scipy import stats\n",
    "\n",
    "xt, lmbda = stats.boxcox(df['premium'])"
   ]
  },
  {
   "cell_type": "code",
   "execution_count": 66,
   "metadata": {},
   "outputs": [],
   "source": [
    "df['premium_boxcox'] = xt"
   ]
  },
  {
   "cell_type": "code",
   "execution_count": 67,
   "metadata": {},
   "outputs": [
    {
     "name": "stdout",
     "output_type": "stream",
     "text": [
      "Kolmogorov-Smirnov Test\n",
      "Statistics=0.9999999999999984, p=0.0\n",
      "Data tidak terdistribusi normal\n"
     ]
    }
   ],
   "source": [
    "normality_test(df, 'premium_boxcox')"
   ]
  },
  {
   "cell_type": "markdown",
   "metadata": {},
   "source": [
    "##### Adanya hubungan linear (linearitas) antara variabel dependen (Y) dengan variabel independen (X)"
   ]
  },
  {
   "cell_type": "code",
   "execution_count": 35,
   "metadata": {},
   "outputs": [
    {
     "data": {
      "text/plain": [
       "Index(['age', 'bmi', 'children', 'smoker', 'region', 'premium'], dtype='object')"
      ]
     },
     "execution_count": 35,
     "metadata": {},
     "output_type": "execute_result"
    }
   ],
   "source": [
    "df.columns"
   ]
  },
  {
   "cell_type": "code",
   "execution_count": 62,
   "metadata": {},
   "outputs": [
    {
     "name": "stdout",
     "output_type": "stream",
     "text": [
      "Korelasi antara age dan premium\n",
      "PearsonRResult(statistic=0.3269385998663647, pvalue=0.0002677735498469273)\n",
      "Data linear\n",
      "\n",
      "Korelasi antara bmi dan premium\n",
      "PearsonRResult(statistic=0.1950493665346915, pvalue=0.03277379501759468)\n",
      "Data linear\n",
      "\n",
      "Korelasi antara children dan premium\n",
      "PearsonRResult(statistic=0.002816231926469551, pvalue=0.9756464212673374)\n",
      "Data tidak linear\n",
      "\n"
     ]
    }
   ],
   "source": [
    "# linearity test\n",
    "from scipy.stats import pearsonr\n",
    "y = ['premium']\n",
    "x = ['age', 'bmi', 'children']\n",
    "for i in x:\n",
    "    print(f'Korelasi antara {i} dan {y[0]}')\n",
    "    print(pearsonr(df[i], df[y[0]]))\n",
    "    if pearsonr(df[i], df[y[0]])[1] > 0.05:\n",
    "        print('Data tidak linear')\n",
    "    else:\n",
    "        print('Data linear')\n",
    "    print('')"
   ]
  },
  {
   "cell_type": "markdown",
   "metadata": {},
   "source": [
    "#### Regression using OLS"
   ]
  },
  {
   "cell_type": "code",
   "execution_count": null,
   "metadata": {},
   "outputs": [],
   "source": []
  },
  {
   "cell_type": "markdown",
   "metadata": {},
   "source": [
    "# More Interactive Function"
   ]
  },
  {
   "cell_type": "code",
   "execution_count": 57,
   "metadata": {},
   "outputs": [],
   "source": [
    "import geomeow as meow"
   ]
  },
  {
   "cell_type": "code",
   "execution_count": 59,
   "metadata": {},
   "outputs": [
    {
     "data": {
      "text/plain": [
       "['__builtins__',\n",
       " '__cached__',\n",
       " '__doc__',\n",
       " '__file__',\n",
       " '__loader__',\n",
       " '__name__',\n",
       " '__package__',\n",
       " '__spec__',\n",
       " 'atriangle_area',\n",
       " 'circle_area',\n",
       " 'circle_perimeter',\n",
       " 'inradius',\n",
       " 'math',\n",
       " 'outradius',\n",
       " 'parallelogram_area',\n",
       " 'squares_area',\n",
       " 'striangle_area',\n",
       " 'tcircle_grad',\n",
       " 'tcircle_point',\n",
       " 'trapezoid_area',\n",
       " 'triangle_area']"
      ]
     },
     "execution_count": 59,
     "metadata": {},
     "output_type": "execute_result"
    }
   ],
   "source": [
    "dir(meow)"
   ]
  }
 ],
 "metadata": {
  "kernelspec": {
   "display_name": "Python 3",
   "language": "python",
   "name": "python3"
  },
  "language_info": {
   "codemirror_mode": {
    "name": "ipython",
    "version": 3
   },
   "file_extension": ".py",
   "mimetype": "text/x-python",
   "name": "python",
   "nbconvert_exporter": "python",
   "pygments_lexer": "ipython3",
   "version": "3.9.13"
  }
 },
 "nbformat": 4,
 "nbformat_minor": 2
}
