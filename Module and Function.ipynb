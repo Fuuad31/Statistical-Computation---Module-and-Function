{
 "cells": [
  {
   "cell_type": "markdown",
   "metadata": {},
   "source": [
    "# Control Flow"
   ]
  },
  {
   "cell_type": "code",
   "execution_count": null,
   "metadata": {},
   "outputs": [
    {
     "name": "stdout",
     "output_type": "stream",
     "text": [
      "Drive already mounted at /content/drive; to attempt to forcibly remount, call drive.mount(\"/content/drive\", force_remount=True).\n"
     ]
    }
   ],
   "source": [
    "import pandas as pd\n",
    "from google.colab import drive\n",
    "drive.mount('/content/drive')"
   ]
  },
  {
   "cell_type": "code",
   "execution_count": null,
   "metadata": {},
   "outputs": [],
   "source": [
    "data_1 = pd.read_csv('/content/drive/MyDrive/homelessness - homelessness.csv')"
   ]
  },
  {
   "cell_type": "code",
   "execution_count": null,
   "metadata": {},
   "outputs": [
    {
     "data": {
      "application/vnd.google.colaboratory.intrinsic+json": {
       "summary": "{\n  \"name\": \"data_1\",\n  \"rows\": 51,\n  \"fields\": [\n    {\n      \"column\": \"region\",\n      \"properties\": {\n        \"dtype\": \"category\",\n        \"num_unique_values\": 9,\n        \"samples\": [\n          \"West North Central\",\n          \"Pacific\",\n          \"South Atlantic\"\n        ],\n        \"semantic_type\": \"\",\n        \"description\": \"\"\n      }\n    },\n    {\n      \"column\": \"state\",\n      \"properties\": {\n        \"dtype\": \"string\",\n        \"num_unique_values\": 51,\n        \"samples\": [\n          \"Texas\",\n          \"South Carolina\",\n          \"Virginia\"\n        ],\n        \"semantic_type\": \"\",\n        \"description\": \"\"\n      }\n    },\n    {\n      \"column\": \"individuals\",\n      \"properties\": {\n        \"dtype\": \"number\",\n        \"std\": 15991,\n        \"min\": 434,\n        \"max\": 109008,\n        \"num_unique_values\": 49,\n        \"samples\": [\n          3776,\n          16424,\n          2740\n        ],\n        \"semantic_type\": \"\",\n        \"description\": \"\"\n      }\n    },\n    {\n      \"column\": \"family_members\",\n      \"properties\": {\n        \"dtype\": \"number\",\n        \"std\": 7805,\n        \"min\": 75,\n        \"max\": 52070,\n        \"num_unique_values\": 50,\n        \"samples\": [\n          3891,\n          851,\n          602\n        ],\n        \"semantic_type\": \"\",\n        \"description\": \"\"\n      }\n    },\n    {\n      \"column\": \"state_pop\",\n      \"properties\": {\n        \"dtype\": \"number\",\n        \"std\": 7327257,\n        \"min\": 577601,\n        \"max\": 39461588,\n        \"num_unique_values\": 51,\n        \"samples\": [\n          28628666,\n          5084156,\n          8501286\n        ],\n        \"semantic_type\": \"\",\n        \"description\": \"\"\n      }\n    }\n  ]\n}",
       "type": "dataframe",
       "variable_name": "data_1"
      },
      "text/html": [
       "\n",
       "  <div id=\"df-440effab-08a5-4f5a-a59a-7413c3b21a76\" class=\"colab-df-container\">\n",
       "    <div>\n",
       "<style scoped>\n",
       "    .dataframe tbody tr th:only-of-type {\n",
       "        vertical-align: middle;\n",
       "    }\n",
       "\n",
       "    .dataframe tbody tr th {\n",
       "        vertical-align: top;\n",
       "    }\n",
       "\n",
       "    .dataframe thead th {\n",
       "        text-align: right;\n",
       "    }\n",
       "</style>\n",
       "<table border=\"1\" class=\"dataframe\">\n",
       "  <thead>\n",
       "    <tr style=\"text-align: right;\">\n",
       "      <th></th>\n",
       "      <th>region</th>\n",
       "      <th>state</th>\n",
       "      <th>individuals</th>\n",
       "      <th>family_members</th>\n",
       "      <th>state_pop</th>\n",
       "    </tr>\n",
       "  </thead>\n",
       "  <tbody>\n",
       "    <tr>\n",
       "      <th>0</th>\n",
       "      <td>East South Central</td>\n",
       "      <td>Alabama</td>\n",
       "      <td>2570</td>\n",
       "      <td>864</td>\n",
       "      <td>4887681</td>\n",
       "    </tr>\n",
       "    <tr>\n",
       "      <th>1</th>\n",
       "      <td>Pacific</td>\n",
       "      <td>Alaska</td>\n",
       "      <td>1434</td>\n",
       "      <td>582</td>\n",
       "      <td>735139</td>\n",
       "    </tr>\n",
       "    <tr>\n",
       "      <th>2</th>\n",
       "      <td>Mountain</td>\n",
       "      <td>Arizona</td>\n",
       "      <td>7259</td>\n",
       "      <td>2606</td>\n",
       "      <td>7158024</td>\n",
       "    </tr>\n",
       "    <tr>\n",
       "      <th>3</th>\n",
       "      <td>West South Central</td>\n",
       "      <td>Arkansas</td>\n",
       "      <td>2280</td>\n",
       "      <td>432</td>\n",
       "      <td>3009733</td>\n",
       "    </tr>\n",
       "    <tr>\n",
       "      <th>4</th>\n",
       "      <td>Pacific</td>\n",
       "      <td>California</td>\n",
       "      <td>109008</td>\n",
       "      <td>20964</td>\n",
       "      <td>39461588</td>\n",
       "    </tr>\n",
       "    <tr>\n",
       "      <th>5</th>\n",
       "      <td>Mountain</td>\n",
       "      <td>Colorado</td>\n",
       "      <td>7607</td>\n",
       "      <td>3250</td>\n",
       "      <td>5691287</td>\n",
       "    </tr>\n",
       "    <tr>\n",
       "      <th>6</th>\n",
       "      <td>New England</td>\n",
       "      <td>Connecticut</td>\n",
       "      <td>2280</td>\n",
       "      <td>1696</td>\n",
       "      <td>3571520</td>\n",
       "    </tr>\n",
       "    <tr>\n",
       "      <th>7</th>\n",
       "      <td>South Atlantic</td>\n",
       "      <td>Delaware</td>\n",
       "      <td>708</td>\n",
       "      <td>374</td>\n",
       "      <td>965479</td>\n",
       "    </tr>\n",
       "    <tr>\n",
       "      <th>8</th>\n",
       "      <td>South Atlantic</td>\n",
       "      <td>District of Columbia</td>\n",
       "      <td>3770</td>\n",
       "      <td>3134</td>\n",
       "      <td>701547</td>\n",
       "    </tr>\n",
       "    <tr>\n",
       "      <th>9</th>\n",
       "      <td>South Atlantic</td>\n",
       "      <td>Florida</td>\n",
       "      <td>21443</td>\n",
       "      <td>9587</td>\n",
       "      <td>21244317</td>\n",
       "    </tr>\n",
       "    <tr>\n",
       "      <th>10</th>\n",
       "      <td>South Atlantic</td>\n",
       "      <td>Georgia</td>\n",
       "      <td>6943</td>\n",
       "      <td>2556</td>\n",
       "      <td>10511131</td>\n",
       "    </tr>\n",
       "    <tr>\n",
       "      <th>11</th>\n",
       "      <td>Pacific</td>\n",
       "      <td>Hawaii</td>\n",
       "      <td>4131</td>\n",
       "      <td>2399</td>\n",
       "      <td>1420593</td>\n",
       "    </tr>\n",
       "    <tr>\n",
       "      <th>12</th>\n",
       "      <td>Mountain</td>\n",
       "      <td>Idaho</td>\n",
       "      <td>1297</td>\n",
       "      <td>715</td>\n",
       "      <td>1750536</td>\n",
       "    </tr>\n",
       "    <tr>\n",
       "      <th>13</th>\n",
       "      <td>East North Central</td>\n",
       "      <td>Illinois</td>\n",
       "      <td>6752</td>\n",
       "      <td>3891</td>\n",
       "      <td>12723071</td>\n",
       "    </tr>\n",
       "    <tr>\n",
       "      <th>14</th>\n",
       "      <td>East North Central</td>\n",
       "      <td>Indiana</td>\n",
       "      <td>3776</td>\n",
       "      <td>1482</td>\n",
       "      <td>6695497</td>\n",
       "    </tr>\n",
       "    <tr>\n",
       "      <th>15</th>\n",
       "      <td>West North Central</td>\n",
       "      <td>Iowa</td>\n",
       "      <td>1711</td>\n",
       "      <td>1038</td>\n",
       "      <td>3148618</td>\n",
       "    </tr>\n",
       "    <tr>\n",
       "      <th>16</th>\n",
       "      <td>West North Central</td>\n",
       "      <td>Kansas</td>\n",
       "      <td>1443</td>\n",
       "      <td>773</td>\n",
       "      <td>2911359</td>\n",
       "    </tr>\n",
       "    <tr>\n",
       "      <th>17</th>\n",
       "      <td>East South Central</td>\n",
       "      <td>Kentucky</td>\n",
       "      <td>2735</td>\n",
       "      <td>953</td>\n",
       "      <td>4461153</td>\n",
       "    </tr>\n",
       "    <tr>\n",
       "      <th>18</th>\n",
       "      <td>West South Central</td>\n",
       "      <td>Louisiana</td>\n",
       "      <td>2540</td>\n",
       "      <td>519</td>\n",
       "      <td>4659690</td>\n",
       "    </tr>\n",
       "    <tr>\n",
       "      <th>19</th>\n",
       "      <td>New England</td>\n",
       "      <td>Maine</td>\n",
       "      <td>1450</td>\n",
       "      <td>1066</td>\n",
       "      <td>1339057</td>\n",
       "    </tr>\n",
       "    <tr>\n",
       "      <th>20</th>\n",
       "      <td>South Atlantic</td>\n",
       "      <td>Maryland</td>\n",
       "      <td>4914</td>\n",
       "      <td>2230</td>\n",
       "      <td>6035802</td>\n",
       "    </tr>\n",
       "    <tr>\n",
       "      <th>21</th>\n",
       "      <td>New England</td>\n",
       "      <td>Massachusetts</td>\n",
       "      <td>6811</td>\n",
       "      <td>13257</td>\n",
       "      <td>6882635</td>\n",
       "    </tr>\n",
       "    <tr>\n",
       "      <th>22</th>\n",
       "      <td>East North Central</td>\n",
       "      <td>Michigan</td>\n",
       "      <td>5209</td>\n",
       "      <td>3142</td>\n",
       "      <td>9984072</td>\n",
       "    </tr>\n",
       "    <tr>\n",
       "      <th>23</th>\n",
       "      <td>West North Central</td>\n",
       "      <td>Minnesota</td>\n",
       "      <td>3993</td>\n",
       "      <td>3250</td>\n",
       "      <td>5606249</td>\n",
       "    </tr>\n",
       "    <tr>\n",
       "      <th>24</th>\n",
       "      <td>East South Central</td>\n",
       "      <td>Mississippi</td>\n",
       "      <td>1024</td>\n",
       "      <td>328</td>\n",
       "      <td>2981020</td>\n",
       "    </tr>\n",
       "    <tr>\n",
       "      <th>25</th>\n",
       "      <td>West North Central</td>\n",
       "      <td>Missouri</td>\n",
       "      <td>3776</td>\n",
       "      <td>2107</td>\n",
       "      <td>6121623</td>\n",
       "    </tr>\n",
       "    <tr>\n",
       "      <th>26</th>\n",
       "      <td>Mountain</td>\n",
       "      <td>Montana</td>\n",
       "      <td>983</td>\n",
       "      <td>422</td>\n",
       "      <td>1060665</td>\n",
       "    </tr>\n",
       "    <tr>\n",
       "      <th>27</th>\n",
       "      <td>West North Central</td>\n",
       "      <td>Nebraska</td>\n",
       "      <td>1745</td>\n",
       "      <td>676</td>\n",
       "      <td>1925614</td>\n",
       "    </tr>\n",
       "    <tr>\n",
       "      <th>28</th>\n",
       "      <td>Mountain</td>\n",
       "      <td>Nevada</td>\n",
       "      <td>7058</td>\n",
       "      <td>486</td>\n",
       "      <td>3027341</td>\n",
       "    </tr>\n",
       "    <tr>\n",
       "      <th>29</th>\n",
       "      <td>New England</td>\n",
       "      <td>New Hampshire</td>\n",
       "      <td>835</td>\n",
       "      <td>615</td>\n",
       "      <td>1353465</td>\n",
       "    </tr>\n",
       "    <tr>\n",
       "      <th>30</th>\n",
       "      <td>Mid-Atlantic</td>\n",
       "      <td>New Jersey</td>\n",
       "      <td>6048</td>\n",
       "      <td>3350</td>\n",
       "      <td>8886025</td>\n",
       "    </tr>\n",
       "    <tr>\n",
       "      <th>31</th>\n",
       "      <td>Mountain</td>\n",
       "      <td>New Mexico</td>\n",
       "      <td>1949</td>\n",
       "      <td>602</td>\n",
       "      <td>2092741</td>\n",
       "    </tr>\n",
       "    <tr>\n",
       "      <th>32</th>\n",
       "      <td>Mid-Atlantic</td>\n",
       "      <td>New York</td>\n",
       "      <td>39827</td>\n",
       "      <td>52070</td>\n",
       "      <td>19530351</td>\n",
       "    </tr>\n",
       "    <tr>\n",
       "      <th>33</th>\n",
       "      <td>South Atlantic</td>\n",
       "      <td>North Carolina</td>\n",
       "      <td>6451</td>\n",
       "      <td>2817</td>\n",
       "      <td>10381615</td>\n",
       "    </tr>\n",
       "    <tr>\n",
       "      <th>34</th>\n",
       "      <td>West North Central</td>\n",
       "      <td>North Dakota</td>\n",
       "      <td>467</td>\n",
       "      <td>75</td>\n",
       "      <td>758080</td>\n",
       "    </tr>\n",
       "    <tr>\n",
       "      <th>35</th>\n",
       "      <td>East North Central</td>\n",
       "      <td>Ohio</td>\n",
       "      <td>6929</td>\n",
       "      <td>3320</td>\n",
       "      <td>11676341</td>\n",
       "    </tr>\n",
       "    <tr>\n",
       "      <th>36</th>\n",
       "      <td>West South Central</td>\n",
       "      <td>Oklahoma</td>\n",
       "      <td>2823</td>\n",
       "      <td>1048</td>\n",
       "      <td>3940235</td>\n",
       "    </tr>\n",
       "    <tr>\n",
       "      <th>37</th>\n",
       "      <td>Pacific</td>\n",
       "      <td>Oregon</td>\n",
       "      <td>11139</td>\n",
       "      <td>3337</td>\n",
       "      <td>4181886</td>\n",
       "    </tr>\n",
       "    <tr>\n",
       "      <th>38</th>\n",
       "      <td>Mid-Atlantic</td>\n",
       "      <td>Pennsylvania</td>\n",
       "      <td>8163</td>\n",
       "      <td>5349</td>\n",
       "      <td>12800922</td>\n",
       "    </tr>\n",
       "    <tr>\n",
       "      <th>39</th>\n",
       "      <td>New England</td>\n",
       "      <td>Rhode Island</td>\n",
       "      <td>747</td>\n",
       "      <td>354</td>\n",
       "      <td>1058287</td>\n",
       "    </tr>\n",
       "    <tr>\n",
       "      <th>40</th>\n",
       "      <td>South Atlantic</td>\n",
       "      <td>South Carolina</td>\n",
       "      <td>3082</td>\n",
       "      <td>851</td>\n",
       "      <td>5084156</td>\n",
       "    </tr>\n",
       "    <tr>\n",
       "      <th>41</th>\n",
       "      <td>West North Central</td>\n",
       "      <td>South Dakota</td>\n",
       "      <td>836</td>\n",
       "      <td>323</td>\n",
       "      <td>878698</td>\n",
       "    </tr>\n",
       "    <tr>\n",
       "      <th>42</th>\n",
       "      <td>East South Central</td>\n",
       "      <td>Tennessee</td>\n",
       "      <td>6139</td>\n",
       "      <td>1744</td>\n",
       "      <td>6771631</td>\n",
       "    </tr>\n",
       "    <tr>\n",
       "      <th>43</th>\n",
       "      <td>West South Central</td>\n",
       "      <td>Texas</td>\n",
       "      <td>19199</td>\n",
       "      <td>6111</td>\n",
       "      <td>28628666</td>\n",
       "    </tr>\n",
       "    <tr>\n",
       "      <th>44</th>\n",
       "      <td>Mountain</td>\n",
       "      <td>Utah</td>\n",
       "      <td>1904</td>\n",
       "      <td>972</td>\n",
       "      <td>3153550</td>\n",
       "    </tr>\n",
       "    <tr>\n",
       "      <th>45</th>\n",
       "      <td>New England</td>\n",
       "      <td>Vermont</td>\n",
       "      <td>780</td>\n",
       "      <td>511</td>\n",
       "      <td>624358</td>\n",
       "    </tr>\n",
       "    <tr>\n",
       "      <th>46</th>\n",
       "      <td>South Atlantic</td>\n",
       "      <td>Virginia</td>\n",
       "      <td>3928</td>\n",
       "      <td>2047</td>\n",
       "      <td>8501286</td>\n",
       "    </tr>\n",
       "    <tr>\n",
       "      <th>47</th>\n",
       "      <td>Pacific</td>\n",
       "      <td>Washington</td>\n",
       "      <td>16424</td>\n",
       "      <td>5880</td>\n",
       "      <td>7523869</td>\n",
       "    </tr>\n",
       "    <tr>\n",
       "      <th>48</th>\n",
       "      <td>South Atlantic</td>\n",
       "      <td>West Virginia</td>\n",
       "      <td>1021</td>\n",
       "      <td>222</td>\n",
       "      <td>1804291</td>\n",
       "    </tr>\n",
       "    <tr>\n",
       "      <th>49</th>\n",
       "      <td>East North Central</td>\n",
       "      <td>Wisconsin</td>\n",
       "      <td>2740</td>\n",
       "      <td>2167</td>\n",
       "      <td>5807406</td>\n",
       "    </tr>\n",
       "    <tr>\n",
       "      <th>50</th>\n",
       "      <td>Mountain</td>\n",
       "      <td>Wyoming</td>\n",
       "      <td>434</td>\n",
       "      <td>205</td>\n",
       "      <td>577601</td>\n",
       "    </tr>\n",
       "  </tbody>\n",
       "</table>\n",
       "</div>\n",
       "    <div class=\"colab-df-buttons\">\n",
       "\n",
       "  <div class=\"colab-df-container\">\n",
       "    <button class=\"colab-df-convert\" onclick=\"convertToInteractive('df-440effab-08a5-4f5a-a59a-7413c3b21a76')\"\n",
       "            title=\"Convert this dataframe to an interactive table.\"\n",
       "            style=\"display:none;\">\n",
       "\n",
       "  <svg xmlns=\"http://www.w3.org/2000/svg\" height=\"24px\" viewBox=\"0 -960 960 960\">\n",
       "    <path d=\"M120-120v-720h720v720H120Zm60-500h600v-160H180v160Zm220 220h160v-160H400v160Zm0 220h160v-160H400v160ZM180-400h160v-160H180v160Zm440 0h160v-160H620v160ZM180-180h160v-160H180v160Zm440 0h160v-160H620v160Z\"/>\n",
       "  </svg>\n",
       "    </button>\n",
       "\n",
       "  <style>\n",
       "    .colab-df-container {\n",
       "      display:flex;\n",
       "      gap: 12px;\n",
       "    }\n",
       "\n",
       "    .colab-df-convert {\n",
       "      background-color: #E8F0FE;\n",
       "      border: none;\n",
       "      border-radius: 50%;\n",
       "      cursor: pointer;\n",
       "      display: none;\n",
       "      fill: #1967D2;\n",
       "      height: 32px;\n",
       "      padding: 0 0 0 0;\n",
       "      width: 32px;\n",
       "    }\n",
       "\n",
       "    .colab-df-convert:hover {\n",
       "      background-color: #E2EBFA;\n",
       "      box-shadow: 0px 1px 2px rgba(60, 64, 67, 0.3), 0px 1px 3px 1px rgba(60, 64, 67, 0.15);\n",
       "      fill: #174EA6;\n",
       "    }\n",
       "\n",
       "    .colab-df-buttons div {\n",
       "      margin-bottom: 4px;\n",
       "    }\n",
       "\n",
       "    [theme=dark] .colab-df-convert {\n",
       "      background-color: #3B4455;\n",
       "      fill: #D2E3FC;\n",
       "    }\n",
       "\n",
       "    [theme=dark] .colab-df-convert:hover {\n",
       "      background-color: #434B5C;\n",
       "      box-shadow: 0px 1px 3px 1px rgba(0, 0, 0, 0.15);\n",
       "      filter: drop-shadow(0px 1px 2px rgba(0, 0, 0, 0.3));\n",
       "      fill: #FFFFFF;\n",
       "    }\n",
       "  </style>\n",
       "\n",
       "    <script>\n",
       "      const buttonEl =\n",
       "        document.querySelector('#df-440effab-08a5-4f5a-a59a-7413c3b21a76 button.colab-df-convert');\n",
       "      buttonEl.style.display =\n",
       "        google.colab.kernel.accessAllowed ? 'block' : 'none';\n",
       "\n",
       "      async function convertToInteractive(key) {\n",
       "        const element = document.querySelector('#df-440effab-08a5-4f5a-a59a-7413c3b21a76');\n",
       "        const dataTable =\n",
       "          await google.colab.kernel.invokeFunction('convertToInteractive',\n",
       "                                                    [key], {});\n",
       "        if (!dataTable) return;\n",
       "\n",
       "        const docLinkHtml = 'Like what you see? Visit the ' +\n",
       "          '<a target=\"_blank\" href=https://colab.research.google.com/notebooks/data_table.ipynb>data table notebook</a>'\n",
       "          + ' to learn more about interactive tables.';\n",
       "        element.innerHTML = '';\n",
       "        dataTable['output_type'] = 'display_data';\n",
       "        await google.colab.output.renderOutput(dataTable, element);\n",
       "        const docLink = document.createElement('div');\n",
       "        docLink.innerHTML = docLinkHtml;\n",
       "        element.appendChild(docLink);\n",
       "      }\n",
       "    </script>\n",
       "  </div>\n",
       "\n",
       "\n",
       "<div id=\"df-3cdd4890-d6a5-4e9d-bb36-843d99da1e25\">\n",
       "  <button class=\"colab-df-quickchart\" onclick=\"quickchart('df-3cdd4890-d6a5-4e9d-bb36-843d99da1e25')\"\n",
       "            title=\"Suggest charts\"\n",
       "            style=\"display:none;\">\n",
       "\n",
       "<svg xmlns=\"http://www.w3.org/2000/svg\" height=\"24px\"viewBox=\"0 0 24 24\"\n",
       "     width=\"24px\">\n",
       "    <g>\n",
       "        <path d=\"M19 3H5c-1.1 0-2 .9-2 2v14c0 1.1.9 2 2 2h14c1.1 0 2-.9 2-2V5c0-1.1-.9-2-2-2zM9 17H7v-7h2v7zm4 0h-2V7h2v10zm4 0h-2v-4h2v4z\"/>\n",
       "    </g>\n",
       "</svg>\n",
       "  </button>\n",
       "\n",
       "<style>\n",
       "  .colab-df-quickchart {\n",
       "      --bg-color: #E8F0FE;\n",
       "      --fill-color: #1967D2;\n",
       "      --hover-bg-color: #E2EBFA;\n",
       "      --hover-fill-color: #174EA6;\n",
       "      --disabled-fill-color: #AAA;\n",
       "      --disabled-bg-color: #DDD;\n",
       "  }\n",
       "\n",
       "  [theme=dark] .colab-df-quickchart {\n",
       "      --bg-color: #3B4455;\n",
       "      --fill-color: #D2E3FC;\n",
       "      --hover-bg-color: #434B5C;\n",
       "      --hover-fill-color: #FFFFFF;\n",
       "      --disabled-bg-color: #3B4455;\n",
       "      --disabled-fill-color: #666;\n",
       "  }\n",
       "\n",
       "  .colab-df-quickchart {\n",
       "    background-color: var(--bg-color);\n",
       "    border: none;\n",
       "    border-radius: 50%;\n",
       "    cursor: pointer;\n",
       "    display: none;\n",
       "    fill: var(--fill-color);\n",
       "    height: 32px;\n",
       "    padding: 0;\n",
       "    width: 32px;\n",
       "  }\n",
       "\n",
       "  .colab-df-quickchart:hover {\n",
       "    background-color: var(--hover-bg-color);\n",
       "    box-shadow: 0 1px 2px rgba(60, 64, 67, 0.3), 0 1px 3px 1px rgba(60, 64, 67, 0.15);\n",
       "    fill: var(--button-hover-fill-color);\n",
       "  }\n",
       "\n",
       "  .colab-df-quickchart-complete:disabled,\n",
       "  .colab-df-quickchart-complete:disabled:hover {\n",
       "    background-color: var(--disabled-bg-color);\n",
       "    fill: var(--disabled-fill-color);\n",
       "    box-shadow: none;\n",
       "  }\n",
       "\n",
       "  .colab-df-spinner {\n",
       "    border: 2px solid var(--fill-color);\n",
       "    border-color: transparent;\n",
       "    border-bottom-color: var(--fill-color);\n",
       "    animation:\n",
       "      spin 1s steps(1) infinite;\n",
       "  }\n",
       "\n",
       "  @keyframes spin {\n",
       "    0% {\n",
       "      border-color: transparent;\n",
       "      border-bottom-color: var(--fill-color);\n",
       "      border-left-color: var(--fill-color);\n",
       "    }\n",
       "    20% {\n",
       "      border-color: transparent;\n",
       "      border-left-color: var(--fill-color);\n",
       "      border-top-color: var(--fill-color);\n",
       "    }\n",
       "    30% {\n",
       "      border-color: transparent;\n",
       "      border-left-color: var(--fill-color);\n",
       "      border-top-color: var(--fill-color);\n",
       "      border-right-color: var(--fill-color);\n",
       "    }\n",
       "    40% {\n",
       "      border-color: transparent;\n",
       "      border-right-color: var(--fill-color);\n",
       "      border-top-color: var(--fill-color);\n",
       "    }\n",
       "    60% {\n",
       "      border-color: transparent;\n",
       "      border-right-color: var(--fill-color);\n",
       "    }\n",
       "    80% {\n",
       "      border-color: transparent;\n",
       "      border-right-color: var(--fill-color);\n",
       "      border-bottom-color: var(--fill-color);\n",
       "    }\n",
       "    90% {\n",
       "      border-color: transparent;\n",
       "      border-bottom-color: var(--fill-color);\n",
       "    }\n",
       "  }\n",
       "</style>\n",
       "\n",
       "  <script>\n",
       "    async function quickchart(key) {\n",
       "      const quickchartButtonEl =\n",
       "        document.querySelector('#' + key + ' button');\n",
       "      quickchartButtonEl.disabled = true;  // To prevent multiple clicks.\n",
       "      quickchartButtonEl.classList.add('colab-df-spinner');\n",
       "      try {\n",
       "        const charts = await google.colab.kernel.invokeFunction(\n",
       "            'suggestCharts', [key], {});\n",
       "      } catch (error) {\n",
       "        console.error('Error during call to suggestCharts:', error);\n",
       "      }\n",
       "      quickchartButtonEl.classList.remove('colab-df-spinner');\n",
       "      quickchartButtonEl.classList.add('colab-df-quickchart-complete');\n",
       "    }\n",
       "    (() => {\n",
       "      let quickchartButtonEl =\n",
       "        document.querySelector('#df-3cdd4890-d6a5-4e9d-bb36-843d99da1e25 button');\n",
       "      quickchartButtonEl.style.display =\n",
       "        google.colab.kernel.accessAllowed ? 'block' : 'none';\n",
       "    })();\n",
       "  </script>\n",
       "</div>\n",
       "    </div>\n",
       "  </div>\n"
      ],
      "text/plain": [
       "                region                 state  individuals  family_members  \\\n",
       "0   East South Central               Alabama         2570             864   \n",
       "1              Pacific                Alaska         1434             582   \n",
       "2             Mountain               Arizona         7259            2606   \n",
       "3   West South Central              Arkansas         2280             432   \n",
       "4              Pacific            California       109008           20964   \n",
       "5             Mountain              Colorado         7607            3250   \n",
       "6          New England           Connecticut         2280            1696   \n",
       "7       South Atlantic              Delaware          708             374   \n",
       "8       South Atlantic  District of Columbia         3770            3134   \n",
       "9       South Atlantic               Florida        21443            9587   \n",
       "10      South Atlantic               Georgia         6943            2556   \n",
       "11             Pacific                Hawaii         4131            2399   \n",
       "12            Mountain                 Idaho         1297             715   \n",
       "13  East North Central              Illinois         6752            3891   \n",
       "14  East North Central               Indiana         3776            1482   \n",
       "15  West North Central                  Iowa         1711            1038   \n",
       "16  West North Central                Kansas         1443             773   \n",
       "17  East South Central              Kentucky         2735             953   \n",
       "18  West South Central             Louisiana         2540             519   \n",
       "19         New England                 Maine         1450            1066   \n",
       "20      South Atlantic              Maryland         4914            2230   \n",
       "21         New England         Massachusetts         6811           13257   \n",
       "22  East North Central              Michigan         5209            3142   \n",
       "23  West North Central             Minnesota         3993            3250   \n",
       "24  East South Central           Mississippi         1024             328   \n",
       "25  West North Central              Missouri         3776            2107   \n",
       "26            Mountain               Montana          983             422   \n",
       "27  West North Central              Nebraska         1745             676   \n",
       "28            Mountain                Nevada         7058             486   \n",
       "29         New England         New Hampshire          835             615   \n",
       "30        Mid-Atlantic            New Jersey         6048            3350   \n",
       "31            Mountain            New Mexico         1949             602   \n",
       "32        Mid-Atlantic              New York        39827           52070   \n",
       "33      South Atlantic        North Carolina         6451            2817   \n",
       "34  West North Central          North Dakota          467              75   \n",
       "35  East North Central                  Ohio         6929            3320   \n",
       "36  West South Central              Oklahoma         2823            1048   \n",
       "37             Pacific                Oregon        11139            3337   \n",
       "38        Mid-Atlantic          Pennsylvania         8163            5349   \n",
       "39         New England          Rhode Island          747             354   \n",
       "40      South Atlantic        South Carolina         3082             851   \n",
       "41  West North Central          South Dakota          836             323   \n",
       "42  East South Central             Tennessee         6139            1744   \n",
       "43  West South Central                 Texas        19199            6111   \n",
       "44            Mountain                  Utah         1904             972   \n",
       "45         New England               Vermont          780             511   \n",
       "46      South Atlantic              Virginia         3928            2047   \n",
       "47             Pacific            Washington        16424            5880   \n",
       "48      South Atlantic         West Virginia         1021             222   \n",
       "49  East North Central             Wisconsin         2740            2167   \n",
       "50            Mountain               Wyoming          434             205   \n",
       "\n",
       "    state_pop  \n",
       "0     4887681  \n",
       "1      735139  \n",
       "2     7158024  \n",
       "3     3009733  \n",
       "4    39461588  \n",
       "5     5691287  \n",
       "6     3571520  \n",
       "7      965479  \n",
       "8      701547  \n",
       "9    21244317  \n",
       "10   10511131  \n",
       "11    1420593  \n",
       "12    1750536  \n",
       "13   12723071  \n",
       "14    6695497  \n",
       "15    3148618  \n",
       "16    2911359  \n",
       "17    4461153  \n",
       "18    4659690  \n",
       "19    1339057  \n",
       "20    6035802  \n",
       "21    6882635  \n",
       "22    9984072  \n",
       "23    5606249  \n",
       "24    2981020  \n",
       "25    6121623  \n",
       "26    1060665  \n",
       "27    1925614  \n",
       "28    3027341  \n",
       "29    1353465  \n",
       "30    8886025  \n",
       "31    2092741  \n",
       "32   19530351  \n",
       "33   10381615  \n",
       "34     758080  \n",
       "35   11676341  \n",
       "36    3940235  \n",
       "37    4181886  \n",
       "38   12800922  \n",
       "39    1058287  \n",
       "40    5084156  \n",
       "41     878698  \n",
       "42    6771631  \n",
       "43   28628666  \n",
       "44    3153550  \n",
       "45     624358  \n",
       "46    8501286  \n",
       "47    7523869  \n",
       "48    1804291  \n",
       "49    5807406  \n",
       "50     577601  "
      ]
     },
     "metadata": {},
     "output_type": "display_data"
    }
   ],
   "source": [
    "data_1"
   ]
  },
  {
   "cell_type": "markdown",
   "metadata": {},
   "source": [
    "## If Statement\n",
    "![image.png](data:image/png;base64,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)"
   ]
  },
  {
   "cell_type": "markdown",
   "metadata": {},
   "source": [
    "1. Tunjukkan state yang memiliki populasi lebih dari 10 juta orang dengan if statement"
   ]
  },
  {
   "cell_type": "code",
   "execution_count": null,
   "metadata": {},
   "outputs": [
    {
     "name": "stdout",
     "output_type": "stream",
     "text": [
      "California memiliki populasi lebih dari 10 juta orang.\n",
      "Florida memiliki populasi lebih dari 10 juta orang.\n",
      "Georgia memiliki populasi lebih dari 10 juta orang.\n",
      "Illinois memiliki populasi lebih dari 10 juta orang.\n",
      "New York memiliki populasi lebih dari 10 juta orang.\n",
      "North Carolina memiliki populasi lebih dari 10 juta orang.\n",
      "Ohio memiliki populasi lebih dari 10 juta orang.\n",
      "Pennsylvania memiliki populasi lebih dari 10 juta orang.\n",
      "Texas memiliki populasi lebih dari 10 juta orang.\n"
     ]
    }
   ],
   "source": [
    "for index, row in data_1.iterrows():\n",
    "    if row['state_pop'] > 10000000:\n",
    "        print(f\"{row['state']} memiliki populasi lebih dari 10 juta orang.\")"
   ]
  },
  {
   "cell_type": "markdown",
   "metadata": {},
   "source": [
    "![image.png](data:image/png;base64,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)"
   ]
  },
  {
   "cell_type": "code",
   "execution_count": null,
   "metadata": {},
   "outputs": [
    {
     "name": "stdout",
     "output_type": "stream",
     "text": [
      "Sekarang angka 0\n",
      "Sekarang angka 1\n",
      "Sekarang angka 2\n",
      "Sekarang angka 3\n",
      "Sekarang angka 4\n",
      "Sekarang angka 5\n"
     ]
    }
   ],
   "source": [
    "# coba jalankan code dibawah ini\n",
    "counter = 0\n",
    "max = 5\n",
    "\n",
    "while counter <= max: #jika counter masih kurang dari max, code akan tetap berjalan\n",
    "    print(f'Sekarang angka {counter}')\n",
    "    counter += 1 #counter akan ditambahkan 1 agar perulangan bisa berhenti"
   ]
  },
  {
   "cell_type": "code",
   "execution_count": null,
   "metadata": {},
   "outputs": [
    {
     "name": "stdout",
     "output_type": "stream",
     "text": [
      "1 + 1 = 2\n",
      "1 + 2 = 3\n",
      "1 + 3 = 4\n",
      "1 + 4 = 5\n",
      "1 + 5 = 6\n",
      "---\n",
      "2 + 1 = 3\n",
      "2 + 2 = 4\n",
      "2 + 3 = 5\n",
      "2 + 4 = 6\n",
      "2 + 5 = 7\n",
      "---\n"
     ]
    }
   ],
   "source": [
    "for angka_1 in range (1,3):\n",
    "    for angka_2 in range (1,6):\n",
    "        pertambahan = angka_1 + angka_2\n",
    "        print(f'{angka_1} + {angka_2} = {pertambahan}')\n",
    "    print('---')"
   ]
  },
  {
   "cell_type": "markdown",
   "metadata": {},
   "source": [
    "# Looping"
   ]
  },
  {
   "cell_type": "markdown",
   "metadata": {},
   "source": [
    "## Loops in Python – For, While and Nested Loops"
   ]
  },
  {
   "cell_type": "markdown",
   "metadata": {},
   "source": [
    "Sumber: [Belajarpython](https://belajarpython.com/tutorial/loop-python/)"
   ]
  },
  {
   "cell_type": "markdown",
   "metadata": {},
   "source": [
    "Pernyataan pada bahasa pemrograman dieksekusi secara berurutan. Pernyataan pertama dalam sebuah fungsi dijalankan pertama, diikuti oleh yang kedua, dan seterusnya. Tetapi akan ada situasi dimana kita harus menulis banyak kode, dimana kode tersebut sangat banyak. Jika dilakukan secara manual, kita hanya akan **membuang-buang tenaga dengan menulis beratus-ratus** bahkan beribu-ribu kode. Untuk itu, kita perlu menggunakan pengulangan di dalam bahasa pemrograman Python.\n",
    "\n",
    "Di dalam bahasa pemrograman Python pengulangan dibagi menjadi 3 bagian, yaitu\n",
    "*   While Loop\n",
    "*   For Loop\n",
    "*   Nested Loop"
   ]
  },
  {
   "cell_type": "markdown",
   "metadata": {},
   "source": [
    "## While Loop\n",
    "Pengulangan While Loop di dalam bahasa pemrograman Python dieksesusi statement berkali-kali selama kondisi bernilai benar atau True."
   ]
  },
  {
   "cell_type": "code",
   "execution_count": 28,
   "metadata": {},
   "outputs": [
    {
     "name": "stdout",
     "output_type": "stream",
     "text": [
      "The count is:  0\n",
      "The count is:  1\n",
      "The count is:  2\n",
      "The count is:  3\n",
      "The count is:  4\n",
      "The count is:  5\n",
      "The count is:  6\n",
      "The count is:  7\n",
      "The count is:  8\n",
      "Good bye!\n"
     ]
    }
   ],
   "source": [
    "#Contoh penggunaan While Loop\n",
    "#Catatan: Penentuan ruang lingkup di Python bisa menggunakan indentansi\n",
    "\n",
    "count = 0\n",
    "while (count < 9):\n",
    "  print (\"The count is: \", count)\n",
    "  count = count + 1\n",
    "\n",
    "print (\"Good bye!\")"
   ]
  },
  {
   "cell_type": "markdown",
   "metadata": {},
   "source": [
    "## For Loop\n",
    "Pengulangan for pada Python memiliki kemampuan untuk mengulangi item dari urutan apapun, seperti list atau string."
   ]
  },
  {
   "cell_type": "code",
   "execution_count": 29,
   "metadata": {},
   "outputs": [
    {
     "name": "stdout",
     "output_type": "stream",
     "text": [
      "1\n",
      "2\n",
      "3\n",
      "4\n",
      "5\n",
      "Saya suka makan nanas\n",
      "Saya suka makan apel\n",
      "Saya suka makan jeruk\n"
     ]
    }
   ],
   "source": [
    "#Contoh pengulangan for sederhana\n",
    "angka = [1,2,3,4,5]\n",
    "for x in angka:\n",
    "  print(x)\n",
    "\n",
    "#Contoh pengulangan for\n",
    "buah = [\"nanas\", \"apel\", \"jeruk\"]\n",
    "for makanan in buah:\n",
    "  print (\"Saya suka makan\", makanan)"
   ]
  },
  {
   "cell_type": "markdown",
   "metadata": {},
   "source": [
    "## Nested Loop\n",
    "Bahasa pemrograman Python memungkinkan penggunaan satu lingkaran di dalam loop lain. Bagian berikut menunjukkan beberapa contoh untuk menggambarkan konsep tersebut."
   ]
  },
  {
   "cell_type": "code",
   "execution_count": 36,
   "metadata": {},
   "outputs": [
    {
     "name": "stdout",
     "output_type": "stream",
     "text": [
      "5  is prime\n",
      "7  is prime\n",
      "11  is prime\n",
      "13  is prime\n",
      "17  is prime\n",
      "19  is prime\n",
      "23  is prime\n",
      "29  is prime\n",
      "31  is prime\n",
      "37  is prime\n",
      "41  is prime\n",
      "43  is prime\n",
      "47  is prime\n",
      "53  is prime\n",
      "59  is prime\n",
      "61  is prime\n",
      "67  is prime\n",
      "71  is prime\n",
      "73  is prime\n",
      "79  is prime\n",
      "83  is prime\n",
      "89  is prime\n",
      "97  is prime\n",
      "Good bye!\n"
     ]
    }
   ],
   "source": [
    "i = 2\n",
    "while(i < 100):\n",
    "  j = 2\n",
    "  while(j <= (i/j)):\n",
    "    if not(i%j): break\n",
    "    j = j + 1\n",
    "    if (j > i/j) : print(i, \" is prime\")\n",
    "  i = i + 1\n",
    "\n",
    "print(\"Good bye!\")"
   ]
  },
  {
   "cell_type": "markdown",
   "metadata": {},
   "source": [
    "# Aplication of Control Flow and Looping"
   ]
  },
  {
   "cell_type": "code",
   "execution_count": 37,
   "metadata": {},
   "outputs": [
    {
     "ename": "SyntaxError",
     "evalue": "invalid syntax. Maybe you meant '==' or ':=' instead of '='? (2224957816.py, line 4)",
     "output_type": "error",
     "traceback": [
      "\u001b[1;36m  Cell \u001b[1;32mIn[37], line 4\u001b[1;36m\u001b[0m\n\u001b[1;33m    Hasil_Akhir = data.frame(Nama = data[1], Nilai = character(nrow(data)))\u001b[0m\n\u001b[1;37m    ^\u001b[0m\n\u001b[1;31mSyntaxError\u001b[0m\u001b[1;31m:\u001b[0m invalid syntax. Maybe you meant '==' or ':=' instead of '='?\n"
     ]
    }
   ],
   "source": [
    "# @title Fungsi Nilai Akhir Menggunakan R\n",
    "df=data.frame(Nama=c('dafa','dafo','dafi'), Nilai=c(100,70,80), Nilai1=c(50,55,75), Nilai2=c(70,60,100))\n",
    "Nilai_Akhir = function(data){\n",
    "  Hasil_Akhir = data.frame(Nama = data[1], Nilai = character(nrow(data)))\n",
    "  Nilai = NULL\n",
    "  for(i in 1:nrow(data)){\n",
    "    Nilai = sum(data[i,2:ncol(data)])/(ncol(data)-1)\n",
    "    if(Nilai >= 80){\n",
    "      Hasil_Akhir$Nilai[i] = 'A'\n",
    "    }\n",
    "    else if(Nilai >= 70){\n",
    "      Hasil_Akhir$Nilai[i] = 'B'\n",
    "    }\n",
    "    else if(Nilai >= 50){\n",
    "      Hasil_Akhir$Nilai[i] = 'C'\n",
    "    }\n",
    "    else if(Nilai >= 30){\n",
    "      Hasil_Akhir$Nilai[i] = 'D'\n",
    "    }\n",
    "    else{\n",
    "      Hasil_Akhir$Nilai[i] = 'E'\n",
    "    }\n",
    "  }\n",
    "\n",
    "  return(Hasil_Akhir)\n",
    "}\n",
    "\n",
    "Nilai_Akhir(df)\n",
    "\n"
   ]
  },
  {
   "cell_type": "code",
   "execution_count": 38,
   "metadata": {},
   "outputs": [],
   "source": [
    "# @title Fungsi Nilai Akhir Menggunakan Python\n",
    "import pandas as pd\n",
    "def Nilai_Akhir(data):\n",
    "  Hasil_Akhir = pd.DataFrame(columns=['Nama','Nilai'])\n",
    "  for i in range(len(data)) :\n",
    "    Rerata = data.iloc[i,1:].mean()\n",
    "    if Rerata >= 80:\n",
    "      Hasil = 'A'\n",
    "    elif Rerata >= 70:\n",
    "      Hasil = 'B'\n",
    "    elif Rerata >= 50:\n",
    "      Hasil = 'C'\n",
    "    elif Rerata >= 30:\n",
    "      Hasil = 'D'\n",
    "    else:\n",
    "      Hasil = 'E'\n",
    "    Hasil_Akhir = Hasil_Akhir.append({'Nama': data.iloc[i, 0], 'Nilai': Hasil}, ignore_index=True)\n",
    "  return(Hasil_Akhir)"
   ]
  },
  {
   "cell_type": "code",
   "execution_count": 39,
   "metadata": {},
   "outputs": [
    {
     "name": "stderr",
     "output_type": "stream",
     "text": [
      "C:\\Users\\Levono\\AppData\\Local\\Temp\\ipykernel_15684\\3592348067.py:17: FutureWarning: The frame.append method is deprecated and will be removed from pandas in a future version. Use pandas.concat instead.\n",
      "  Hasil_Akhir = Hasil_Akhir.append({'Nama': data.iloc[i, 0], 'Nilai': Hasil}, ignore_index=True)\n",
      "C:\\Users\\Levono\\AppData\\Local\\Temp\\ipykernel_15684\\3592348067.py:17: FutureWarning: The frame.append method is deprecated and will be removed from pandas in a future version. Use pandas.concat instead.\n",
      "  Hasil_Akhir = Hasil_Akhir.append({'Nama': data.iloc[i, 0], 'Nilai': Hasil}, ignore_index=True)\n",
      "C:\\Users\\Levono\\AppData\\Local\\Temp\\ipykernel_15684\\3592348067.py:17: FutureWarning: The frame.append method is deprecated and will be removed from pandas in a future version. Use pandas.concat instead.\n",
      "  Hasil_Akhir = Hasil_Akhir.append({'Nama': data.iloc[i, 0], 'Nilai': Hasil}, ignore_index=True)\n"
     ]
    },
    {
     "data": {
      "text/html": [
       "<div>\n",
       "<style scoped>\n",
       "    .dataframe tbody tr th:only-of-type {\n",
       "        vertical-align: middle;\n",
       "    }\n",
       "\n",
       "    .dataframe tbody tr th {\n",
       "        vertical-align: top;\n",
       "    }\n",
       "\n",
       "    .dataframe thead th {\n",
       "        text-align: right;\n",
       "    }\n",
       "</style>\n",
       "<table border=\"1\" class=\"dataframe\">\n",
       "  <thead>\n",
       "    <tr style=\"text-align: right;\">\n",
       "      <th></th>\n",
       "      <th>Nama</th>\n",
       "      <th>Nilai</th>\n",
       "    </tr>\n",
       "  </thead>\n",
       "  <tbody>\n",
       "    <tr>\n",
       "      <th>0</th>\n",
       "      <td>dafa</td>\n",
       "      <td>B</td>\n",
       "    </tr>\n",
       "    <tr>\n",
       "      <th>1</th>\n",
       "      <td>dafo</td>\n",
       "      <td>C</td>\n",
       "    </tr>\n",
       "    <tr>\n",
       "      <th>2</th>\n",
       "      <td>dafi</td>\n",
       "      <td>A</td>\n",
       "    </tr>\n",
       "  </tbody>\n",
       "</table>\n",
       "</div>"
      ],
      "text/plain": [
       "   Nama Nilai\n",
       "0  dafa     B\n",
       "1  dafo     C\n",
       "2  dafi     A"
      ]
     },
     "execution_count": 39,
     "metadata": {},
     "output_type": "execute_result"
    }
   ],
   "source": [
    "cobalagi = {'nama':['dafa','dafo','dafi'], 'nilai':[100,70,80], 'nilai1':[50,55,75], 'nilai2':[70,60,100]}\n",
    "coba = pd.DataFrame(cobalagi)\n",
    "Nilai_Akhir(coba)"
   ]
  },
  {
   "cell_type": "markdown",
   "metadata": {},
   "source": [
    "# Function"
   ]
  },
  {
   "cell_type": "markdown",
   "metadata": {},
   "source": [
    "## Example of Simple Function"
   ]
  },
  {
   "cell_type": "markdown",
   "metadata": {},
   "source": [
    "### Cube Area"
   ]
  },
  {
   "cell_type": "code",
   "execution_count": 40,
   "metadata": {},
   "outputs": [],
   "source": [
    "def squares_area(a,b = 0):\n",
    "    \"\"\"\n",
    "    This function takes the side of a square and returns the area of the square.\n",
    "    \"\"\"\n",
    "    if (a**2 < 0) or (a*b < 0):\n",
    "        raise ValueError(\"Sides must be positive\")\n",
    "    if b == 0:\n",
    "        return print(\"Squares area =\", [a**2])\n",
    "    else:\n",
    "        return print(\"Squares area =\", [a*b])"
   ]
  },
  {
   "cell_type": "markdown",
   "metadata": {},
   "source": [
    "### Trapezoid Area"
   ]
  },
  {
   "cell_type": "code",
   "execution_count": 41,
   "metadata": {},
   "outputs": [],
   "source": [
    "\n",
    "def trapezoid_area(a,b,t):\n",
    "    \"\"\"\n",
    "    This function takes the two parallel sides and the height of a trapezoid and returns the area of the trapezoid.\n",
    "    \"\"\"\n",
    "    if 0.5*(a+b)*t < 0:\n",
    "        raise ValueError(\"Sides must be positive\")\n",
    "    else:\n",
    "        return print(\"Trapezoid area =\", [0.5*(a+b)*t])"
   ]
  },
  {
   "cell_type": "markdown",
   "metadata": {},
   "source": [
    "### Triangle Area"
   ]
  },
  {
   "cell_type": "markdown",
   "metadata": {},
   "source": [
    "#### Alas Tinggi"
   ]
  },
  {
   "cell_type": "code",
   "execution_count": null,
   "metadata": {},
   "outputs": [],
   "source": [
    "def triangle_area(b, h):\n",
    "    \"\"\"\n",
    "    This function takes the base and height of a right-angled triangle and returns the area of the right-angled triangle.\n",
    "    \"\"\"\n",
    "    if b < 0 or h < 0:\n",
    "        raise ValueError(\"Base and height must be positive\")\n",
    "    else:\n",
    "        print(f\"The area of the triangle with base = {b} and height = {h} is {0.5 * b * h} square units\")\n",
    "        return 0.5 * b * h"
   ]
  },
  {
   "cell_type": "markdown",
   "metadata": {},
   "source": [
    "#### Sin Rule"
   ]
  },
  {
   "cell_type": "code",
   "execution_count": null,
   "metadata": {},
   "outputs": [],
   "source": [
    "def atriangle_area(a,b,sudut_apit):\n",
    "    \"\"\"\n",
    "    a = panjang sisi 1\n",
    "    b = panjang sisi 2\n",
    "    sudut_apit = sudut apit antara a dan b\n",
    "    \"\"\"\n",
    "    if a > 0 and b > 0 and sudut_apit > 0 and sudut_apit < 180:\n",
    "        sudut_apit_radian = math.radians(sudut_apit)\n",
    "        Luas_Segitiga = 0.5 * a * b * math.sin(sudut_apit_radian)\n",
    "        print(f\"The area of triangle given sides {a}, {b}, and the angle between them {sudut_apit} is {Luas_Segitiga}.\")\n",
    "        return Luas_Segitiga\n",
    "    else:\n",
    "        raise ValueError(\"The sides and the angle should be positive.\")\n",
    "    "
   ]
  },
  {
   "cell_type": "markdown",
   "metadata": {},
   "source": [
    "#### Heron"
   ]
  },
  {
   "cell_type": "code",
   "execution_count": 63,
   "metadata": {},
   "outputs": [],
   "source": [
    "def striangle_area(a,b,c):\n",
    "    \"\"\"\n",
    "    a = panjang sisi 1\n",
    "    b = panjang sisi 2\n",
    "    c = panjang sisi 3\n",
    "    \"\"\"\n",
    "    if (a + b > c) and (a + c > b) and (b + c > a) and a > 0 and b > 0 and c > 0:\n",
    "        s = (a+b+c) / 2\n",
    "        Luas_Segitiga = np.sqrt(s*(s-a)*(s-b)*(s-c))\n",
    "        print(f\"The area of triangle given sides {a}, {b}, {c} is {Luas_Segitiga}.\")\n",
    "        return Luas_Segitiga\n",
    "    else:\n",
    "        raise ValueError(\"The sides do not form a triangle.\")"
   ]
  },
  {
   "cell_type": "markdown",
   "metadata": {},
   "source": [
    "### Perimeter Circle"
   ]
  },
  {
   "cell_type": "code",
   "execution_count": 42,
   "metadata": {},
   "outputs": [],
   "source": [
    "def circle_perimeter(r):\n",
    "    \"\"\"\n",
    "    This function takes the radius of a circle and returns the perimeter of the circle.\n",
    "    \"\"\"\n",
    "    if r<0:\n",
    "        raise ValueError(\"Radius must be positive\")\n",
    "    else:\n",
    "        perim=2*math.pi*r\n",
    "        return perim"
   ]
  },
  {
   "cell_type": "markdown",
   "metadata": {},
   "source": [
    "### Circle Area"
   ]
  },
  {
   "cell_type": "code",
   "execution_count": 43,
   "metadata": {},
   "outputs": [],
   "source": [
    "def circle_area(r):\n",
    "    \"\"\"\n",
    "    This function takes the radius of a circle and returns the area of the circle.\n",
    "    \"\"\"\n",
    "    if r<0:\n",
    "        raise ValueError(\"Radius must be positive\")\n",
    "    else:\n",
    "        area = math.pi*r\n",
    "        return area"
   ]
  },
  {
   "cell_type": "markdown",
   "metadata": {},
   "source": [
    "### Parallelogram Area"
   ]
  },
  {
   "cell_type": "code",
   "execution_count": 44,
   "metadata": {},
   "outputs": [],
   "source": [
    "def parallelogram_area(base, height):\n",
    "    \"\"\"\n",
    "    This function takes the base and height of a parallelogram and returns the area of the parallelogram.\n",
    "    \"\"\"\n",
    "    if (base < 0 or height < 0):\n",
    "        raise ValueError(\"Base and height must be positive\")\n",
    "    else:\n",
    "        print(f\"The area of the parallelogram with base = {base} and height = {height} is {base * height} square units\")    "
   ]
  },
  {
   "cell_type": "markdown",
   "metadata": {},
   "source": [
    "### tcircle Grad"
   ]
  },
  {
   "cell_type": "code",
   "execution_count": 45,
   "metadata": {},
   "outputs": [],
   "source": [
    "def tcircle_grad(m, x, y, r):\n",
    "    \"\"\"\n",
    "    This function takes the gradient of a tangent line to a circle, the coordinates of the center of the circle, and the radius of the circle and returns the equation of the tangent line to the circle.\n",
    "    \"\"\"\n",
    "    if (r < 0):\n",
    "        raise ValueError(\"Radius must be positive\")\n",
    "    else:\n",
    "        print(f\"The equation of the tangent line to the circle with center = ({x}, {y}) and radius = {r} is y = {m}x + {(y - m * x)} +- sqrt({(r ** 2) * (1 + m ** 2)})\")\n",
    "        return f\"y = {m}x + {(y - m * x)} +- sqrt({(r ** 2) * (1 + m ** 2)})\"\n"
   ]
  },
  {
   "cell_type": "markdown",
   "metadata": {},
   "source": [
    "### tcircle Point"
   ]
  },
  {
   "cell_type": "code",
   "execution_count": 46,
   "metadata": {},
   "outputs": [],
   "source": [
    "def tcircle_point(x, y, r, x1, y1):\n",
    "    \"\"\"\n",
    "    This function takes the coordinates of the center of a circle, its radius, and the coordinates of a point and returns the equation of the tangent line to the circle that passes through the point.\n",
    "    \"\"\"\n",
    "    if (r < 0):\n",
    "        raise ValueError(\"Radius must be positive\")\n",
    "    elif ((x - x1) ** 2 + (y - y1) ** 2 < r ** 2):\n",
    "        raise ValueError(\"The point must be outside the circle\")\n",
    "    elif ((x - x1) ** 2 + (y - y1) ** 2 == r ** 2):\n",
    "        m = -(x1 - x) / (y1 - y)\n",
    "        print(f\"The equation of the tangent line to the circle with center = ({x}, {y}) and radius = {r} that passes through the tangent point ({x1}, {y1}) is y = {m}x + {y1 - m * x1}\")\n",
    "        return f\"y = {m}x + {y1 - m * x1}\"\n",
    "    else:\n",
    "        m = -(x1 - x) / (y1 - y)\n",
    "        print(f\"The equation of the tangent line to the circle with center = ({x}, {y}) and radius = {r} that passes through the external point ({x1}, {y1}) is y = {m}x + {y - m * x + r**2/(y1-y)}\")\n",
    "        return f\"y = {m}x + {y - m * x + r**2/(y1-y)}\""
   ]
  },
  {
   "cell_type": "markdown",
   "metadata": {},
   "source": [
    "### Panjang Tali Busur"
   ]
  },
  {
   "cell_type": "markdown",
   "metadata": {},
   "source": [
    "### Jari-Jari Lingkaran dalam Segitiga"
   ]
  },
  {
   "cell_type": "code",
   "execution_count": 47,
   "metadata": {},
   "outputs": [],
   "source": [
    "def inradius(a,b,c):\n",
    "    \"\"\"\n",
    "    This function takes three sides of a triangle and returns the inradius of the triangle.\n",
    "    \"\"\"\n",
    "    if a+b <= c or a+c <= b or b+c <= a:\n",
    "        raise ValueError(\"The sides do not form a triangle.\")\n",
    "    elif a <= 0 or b <= 0 or c <= 0:\n",
    "        raise ValueError(\"The sides should be positive.\")\n",
    "\n",
    "    s = (a+b+c)/2\n",
    "    print(f'Inradius of the triangle: {(s*(s-a)*(s-b)*(s-c))**0.5/s}')\n",
    "    return ((s*(s-a)*(s-b)*(s-c))**0.5)/s"
   ]
  },
  {
   "cell_type": "markdown",
   "metadata": {},
   "source": [
    "### Jari-Jari Lingkaran luar Segitiga"
   ]
  },
  {
   "cell_type": "code",
   "execution_count": 48,
   "metadata": {},
   "outputs": [],
   "source": [
    "def outradius(a,b,c):\n",
    "    \"\"\"\n",
    "    This function takes three sides of a triangle and returns the outradius of the triangle.\n",
    "    \"\"\"\n",
    "    if a+b <= c or a+c <= b or b+c <= a:\n",
    "        raise ValueError(\"The sides do not form a triangle.\")\n",
    "    elif a <= 0 or b <= 0 or c <= 0:\n",
    "        raise ValueError(\"The sides should be positive.\")\n",
    "\n",
    "    s = (a+b+c)/2\n",
    "    L = (s*(s-a)*(s-b)*(s-c))**0.5\n",
    "    print(f'Radius of the circumcircle: {a*b*c/(4*L)}')\n",
    "    return a*b*c/(4*L)"
   ]
  },
  {
   "cell_type": "markdown",
   "metadata": {},
   "source": [
    "## Function in R"
   ]
  },
  {
   "cell_type": "markdown",
   "metadata": {},
   "source": [
    "**Perbedann Fungsi R dan Python**\n",
    "\n",
    " R | Python\n",
    "---|-------\n",
    "fungsi di bentuk dengan perintah ``` Nama_Fungsi = function(argumen){} ```|fungsi dibentuk dengan perintah ```def Nama_Fungsi(argumen): ```\n",
    "fungsi di R dimuat dalam tanda kurung kurawal `{}`|fungsi di Python dituliskan pada baris baru dengan indentasi dan tanpa diapit tanda kurung kurawal `{}`\n",
    "\n",
    "\n",
    "\n",
    "\n",
    "\n"
   ]
  },
  {
   "cell_type": "markdown",
   "metadata": {},
   "source": [
    "# Module"
   ]
  },
  {
   "cell_type": "markdown",
   "metadata": {},
   "source": [
    "Modul hampir sama dengan libraries. Modul berisi kumpulan fungsi. Modul juga dapat berisi variabel-variabel (array, dictionaries, dll.)"
   ]
  },
  {
   "cell_type": "markdown",
   "metadata": {},
   "source": [
    "## Built-in Modules in Python"
   ]
  },
  {
   "cell_type": "markdown",
   "metadata": {},
   "source": [
    "Modul *built-in* Python merupakan sekumpulan *libraries* yang sudah terinstall bersamaan dengan instalasi Python. Python hadir dengan menyediakan beberapa modul yang paling sering digunakan. Modul-modul ini menyediakan beberapa fungsi, mulai dari operasi *file* dan tugas terkait sistem hingga komputasi matematis dan layanan *web*. Penggunaan modul-modul ini menyederhanakan proses *development*, karena *developer* dapat memanfaatkan fungsi dan kelas bawaan untuk tugas-tugas umum. Daftar modul-modul *built-in* dalam Python dapat dilihat melalui laman [Python Module Index](https://docs.python.org/3/py-modindex.html)."
   ]
  },
  {
   "cell_type": "markdown",
   "metadata": {},
   "source": [
    "Beberapa keuntungan penggunaan modul-modul *built-in* pada Python adalah sebagai berikut.\n",
    "1. Mengurangi waktu *development*\n",
    "2. Mengoptimisasi performa\n",
    "3. Reliabel\n",
    "4. Konsistensi\n",
    "5. Standardisasi\n",
    "6. Dokumentasi\n",
    "7. Pemeliharaan\n",
    "8. Mengurangi Risiko"
   ]
  },
  {
   "cell_type": "markdown",
   "metadata": {},
   "source": [
    "Pada tugas ini, akan dibahas beberapa modul saja, yaitu `os`, `math`, dan `datetime`."
   ]
  },
  {
   "cell_type": "markdown",
   "metadata": {},
   "source": [
    "### Module math"
   ]
  },
  {
   "cell_type": "code",
   "execution_count": 49,
   "metadata": {},
   "outputs": [],
   "source": [
    "import math"
   ]
  },
  {
   "cell_type": "markdown",
   "metadata": {},
   "source": [
    "Modul `math` menyediakan akses ke fungsi matematika yang ditentukan oleh bahasa C standard. Fungsi-fungsi tersebut tidak dapat digunakan dengan bilangan kompleks. Terdapat cukup banyak fungsi dalam modul `math` yang dokumentasinya dapat dilihat pada laman [Python Documentation](https://docs.python.org/3/library/math.html). Berikut adalah beberapa fungsi dalam modul `math`."
   ]
  },
  {
   "cell_type": "markdown",
   "metadata": {},
   "source": [
    "#### Fungsi Ceiling"
   ]
  },
  {
   "cell_type": "markdown",
   "metadata": {},
   "source": [
    "Menyatakan fungsi *ceiling* pada matematika, yaitu bilangan bulat terkecil yang lebih besar dari atau sama dengan $x$."
   ]
  },
  {
   "cell_type": "code",
   "execution_count": 50,
   "metadata": {},
   "outputs": [
    {
     "data": {
      "text/plain": [
       "21"
      ]
     },
     "execution_count": 50,
     "metadata": {},
     "output_type": "execute_result"
    }
   ],
   "source": [
    "x = 20.3\n",
    "math.ceil(x)"
   ]
  },
  {
   "cell_type": "markdown",
   "metadata": {},
   "source": [
    "#### Fungsi Kombinasi"
   ]
  },
  {
   "cell_type": "markdown",
   "metadata": {},
   "source": [
    "Fungsi kombinasi mengembalikan banyaknya cara memilih $k$ banyaknya item dari $n$ item tanpa pengulangan dan tanpa urutan, didefinisikan dengan $n\\choose k$."
   ]
  },
  {
   "cell_type": "code",
   "execution_count": 51,
   "metadata": {},
   "outputs": [
    {
     "data": {
      "text/plain": [
       "10"
      ]
     },
     "execution_count": 51,
     "metadata": {},
     "output_type": "execute_result"
    }
   ],
   "source": [
    "math.comb(5, 2)"
   ]
  },
  {
   "cell_type": "markdown",
   "metadata": {},
   "source": [
    "#### Fungsi Nilai Mutlak"
   ]
  },
  {
   "cell_type": "markdown",
   "metadata": {},
   "source": [
    "Fungsi nilai mutlak mengembalikan nilai $x$ jika $x \\ge 0$ atau $-x$ jika $x < 0$, dilambangkan dengan $|x|$."
   ]
  },
  {
   "cell_type": "code",
   "execution_count": 52,
   "metadata": {},
   "outputs": [
    {
     "data": {
      "text/plain": [
       "25.0"
      ]
     },
     "execution_count": 52,
     "metadata": {},
     "output_type": "execute_result"
    }
   ],
   "source": [
    "x = -25\n",
    "math.fabs(x)"
   ]
  },
  {
   "cell_type": "markdown",
   "metadata": {},
   "source": [
    "#### Fungsi Faktorial"
   ]
  },
  {
   "cell_type": "markdown",
   "metadata": {},
   "source": [
    "Fungsi faktorial mengembalikan nilai faktorial, dilambangkan dengan $n!$."
   ]
  },
  {
   "cell_type": "code",
   "execution_count": 53,
   "metadata": {},
   "outputs": [
    {
     "data": {
      "text/plain": [
       "120"
      ]
     },
     "execution_count": 53,
     "metadata": {},
     "output_type": "execute_result"
    }
   ],
   "source": [
    "math.factorial(5)"
   ]
  },
  {
   "cell_type": "markdown",
   "metadata": {},
   "source": [
    "#### Fungsi Floor"
   ]
  },
  {
   "cell_type": "markdown",
   "metadata": {},
   "source": [
    "Fungsi floor mengembalikan nilai bilangan bulat terbesar yang kurang dari atau sama dengan $x$."
   ]
  },
  {
   "cell_type": "code",
   "execution_count": 54,
   "metadata": {},
   "outputs": [
    {
     "data": {
      "text/plain": [
       "34"
      ]
     },
     "execution_count": 54,
     "metadata": {},
     "output_type": "execute_result"
    }
   ],
   "source": [
    "math.floor(34.7)"
   ]
  },
  {
   "cell_type": "markdown",
   "metadata": {},
   "source": [
    "#### Fungsi Faktor Persekutuan Terbesar (FPB atau GCD)"
   ]
  },
  {
   "cell_type": "markdown",
   "metadata": {},
   "source": [
    "Fungsi GCD mengembalikan nilai faktor persekutuan terbesar, dilambangkan dengan $\\gcd(a,b)$"
   ]
  },
  {
   "cell_type": "code",
   "execution_count": 55,
   "metadata": {},
   "outputs": [
    {
     "data": {
      "text/plain": [
       "12"
      ]
     },
     "execution_count": 55,
     "metadata": {},
     "output_type": "execute_result"
    }
   ],
   "source": [
    "math.gcd(24, 36)"
   ]
  },
  {
   "cell_type": "markdown",
   "metadata": {},
   "source": [
    "#### Fungsi `modf`"
   ]
  },
  {
   "cell_type": "markdown",
   "metadata": {},
   "source": [
    "Fungsi `modf` mengembalikan bagian pecahan dan bagian bilangan bulat dari $x$, tersimpan dalam bentuk float."
   ]
  },
  {
   "cell_type": "code",
   "execution_count": 56,
   "metadata": {},
   "outputs": [
    {
     "data": {
      "text/plain": [
       "(0.5300000000000011, 23.0)"
      ]
     },
     "execution_count": 56,
     "metadata": {},
     "output_type": "execute_result"
    }
   ],
   "source": [
    "math.modf(23.53)"
   ]
  },
  {
   "cell_type": "markdown",
   "metadata": {},
   "source": [
    "#### Fungsi Permutasi"
   ]
  },
  {
   "cell_type": "markdown",
   "metadata": {},
   "source": [
    "Fungsi permutasi mengembalikan banyaknya cara memilih $k$ item dari $n$ item tanpa pengulangan dan dengan urutan. Fungsi ini menghitung $\\frac{n!}{(n - k)!}$ jika $k \\le n$ dan menghasilkan 0 jika $k > n$. Apabila nilai $k$ tidak dispesifikasi atau None, maka secara *default* nilai $k = n$ dan fungsi permutasi mengembalikan nilai $n!$."
   ]
  },
  {
   "cell_type": "code",
   "execution_count": 57,
   "metadata": {},
   "outputs": [
    {
     "data": {
      "text/plain": [
       "90"
      ]
     },
     "execution_count": 57,
     "metadata": {},
     "output_type": "execute_result"
    }
   ],
   "source": [
    "math.perm(10,2)"
   ]
  },
  {
   "cell_type": "code",
   "execution_count": 58,
   "metadata": {},
   "outputs": [
    {
     "data": {
      "text/plain": [
       "90.0"
      ]
     },
     "execution_count": 58,
     "metadata": {},
     "output_type": "execute_result"
    }
   ],
   "source": [
    "# Cek\n",
    "math.factorial(10)/math.factorial(10-2)"
   ]
  },
  {
   "cell_type": "markdown",
   "metadata": {},
   "source": [
    "#### Fungsi Akar Pangkat Tiga (*Cube Root*)"
   ]
  },
  {
   "cell_type": "markdown",
   "metadata": {},
   "source": [
    "Fungsi ini mengembalikan nilai dari akar pangkat tiga suatu bilangan."
   ]
  },
  {
   "cell_type": "code",
   "execution_count": 59,
   "metadata": {},
   "outputs": [
    {
     "ename": "AttributeError",
     "evalue": "module 'math' has no attribute 'cbrt'",
     "output_type": "error",
     "traceback": [
      "\u001b[1;31m---------------------------------------------------------------------------\u001b[0m",
      "\u001b[1;31mAttributeError\u001b[0m                            Traceback (most recent call last)",
      "Cell \u001b[1;32mIn[59], line 1\u001b[0m\n\u001b[1;32m----> 1\u001b[0m \u001b[43mmath\u001b[49m\u001b[38;5;241;43m.\u001b[39;49m\u001b[43mcbrt\u001b[49m(\u001b[38;5;241m8\u001b[39m)\n",
      "\u001b[1;31mAttributeError\u001b[0m: module 'math' has no attribute 'cbrt'"
     ]
    }
   ],
   "source": [
    "math.cbrt(8)"
   ]
  },
  {
   "cell_type": "markdown",
   "metadata": {},
   "source": [
    "#### Fungsi Eksponensial"
   ]
  },
  {
   "cell_type": "markdown",
   "metadata": {},
   "source": [
    "Fungsi ini mengembalikan nilai $e^x$."
   ]
  },
  {
   "cell_type": "code",
   "execution_count": null,
   "metadata": {},
   "outputs": [
    {
     "data": {
      "text/plain": [
       "20.085536923187668"
      ]
     },
     "metadata": {},
     "output_type": "display_data"
    }
   ],
   "source": [
    "math.exp(3)"
   ]
  },
  {
   "cell_type": "markdown",
   "metadata": {},
   "source": [
    "#### Fungsi Dua Pangkat"
   ]
  },
  {
   "cell_type": "markdown",
   "metadata": {},
   "source": [
    "Fungsi ini mengembalikan nilai $2^x$."
   ]
  },
  {
   "cell_type": "code",
   "execution_count": null,
   "metadata": {},
   "outputs": [
    {
     "data": {
      "text/plain": [
       "8.0"
      ]
     },
     "metadata": {},
     "output_type": "display_data"
    }
   ],
   "source": [
    "math.exp2(3)"
   ]
  },
  {
   "cell_type": "markdown",
   "metadata": {},
   "source": [
    "#### Fungsi Logaritma"
   ]
  },
  {
   "cell_type": "markdown",
   "metadata": {},
   "source": [
    "Fungsi ini mengembalikan nilai logaritma. Apabila dinyatakan satu argumen, maka mengembalikan nilai natural logarithm atau $\\ln$. Sedangkan apabila dinyatakan dengan dua argumen, maka mengembalikan nilai logaritma $x$ terhadap basisnya, dihitung dengan $\\frac{\\ln(x)}{\\ln(base)}$."
   ]
  },
  {
   "cell_type": "code",
   "execution_count": null,
   "metadata": {},
   "outputs": [
    {
     "data": {
      "text/plain": [
       "2.0"
      ]
     },
     "metadata": {},
     "output_type": "display_data"
    }
   ],
   "source": [
    "math.log(100, 10)"
   ]
  },
  {
   "cell_type": "code",
   "execution_count": null,
   "metadata": {},
   "outputs": [
    {
     "data": {
      "text/plain": [
       "1.0"
      ]
     },
     "metadata": {},
     "output_type": "display_data"
    }
   ],
   "source": [
    "math.log(math.exp(1))"
   ]
  },
  {
   "cell_type": "markdown",
   "metadata": {},
   "source": [
    "#### Fungsi Trigonometri"
   ]
  },
  {
   "cell_type": "markdown",
   "metadata": {},
   "source": [
    "Fungsi ini mengembalikan beberapa nilai-nilai trigonometri dengan sudut dalam satuan radian."
   ]
  },
  {
   "cell_type": "code",
   "execution_count": null,
   "metadata": {},
   "outputs": [
    {
     "data": {
      "text/plain": [
       "1.0"
      ]
     },
     "metadata": {},
     "output_type": "display_data"
    }
   ],
   "source": [
    "math.cos(2 * math.pi)"
   ]
  },
  {
   "cell_type": "code",
   "execution_count": null,
   "metadata": {},
   "outputs": [
    {
     "data": {
      "text/plain": [
       "-0.4480736161291701"
      ]
     },
     "metadata": {},
     "output_type": "display_data"
    }
   ],
   "source": [
    "math.cos(90)"
   ]
  },
  {
   "cell_type": "code",
   "execution_count": null,
   "metadata": {},
   "outputs": [
    {
     "data": {
      "text/plain": [
       "1.5707963267948966"
      ]
     },
     "metadata": {},
     "output_type": "display_data"
    }
   ],
   "source": [
    "math.acos(0)"
   ]
  },
  {
   "cell_type": "code",
   "execution_count": null,
   "metadata": {},
   "outputs": [
    {
     "name": "stdout",
     "output_type": "stream",
     "text": [
      "180.0 3.141592653589793\n"
     ]
    }
   ],
   "source": [
    "# Convert angular\n",
    "print(math.degrees(math.pi), math.radians(180))"
   ]
  },
  {
   "cell_type": "markdown",
   "metadata": {},
   "source": [
    "Modul `datetime` pada Python menyediakan class untuk memanipulasi tanggal dan waktu atau *date and time*. Tanggal dan waktu dianggap bersifat \"aware\" dan \"naive\" karena bergantung apakah objek tersebut menyertakan informasi mengenai zona waktu atau tidak."
   ]
  },
  {
   "cell_type": "code",
   "execution_count": null,
   "metadata": {},
   "outputs": [],
   "source": [
    "import datetime"
   ]
  },
  {
   "cell_type": "markdown",
   "metadata": {},
   "source": [
    "#### Tipe Data yang Tersedia pada Modul `datetime`"
   ]
  },
  {
   "cell_type": "markdown",
   "metadata": {},
   "source": [
    "Beberapa tipe data yang tersedia pada modul ini adalah sebagai berikut.\n",
    "1. class `datetime.date`\n",
    "2. class `datetime.time`\n",
    "3. class `datetime.datetime`\n",
    "4. class `datetime.timedelta`\n",
    "5. class `datetime.tzinfo`\n",
    "6. class `datetime.timezone`"
   ]
  },
  {
   "cell_type": "code",
   "execution_count": null,
   "metadata": {},
   "outputs": [
    {
     "data": {
      "text/plain": [
       "datetime.date(2024, 3, 19)"
      ]
     },
     "metadata": {},
     "output_type": "display_data"
    }
   ],
   "source": [
    "# Contoh penggunaan\n",
    "\n",
    "today = date.today()\n",
    "today"
   ]
  },
  {
   "cell_type": "markdown",
   "metadata": {},
   "source": [
    "Date time pada Python menggunakan format Gregorian secara *default*, yaitu dalam YY-MM-DD. Contohnya, 2023-02-01 berarti 1 Februari 2023."
   ]
  },
  {
   "cell_type": "code",
   "execution_count": null,
   "metadata": {},
   "outputs": [
    {
     "data": {
      "text/plain": [
       "datetime.date(2004, 1, 2)"
      ]
     },
     "metadata": {},
     "output_type": "display_data"
    }
   ],
   "source": [
    "ultahku = date(2004, 1, 2)\n",
    "ultahku"
   ]
  },
  {
   "cell_type": "code",
   "execution_count": null,
   "metadata": {},
   "outputs": [
    {
     "data": {
      "text/plain": [
       "20.0"
      ]
     },
     "metadata": {},
     "output_type": "display_data"
    }
   ],
   "source": [
    "usia = today - ultahku\n",
    "usia.days\n",
    "# Tahun\n",
    "usia.days // 365.25"
   ]
  },
  {
   "cell_type": "markdown",
   "metadata": {},
   "source": [
    "Contoh penggunaan modul `datetime`:"
   ]
  },
  {
   "cell_type": "code",
   "execution_count": null,
   "metadata": {},
   "outputs": [
    {
     "name": "stdout",
     "output_type": "stream",
     "text": [
      "2024\n",
      "Tuesday\n"
     ]
    }
   ],
   "source": [
    "x = datetime.datetime.now()\n",
    "\n",
    "print(x.year)\n",
    "print(x.strftime(\"%A\"))"
   ]
  },
  {
   "cell_type": "markdown",
   "metadata": {},
   "source": [
    "Objek `datetime` mempunyai suatu metode untuk memformat objek tanggal menjadi strings yang dapat dibaca. Metode ini disebut dengan `strftime()` dan mengambil nilai dari satu parameter."
   ]
  },
  {
   "cell_type": "code",
   "execution_count": null,
   "metadata": {},
   "outputs": [
    {
     "name": "stdout",
     "output_type": "stream",
     "text": [
      "December\n"
     ]
    }
   ],
   "source": [
    "x = datetime.datetime(2020, 12, 17)\n",
    "print(x.strftime(\"%B\"))"
   ]
  },
  {
   "cell_type": "markdown",
   "metadata": {},
   "source": [
    "Daftar argumen dalam perintah `strftime()` dapat dilihat pada laman [W3Schools](https://www.w3schools.com/python/python_datetime.asp). Selain itu, detail lebih lanjut mengenai `datetime` dapat dilihat pada laman [Python Documentation](https://docs.python.org/3/library/datetime.html)."
   ]
  },
  {
   "cell_type": "markdown",
   "metadata": {},
   "source": [
    "## Creating New Module"
   ]
  },
  {
   "cell_type": "markdown",
   "metadata": {},
   "source": [
    "Langkah-Langkah Membuat Module di Python:\n",
    "1. Kumpulkan beberapa kode ke satu file.\n",
    "2. Simpan dalam bentuk `.py`\n",
    "3. Panggil Module dengan cara *import nama_module*\n",
    "4. Renaming module dapat dilakukan dengan `as`\n",
    "5. Fungsi dalam modul dapat digunakan dengan syntax *module_name.function_name*\n"
   ]
  },
  {
   "cell_type": "code",
   "execution_count": null,
   "metadata": {},
   "outputs": [],
   "source": [
    "# Create file .py dan simpan dengan nama \"mymodule.py\"\n",
    "# Call module yang sudah dibuat dengan cara import mymodule\n",
    "import mymodule"
   ]
  },
  {
   "cell_type": "code",
   "execution_count": null,
   "metadata": {},
   "outputs": [
    {
     "data": {
      "text/plain": [
       "['__builtins__',\n",
       " '__cached__',\n",
       " '__doc__',\n",
       " '__file__',\n",
       " '__loader__',\n",
       " '__name__',\n",
       " '__package__',\n",
       " '__spec__',\n",
       " 'greeting']"
      ]
     },
     "execution_count": 22,
     "metadata": {},
     "output_type": "execute_result"
    }
   ],
   "source": [
    "dir(mymodule)"
   ]
  },
  {
   "cell_type": "code",
   "execution_count": null,
   "metadata": {},
   "outputs": [
    {
     "name": "stdout",
     "output_type": "stream",
     "text": [
      "Hello, Jonathan\n"
     ]
    }
   ],
   "source": [
    "# Using function from module\n",
    "mymodule.greeting(\"Jonathan\")"
   ]
  },
  {
   "cell_type": "code",
   "execution_count": null,
   "metadata": {},
   "outputs": [
    {
     "ename": "AttributeError",
     "evalue": "module 'mymodule' has no attribute 'person1'",
     "output_type": "error",
     "traceback": [
      "\u001b[1;31m---------------------------------------------------------------------------\u001b[0m",
      "\u001b[1;31mAttributeError\u001b[0m                            Traceback (most recent call last)",
      "Cell \u001b[1;32mIn[26], line 2\u001b[0m\n\u001b[0;32m      1\u001b[0m \u001b[38;5;28;01mimport\u001b[39;00m \u001b[38;5;21;01mmymodule\u001b[39;00m \u001b[38;5;28;01mas\u001b[39;00m \u001b[38;5;21;01mmx\u001b[39;00m\n\u001b[1;32m----> 2\u001b[0m x \u001b[38;5;241m=\u001b[39m \u001b[43mmx\u001b[49m\u001b[38;5;241;43m.\u001b[39;49m\u001b[43mperson1\u001b[49m[\u001b[38;5;124m\"\u001b[39m\u001b[38;5;124mage\u001b[39m\u001b[38;5;124m\"\u001b[39m]\n\u001b[0;32m      3\u001b[0m x\n",
      "\u001b[1;31mAttributeError\u001b[0m: module 'mymodule' has no attribute 'person1'"
     ]
    }
   ],
   "source": [
    "import mymodule as mx\n",
    "x = mx.person1[\"age\"]\n",
    "x"
   ]
  },
  {
   "cell_type": "markdown",
   "metadata": {},
   "source": [
    "## List all function in the modules"
   ]
  },
  {
   "cell_type": "markdown",
   "metadata": {},
   "source": [
    "Untuk mendapatkan list fungsi-fungsi yang terdapat pada modul, dapat digunakan dir()"
   ]
  },
  {
   "cell_type": "code",
   "execution_count": null,
   "metadata": {},
   "outputs": [
    {
     "data": {
      "text/plain": [
       "['__doc__',\n",
       " '__loader__',\n",
       " '__name__',\n",
       " '__package__',\n",
       " '__spec__',\n",
       " 'acos',\n",
       " 'acosh',\n",
       " 'asin',\n",
       " 'asinh',\n",
       " 'atan',\n",
       " 'atan2',\n",
       " 'atanh',\n",
       " 'ceil',\n",
       " 'comb',\n",
       " 'copysign',\n",
       " 'cos',\n",
       " 'cosh',\n",
       " 'degrees',\n",
       " 'dist',\n",
       " 'e',\n",
       " 'erf',\n",
       " 'erfc',\n",
       " 'exp',\n",
       " 'expm1',\n",
       " 'fabs',\n",
       " 'factorial',\n",
       " 'floor',\n",
       " 'fmod',\n",
       " 'frexp',\n",
       " 'fsum',\n",
       " 'gamma',\n",
       " 'gcd',\n",
       " 'hypot',\n",
       " 'inf',\n",
       " 'isclose',\n",
       " 'isfinite',\n",
       " 'isinf',\n",
       " 'isnan',\n",
       " 'isqrt',\n",
       " 'lcm',\n",
       " 'ldexp',\n",
       " 'lgamma',\n",
       " 'log',\n",
       " 'log10',\n",
       " 'log1p',\n",
       " 'log2',\n",
       " 'modf',\n",
       " 'nan',\n",
       " 'nextafter',\n",
       " 'perm',\n",
       " 'pi',\n",
       " 'pow',\n",
       " 'prod',\n",
       " 'radians',\n",
       " 'remainder',\n",
       " 'sin',\n",
       " 'sinh',\n",
       " 'sqrt',\n",
       " 'tan',\n",
       " 'tanh',\n",
       " 'tau',\n",
       " 'trunc',\n",
       " 'ulp']"
      ]
     },
     "execution_count": 9,
     "metadata": {},
     "output_type": "execute_result"
    }
   ],
   "source": [
    "import math \n",
    "dir(math)"
   ]
  },
  {
   "cell_type": "markdown",
   "metadata": {},
   "source": [
    "## New Module"
   ]
  },
  {
   "cell_type": "code",
   "execution_count": null,
   "metadata": {},
   "outputs": [],
   "source": [
    "import geomeow as meo"
   ]
  },
  {
   "cell_type": "code",
   "execution_count": null,
   "metadata": {},
   "outputs": [
    {
     "data": {
      "text/plain": [
       "['__builtins__',\n",
       " '__cached__',\n",
       " '__doc__',\n",
       " '__file__',\n",
       " '__loader__',\n",
       " '__name__',\n",
       " '__package__',\n",
       " '__spec__',\n",
       " 'circle_area',\n",
       " 'circle_perimeter',\n",
       " 'inradius',\n",
       " 'math',\n",
       " 'outradius',\n",
       " 'parallelogram_area',\n",
       " 'squares_area',\n",
       " 'tcircle_grad',\n",
       " 'tcircle_point',\n",
       " 'trapezoid_area']"
      ]
     },
     "execution_count": 24,
     "metadata": {},
     "output_type": "execute_result"
    }
   ],
   "source": [
    "dir(meo)"
   ]
  },
  {
   "cell_type": "code",
   "execution_count": null,
   "metadata": {},
   "outputs": [],
   "source": [
    "from geometry import inradius "
   ]
  },
  {
   "cell_type": "markdown",
   "metadata": {},
   "source": [
    "# Visualization in Python"
   ]
  },
  {
   "cell_type": "markdown",
   "metadata": {},
   "source": [
    "## Matplotlib"
   ]
  },
  {
   "cell_type": "markdown",
   "metadata": {},
   "source": [
    "Sumber:\n",
    "* [ngodingdata.com](https://ngodingdata.com/pengenalan-library-matplotlib/)\n",
    "*[sekolahstata.com](https://sekolahstata.com/visualisasi-data-dengan-matplotlib-konsep-dan-implementasi/)\n",
    "* [matplotlib.org](https://matplotlib.org/stable/)"
   ]
  },
  {
   "cell_type": "markdown",
   "metadata": {},
   "source": [
    "Matplotlib adalah sebuah **library Python yang kuat dan populer untuk visualisasi data**. Dengan Matplotlib, kita dapat membuat berbagai jenis plot, seperti plot garis, scatter plot, bar plot, histogram, pie chart, dan banyak lagi. Matplotlib menyediakan antarmuka yang intuitif dan fleksibel untuk membuat dan mengatur tampilan plot dengan mudah."
   ]
  },
  {
   "cell_type": "markdown",
   "metadata": {},
   "source": [
    "Sebelum kita dapat menggunakan Matplotlib, kita perlu memasangnya terlebih dahulu."
   ]
  },
  {
   "cell_type": "code",
   "execution_count": null,
   "metadata": {},
   "outputs": [],
   "source": [
    "pip install seaborn"
   ]
  },
  {
   "cell_type": "markdown",
   "metadata": {},
   "source": [
    "Biasanya untuk mempermudah secara umum matplotlib.pyplot disingkat menjadi plt"
   ]
  },
  {
   "cell_type": "code",
   "execution_count": null,
   "metadata": {},
   "outputs": [],
   "source": [
    "import matplotlib.pyplot as plt"
   ]
  },
  {
   "cell_type": "markdown",
   "metadata": {},
   "source": [
    "### Jenis-Jenis Plot dalam Matplotlib\n",
    "#### Pairwise Data\n",
    "*   plot(x,y)\n",
    "*   scatter(x,y)\n",
    "*   bar(x,height)\n",
    "*   stem(x,y)\n",
    "*   fill_between(x,y1,y2)\n",
    "*   stackplot(x,y)\n",
    "*   stairs(values)\n",
    "\n",
    "#### Statistical Distributions\n",
    "*   hist(x)\n",
    "*   boxplot(x)\n",
    "*   errorbar(x,y,yerr,xerr)\n",
    "*   violinplot(D)\n",
    "*   eventplot(D)\n",
    "*   hisrt2d(x,y)\n",
    "*   hexbin(x,y,C)\n",
    "*   pie(x)\n",
    "*   ecdf(x)\n",
    "\n",
    "#### Gridded data\n",
    "*   imshow(Z)\n",
    "*   pcolormesh(X, Y, Z)\n",
    "*   contour(X, Y, Z)\n",
    "*   contourf(X, Y, Z)\n",
    "*   barbs(X, Y, U, V)\n",
    "*   quiver(X, Y, U, V)\n",
    "*   streamplot(X, Y, U, V)\n",
    "\n",
    "#### Irregularly Gridded Data\n",
    "*   tricontour(x, y, z)\n",
    "*   tricontourf(x, y, z)\n",
    "*   tripcolor(x, y, z)\n",
    "*   triplot(x, y)\n",
    "\n",
    "#### 3D and Volumetric Data\n",
    "*   scatter(xs, ys, zs)\n",
    "*   plot_surface(X, Y, Z)\n",
    "*   plot_trisurf(x, y, z)\n",
    "*   voxels([x, y, z], filled)\n",
    "*   plot_wireframe(X, Y, Z)\n"
   ]
  },
  {
   "cell_type": "markdown",
   "metadata": {},
   "source": [
    "### Contoh Membuat Plot Sederhana"
   ]
  },
  {
   "cell_type": "code",
   "execution_count": null,
   "metadata": {},
   "outputs": [
    {
     "data": {
      "text/plain": [
       "[<matplotlib.lines.Line2D at 0x7e1d3863c1c0>]"
      ]
     },
     "metadata": {},
     "output_type": "display_data"
    },
    {
     "data": {
      "image/png": "[encoded data removed]",
      "text/plain": [
       "<Figure size 640x480 with 1 Axes>"
      ]
     },
     "metadata": {},
     "output_type": "display_data"
    }
   ],
   "source": [
    "# Data\n",
    "x = [1, 2, 3, 4, 5]\n",
    "y = [1, 4, 4, 8, 12]\n",
    "\n",
    "# Membuat plot garis\n",
    "plt.plot(x, y)\n",
    "plt.show()"
   ]
  },
  {
   "cell_type": "code",
   "execution_count": null,
   "metadata": {},
   "outputs": [
    {
     "data": {
      "text/plain": [
       "(array([2., 0., 0., 3., 0., 0., 3., 0., 0., 2.]),\n",
       " array([1. , 1.3, 1.6, 1.9, 2.2, 2.5, 2.8, 3.1, 3.4, 3.7, 4. ]),\n",
       " <BarContainer object of 10 artists>)"
      ]
     },
     "metadata": {},
     "output_type": "display_data"
    },
    {
     "data": {
      "image/png": "[encoded data removed]",
      "text/plain": [
       "<Figure size 640x480 with 1 Axes>"
      ]
     },
     "metadata": {},
     "output_type": "display_data"
    }
   ],
   "source": [
    "# Data\n",
    "data = [2, 3, 1, 4, 3, 2, 4, 1, 3, 2]\n",
    "plt.hist(data)\n",
    "plt.show()"
   ]
  },
  {
   "cell_type": "code",
   "execution_count": null,
   "metadata": {},
   "outputs": [
    {
     "data": {
      "text/plain": [
       "<matplotlib.collections.PathCollection at 0x7e1d190a1420>"
      ]
     },
     "metadata": {},
     "output_type": "display_data"
    },
    {
     "data": {
      "image/png": "[encoded data removed]",
      "text/plain": [
       "<Figure size 640x480 with 1 Axes>"
      ]
     },
     "metadata": {},
     "output_type": "display_data"
    }
   ],
   "source": [
    "# Data\n",
    "x = [1, 1, 3, 4, 5]\n",
    "y = [2, 4, 4, 8, 10]\n",
    "\n",
    "# Membuat scatter plot\n",
    "plt.scatter(x, y)\n",
    "plt.show()"
   ]
  },
  {
   "cell_type": "code",
   "execution_count": null,
   "metadata": {},
   "outputs": [
    {
     "data": {
      "image/png": "[encoded data removed]",
      "text/plain": [
       "<Figure size 640x480 with 1 Axes>"
      ]
     },
     "metadata": {},
     "output_type": "display_data"
    }
   ],
   "source": [
    "# Data\n",
    "labels = [\"A\", \"B\", \"C\", \"D\"]\n",
    "sizes = [15, 30, 45, 10]\n",
    "\n",
    "# Membuat pie chart\n",
    "plt.pie(sizes, labels=labels)\n",
    "plt.show()"
   ]
  },
  {
   "cell_type": "markdown",
   "metadata": {},
   "source": [
    "## Seaborn\n",
    "Sumber:\n",
    "* [sekolahstata.com](https://sekolahstata.com/visualisasi-data-dengan-seaborn-konsep-dan-implementasi/)\n",
    "* [revou.co](https://revou.co/panduan-teknis/seaborn-python)\n"
   ]
  },
  {
   "cell_type": "markdown",
   "metadata": {},
   "source": [
    "Seaborn adalah library visualisasi data berbasis Python yang menyediakan **high-level interface (antarmuka tingkat tinggi)** untuk menggambar grafik statistik yang **informatif**. Seaborn menyediakan sejumlah plot dan gaya yang siap pakai untuk memvisualisasikan data.\n",
    "\n",
    "Seaborn **dibangun di atas Matplotlib**, yaitu salah satu library visualisasi data paling dasar dan populer di Python. Artinya, Seaborn **memanfaatkan fungsionalitas inti dari Matplotlib** dengan menambahkan lapisan abstraksi untuk **memudahkan analyst** membuat visualisasi yang lebih kompleks.\n",
    "\n",
    "\n",
    "Menurut GeeksforGeeks, Seaborn memudahkan dalam memvisualisasikan data dengan berbagai jenis plot seperti distribusi, kategorikal, matriks, dan banyak lagi. Dengan kata lain, jika kamu **ingin melihat distribusi data** atau **hubungan antara dua variabel**, Seaborn memiliki alat yang tepat untuk melakukannya."
   ]
  },
  {
   "cell_type": "markdown",
   "metadata": {},
   "source": [
    "#### Perbedaan Seaborn vs Matplotlib\n",
    "Seaborn dan Matplotlib adalah dua library visualisasi data yang populer di Python, tetapi keduanya memiliki karakteristik dan kegunaan yang berbeda.\n",
    "\n",
    "Berikut perbedaan keduanya.\n",
    "\n",
    "* **Desain dan estetika**: Secara default, **Seaborn memiliki tema dan palet warna yang lebih menarik **dibandingkan dengan Matplotlib. Hal ini memungkinkan kamu untuk lebih mudah membuat visualisasi tanpa perlu banyak penyesuaian.\n",
    "\n",
    "* **Fungsionalitas**: meskipun Seaborn dibangun di atas Matplotlib dan memanfaatkannya sebagai dasar, **Seaborn menawarkan berbagai jenis plot khusus yang dioptimalkan untuk analisis statistik**, seperti plot distribusi, plot kategorikal, dan plot matriks. Di sisi lain, **Matplotlib lebih fleksibel dan memungkinkan kamu membuat hampir semua jenis visualisasi, tetapi memerlukan lebih banyak kod**e.\n",
    "\n",
    "* **Integrasi dengan Pandas**:  **Seaborn bekerja dengan sangat baik dengan DataFrame Pandas**, memudahkan pengguna untuk memvisualisasikan data langsung dari DataFrame. Meskipun Matplotlib juga mendukung DataFrame Pandas, Seaborn menyediakan interface yang lebih intuitif.\n",
    "\n",
    "* **Kustomisasi**: sebagai library dasar, **Matplotlib memberikan kontrol lebih besar kepada analyst dalam hal kustomisasi**. Semenetara itu, Seaborn mengoptimalkan untuk kasus penggunaan umum, tetapi mungkin tidak sefleksibel Matplotlib untuk kebutuhan kustomisasi yang sangat spesifik.\n",
    "\n",
    "Dalam prakteknya, banyak **data analyst menggunakan keduanya secara bersamaan**. Seaborn untuk visualisasi cepat yang menarik dan informatif, sementara Matplotlib untuk kustomisasi lebih lanjut atau jenis visualisasi yang lebih kompleks."
   ]
  },
  {
   "cell_type": "markdown",
   "metadata": {},
   "source": [
    "Sebelum kita dapat menggunakan Seaborn, kita perlu memasangnya terlebih dahulu."
   ]
  },
  {
   "cell_type": "code",
   "execution_count": null,
   "metadata": {},
   "outputs": [],
   "source": [
    "pip install seaborn"
   ]
  },
  {
   "cell_type": "markdown",
   "metadata": {},
   "source": [
    "Setelah Seaborn terpasang, kita perlu **mengimpor** library yang dibutuhkan dalam program Python kita."
   ]
  },
  {
   "cell_type": "code",
   "execution_count": null,
   "metadata": {},
   "outputs": [],
   "source": [
    "import seaborn as sns"
   ]
  },
  {
   "cell_type": "markdown",
   "metadata": {},
   "source": [
    "Ada banyak fungsi yang bisa dipakai dalam modul seaborn.\n",
    "Berikut beberapa di antaranya."
   ]
  },
  {
   "cell_type": "markdown",
   "metadata": {},
   "source": [
    "#### 1. Scatter Plot"
   ]
  },
  {
   "cell_type": "code",
   "execution_count": null,
   "metadata": {},
   "outputs": [
    {
     "ename": "NameError",
     "evalue": "name 'sns' is not defined",
     "output_type": "error",
     "traceback": [
      "\u001b[0;31m---------------------------------------------------------------------------\u001b[0m\n",
      "\u001b[0;31mNameError\u001b[0m                                 Traceback (most recent call last)\n",
      "\u001b[0;32m<ipython-input-2-91168b576e55>\u001b[0m in \u001b[0;36m<cell line: 1>\u001b[0;34m()\u001b[0m\n",
      "\u001b[0;32m----> 1\u001b[0;31m \u001b[0mdata\u001b[0m \u001b[0;34m=\u001b[0m \u001b[0msns\u001b[0m\u001b[0;34m.\u001b[0m\u001b[0mload_dataset\u001b[0m\u001b[0;34m(\u001b[0m\u001b[0;34m'tips'\u001b[0m\u001b[0;34m)\u001b[0m\u001b[0;34m\u001b[0m\u001b[0;34m\u001b[0m\u001b[0m\n",
      "\u001b[0m\u001b[1;32m      2\u001b[0m \u001b[0msns\u001b[0m\u001b[0;34m.\u001b[0m\u001b[0mscatterplot\u001b[0m\u001b[0;34m(\u001b[0m\u001b[0mx\u001b[0m\u001b[0;34m=\u001b[0m\u001b[0;34m'total_bill'\u001b[0m\u001b[0;34m,\u001b[0m \u001b[0my\u001b[0m\u001b[0;34m=\u001b[0m\u001b[0;34m'tip'\u001b[0m\u001b[0;34m,\u001b[0m \u001b[0mdata\u001b[0m\u001b[0;34m=\u001b[0m\u001b[0mdata\u001b[0m\u001b[0;34m)\u001b[0m\u001b[0;34m\u001b[0m\u001b[0;34m\u001b[0m\u001b[0m\n",
      "\n",
      "\u001b[0;31mNameError\u001b[0m: name 'sns' is not defined"
     ]
    }
   ],
   "source": [
    "data = sns.load_dataset('tips')\n",
    "sns.scatterplot(x='total_bill', y='tip', data=data)"
   ]
  },
  {
   "cell_type": "markdown",
   "metadata": {},
   "source": [
    "#### 2. Line plot"
   ]
  },
  {
   "cell_type": "code",
   "execution_count": null,
   "metadata": {},
   "outputs": [
    {
     "data": {
      "text/plain": [
       "<Axes: xlabel='month'>"
      ]
     },
     "metadata": {},
     "output_type": "display_data"
    },
    {
     "data": {
      "image/png": "[encoded data removed]",
      "text/plain": [
       "<Figure size 640x480 with 1 Axes>"
      ]
     },
     "metadata": {},
     "output_type": "display_data"
    }
   ],
   "source": [
    "data = sns.load_dataset('flights')\n",
    "data_pivot = data.pivot_table(index='month', columns='year', values='passengers')\n",
    "sns.lineplot(data=data_pivot)"
   ]
  },
  {
   "cell_type": "markdown",
   "metadata": {},
   "source": [
    "#### 3. Bar Plot"
   ]
  },
  {
   "cell_type": "code",
   "execution_count": null,
   "metadata": {},
   "outputs": [
    {
     "data": {
      "text/plain": [
       "<Axes: xlabel='day', ylabel='total_bill'>"
      ]
     },
     "metadata": {},
     "output_type": "display_data"
    },
    {
     "data": {
      "image/png": "[encoded data removed]",
      "text/plain": [
       "<Figure size 640x480 with 1 Axes>"
      ]
     },
     "metadata": {},
     "output_type": "display_data"
    }
   ],
   "source": [
    "data = sns.load_dataset('tips')\n",
    "sns.barplot(x='day', y='total_bill', data=data)"
   ]
  },
  {
   "cell_type": "markdown",
   "metadata": {},
   "source": [
    "#### 4. Histogram"
   ]
  },
  {
   "cell_type": "code",
   "execution_count": null,
   "metadata": {},
   "outputs": [
    {
     "data": {
      "text/plain": [
       "<Axes: xlabel='total_bill', ylabel='Count'>"
      ]
     },
     "metadata": {},
     "output_type": "display_data"
    },
    {
     "data": {
      "image/png": "[encoded data removed]",
      "text/plain": [
       "<Figure size 640x480 with 1 Axes>"
      ]
     },
     "metadata": {},
     "output_type": "display_data"
    }
   ],
   "source": [
    "data = sns.load_dataset('tips')\n",
    "sns.histplot(data['total_bill'])"
   ]
  },
  {
   "cell_type": "markdown",
   "metadata": {},
   "source": [
    "#### 5. Boxplot"
   ]
  },
  {
   "cell_type": "code",
   "execution_count": null,
   "metadata": {},
   "outputs": [
    {
     "data": {
      "text/plain": [
       "<Axes: xlabel='day', ylabel='total_bill'>"
      ]
     },
     "metadata": {},
     "output_type": "display_data"
    },
    {
     "data": {
      "image/png": "[encoded data removed]",
      "text/plain": [
       "<Figure size 640x480 with 1 Axes>"
      ]
     },
     "metadata": {},
     "output_type": "display_data"
    }
   ],
   "source": [
    "data = sns.load_dataset('tips')\n",
    "sns.boxplot(x='day', y='total_bill', data=data)"
   ]
  },
  {
   "cell_type": "markdown",
   "metadata": {},
   "source": [
    "#### 6. Heatmap"
   ]
  },
  {
   "cell_type": "code",
   "execution_count": null,
   "metadata": {},
   "outputs": [
    {
     "data": {
      "text/plain": [
       "<Axes: xlabel='year', ylabel='month'>"
      ]
     },
     "metadata": {},
     "output_type": "display_data"
    },
    {
     "data": {
      "image/png": "[encoded data removed]",
      "text/plain": [
       "<Figure size 640x480 with 2 Axes>"
      ]
     },
     "metadata": {},
     "output_type": "display_data"
    }
   ],
   "source": [
    "data = sns.load_dataset('flights')\n",
    "data_pivot = data.pivot_table(index='month', columns='year', values='passengers')\n",
    "sns.heatmap(data_pivot, cmap='YlGnBu')"
   ]
  },
  {
   "cell_type": "markdown",
   "metadata": {},
   "source": [
    "#### Estimating regression fits"
   ]
  },
  {
   "cell_type": "code",
   "execution_count": null,
   "metadata": {},
   "outputs": [
    {
     "data": {
      "image/png": "[encoded data removed]",
      "text/plain": [
       "<Figure size 640x480 with 1 Axes>"
      ]
     },
     "metadata": {},
     "output_type": "display_data"
    }
   ],
   "source": [
    "tips = sns.load_dataset(\"tips\")\n",
    "sns.regplot(x=\"total_bill\", y=\"tip\", data=tips);"
   ]
  },
  {
   "cell_type": "markdown",
   "metadata": {},
   "source": [
    "## Plotly Module\n",
    "Plotly library in Python is an open-source library that can be used for data visualization and understanding data simply and easily. Plotly supports various types of plots like line charts, scatter plots, histograms, box plots, etc."
   ]
  },
  {
   "cell_type": "markdown",
   "metadata": {},
   "source": [
    "Installing Plotly"
   ]
  },
  {
   "cell_type": "code",
   "execution_count": null,
   "metadata": {},
   "outputs": [
    {
     "name": "stdout",
     "output_type": "stream",
     "text": [
      "Requirement already satisfied: plotly in /usr/local/lib/python3.10/dist-packages (5.15.0)\n",
      "Requirement already satisfied: tenacity>=6.2.0 in /usr/local/lib/python3.10/dist-packages (from plotly) (8.2.3)\n",
      "Requirement already satisfied: packaging in /usr/local/lib/python3.10/dist-packages (from plotly) (24.0)\n"
     ]
    }
   ],
   "source": [
    "#!pip install plotly"
   ]
  },
  {
   "cell_type": "markdown",
   "metadata": {},
   "source": [
    "Examples"
   ]
  },
  {
   "cell_type": "markdown",
   "metadata": {},
   "source": [
    "Line Plot"
   ]
  },
  {
   "cell_type": "code",
   "execution_count": null,
   "metadata": {},
   "outputs": [
    {
     "data": {
      "text/html": [
       "<html>\n",
       "<head><meta charset=\"utf-8\" /></head>\n",
       "<body>\n",
       "    <div>            <script src=\"https://cdnjs.cloudflare.com/ajax/libs/mathjax/2.7.5/MathJax.js?config=TeX-AMS-MML_SVG\"></script><script type=\"text/javascript\">if (window.MathJax && window.MathJax.Hub && window.MathJax.Hub.Config) {window.MathJax.Hub.Config({SVG: {font: \"STIX-Web\"}});}</script>                <script type=\"text/javascript\">window.PlotlyConfig = {MathJaxConfig: 'local'};</script>\n",
       "        <script charset=\"utf-8\" src=\"https://cdn.plot.ly/plotly-2.24.1.min.js\"></script>                <div id=\"b5ebab0b-5b1c-4041-9f7a-66a173c94a7a\" class=\"plotly-graph-div\" style=\"height:525px; width:100%;\"></div>            <script type=\"text/javascript\">                                    window.PLOTLYENV=window.PLOTLYENV || {};                                    if (document.getElementById(\"b5ebab0b-5b1c-4041-9f7a-66a173c94a7a\")) {                    Plotly.newPlot(                        \"b5ebab0b-5b1c-4041-9f7a-66a173c94a7a\",                        [{\"hovertemplate\":\"x=%{x}\\u003cbr\\u003ey=%{y}\\u003cextra\\u003e\\u003c\\u002fextra\\u003e\",\"legendgroup\":\"\",\"line\":{\"color\":\"#636efa\",\"dash\":\"solid\"},\"marker\":{\"symbol\":\"circle\"},\"mode\":\"lines\",\"name\":\"\",\"orientation\":\"v\",\"showlegend\":false,\"x\":[1,2,3],\"xaxis\":\"x\",\"y\":[1,2,3],\"yaxis\":\"y\",\"type\":\"scatter\"}],                        {\"template\":{\"data\":{\"histogram2dcontour\":[{\"type\":\"histogram2dcontour\",\"colorbar\":{\"outlinewidth\":0,\"ticks\":\"\"},\"colorscale\":[[0.0,\"#0d0887\"],[0.1111111111111111,\"#46039f\"],[0.2222222222222222,\"#7201a8\"],[0.3333333333333333,\"#9c179e\"],[0.4444444444444444,\"#bd3786\"],[0.5555555555555556,\"#d8576b\"],[0.6666666666666666,\"#ed7953\"],[0.7777777777777778,\"#fb9f3a\"],[0.8888888888888888,\"#fdca26\"],[1.0,\"#f0f921\"]]}],\"choropleth\":[{\"type\":\"choropleth\",\"colorbar\":{\"outlinewidth\":0,\"ticks\":\"\"}}],\"histogram2d\":[{\"type\":\"histogram2d\",\"colorbar\":{\"outlinewidth\":0,\"ticks\":\"\"},\"colorscale\":[[0.0,\"#0d0887\"],[0.1111111111111111,\"#46039f\"],[0.2222222222222222,\"#7201a8\"],[0.3333333333333333,\"#9c179e\"],[0.4444444444444444,\"#bd3786\"],[0.5555555555555556,\"#d8576b\"],[0.6666666666666666,\"#ed7953\"],[0.7777777777777778,\"#fb9f3a\"],[0.8888888888888888,\"#fdca26\"],[1.0,\"#f0f921\"]]}],\"heatmap\":[{\"type\":\"heatmap\",\"colorbar\":{\"outlinewidth\":0,\"ticks\":\"\"},\"colorscale\":[[0.0,\"#0d0887\"],[0.1111111111111111,\"#46039f\"],[0.2222222222222222,\"#7201a8\"],[0.3333333333333333,\"#9c179e\"],[0.4444444444444444,\"#bd3786\"],[0.5555555555555556,\"#d8576b\"],[0.6666666666666666,\"#ed7953\"],[0.7777777777777778,\"#fb9f3a\"],[0.8888888888888888,\"#fdca26\"],[1.0,\"#f0f921\"]]}],\"heatmapgl\":[{\"type\":\"heatmapgl\",\"colorbar\":{\"outlinewidth\":0,\"ticks\":\"\"},\"colorscale\":[[0.0,\"#0d0887\"],[0.1111111111111111,\"#46039f\"],[0.2222222222222222,\"#7201a8\"],[0.3333333333333333,\"#9c179e\"],[0.4444444444444444,\"#bd3786\"],[0.5555555555555556,\"#d8576b\"],[0.6666666666666666,\"#ed7953\"],[0.7777777777777778,\"#fb9f3a\"],[0.8888888888888888,\"#fdca26\"],[1.0,\"#f0f921\"]]}],\"contourcarpet\":[{\"type\":\"contourcarpet\",\"colorbar\":{\"outlinewidth\":0,\"ticks\":\"\"}}],\"contour\":[{\"type\":\"contour\",\"colorbar\":{\"outlinewidth\":0,\"ticks\":\"\"},\"colorscale\":[[0.0,\"#0d0887\"],[0.1111111111111111,\"#46039f\"],[0.2222222222222222,\"#7201a8\"],[0.3333333333333333,\"#9c179e\"],[0.4444444444444444,\"#bd3786\"],[0.5555555555555556,\"#d8576b\"],[0.6666666666666666,\"#ed7953\"],[0.7777777777777778,\"#fb9f3a\"],[0.8888888888888888,\"#fdca26\"],[1.0,\"#f0f921\"]]}],\"surface\":[{\"type\":\"surface\",\"colorbar\":{\"outlinewidth\":0,\"ticks\":\"\"},\"colorscale\":[[0.0,\"#0d0887\"],[0.1111111111111111,\"#46039f\"],[0.2222222222222222,\"#7201a8\"],[0.3333333333333333,\"#9c179e\"],[0.4444444444444444,\"#bd3786\"],[0.5555555555555556,\"#d8576b\"],[0.6666666666666666,\"#ed7953\"],[0.7777777777777778,\"#fb9f3a\"],[0.8888888888888888,\"#fdca26\"],[1.0,\"#f0f921\"]]}],\"mesh3d\":[{\"type\":\"mesh3d\",\"colorbar\":{\"outlinewidth\":0,\"ticks\":\"\"}}],\"scatter\":[{\"fillpattern\":{\"fillmode\":\"overlay\",\"size\":10,\"solidity\":0.2},\"type\":\"scatter\"}],\"parcoords\":[{\"type\":\"parcoords\",\"line\":{\"colorbar\":{\"outlinewidth\":0,\"ticks\":\"\"}}}],\"scatterpolargl\":[{\"type\":\"scatterpolargl\",\"marker\":{\"colorbar\":{\"outlinewidth\":0,\"ticks\":\"\"}}}],\"bar\":[{\"error_x\":{\"color\":\"#2a3f5f\"},\"error_y\":{\"color\":\"#2a3f5f\"},\"marker\":{\"line\":{\"color\":\"#E5ECF6\",\"width\":0.5},\"pattern\":{\"fillmode\":\"overlay\",\"size\":10,\"solidity\":0.2}},\"type\":\"bar\"}],\"scattergeo\":[{\"type\":\"scattergeo\",\"marker\":{\"colorbar\":{\"outlinewidth\":0,\"ticks\":\"\"}}}],\"scatterpolar\":[{\"type\":\"scatterpolar\",\"marker\":{\"colorbar\":{\"outlinewidth\":0,\"ticks\":\"\"}}}],\"histogram\":[{\"marker\":{\"pattern\":{\"fillmode\":\"overlay\",\"size\":10,\"solidity\":0.2}},\"type\":\"histogram\"}],\"scattergl\":[{\"type\":\"scattergl\",\"marker\":{\"colorbar\":{\"outlinewidth\":0,\"ticks\":\"\"}}}],\"scatter3d\":[{\"type\":\"scatter3d\",\"line\":{\"colorbar\":{\"outlinewidth\":0,\"ticks\":\"\"}},\"marker\":{\"colorbar\":{\"outlinewidth\":0,\"ticks\":\"\"}}}],\"scattermapbox\":[{\"type\":\"scattermapbox\",\"marker\":{\"colorbar\":{\"outlinewidth\":0,\"ticks\":\"\"}}}],\"scatterternary\":[{\"type\":\"scatterternary\",\"marker\":{\"colorbar\":{\"outlinewidth\":0,\"ticks\":\"\"}}}],\"scattercarpet\":[{\"type\":\"scattercarpet\",\"marker\":{\"colorbar\":{\"outlinewidth\":0,\"ticks\":\"\"}}}],\"carpet\":[{\"aaxis\":{\"endlinecolor\":\"#2a3f5f\",\"gridcolor\":\"white\",\"linecolor\":\"white\",\"minorgridcolor\":\"white\",\"startlinecolor\":\"#2a3f5f\"},\"baxis\":{\"endlinecolor\":\"#2a3f5f\",\"gridcolor\":\"white\",\"linecolor\":\"white\",\"minorgridcolor\":\"white\",\"startlinecolor\":\"#2a3f5f\"},\"type\":\"carpet\"}],\"table\":[{\"cells\":{\"fill\":{\"color\":\"#EBF0F8\"},\"line\":{\"color\":\"white\"}},\"header\":{\"fill\":{\"color\":\"#C8D4E3\"},\"line\":{\"color\":\"white\"}},\"type\":\"table\"}],\"barpolar\":[{\"marker\":{\"line\":{\"color\":\"#E5ECF6\",\"width\":0.5},\"pattern\":{\"fillmode\":\"overlay\",\"size\":10,\"solidity\":0.2}},\"type\":\"barpolar\"}],\"pie\":[{\"automargin\":true,\"type\":\"pie\"}]},\"layout\":{\"autotypenumbers\":\"strict\",\"colorway\":[\"#636efa\",\"#EF553B\",\"#00cc96\",\"#ab63fa\",\"#FFA15A\",\"#19d3f3\",\"#FF6692\",\"#B6E880\",\"#FF97FF\",\"#FECB52\"],\"font\":{\"color\":\"#2a3f5f\"},\"hovermode\":\"closest\",\"hoverlabel\":{\"align\":\"left\"},\"paper_bgcolor\":\"white\",\"plot_bgcolor\":\"#E5ECF6\",\"polar\":{\"bgcolor\":\"#E5ECF6\",\"angularaxis\":{\"gridcolor\":\"white\",\"linecolor\":\"white\",\"ticks\":\"\"},\"radialaxis\":{\"gridcolor\":\"white\",\"linecolor\":\"white\",\"ticks\":\"\"}},\"ternary\":{\"bgcolor\":\"#E5ECF6\",\"aaxis\":{\"gridcolor\":\"white\",\"linecolor\":\"white\",\"ticks\":\"\"},\"baxis\":{\"gridcolor\":\"white\",\"linecolor\":\"white\",\"ticks\":\"\"},\"caxis\":{\"gridcolor\":\"white\",\"linecolor\":\"white\",\"ticks\":\"\"}},\"coloraxis\":{\"colorbar\":{\"outlinewidth\":0,\"ticks\":\"\"}},\"colorscale\":{\"sequential\":[[0.0,\"#0d0887\"],[0.1111111111111111,\"#46039f\"],[0.2222222222222222,\"#7201a8\"],[0.3333333333333333,\"#9c179e\"],[0.4444444444444444,\"#bd3786\"],[0.5555555555555556,\"#d8576b\"],[0.6666666666666666,\"#ed7953\"],[0.7777777777777778,\"#fb9f3a\"],[0.8888888888888888,\"#fdca26\"],[1.0,\"#f0f921\"]],\"sequentialminus\":[[0.0,\"#0d0887\"],[0.1111111111111111,\"#46039f\"],[0.2222222222222222,\"#7201a8\"],[0.3333333333333333,\"#9c179e\"],[0.4444444444444444,\"#bd3786\"],[0.5555555555555556,\"#d8576b\"],[0.6666666666666666,\"#ed7953\"],[0.7777777777777778,\"#fb9f3a\"],[0.8888888888888888,\"#fdca26\"],[1.0,\"#f0f921\"]],\"diverging\":[[0,\"#8e0152\"],[0.1,\"#c51b7d\"],[0.2,\"#de77ae\"],[0.3,\"#f1b6da\"],[0.4,\"#fde0ef\"],[0.5,\"#f7f7f7\"],[0.6,\"#e6f5d0\"],[0.7,\"#b8e186\"],[0.8,\"#7fbc41\"],[0.9,\"#4d9221\"],[1,\"#276419\"]]},\"xaxis\":{\"gridcolor\":\"white\",\"linecolor\":\"white\",\"ticks\":\"\",\"title\":{\"standoff\":15},\"zerolinecolor\":\"white\",\"automargin\":true,\"zerolinewidth\":2},\"yaxis\":{\"gridcolor\":\"white\",\"linecolor\":\"white\",\"ticks\":\"\",\"title\":{\"standoff\":15},\"zerolinecolor\":\"white\",\"automargin\":true,\"zerolinewidth\":2},\"scene\":{\"xaxis\":{\"backgroundcolor\":\"#E5ECF6\",\"gridcolor\":\"white\",\"linecolor\":\"white\",\"showbackground\":true,\"ticks\":\"\",\"zerolinecolor\":\"white\",\"gridwidth\":2},\"yaxis\":{\"backgroundcolor\":\"#E5ECF6\",\"gridcolor\":\"white\",\"linecolor\":\"white\",\"showbackground\":true,\"ticks\":\"\",\"zerolinecolor\":\"white\",\"gridwidth\":2},\"zaxis\":{\"backgroundcolor\":\"#E5ECF6\",\"gridcolor\":\"white\",\"linecolor\":\"white\",\"showbackground\":true,\"ticks\":\"\",\"zerolinecolor\":\"white\",\"gridwidth\":2}},\"shapedefaults\":{\"line\":{\"color\":\"#2a3f5f\"}},\"annotationdefaults\":{\"arrowcolor\":\"#2a3f5f\",\"arrowhead\":0,\"arrowwidth\":1},\"geo\":{\"bgcolor\":\"white\",\"landcolor\":\"#E5ECF6\",\"subunitcolor\":\"white\",\"showland\":true,\"showlakes\":true,\"lakecolor\":\"white\"},\"title\":{\"x\":0.05},\"mapbox\":{\"style\":\"light\"}}},\"xaxis\":{\"anchor\":\"y\",\"domain\":[0.0,1.0],\"title\":{\"text\":\"x\"}},\"yaxis\":{\"anchor\":\"x\",\"domain\":[0.0,1.0],\"title\":{\"text\":\"y\"}},\"legend\":{\"tracegroupgap\":0},\"margin\":{\"t\":60}},                        {\"responsive\": true}                    ).then(function(){\n",
       "                            \n",
       "var gd = document.getElementById('b5ebab0b-5b1c-4041-9f7a-66a173c94a7a');\n",
       "var x = new MutationObserver(function (mutations, observer) {{\n",
       "        var display = window.getComputedStyle(gd).display;\n",
       "        if (!display || display === 'none') {{\n",
       "            console.log([gd, 'removed!']);\n",
       "            Plotly.purge(gd);\n",
       "            observer.disconnect();\n",
       "        }}\n",
       "}});\n",
       "\n",
       "// Listen for the removal of the full notebook cells\n",
       "var notebookContainer = gd.closest('#notebook-container');\n",
       "if (notebookContainer) {{\n",
       "    x.observe(notebookContainer, {childList: true});\n",
       "}}\n",
       "\n",
       "// Listen for the clearing of the current output cell\n",
       "var outputEl = gd.closest('.output');\n",
       "if (outputEl) {{\n",
       "    x.observe(outputEl, {childList: true});\n",
       "}}\n",
       "\n",
       "                        })                };                            </script>        </div>\n",
       "</body>\n",
       "</html>"
      ]
     },
     "metadata": {},
     "output_type": "display_data"
    }
   ],
   "source": [
    "import plotly.express as px\n",
    "\n",
    "\n",
    "# Creating the Figure instance\n",
    "fig = px.line(x=[1, 2, 3], y=[1, 2, 3])\n",
    "\n",
    "# showing the plot\n",
    "fig.show()"
   ]
  },
  {
   "cell_type": "markdown",
   "metadata": {},
   "source": [
    "Barchart"
   ]
  },
  {
   "cell_type": "code",
   "execution_count": null,
   "metadata": {},
   "outputs": [
    {
     "data": {
      "text/html": [
       "<html>\n",
       "<head><meta charset=\"utf-8\" /></head>\n",
       "<body>\n",
       "    <div>            <script src=\"https://cdnjs.cloudflare.com/ajax/libs/mathjax/2.7.5/MathJax.js?config=TeX-AMS-MML_SVG\"></script><script type=\"text/javascript\">if (window.MathJax && window.MathJax.Hub && window.MathJax.Hub.Config) {window.MathJax.Hub.Config({SVG: {font: \"STIX-Web\"}});}</script>                <script type=\"text/javascript\">window.PlotlyConfig = {MathJaxConfig: 'local'};</script>\n",
       "        <script charset=\"utf-8\" src=\"https://cdn.plot.ly/plotly-2.24.1.min.js\"></script>                <div id=\"53a1cd3b-87a2-4f29-acad-d8da202674a5\" class=\"plotly-graph-div\" style=\"height:525px; width:100%;\"></div>            <script type=\"text/javascript\">                                    window.PLOTLYENV=window.PLOTLYENV || {};                                    if (document.getElementById(\"53a1cd3b-87a2-4f29-acad-d8da202674a5\")) {                    Plotly.newPlot(                        \"53a1cd3b-87a2-4f29-acad-d8da202674a5\",                        [{\"alignmentgroup\":\"True\",\"hovertemplate\":\"sepal_width=%{x}\\u003cbr\\u003esepal_length=%{y}\\u003cextra\\u003e\\u003c\\u002fextra\\u003e\",\"legendgroup\":\"\",\"marker\":{\"color\":\"#636efa\",\"pattern\":{\"shape\":\"\"}},\"name\":\"\",\"offsetgroup\":\"\",\"orientation\":\"v\",\"showlegend\":false,\"textposition\":\"auto\",\"x\":[3.5,3.0,3.2,3.1,3.6,3.9,3.4,3.4,2.9,3.1,3.7,3.4,3.0,3.0,4.0,4.4,3.9,3.5,3.8,3.8,3.4,3.7,3.6,3.3,3.4,3.0,3.4,3.5,3.4,3.2,3.1,3.4,4.1,4.2,3.1,3.2,3.5,3.1,3.0,3.4,3.5,2.3,3.2,3.5,3.8,3.0,3.8,3.2,3.7,3.3,3.2,3.2,3.1,2.3,2.8,2.8,3.3,2.4,2.9,2.7,2.0,3.0,2.2,2.9,2.9,3.1,3.0,2.7,2.2,2.5,3.2,2.8,2.5,2.8,2.9,3.0,2.8,3.0,2.9,2.6,2.4,2.4,2.7,2.7,3.0,3.4,3.1,2.3,3.0,2.5,2.6,3.0,2.6,2.3,2.7,3.0,2.9,2.9,2.5,2.8,3.3,2.7,3.0,2.9,3.0,3.0,2.5,2.9,2.5,3.6,3.2,2.7,3.0,2.5,2.8,3.2,3.0,3.8,2.6,2.2,3.2,2.8,2.8,2.7,3.3,3.2,2.8,3.0,2.8,3.0,2.8,3.8,2.8,2.8,2.6,3.0,3.4,3.1,3.0,3.1,3.1,3.1,2.7,3.2,3.3,3.0,2.5,3.0,3.4,3.0],\"xaxis\":\"x\",\"y\":[5.1,4.9,4.7,4.6,5.0,5.4,4.6,5.0,4.4,4.9,5.4,4.8,4.8,4.3,5.8,5.7,5.4,5.1,5.7,5.1,5.4,5.1,4.6,5.1,4.8,5.0,5.0,5.2,5.2,4.7,4.8,5.4,5.2,5.5,4.9,5.0,5.5,4.9,4.4,5.1,5.0,4.5,4.4,5.0,5.1,4.8,5.1,4.6,5.3,5.0,7.0,6.4,6.9,5.5,6.5,5.7,6.3,4.9,6.6,5.2,5.0,5.9,6.0,6.1,5.6,6.7,5.6,5.8,6.2,5.6,5.9,6.1,6.3,6.1,6.4,6.6,6.8,6.7,6.0,5.7,5.5,5.5,5.8,6.0,5.4,6.0,6.7,6.3,5.6,5.5,5.5,6.1,5.8,5.0,5.6,5.7,5.7,6.2,5.1,5.7,6.3,5.8,7.1,6.3,6.5,7.6,4.9,7.3,6.7,7.2,6.5,6.4,6.8,5.7,5.8,6.4,6.5,7.7,7.7,6.0,6.9,5.6,7.7,6.3,6.7,7.2,6.2,6.1,6.4,7.2,7.4,7.9,6.4,6.3,6.1,7.7,6.3,6.4,6.0,6.9,6.7,6.9,5.8,6.8,6.7,6.7,6.3,6.5,6.2,5.9],\"yaxis\":\"y\",\"type\":\"bar\"}],                        {\"template\":{\"data\":{\"histogram2dcontour\":[{\"type\":\"histogram2dcontour\",\"colorbar\":{\"outlinewidth\":0,\"ticks\":\"\"},\"colorscale\":[[0.0,\"#0d0887\"],[0.1111111111111111,\"#46039f\"],[0.2222222222222222,\"#7201a8\"],[0.3333333333333333,\"#9c179e\"],[0.4444444444444444,\"#bd3786\"],[0.5555555555555556,\"#d8576b\"],[0.6666666666666666,\"#ed7953\"],[0.7777777777777778,\"#fb9f3a\"],[0.8888888888888888,\"#fdca26\"],[1.0,\"#f0f921\"]]}],\"choropleth\":[{\"type\":\"choropleth\",\"colorbar\":{\"outlinewidth\":0,\"ticks\":\"\"}}],\"histogram2d\":[{\"type\":\"histogram2d\",\"colorbar\":{\"outlinewidth\":0,\"ticks\":\"\"},\"colorscale\":[[0.0,\"#0d0887\"],[0.1111111111111111,\"#46039f\"],[0.2222222222222222,\"#7201a8\"],[0.3333333333333333,\"#9c179e\"],[0.4444444444444444,\"#bd3786\"],[0.5555555555555556,\"#d8576b\"],[0.6666666666666666,\"#ed7953\"],[0.7777777777777778,\"#fb9f3a\"],[0.8888888888888888,\"#fdca26\"],[1.0,\"#f0f921\"]]}],\"heatmap\":[{\"type\":\"heatmap\",\"colorbar\":{\"outlinewidth\":0,\"ticks\":\"\"},\"colorscale\":[[0.0,\"#0d0887\"],[0.1111111111111111,\"#46039f\"],[0.2222222222222222,\"#7201a8\"],[0.3333333333333333,\"#9c179e\"],[0.4444444444444444,\"#bd3786\"],[0.5555555555555556,\"#d8576b\"],[0.6666666666666666,\"#ed7953\"],[0.7777777777777778,\"#fb9f3a\"],[0.8888888888888888,\"#fdca26\"],[1.0,\"#f0f921\"]]}],\"heatmapgl\":[{\"type\":\"heatmapgl\",\"colorbar\":{\"outlinewidth\":0,\"ticks\":\"\"},\"colorscale\":[[0.0,\"#0d0887\"],[0.1111111111111111,\"#46039f\"],[0.2222222222222222,\"#7201a8\"],[0.3333333333333333,\"#9c179e\"],[0.4444444444444444,\"#bd3786\"],[0.5555555555555556,\"#d8576b\"],[0.6666666666666666,\"#ed7953\"],[0.7777777777777778,\"#fb9f3a\"],[0.8888888888888888,\"#fdca26\"],[1.0,\"#f0f921\"]]}],\"contourcarpet\":[{\"type\":\"contourcarpet\",\"colorbar\":{\"outlinewidth\":0,\"ticks\":\"\"}}],\"contour\":[{\"type\":\"contour\",\"colorbar\":{\"outlinewidth\":0,\"ticks\":\"\"},\"colorscale\":[[0.0,\"#0d0887\"],[0.1111111111111111,\"#46039f\"],[0.2222222222222222,\"#7201a8\"],[0.3333333333333333,\"#9c179e\"],[0.4444444444444444,\"#bd3786\"],[0.5555555555555556,\"#d8576b\"],[0.6666666666666666,\"#ed7953\"],[0.7777777777777778,\"#fb9f3a\"],[0.8888888888888888,\"#fdca26\"],[1.0,\"#f0f921\"]]}],\"surface\":[{\"type\":\"surface\",\"colorbar\":{\"outlinewidth\":0,\"ticks\":\"\"},\"colorscale\":[[0.0,\"#0d0887\"],[0.1111111111111111,\"#46039f\"],[0.2222222222222222,\"#7201a8\"],[0.3333333333333333,\"#9c179e\"],[0.4444444444444444,\"#bd3786\"],[0.5555555555555556,\"#d8576b\"],[0.6666666666666666,\"#ed7953\"],[0.7777777777777778,\"#fb9f3a\"],[0.8888888888888888,\"#fdca26\"],[1.0,\"#f0f921\"]]}],\"mesh3d\":[{\"type\":\"mesh3d\",\"colorbar\":{\"outlinewidth\":0,\"ticks\":\"\"}}],\"scatter\":[{\"fillpattern\":{\"fillmode\":\"overlay\",\"size\":10,\"solidity\":0.2},\"type\":\"scatter\"}],\"parcoords\":[{\"type\":\"parcoords\",\"line\":{\"colorbar\":{\"outlinewidth\":0,\"ticks\":\"\"}}}],\"scatterpolargl\":[{\"type\":\"scatterpolargl\",\"marker\":{\"colorbar\":{\"outlinewidth\":0,\"ticks\":\"\"}}}],\"bar\":[{\"error_x\":{\"color\":\"#2a3f5f\"},\"error_y\":{\"color\":\"#2a3f5f\"},\"marker\":{\"line\":{\"color\":\"#E5ECF6\",\"width\":0.5},\"pattern\":{\"fillmode\":\"overlay\",\"size\":10,\"solidity\":0.2}},\"type\":\"bar\"}],\"scattergeo\":[{\"type\":\"scattergeo\",\"marker\":{\"colorbar\":{\"outlinewidth\":0,\"ticks\":\"\"}}}],\"scatterpolar\":[{\"type\":\"scatterpolar\",\"marker\":{\"colorbar\":{\"outlinewidth\":0,\"ticks\":\"\"}}}],\"histogram\":[{\"marker\":{\"pattern\":{\"fillmode\":\"overlay\",\"size\":10,\"solidity\":0.2}},\"type\":\"histogram\"}],\"scattergl\":[{\"type\":\"scattergl\",\"marker\":{\"colorbar\":{\"outlinewidth\":0,\"ticks\":\"\"}}}],\"scatter3d\":[{\"type\":\"scatter3d\",\"line\":{\"colorbar\":{\"outlinewidth\":0,\"ticks\":\"\"}},\"marker\":{\"colorbar\":{\"outlinewidth\":0,\"ticks\":\"\"}}}],\"scattermapbox\":[{\"type\":\"scattermapbox\",\"marker\":{\"colorbar\":{\"outlinewidth\":0,\"ticks\":\"\"}}}],\"scatterternary\":[{\"type\":\"scatterternary\",\"marker\":{\"colorbar\":{\"outlinewidth\":0,\"ticks\":\"\"}}}],\"scattercarpet\":[{\"type\":\"scattercarpet\",\"marker\":{\"colorbar\":{\"outlinewidth\":0,\"ticks\":\"\"}}}],\"carpet\":[{\"aaxis\":{\"endlinecolor\":\"#2a3f5f\",\"gridcolor\":\"white\",\"linecolor\":\"white\",\"minorgridcolor\":\"white\",\"startlinecolor\":\"#2a3f5f\"},\"baxis\":{\"endlinecolor\":\"#2a3f5f\",\"gridcolor\":\"white\",\"linecolor\":\"white\",\"minorgridcolor\":\"white\",\"startlinecolor\":\"#2a3f5f\"},\"type\":\"carpet\"}],\"table\":[{\"cells\":{\"fill\":{\"color\":\"#EBF0F8\"},\"line\":{\"color\":\"white\"}},\"header\":{\"fill\":{\"color\":\"#C8D4E3\"},\"line\":{\"color\":\"white\"}},\"type\":\"table\"}],\"barpolar\":[{\"marker\":{\"line\":{\"color\":\"#E5ECF6\",\"width\":0.5},\"pattern\":{\"fillmode\":\"overlay\",\"size\":10,\"solidity\":0.2}},\"type\":\"barpolar\"}],\"pie\":[{\"automargin\":true,\"type\":\"pie\"}]},\"layout\":{\"autotypenumbers\":\"strict\",\"colorway\":[\"#636efa\",\"#EF553B\",\"#00cc96\",\"#ab63fa\",\"#FFA15A\",\"#19d3f3\",\"#FF6692\",\"#B6E880\",\"#FF97FF\",\"#FECB52\"],\"font\":{\"color\":\"#2a3f5f\"},\"hovermode\":\"closest\",\"hoverlabel\":{\"align\":\"left\"},\"paper_bgcolor\":\"white\",\"plot_bgcolor\":\"#E5ECF6\",\"polar\":{\"bgcolor\":\"#E5ECF6\",\"angularaxis\":{\"gridcolor\":\"white\",\"linecolor\":\"white\",\"ticks\":\"\"},\"radialaxis\":{\"gridcolor\":\"white\",\"linecolor\":\"white\",\"ticks\":\"\"}},\"ternary\":{\"bgcolor\":\"#E5ECF6\",\"aaxis\":{\"gridcolor\":\"white\",\"linecolor\":\"white\",\"ticks\":\"\"},\"baxis\":{\"gridcolor\":\"white\",\"linecolor\":\"white\",\"ticks\":\"\"},\"caxis\":{\"gridcolor\":\"white\",\"linecolor\":\"white\",\"ticks\":\"\"}},\"coloraxis\":{\"colorbar\":{\"outlinewidth\":0,\"ticks\":\"\"}},\"colorscale\":{\"sequential\":[[0.0,\"#0d0887\"],[0.1111111111111111,\"#46039f\"],[0.2222222222222222,\"#7201a8\"],[0.3333333333333333,\"#9c179e\"],[0.4444444444444444,\"#bd3786\"],[0.5555555555555556,\"#d8576b\"],[0.6666666666666666,\"#ed7953\"],[0.7777777777777778,\"#fb9f3a\"],[0.8888888888888888,\"#fdca26\"],[1.0,\"#f0f921\"]],\"sequentialminus\":[[0.0,\"#0d0887\"],[0.1111111111111111,\"#46039f\"],[0.2222222222222222,\"#7201a8\"],[0.3333333333333333,\"#9c179e\"],[0.4444444444444444,\"#bd3786\"],[0.5555555555555556,\"#d8576b\"],[0.6666666666666666,\"#ed7953\"],[0.7777777777777778,\"#fb9f3a\"],[0.8888888888888888,\"#fdca26\"],[1.0,\"#f0f921\"]],\"diverging\":[[0,\"#8e0152\"],[0.1,\"#c51b7d\"],[0.2,\"#de77ae\"],[0.3,\"#f1b6da\"],[0.4,\"#fde0ef\"],[0.5,\"#f7f7f7\"],[0.6,\"#e6f5d0\"],[0.7,\"#b8e186\"],[0.8,\"#7fbc41\"],[0.9,\"#4d9221\"],[1,\"#276419\"]]},\"xaxis\":{\"gridcolor\":\"white\",\"linecolor\":\"white\",\"ticks\":\"\",\"title\":{\"standoff\":15},\"zerolinecolor\":\"white\",\"automargin\":true,\"zerolinewidth\":2},\"yaxis\":{\"gridcolor\":\"white\",\"linecolor\":\"white\",\"ticks\":\"\",\"title\":{\"standoff\":15},\"zerolinecolor\":\"white\",\"automargin\":true,\"zerolinewidth\":2},\"scene\":{\"xaxis\":{\"backgroundcolor\":\"#E5ECF6\",\"gridcolor\":\"white\",\"linecolor\":\"white\",\"showbackground\":true,\"ticks\":\"\",\"zerolinecolor\":\"white\",\"gridwidth\":2},\"yaxis\":{\"backgroundcolor\":\"#E5ECF6\",\"gridcolor\":\"white\",\"linecolor\":\"white\",\"showbackground\":true,\"ticks\":\"\",\"zerolinecolor\":\"white\",\"gridwidth\":2},\"zaxis\":{\"backgroundcolor\":\"#E5ECF6\",\"gridcolor\":\"white\",\"linecolor\":\"white\",\"showbackground\":true,\"ticks\":\"\",\"zerolinecolor\":\"white\",\"gridwidth\":2}},\"shapedefaults\":{\"line\":{\"color\":\"#2a3f5f\"}},\"annotationdefaults\":{\"arrowcolor\":\"#2a3f5f\",\"arrowhead\":0,\"arrowwidth\":1},\"geo\":{\"bgcolor\":\"white\",\"landcolor\":\"#E5ECF6\",\"subunitcolor\":\"white\",\"showland\":true,\"showlakes\":true,\"lakecolor\":\"white\"},\"title\":{\"x\":0.05},\"mapbox\":{\"style\":\"light\"}}},\"xaxis\":{\"anchor\":\"y\",\"domain\":[0.0,1.0],\"title\":{\"text\":\"sepal_width\"}},\"yaxis\":{\"anchor\":\"x\",\"domain\":[0.0,1.0],\"title\":{\"text\":\"sepal_length\"}},\"legend\":{\"tracegroupgap\":0},\"margin\":{\"t\":60},\"barmode\":\"relative\"},                        {\"responsive\": true}                    ).then(function(){\n",
       "                            \n",
       "var gd = document.getElementById('53a1cd3b-87a2-4f29-acad-d8da202674a5');\n",
       "var x = new MutationObserver(function (mutations, observer) {{\n",
       "        var display = window.getComputedStyle(gd).display;\n",
       "        if (!display || display === 'none') {{\n",
       "            console.log([gd, 'removed!']);\n",
       "            Plotly.purge(gd);\n",
       "            observer.disconnect();\n",
       "        }}\n",
       "}});\n",
       "\n",
       "// Listen for the removal of the full notebook cells\n",
       "var notebookContainer = gd.closest('#notebook-container');\n",
       "if (notebookContainer) {{\n",
       "    x.observe(notebookContainer, {childList: true});\n",
       "}}\n",
       "\n",
       "// Listen for the clearing of the current output cell\n",
       "var outputEl = gd.closest('.output');\n",
       "if (outputEl) {{\n",
       "    x.observe(outputEl, {childList: true});\n",
       "}}\n",
       "\n",
       "                        })                };                            </script>        </div>\n",
       "</body>\n",
       "</html>"
      ]
     },
     "metadata": {},
     "output_type": "display_data"
    }
   ],
   "source": [
    "import plotly.express as px\n",
    "\n",
    "# using the iris dataset\n",
    "df = px.data.iris()\n",
    "\n",
    "# plotting the bar chart\n",
    "fig = px.bar(df, x=\"sepal_width\", y=\"sepal_length\")\n",
    "\n",
    "# showing the plot\n",
    "fig.show()"
   ]
  },
  {
   "cell_type": "markdown",
   "metadata": {},
   "source": [
    "Pie Chart"
   ]
  },
  {
   "cell_type": "code",
   "execution_count": null,
   "metadata": {},
   "outputs": [
    {
     "data": {
      "text/html": [
       "<html>\n",
       "<head><meta charset=\"utf-8\" /></head>\n",
       "<body>\n",
       "    <div>            <script src=\"https://cdnjs.cloudflare.com/ajax/libs/mathjax/2.7.5/MathJax.js?config=TeX-AMS-MML_SVG\"></script><script type=\"text/javascript\">if (window.MathJax && window.MathJax.Hub && window.MathJax.Hub.Config) {window.MathJax.Hub.Config({SVG: {font: \"STIX-Web\"}});}</script>                <script type=\"text/javascript\">window.PlotlyConfig = {MathJaxConfig: 'local'};</script>\n",
       "        <script charset=\"utf-8\" src=\"https://cdn.plot.ly/plotly-2.24.1.min.js\"></script>                <div id=\"e1d25741-a1fe-48ca-8986-78787174e33c\" class=\"plotly-graph-div\" style=\"height:525px; width:100%;\"></div>            <script type=\"text/javascript\">                                    window.PLOTLYENV=window.PLOTLYENV || {};                                    if (document.getElementById(\"e1d25741-a1fe-48ca-8986-78787174e33c\")) {                    Plotly.newPlot(                        \"e1d25741-a1fe-48ca-8986-78787174e33c\",                        [{\"domain\":{\"x\":[0.0,1.0],\"y\":[0.0,1.0]},\"hovertemplate\":\"day=%{label}\\u003cbr\\u003etotal_bill=%{value}\\u003cextra\\u003e\\u003c\\u002fextra\\u003e\",\"labels\":[\"Sun\",\"Sun\",\"Sun\",\"Sun\",\"Sun\",\"Sun\",\"Sun\",\"Sun\",\"Sun\",\"Sun\",\"Sun\",\"Sun\",\"Sun\",\"Sun\",\"Sun\",\"Sun\",\"Sun\",\"Sun\",\"Sun\",\"Sat\",\"Sat\",\"Sat\",\"Sat\",\"Sat\",\"Sat\",\"Sat\",\"Sat\",\"Sat\",\"Sat\",\"Sat\",\"Sat\",\"Sat\",\"Sat\",\"Sat\",\"Sat\",\"Sat\",\"Sat\",\"Sat\",\"Sat\",\"Sat\",\"Sat\",\"Sun\",\"Sun\",\"Sun\",\"Sun\",\"Sun\",\"Sun\",\"Sun\",\"Sun\",\"Sun\",\"Sun\",\"Sun\",\"Sun\",\"Sun\",\"Sun\",\"Sun\",\"Sat\",\"Sat\",\"Sat\",\"Sat\",\"Sat\",\"Sat\",\"Sat\",\"Sat\",\"Sat\",\"Sat\",\"Sat\",\"Sat\",\"Sat\",\"Sat\",\"Sat\",\"Sat\",\"Sat\",\"Sat\",\"Sat\",\"Sat\",\"Sat\",\"Thur\",\"Thur\",\"Thur\",\"Thur\",\"Thur\",\"Thur\",\"Thur\",\"Thur\",\"Thur\",\"Thur\",\"Thur\",\"Thur\",\"Thur\",\"Fri\",\"Fri\",\"Fri\",\"Fri\",\"Fri\",\"Fri\",\"Fri\",\"Fri\",\"Fri\",\"Fri\",\"Fri\",\"Fri\",\"Sat\",\"Sat\",\"Sat\",\"Sat\",\"Sat\",\"Sat\",\"Sat\",\"Sat\",\"Sat\",\"Sat\",\"Sun\",\"Sun\",\"Sun\",\"Sun\",\"Sun\",\"Thur\",\"Thur\",\"Thur\",\"Thur\",\"Thur\",\"Thur\",\"Thur\",\"Thur\",\"Thur\",\"Thur\",\"Thur\",\"Thur\",\"Thur\",\"Thur\",\"Thur\",\"Thur\",\"Thur\",\"Thur\",\"Thur\",\"Thur\",\"Thur\",\"Thur\",\"Thur\",\"Thur\",\"Thur\",\"Thur\",\"Thur\",\"Thur\",\"Thur\",\"Thur\",\"Thur\",\"Thur\",\"Thur\",\"Sun\",\"Sun\",\"Sun\",\"Sun\",\"Sun\",\"Sun\",\"Sun\",\"Sun\",\"Sun\",\"Sun\",\"Sun\",\"Sun\",\"Sun\",\"Sun\",\"Sun\",\"Sun\",\"Sun\",\"Sun\",\"Sat\",\"Sat\",\"Sat\",\"Sat\",\"Sun\",\"Sun\",\"Sun\",\"Sun\",\"Sun\",\"Sun\",\"Sun\",\"Sun\",\"Sun\",\"Sun\",\"Sun\",\"Sun\",\"Sun\",\"Sun\",\"Sun\",\"Sun\",\"Sun\",\"Sun\",\"Sun\",\"Thur\",\"Thur\",\"Thur\",\"Thur\",\"Thur\",\"Thur\",\"Thur\",\"Thur\",\"Thur\",\"Thur\",\"Thur\",\"Thur\",\"Thur\",\"Thur\",\"Thur\",\"Sat\",\"Sat\",\"Sat\",\"Sat\",\"Sat\",\"Sat\",\"Sat\",\"Sat\",\"Sat\",\"Sat\",\"Sat\",\"Sat\",\"Sat\",\"Sat\",\"Fri\",\"Fri\",\"Fri\",\"Fri\",\"Fri\",\"Fri\",\"Fri\",\"Sat\",\"Sat\",\"Sat\",\"Sat\",\"Sat\",\"Sat\",\"Sat\",\"Sat\",\"Sat\",\"Sat\",\"Sat\",\"Sat\",\"Sat\",\"Sat\",\"Sat\",\"Sat\",\"Thur\"],\"legendgroup\":\"\",\"name\":\"\",\"showlegend\":true,\"values\":[16.99,10.34,21.01,23.68,24.59,25.29,8.77,26.88,15.04,14.78,10.27,35.26,15.42,18.43,14.83,21.58,10.33,16.29,16.97,20.65,17.92,20.29,15.77,39.42,19.82,17.81,13.37,12.69,21.7,19.65,9.55,18.35,15.06,20.69,17.78,24.06,16.31,16.93,18.69,31.27,16.04,17.46,13.94,9.68,30.4,18.29,22.23,32.4,28.55,18.04,12.54,10.29,34.81,9.94,25.56,19.49,38.01,26.41,11.24,48.27,20.29,13.81,11.02,18.29,17.59,20.08,16.45,3.07,20.23,15.01,12.02,17.07,26.86,25.28,14.73,10.51,17.92,27.2,22.76,17.29,19.44,16.66,10.07,32.68,15.98,34.83,13.03,18.28,24.71,21.16,28.97,22.49,5.75,16.32,22.75,40.17,27.28,12.03,21.01,12.46,11.35,15.38,44.3,22.42,20.92,15.36,20.49,25.21,18.24,14.31,14.0,7.25,38.07,23.95,25.71,17.31,29.93,10.65,12.43,24.08,11.69,13.42,14.26,15.95,12.48,29.8,8.52,14.52,11.38,22.82,19.08,20.27,11.17,12.26,18.26,8.51,10.33,14.15,16.0,13.16,17.47,34.3,41.19,27.05,16.43,8.35,18.64,11.87,9.78,7.51,14.07,13.13,17.26,24.55,19.77,29.85,48.17,25.0,13.39,16.49,21.5,12.66,16.21,13.81,17.51,24.52,20.76,31.71,10.59,10.63,50.81,15.81,7.25,31.85,16.82,32.9,17.89,14.48,9.6,34.63,34.65,23.33,45.35,23.17,40.55,20.69,20.9,30.46,18.15,23.1,15.69,19.81,28.44,15.48,16.58,7.56,10.34,43.11,13.0,13.51,18.71,12.74,13.0,16.4,20.53,16.47,26.59,38.73,24.27,12.76,30.06,25.89,48.33,13.27,28.17,12.9,28.15,11.59,7.74,30.14,12.16,13.42,8.58,15.98,13.42,16.27,10.09,20.45,13.28,22.12,24.01,15.69,11.61,10.77,15.53,10.07,12.6,32.83,35.83,29.03,27.18,22.67,17.82,18.78],\"type\":\"pie\"}],                        {\"template\":{\"data\":{\"histogram2dcontour\":[{\"type\":\"histogram2dcontour\",\"colorbar\":{\"outlinewidth\":0,\"ticks\":\"\"},\"colorscale\":[[0.0,\"#0d0887\"],[0.1111111111111111,\"#46039f\"],[0.2222222222222222,\"#7201a8\"],[0.3333333333333333,\"#9c179e\"],[0.4444444444444444,\"#bd3786\"],[0.5555555555555556,\"#d8576b\"],[0.6666666666666666,\"#ed7953\"],[0.7777777777777778,\"#fb9f3a\"],[0.8888888888888888,\"#fdca26\"],[1.0,\"#f0f921\"]]}],\"choropleth\":[{\"type\":\"choropleth\",\"colorbar\":{\"outlinewidth\":0,\"ticks\":\"\"}}],\"histogram2d\":[{\"type\":\"histogram2d\",\"colorbar\":{\"outlinewidth\":0,\"ticks\":\"\"},\"colorscale\":[[0.0,\"#0d0887\"],[0.1111111111111111,\"#46039f\"],[0.2222222222222222,\"#7201a8\"],[0.3333333333333333,\"#9c179e\"],[0.4444444444444444,\"#bd3786\"],[0.5555555555555556,\"#d8576b\"],[0.6666666666666666,\"#ed7953\"],[0.7777777777777778,\"#fb9f3a\"],[0.8888888888888888,\"#fdca26\"],[1.0,\"#f0f921\"]]}],\"heatmap\":[{\"type\":\"heatmap\",\"colorbar\":{\"outlinewidth\":0,\"ticks\":\"\"},\"colorscale\":[[0.0,\"#0d0887\"],[0.1111111111111111,\"#46039f\"],[0.2222222222222222,\"#7201a8\"],[0.3333333333333333,\"#9c179e\"],[0.4444444444444444,\"#bd3786\"],[0.5555555555555556,\"#d8576b\"],[0.6666666666666666,\"#ed7953\"],[0.7777777777777778,\"#fb9f3a\"],[0.8888888888888888,\"#fdca26\"],[1.0,\"#f0f921\"]]}],\"heatmapgl\":[{\"type\":\"heatmapgl\",\"colorbar\":{\"outlinewidth\":0,\"ticks\":\"\"},\"colorscale\":[[0.0,\"#0d0887\"],[0.1111111111111111,\"#46039f\"],[0.2222222222222222,\"#7201a8\"],[0.3333333333333333,\"#9c179e\"],[0.4444444444444444,\"#bd3786\"],[0.5555555555555556,\"#d8576b\"],[0.6666666666666666,\"#ed7953\"],[0.7777777777777778,\"#fb9f3a\"],[0.8888888888888888,\"#fdca26\"],[1.0,\"#f0f921\"]]}],\"contourcarpet\":[{\"type\":\"contourcarpet\",\"colorbar\":{\"outlinewidth\":0,\"ticks\":\"\"}}],\"contour\":[{\"type\":\"contour\",\"colorbar\":{\"outlinewidth\":0,\"ticks\":\"\"},\"colorscale\":[[0.0,\"#0d0887\"],[0.1111111111111111,\"#46039f\"],[0.2222222222222222,\"#7201a8\"],[0.3333333333333333,\"#9c179e\"],[0.4444444444444444,\"#bd3786\"],[0.5555555555555556,\"#d8576b\"],[0.6666666666666666,\"#ed7953\"],[0.7777777777777778,\"#fb9f3a\"],[0.8888888888888888,\"#fdca26\"],[1.0,\"#f0f921\"]]}],\"surface\":[{\"type\":\"surface\",\"colorbar\":{\"outlinewidth\":0,\"ticks\":\"\"},\"colorscale\":[[0.0,\"#0d0887\"],[0.1111111111111111,\"#46039f\"],[0.2222222222222222,\"#7201a8\"],[0.3333333333333333,\"#9c179e\"],[0.4444444444444444,\"#bd3786\"],[0.5555555555555556,\"#d8576b\"],[0.6666666666666666,\"#ed7953\"],[0.7777777777777778,\"#fb9f3a\"],[0.8888888888888888,\"#fdca26\"],[1.0,\"#f0f921\"]]}],\"mesh3d\":[{\"type\":\"mesh3d\",\"colorbar\":{\"outlinewidth\":0,\"ticks\":\"\"}}],\"scatter\":[{\"fillpattern\":{\"fillmode\":\"overlay\",\"size\":10,\"solidity\":0.2},\"type\":\"scatter\"}],\"parcoords\":[{\"type\":\"parcoords\",\"line\":{\"colorbar\":{\"outlinewidth\":0,\"ticks\":\"\"}}}],\"scatterpolargl\":[{\"type\":\"scatterpolargl\",\"marker\":{\"colorbar\":{\"outlinewidth\":0,\"ticks\":\"\"}}}],\"bar\":[{\"error_x\":{\"color\":\"#2a3f5f\"},\"error_y\":{\"color\":\"#2a3f5f\"},\"marker\":{\"line\":{\"color\":\"#E5ECF6\",\"width\":0.5},\"pattern\":{\"fillmode\":\"overlay\",\"size\":10,\"solidity\":0.2}},\"type\":\"bar\"}],\"scattergeo\":[{\"type\":\"scattergeo\",\"marker\":{\"colorbar\":{\"outlinewidth\":0,\"ticks\":\"\"}}}],\"scatterpolar\":[{\"type\":\"scatterpolar\",\"marker\":{\"colorbar\":{\"outlinewidth\":0,\"ticks\":\"\"}}}],\"histogram\":[{\"marker\":{\"pattern\":{\"fillmode\":\"overlay\",\"size\":10,\"solidity\":0.2}},\"type\":\"histogram\"}],\"scattergl\":[{\"type\":\"scattergl\",\"marker\":{\"colorbar\":{\"outlinewidth\":0,\"ticks\":\"\"}}}],\"scatter3d\":[{\"type\":\"scatter3d\",\"line\":{\"colorbar\":{\"outlinewidth\":0,\"ticks\":\"\"}},\"marker\":{\"colorbar\":{\"outlinewidth\":0,\"ticks\":\"\"}}}],\"scattermapbox\":[{\"type\":\"scattermapbox\",\"marker\":{\"colorbar\":{\"outlinewidth\":0,\"ticks\":\"\"}}}],\"scatterternary\":[{\"type\":\"scatterternary\",\"marker\":{\"colorbar\":{\"outlinewidth\":0,\"ticks\":\"\"}}}],\"scattercarpet\":[{\"type\":\"scattercarpet\",\"marker\":{\"colorbar\":{\"outlinewidth\":0,\"ticks\":\"\"}}}],\"carpet\":[{\"aaxis\":{\"endlinecolor\":\"#2a3f5f\",\"gridcolor\":\"white\",\"linecolor\":\"white\",\"minorgridcolor\":\"white\",\"startlinecolor\":\"#2a3f5f\"},\"baxis\":{\"endlinecolor\":\"#2a3f5f\",\"gridcolor\":\"white\",\"linecolor\":\"white\",\"minorgridcolor\":\"white\",\"startlinecolor\":\"#2a3f5f\"},\"type\":\"carpet\"}],\"table\":[{\"cells\":{\"fill\":{\"color\":\"#EBF0F8\"},\"line\":{\"color\":\"white\"}},\"header\":{\"fill\":{\"color\":\"#C8D4E3\"},\"line\":{\"color\":\"white\"}},\"type\":\"table\"}],\"barpolar\":[{\"marker\":{\"line\":{\"color\":\"#E5ECF6\",\"width\":0.5},\"pattern\":{\"fillmode\":\"overlay\",\"size\":10,\"solidity\":0.2}},\"type\":\"barpolar\"}],\"pie\":[{\"automargin\":true,\"type\":\"pie\"}]},\"layout\":{\"autotypenumbers\":\"strict\",\"colorway\":[\"#636efa\",\"#EF553B\",\"#00cc96\",\"#ab63fa\",\"#FFA15A\",\"#19d3f3\",\"#FF6692\",\"#B6E880\",\"#FF97FF\",\"#FECB52\"],\"font\":{\"color\":\"#2a3f5f\"},\"hovermode\":\"closest\",\"hoverlabel\":{\"align\":\"left\"},\"paper_bgcolor\":\"white\",\"plot_bgcolor\":\"#E5ECF6\",\"polar\":{\"bgcolor\":\"#E5ECF6\",\"angularaxis\":{\"gridcolor\":\"white\",\"linecolor\":\"white\",\"ticks\":\"\"},\"radialaxis\":{\"gridcolor\":\"white\",\"linecolor\":\"white\",\"ticks\":\"\"}},\"ternary\":{\"bgcolor\":\"#E5ECF6\",\"aaxis\":{\"gridcolor\":\"white\",\"linecolor\":\"white\",\"ticks\":\"\"},\"baxis\":{\"gridcolor\":\"white\",\"linecolor\":\"white\",\"ticks\":\"\"},\"caxis\":{\"gridcolor\":\"white\",\"linecolor\":\"white\",\"ticks\":\"\"}},\"coloraxis\":{\"colorbar\":{\"outlinewidth\":0,\"ticks\":\"\"}},\"colorscale\":{\"sequential\":[[0.0,\"#0d0887\"],[0.1111111111111111,\"#46039f\"],[0.2222222222222222,\"#7201a8\"],[0.3333333333333333,\"#9c179e\"],[0.4444444444444444,\"#bd3786\"],[0.5555555555555556,\"#d8576b\"],[0.6666666666666666,\"#ed7953\"],[0.7777777777777778,\"#fb9f3a\"],[0.8888888888888888,\"#fdca26\"],[1.0,\"#f0f921\"]],\"sequentialminus\":[[0.0,\"#0d0887\"],[0.1111111111111111,\"#46039f\"],[0.2222222222222222,\"#7201a8\"],[0.3333333333333333,\"#9c179e\"],[0.4444444444444444,\"#bd3786\"],[0.5555555555555556,\"#d8576b\"],[0.6666666666666666,\"#ed7953\"],[0.7777777777777778,\"#fb9f3a\"],[0.8888888888888888,\"#fdca26\"],[1.0,\"#f0f921\"]],\"diverging\":[[0,\"#8e0152\"],[0.1,\"#c51b7d\"],[0.2,\"#de77ae\"],[0.3,\"#f1b6da\"],[0.4,\"#fde0ef\"],[0.5,\"#f7f7f7\"],[0.6,\"#e6f5d0\"],[0.7,\"#b8e186\"],[0.8,\"#7fbc41\"],[0.9,\"#4d9221\"],[1,\"#276419\"]]},\"xaxis\":{\"gridcolor\":\"white\",\"linecolor\":\"white\",\"ticks\":\"\",\"title\":{\"standoff\":15},\"zerolinecolor\":\"white\",\"automargin\":true,\"zerolinewidth\":2},\"yaxis\":{\"gridcolor\":\"white\",\"linecolor\":\"white\",\"ticks\":\"\",\"title\":{\"standoff\":15},\"zerolinecolor\":\"white\",\"automargin\":true,\"zerolinewidth\":2},\"scene\":{\"xaxis\":{\"backgroundcolor\":\"#E5ECF6\",\"gridcolor\":\"white\",\"linecolor\":\"white\",\"showbackground\":true,\"ticks\":\"\",\"zerolinecolor\":\"white\",\"gridwidth\":2},\"yaxis\":{\"backgroundcolor\":\"#E5ECF6\",\"gridcolor\":\"white\",\"linecolor\":\"white\",\"showbackground\":true,\"ticks\":\"\",\"zerolinecolor\":\"white\",\"gridwidth\":2},\"zaxis\":{\"backgroundcolor\":\"#E5ECF6\",\"gridcolor\":\"white\",\"linecolor\":\"white\",\"showbackground\":true,\"ticks\":\"\",\"zerolinecolor\":\"white\",\"gridwidth\":2}},\"shapedefaults\":{\"line\":{\"color\":\"#2a3f5f\"}},\"annotationdefaults\":{\"arrowcolor\":\"#2a3f5f\",\"arrowhead\":0,\"arrowwidth\":1},\"geo\":{\"bgcolor\":\"white\",\"landcolor\":\"#E5ECF6\",\"subunitcolor\":\"white\",\"showland\":true,\"showlakes\":true,\"lakecolor\":\"white\"},\"title\":{\"x\":0.05},\"mapbox\":{\"style\":\"light\"}}},\"legend\":{\"tracegroupgap\":0},\"margin\":{\"t\":60}},                        {\"responsive\": true}                    ).then(function(){\n",
       "                            \n",
       "var gd = document.getElementById('e1d25741-a1fe-48ca-8986-78787174e33c');\n",
       "var x = new MutationObserver(function (mutations, observer) {{\n",
       "        var display = window.getComputedStyle(gd).display;\n",
       "        if (!display || display === 'none') {{\n",
       "            console.log([gd, 'removed!']);\n",
       "            Plotly.purge(gd);\n",
       "            observer.disconnect();\n",
       "        }}\n",
       "}});\n",
       "\n",
       "// Listen for the removal of the full notebook cells\n",
       "var notebookContainer = gd.closest('#notebook-container');\n",
       "if (notebookContainer) {{\n",
       "    x.observe(notebookContainer, {childList: true});\n",
       "}}\n",
       "\n",
       "// Listen for the clearing of the current output cell\n",
       "var outputEl = gd.closest('.output');\n",
       "if (outputEl) {{\n",
       "    x.observe(outputEl, {childList: true});\n",
       "}}\n",
       "\n",
       "                        })                };                            </script>        </div>\n",
       "</body>\n",
       "</html>"
      ]
     },
     "metadata": {},
     "output_type": "display_data"
    }
   ],
   "source": [
    "import plotly.express as px\n",
    "\n",
    "# using the tips dataset\n",
    "df = px.data.tips()\n",
    "\n",
    "# plotting the pie chart\n",
    "fig = px.pie(df, values=\"total_bill\", names=\"day\")\n",
    "\n",
    "# showing the plot\n",
    "fig.show()"
   ]
  },
  {
   "cell_type": "markdown",
   "metadata": {},
   "source": [
    "Violin Chart"
   ]
  },
  {
   "cell_type": "code",
   "execution_count": null,
   "metadata": {},
   "outputs": [
    {
     "data": {
      "text/html": [
       "<html>\n",
       "<head><meta charset=\"utf-8\" /></head>\n",
       "<body>\n",
       "    <div>            <script src=\"https://cdnjs.cloudflare.com/ajax/libs/mathjax/2.7.5/MathJax.js?config=TeX-AMS-MML_SVG\"></script><script type=\"text/javascript\">if (window.MathJax && window.MathJax.Hub && window.MathJax.Hub.Config) {window.MathJax.Hub.Config({SVG: {font: \"STIX-Web\"}});}</script>                <script type=\"text/javascript\">window.PlotlyConfig = {MathJaxConfig: 'local'};</script>\n",
       "        <script charset=\"utf-8\" src=\"https://cdn.plot.ly/plotly-2.24.1.min.js\"></script>                <div id=\"04c01622-7752-4c03-a31c-d3ee18661b31\" class=\"plotly-graph-div\" style=\"height:525px; width:100%;\"></div>            <script type=\"text/javascript\">                                    window.PLOTLYENV=window.PLOTLYENV || {};                                    if (document.getElementById(\"04c01622-7752-4c03-a31c-d3ee18661b31\")) {                    Plotly.newPlot(                        \"04c01622-7752-4c03-a31c-d3ee18661b31\",                        [{\"alignmentgroup\":\"True\",\"box\":{\"visible\":false},\"hovertemplate\":\"day=%{x}\\u003cbr\\u003etotal_bill=%{y}\\u003cextra\\u003e\\u003c\\u002fextra\\u003e\",\"legendgroup\":\"\",\"marker\":{\"color\":\"#636efa\"},\"name\":\"\",\"offsetgroup\":\"\",\"orientation\":\"v\",\"scalegroup\":\"True\",\"showlegend\":false,\"x\":[\"Sun\",\"Sun\",\"Sun\",\"Sun\",\"Sun\",\"Sun\",\"Sun\",\"Sun\",\"Sun\",\"Sun\",\"Sun\",\"Sun\",\"Sun\",\"Sun\",\"Sun\",\"Sun\",\"Sun\",\"Sun\",\"Sun\",\"Sat\",\"Sat\",\"Sat\",\"Sat\",\"Sat\",\"Sat\",\"Sat\",\"Sat\",\"Sat\",\"Sat\",\"Sat\",\"Sat\",\"Sat\",\"Sat\",\"Sat\",\"Sat\",\"Sat\",\"Sat\",\"Sat\",\"Sat\",\"Sat\",\"Sat\",\"Sun\",\"Sun\",\"Sun\",\"Sun\",\"Sun\",\"Sun\",\"Sun\",\"Sun\",\"Sun\",\"Sun\",\"Sun\",\"Sun\",\"Sun\",\"Sun\",\"Sun\",\"Sat\",\"Sat\",\"Sat\",\"Sat\",\"Sat\",\"Sat\",\"Sat\",\"Sat\",\"Sat\",\"Sat\",\"Sat\",\"Sat\",\"Sat\",\"Sat\",\"Sat\",\"Sat\",\"Sat\",\"Sat\",\"Sat\",\"Sat\",\"Sat\",\"Thur\",\"Thur\",\"Thur\",\"Thur\",\"Thur\",\"Thur\",\"Thur\",\"Thur\",\"Thur\",\"Thur\",\"Thur\",\"Thur\",\"Thur\",\"Fri\",\"Fri\",\"Fri\",\"Fri\",\"Fri\",\"Fri\",\"Fri\",\"Fri\",\"Fri\",\"Fri\",\"Fri\",\"Fri\",\"Sat\",\"Sat\",\"Sat\",\"Sat\",\"Sat\",\"Sat\",\"Sat\",\"Sat\",\"Sat\",\"Sat\",\"Sun\",\"Sun\",\"Sun\",\"Sun\",\"Sun\",\"Thur\",\"Thur\",\"Thur\",\"Thur\",\"Thur\",\"Thur\",\"Thur\",\"Thur\",\"Thur\",\"Thur\",\"Thur\",\"Thur\",\"Thur\",\"Thur\",\"Thur\",\"Thur\",\"Thur\",\"Thur\",\"Thur\",\"Thur\",\"Thur\",\"Thur\",\"Thur\",\"Thur\",\"Thur\",\"Thur\",\"Thur\",\"Thur\",\"Thur\",\"Thur\",\"Thur\",\"Thur\",\"Thur\",\"Sun\",\"Sun\",\"Sun\",\"Sun\",\"Sun\",\"Sun\",\"Sun\",\"Sun\",\"Sun\",\"Sun\",\"Sun\",\"Sun\",\"Sun\",\"Sun\",\"Sun\",\"Sun\",\"Sun\",\"Sun\",\"Sat\",\"Sat\",\"Sat\",\"Sat\",\"Sun\",\"Sun\",\"Sun\",\"Sun\",\"Sun\",\"Sun\",\"Sun\",\"Sun\",\"Sun\",\"Sun\",\"Sun\",\"Sun\",\"Sun\",\"Sun\",\"Sun\",\"Sun\",\"Sun\",\"Sun\",\"Sun\",\"Thur\",\"Thur\",\"Thur\",\"Thur\",\"Thur\",\"Thur\",\"Thur\",\"Thur\",\"Thur\",\"Thur\",\"Thur\",\"Thur\",\"Thur\",\"Thur\",\"Thur\",\"Sat\",\"Sat\",\"Sat\",\"Sat\",\"Sat\",\"Sat\",\"Sat\",\"Sat\",\"Sat\",\"Sat\",\"Sat\",\"Sat\",\"Sat\",\"Sat\",\"Fri\",\"Fri\",\"Fri\",\"Fri\",\"Fri\",\"Fri\",\"Fri\",\"Sat\",\"Sat\",\"Sat\",\"Sat\",\"Sat\",\"Sat\",\"Sat\",\"Sat\",\"Sat\",\"Sat\",\"Sat\",\"Sat\",\"Sat\",\"Sat\",\"Sat\",\"Sat\",\"Thur\"],\"x0\":\" \",\"xaxis\":\"x\",\"y\":[16.99,10.34,21.01,23.68,24.59,25.29,8.77,26.88,15.04,14.78,10.27,35.26,15.42,18.43,14.83,21.58,10.33,16.29,16.97,20.65,17.92,20.29,15.77,39.42,19.82,17.81,13.37,12.69,21.7,19.65,9.55,18.35,15.06,20.69,17.78,24.06,16.31,16.93,18.69,31.27,16.04,17.46,13.94,9.68,30.4,18.29,22.23,32.4,28.55,18.04,12.54,10.29,34.81,9.94,25.56,19.49,38.01,26.41,11.24,48.27,20.29,13.81,11.02,18.29,17.59,20.08,16.45,3.07,20.23,15.01,12.02,17.07,26.86,25.28,14.73,10.51,17.92,27.2,22.76,17.29,19.44,16.66,10.07,32.68,15.98,34.83,13.03,18.28,24.71,21.16,28.97,22.49,5.75,16.32,22.75,40.17,27.28,12.03,21.01,12.46,11.35,15.38,44.3,22.42,20.92,15.36,20.49,25.21,18.24,14.31,14.0,7.25,38.07,23.95,25.71,17.31,29.93,10.65,12.43,24.08,11.69,13.42,14.26,15.95,12.48,29.8,8.52,14.52,11.38,22.82,19.08,20.27,11.17,12.26,18.26,8.51,10.33,14.15,16.0,13.16,17.47,34.3,41.19,27.05,16.43,8.35,18.64,11.87,9.78,7.51,14.07,13.13,17.26,24.55,19.77,29.85,48.17,25.0,13.39,16.49,21.5,12.66,16.21,13.81,17.51,24.52,20.76,31.71,10.59,10.63,50.81,15.81,7.25,31.85,16.82,32.9,17.89,14.48,9.6,34.63,34.65,23.33,45.35,23.17,40.55,20.69,20.9,30.46,18.15,23.1,15.69,19.81,28.44,15.48,16.58,7.56,10.34,43.11,13.0,13.51,18.71,12.74,13.0,16.4,20.53,16.47,26.59,38.73,24.27,12.76,30.06,25.89,48.33,13.27,28.17,12.9,28.15,11.59,7.74,30.14,12.16,13.42,8.58,15.98,13.42,16.27,10.09,20.45,13.28,22.12,24.01,15.69,11.61,10.77,15.53,10.07,12.6,32.83,35.83,29.03,27.18,22.67,17.82,18.78],\"y0\":\" \",\"yaxis\":\"y\",\"type\":\"violin\"}],                        {\"template\":{\"data\":{\"histogram2dcontour\":[{\"type\":\"histogram2dcontour\",\"colorbar\":{\"outlinewidth\":0,\"ticks\":\"\"},\"colorscale\":[[0.0,\"#0d0887\"],[0.1111111111111111,\"#46039f\"],[0.2222222222222222,\"#7201a8\"],[0.3333333333333333,\"#9c179e\"],[0.4444444444444444,\"#bd3786\"],[0.5555555555555556,\"#d8576b\"],[0.6666666666666666,\"#ed7953\"],[0.7777777777777778,\"#fb9f3a\"],[0.8888888888888888,\"#fdca26\"],[1.0,\"#f0f921\"]]}],\"choropleth\":[{\"type\":\"choropleth\",\"colorbar\":{\"outlinewidth\":0,\"ticks\":\"\"}}],\"histogram2d\":[{\"type\":\"histogram2d\",\"colorbar\":{\"outlinewidth\":0,\"ticks\":\"\"},\"colorscale\":[[0.0,\"#0d0887\"],[0.1111111111111111,\"#46039f\"],[0.2222222222222222,\"#7201a8\"],[0.3333333333333333,\"#9c179e\"],[0.4444444444444444,\"#bd3786\"],[0.5555555555555556,\"#d8576b\"],[0.6666666666666666,\"#ed7953\"],[0.7777777777777778,\"#fb9f3a\"],[0.8888888888888888,\"#fdca26\"],[1.0,\"#f0f921\"]]}],\"heatmap\":[{\"type\":\"heatmap\",\"colorbar\":{\"outlinewidth\":0,\"ticks\":\"\"},\"colorscale\":[[0.0,\"#0d0887\"],[0.1111111111111111,\"#46039f\"],[0.2222222222222222,\"#7201a8\"],[0.3333333333333333,\"#9c179e\"],[0.4444444444444444,\"#bd3786\"],[0.5555555555555556,\"#d8576b\"],[0.6666666666666666,\"#ed7953\"],[0.7777777777777778,\"#fb9f3a\"],[0.8888888888888888,\"#fdca26\"],[1.0,\"#f0f921\"]]}],\"heatmapgl\":[{\"type\":\"heatmapgl\",\"colorbar\":{\"outlinewidth\":0,\"ticks\":\"\"},\"colorscale\":[[0.0,\"#0d0887\"],[0.1111111111111111,\"#46039f\"],[0.2222222222222222,\"#7201a8\"],[0.3333333333333333,\"#9c179e\"],[0.4444444444444444,\"#bd3786\"],[0.5555555555555556,\"#d8576b\"],[0.6666666666666666,\"#ed7953\"],[0.7777777777777778,\"#fb9f3a\"],[0.8888888888888888,\"#fdca26\"],[1.0,\"#f0f921\"]]}],\"contourcarpet\":[{\"type\":\"contourcarpet\",\"colorbar\":{\"outlinewidth\":0,\"ticks\":\"\"}}],\"contour\":[{\"type\":\"contour\",\"colorbar\":{\"outlinewidth\":0,\"ticks\":\"\"},\"colorscale\":[[0.0,\"#0d0887\"],[0.1111111111111111,\"#46039f\"],[0.2222222222222222,\"#7201a8\"],[0.3333333333333333,\"#9c179e\"],[0.4444444444444444,\"#bd3786\"],[0.5555555555555556,\"#d8576b\"],[0.6666666666666666,\"#ed7953\"],[0.7777777777777778,\"#fb9f3a\"],[0.8888888888888888,\"#fdca26\"],[1.0,\"#f0f921\"]]}],\"surface\":[{\"type\":\"surface\",\"colorbar\":{\"outlinewidth\":0,\"ticks\":\"\"},\"colorscale\":[[0.0,\"#0d0887\"],[0.1111111111111111,\"#46039f\"],[0.2222222222222222,\"#7201a8\"],[0.3333333333333333,\"#9c179e\"],[0.4444444444444444,\"#bd3786\"],[0.5555555555555556,\"#d8576b\"],[0.6666666666666666,\"#ed7953\"],[0.7777777777777778,\"#fb9f3a\"],[0.8888888888888888,\"#fdca26\"],[1.0,\"#f0f921\"]]}],\"mesh3d\":[{\"type\":\"mesh3d\",\"colorbar\":{\"outlinewidth\":0,\"ticks\":\"\"}}],\"scatter\":[{\"fillpattern\":{\"fillmode\":\"overlay\",\"size\":10,\"solidity\":0.2},\"type\":\"scatter\"}],\"parcoords\":[{\"type\":\"parcoords\",\"line\":{\"colorbar\":{\"outlinewidth\":0,\"ticks\":\"\"}}}],\"scatterpolargl\":[{\"type\":\"scatterpolargl\",\"marker\":{\"colorbar\":{\"outlinewidth\":0,\"ticks\":\"\"}}}],\"bar\":[{\"error_x\":{\"color\":\"#2a3f5f\"},\"error_y\":{\"color\":\"#2a3f5f\"},\"marker\":{\"line\":{\"color\":\"#E5ECF6\",\"width\":0.5},\"pattern\":{\"fillmode\":\"overlay\",\"size\":10,\"solidity\":0.2}},\"type\":\"bar\"}],\"scattergeo\":[{\"type\":\"scattergeo\",\"marker\":{\"colorbar\":{\"outlinewidth\":0,\"ticks\":\"\"}}}],\"scatterpolar\":[{\"type\":\"scatterpolar\",\"marker\":{\"colorbar\":{\"outlinewidth\":0,\"ticks\":\"\"}}}],\"histogram\":[{\"marker\":{\"pattern\":{\"fillmode\":\"overlay\",\"size\":10,\"solidity\":0.2}},\"type\":\"histogram\"}],\"scattergl\":[{\"type\":\"scattergl\",\"marker\":{\"colorbar\":{\"outlinewidth\":0,\"ticks\":\"\"}}}],\"scatter3d\":[{\"type\":\"scatter3d\",\"line\":{\"colorbar\":{\"outlinewidth\":0,\"ticks\":\"\"}},\"marker\":{\"colorbar\":{\"outlinewidth\":0,\"ticks\":\"\"}}}],\"scattermapbox\":[{\"type\":\"scattermapbox\",\"marker\":{\"colorbar\":{\"outlinewidth\":0,\"ticks\":\"\"}}}],\"scatterternary\":[{\"type\":\"scatterternary\",\"marker\":{\"colorbar\":{\"outlinewidth\":0,\"ticks\":\"\"}}}],\"scattercarpet\":[{\"type\":\"scattercarpet\",\"marker\":{\"colorbar\":{\"outlinewidth\":0,\"ticks\":\"\"}}}],\"carpet\":[{\"aaxis\":{\"endlinecolor\":\"#2a3f5f\",\"gridcolor\":\"white\",\"linecolor\":\"white\",\"minorgridcolor\":\"white\",\"startlinecolor\":\"#2a3f5f\"},\"baxis\":{\"endlinecolor\":\"#2a3f5f\",\"gridcolor\":\"white\",\"linecolor\":\"white\",\"minorgridcolor\":\"white\",\"startlinecolor\":\"#2a3f5f\"},\"type\":\"carpet\"}],\"table\":[{\"cells\":{\"fill\":{\"color\":\"#EBF0F8\"},\"line\":{\"color\":\"white\"}},\"header\":{\"fill\":{\"color\":\"#C8D4E3\"},\"line\":{\"color\":\"white\"}},\"type\":\"table\"}],\"barpolar\":[{\"marker\":{\"line\":{\"color\":\"#E5ECF6\",\"width\":0.5},\"pattern\":{\"fillmode\":\"overlay\",\"size\":10,\"solidity\":0.2}},\"type\":\"barpolar\"}],\"pie\":[{\"automargin\":true,\"type\":\"pie\"}]},\"layout\":{\"autotypenumbers\":\"strict\",\"colorway\":[\"#636efa\",\"#EF553B\",\"#00cc96\",\"#ab63fa\",\"#FFA15A\",\"#19d3f3\",\"#FF6692\",\"#B6E880\",\"#FF97FF\",\"#FECB52\"],\"font\":{\"color\":\"#2a3f5f\"},\"hovermode\":\"closest\",\"hoverlabel\":{\"align\":\"left\"},\"paper_bgcolor\":\"white\",\"plot_bgcolor\":\"#E5ECF6\",\"polar\":{\"bgcolor\":\"#E5ECF6\",\"angularaxis\":{\"gridcolor\":\"white\",\"linecolor\":\"white\",\"ticks\":\"\"},\"radialaxis\":{\"gridcolor\":\"white\",\"linecolor\":\"white\",\"ticks\":\"\"}},\"ternary\":{\"bgcolor\":\"#E5ECF6\",\"aaxis\":{\"gridcolor\":\"white\",\"linecolor\":\"white\",\"ticks\":\"\"},\"baxis\":{\"gridcolor\":\"white\",\"linecolor\":\"white\",\"ticks\":\"\"},\"caxis\":{\"gridcolor\":\"white\",\"linecolor\":\"white\",\"ticks\":\"\"}},\"coloraxis\":{\"colorbar\":{\"outlinewidth\":0,\"ticks\":\"\"}},\"colorscale\":{\"sequential\":[[0.0,\"#0d0887\"],[0.1111111111111111,\"#46039f\"],[0.2222222222222222,\"#7201a8\"],[0.3333333333333333,\"#9c179e\"],[0.4444444444444444,\"#bd3786\"],[0.5555555555555556,\"#d8576b\"],[0.6666666666666666,\"#ed7953\"],[0.7777777777777778,\"#fb9f3a\"],[0.8888888888888888,\"#fdca26\"],[1.0,\"#f0f921\"]],\"sequentialminus\":[[0.0,\"#0d0887\"],[0.1111111111111111,\"#46039f\"],[0.2222222222222222,\"#7201a8\"],[0.3333333333333333,\"#9c179e\"],[0.4444444444444444,\"#bd3786\"],[0.5555555555555556,\"#d8576b\"],[0.6666666666666666,\"#ed7953\"],[0.7777777777777778,\"#fb9f3a\"],[0.8888888888888888,\"#fdca26\"],[1.0,\"#f0f921\"]],\"diverging\":[[0,\"#8e0152\"],[0.1,\"#c51b7d\"],[0.2,\"#de77ae\"],[0.3,\"#f1b6da\"],[0.4,\"#fde0ef\"],[0.5,\"#f7f7f7\"],[0.6,\"#e6f5d0\"],[0.7,\"#b8e186\"],[0.8,\"#7fbc41\"],[0.9,\"#4d9221\"],[1,\"#276419\"]]},\"xaxis\":{\"gridcolor\":\"white\",\"linecolor\":\"white\",\"ticks\":\"\",\"title\":{\"standoff\":15},\"zerolinecolor\":\"white\",\"automargin\":true,\"zerolinewidth\":2},\"yaxis\":{\"gridcolor\":\"white\",\"linecolor\":\"white\",\"ticks\":\"\",\"title\":{\"standoff\":15},\"zerolinecolor\":\"white\",\"automargin\":true,\"zerolinewidth\":2},\"scene\":{\"xaxis\":{\"backgroundcolor\":\"#E5ECF6\",\"gridcolor\":\"white\",\"linecolor\":\"white\",\"showbackground\":true,\"ticks\":\"\",\"zerolinecolor\":\"white\",\"gridwidth\":2},\"yaxis\":{\"backgroundcolor\":\"#E5ECF6\",\"gridcolor\":\"white\",\"linecolor\":\"white\",\"showbackground\":true,\"ticks\":\"\",\"zerolinecolor\":\"white\",\"gridwidth\":2},\"zaxis\":{\"backgroundcolor\":\"#E5ECF6\",\"gridcolor\":\"white\",\"linecolor\":\"white\",\"showbackground\":true,\"ticks\":\"\",\"zerolinecolor\":\"white\",\"gridwidth\":2}},\"shapedefaults\":{\"line\":{\"color\":\"#2a3f5f\"}},\"annotationdefaults\":{\"arrowcolor\":\"#2a3f5f\",\"arrowhead\":0,\"arrowwidth\":1},\"geo\":{\"bgcolor\":\"white\",\"landcolor\":\"#E5ECF6\",\"subunitcolor\":\"white\",\"showland\":true,\"showlakes\":true,\"lakecolor\":\"white\"},\"title\":{\"x\":0.05},\"mapbox\":{\"style\":\"light\"}}},\"xaxis\":{\"anchor\":\"y\",\"domain\":[0.0,1.0],\"title\":{\"text\":\"day\"}},\"yaxis\":{\"anchor\":\"x\",\"domain\":[0.0,1.0],\"title\":{\"text\":\"total_bill\"}},\"legend\":{\"tracegroupgap\":0},\"margin\":{\"t\":60},\"violinmode\":\"group\"},                        {\"responsive\": true}                    ).then(function(){\n",
       "                            \n",
       "var gd = document.getElementById('04c01622-7752-4c03-a31c-d3ee18661b31');\n",
       "var x = new MutationObserver(function (mutations, observer) {{\n",
       "        var display = window.getComputedStyle(gd).display;\n",
       "        if (!display || display === 'none') {{\n",
       "            console.log([gd, 'removed!']);\n",
       "            Plotly.purge(gd);\n",
       "            observer.disconnect();\n",
       "        }}\n",
       "}});\n",
       "\n",
       "// Listen for the removal of the full notebook cells\n",
       "var notebookContainer = gd.closest('#notebook-container');\n",
       "if (notebookContainer) {{\n",
       "    x.observe(notebookContainer, {childList: true});\n",
       "}}\n",
       "\n",
       "// Listen for the clearing of the current output cell\n",
       "var outputEl = gd.closest('.output');\n",
       "if (outputEl) {{\n",
       "    x.observe(outputEl, {childList: true});\n",
       "}}\n",
       "\n",
       "                        })                };                            </script>        </div>\n",
       "</body>\n",
       "</html>"
      ]
     },
     "metadata": {},
     "output_type": "display_data"
    }
   ],
   "source": [
    "import plotly.express as px\n",
    "\n",
    "# using the tips dataset\n",
    "df = px.data.tips()\n",
    "\n",
    "# plotting the violin chart\n",
    "fig = px.violin(df, x=\"day\", y=\"total_bill\")\n",
    "\n",
    "# showing the plot\n",
    "fig.show()"
   ]
  },
  {
   "cell_type": "markdown",
   "metadata": {},
   "source": [
    "Heat Map"
   ]
  },
  {
   "cell_type": "code",
   "execution_count": null,
   "metadata": {},
   "outputs": [
    {
     "data": {
      "text/html": [
       "<html>\n",
       "<head><meta charset=\"utf-8\" /></head>\n",
       "<body>\n",
       "    <div>            <script src=\"https://cdnjs.cloudflare.com/ajax/libs/mathjax/2.7.5/MathJax.js?config=TeX-AMS-MML_SVG\"></script><script type=\"text/javascript\">if (window.MathJax && window.MathJax.Hub && window.MathJax.Hub.Config) {window.MathJax.Hub.Config({SVG: {font: \"STIX-Web\"}});}</script>                <script type=\"text/javascript\">window.PlotlyConfig = {MathJaxConfig: 'local'};</script>\n",
       "        <script charset=\"utf-8\" src=\"https://cdn.plot.ly/plotly-2.24.1.min.js\"></script>                <div id=\"f5f4338b-b86a-4528-aae9-bfe25a3654f7\" class=\"plotly-graph-div\" style=\"height:525px; width:100%;\"></div>            <script type=\"text/javascript\">                                    window.PLOTLYENV=window.PLOTLYENV || {};                                    if (document.getElementById(\"f5f4338b-b86a-4528-aae9-bfe25a3654f7\")) {                    Plotly.newPlot(                        \"f5f4338b-b86a-4528-aae9-bfe25a3654f7\",                        [{\"x\":[0,2,4,6,8,10,12,14,16,18,20,22,24,26,28,30,32,34,36,38,40,42,44,46,48],\"y\":[0,3,6,9,12,15,18,21,24,27,30,33,36,39,42,45,48],\"z\":[[1.0,0.5403023058681398,-0.4161468365471424,-0.9899924966004454,-0.6536436208636119,0.28366218546322625,0.960170286650366,0.7539022543433046,-0.14550003380861354,-0.9111302618846769,-0.8390715290764524,0.004425697988050785,0.8438539587324921,0.9074467814501962,0.1367372182078336,-0.7596879128588213,-0.9576594803233847,-0.27516333805159693,0.6603167082440802,0.9887046181866692,0.40808206181339196,-0.5477292602242684,-0.9999608263946371,-0.5328330203333975,0.424179007336997],[1.681638760023334,1.2219410658914738,0.2654919234761917,-0.3083537365771113,0.027995139159722182,0.9653009454865604,1.6418090466737,1.4355410143666387,0.5361387262147206,-0.22949150186134282,-0.15743276905311832,0.6860644580113849,1.5254927187558263,1.5890855414735303,0.8183759782311677,-0.07804915283548719,-0.27602072030005054,0.4064754219717372,1.3419554682674142,1.6703433782100032,1.089720821836726,0.13390949979906575,-0.318322066371303,0.1488057396899366,1.105817767360331],[1.9974949866040546,1.5377972924721943,0.581348150056912,0.00750249000360903,0.3438513657404425,1.2811571720672807,1.9576652732544204,1.751397240947359,0.8519949527954409,0.0863647247193775,0.158423457527602,1.0019206845921051,1.8413489453365466,1.9049417680542506,1.134232204811888,0.23780707374523313,0.039835506280669786,0.7223316485524576,1.6578116948481347,1.9861996047907238,1.4055770484174464,0.44976572637978607,-0.00246583979058268,0.4646619662706569,1.4216739939410514],[1.778073196887921,1.3183755027560609,0.3619263603407788,-0.2119192997125242,0.12442957602430926,1.0617353823511475,1.7382434835382872,1.5319754512312258,0.6325731630793077,-0.13305706499675574,-0.060998332188531235,0.782498894875972,1.6219271556204133,1.6855199783381174,0.9148104150957548,0.01838528402909989,-0.17958628343546346,0.5029098588363243,1.4383899051320013,1.7667778150745903,1.186155258701313,0.23034393666365283,-0.22188762950671592,0.24524017655452368,1.2022522042249182],[1.1411200080598671,0.681422313928007,-0.2750268284872752,-0.8488724885405782,-0.5125236128037447,0.42478219352309343,1.1012902947102332,0.8950222624031718,-0.0043800257487463246,-0.7700102538248097,-0.6979515210165852,0.145545706047918,0.9849739667923594,1.0485667895100634,0.2778572262677008,-0.6185679047989541,-0.8165394722635174,-0.13404332999172971,0.8014367163039474,1.1298246262465363,0.5492020698732591,-0.40660925216440114,-0.8588408183347699,-0.3917130122735303,0.5652990153968642],[0.4284386812576563,-0.03125901287420396,-0.9877081552894862,-1.5615538153427893,-1.2252049396059557,-0.2878991332791175,0.38860896790802224,0.18234093560096087,-0.7170613525509573,-1.4826915806270207,-1.4106328478187962,-0.5671356207542929,0.2722926399901484,0.33588546270785247,-0.43482410053451015,-1.331249231601165,-1.5292207990657283,-0.8467246567939406,0.08875538950173645,0.4171432994443255,-0.16347925692895177,-1.119290578966612,-1.571522145136981,-1.1043943390757414,-0.14738231140534674],[0.02246988233490299,-0.43722781179695724,-1.3936769542122394,-1.9675226142655424,-1.6311737385287088,-0.6938679322018708,-0.017359831014731042,-0.2236278633217924,-1.1230301514737104,-1.888660379549774,-1.8166016467415496,-0.9731044196770462,-0.13367615893260487,-0.07008333621490082,-0.8407928994572634,-1.7372180305239184,-1.9351895979884817,-1.252693455716694,-0.31721340942101683,0.011174500521572206,-0.569448055851705,-1.5252593778893653,-1.9774909440597341,-1.5103631379984945,-0.5533511103281],[0.141065506573408,-0.31863218755845224,-1.2750813299737345,-1.8489269900270373,-1.512578114290204,-0.5752723079633657,0.10123579322377396,-0.1050322390832874,-1.0044345272352055,-1.770064755311269,-1.6980060225030444,-0.8545087954385412,-0.015080534694099867,0.04851228802360419,-0.7221972752187584,-1.6186224062854133,-1.8165939737499768,-1.1340978314781889,-0.19861778518251183,0.1297701247600772,-0.45085243161320004,-1.4066637536508604,-1.858895319821229,-1.3917675137599894,-0.434755486089595],[0.7205845018010741,0.2608868076692139,-0.6955623347460682,-1.2694079947993713,-0.9330591190625378,0.004246687264300386,0.6807547884514401,0.47448675614437874,-0.4249155320075394,-1.190545760083603,-1.1184870272753784,-0.2749898002108751,0.5644384605335663,0.6280312832512703,-0.14267827999109226,-1.0391034110577473,-1.2370749785223105,-0.5545788362505228,0.3809012100451543,0.7092891199877434,0.1286665636144661,-0.8271447584231942,-1.279376324593563,-0.8122485185323234,0.14476350913807112],[1.4500440737806177,0.9903463796487574,0.03389723723347521,-0.5399484228198278,-0.20359954708299433,0.7337062592438439,1.4102143604309836,1.2039463281239222,0.3045440399720041,-0.4610861881040593,-0.3890274552958348,0.4544697717686684,1.2938980325131098,1.3574908552308138,0.5867812919884512,-0.3096438390782037,-0.507615406542767,0.1748807357290207,1.110360782024698,1.438748691967287,0.8581261355940095,-0.09768518644365076,-0.5499167526140195,-0.08278894655277991,0.8742230811176146],[1.937999976774739,1.4783022826428787,0.5218531402275965,-0.05199251982570652,0.28435635591112696,1.221662162237965,1.8981702634251048,1.6919022311180436,0.7924999429661254,0.026869714890061958,0.09892844769828646,0.9424256747627897,1.7818539355072311,1.8454467582249352,1.0747371949825726,0.17831206391591758,-0.019659503548645763,0.6628366387231419,1.598316685018819,1.9267045949614081,1.346082038588131,0.3902707165504705,-0.06196084961989823,0.4051669564413414,1.3621789841117358],[1.9226042102393404,1.4629065161074801,0.5064573736921978,-0.06738828636110517,0.2689605893757283,1.2062663957025666,1.8827744968897062,1.6765064645826449,0.7771041764307267,0.01147394835466331,0.08353268116288781,0.9270299082273911,1.7664581689718324,1.8300509916895364,1.0593414284471738,0.16291629738051894,-0.03505527008404441,0.6474408721877434,1.5829209184834205,1.9113088284260096,1.3306862720527322,0.3748749500150719,-0.07735661615529688,0.3897711899059427,1.3467832175763372],[1.4121184852417565,0.9524207911098963,-0.004028351305385813,-0.5778740113586889,-0.24152513562185535,0.6957806707049828,1.3722887718921226,1.1660207395850612,0.26661845143314306,-0.49901177664292035,-0.42695304383469584,0.41654418322980735,1.2559724439742488,1.3195652666919528,0.5488557034495902,-0.3475694276170647,-0.5455409950816281,0.13695514719015967,1.0724351934858367,1.4008231034284258,0.8202005470551486,-0.13561077498251178,-0.5878423411528806,-0.12071453509164093,0.8362974925787536],[0.6804808063777263,0.2207831122458661,-0.735666030169416,-1.309511690222719,-0.9731628144858856,-0.03585700815904741,0.6406510930280923,0.43438306072103094,-0.4650192274308872,-1.2306494555069505,-1.158590722698726,-0.3150934956342229,0.5243347651102185,0.5879275878279225,-0.18278197541444005,-1.0792071064810949,-1.2771786739456583,-0.5946825316738706,0.3407975146218065,0.6691854245643956,0.0885628681911183,-0.867248453846542,-1.3194800200169108,-0.8523522139556712,0.10465981371472333],[0.12030424002832996,-0.3393934541035303,-1.2958425965188125,-1.8696882565721156,-1.533339380835282,-0.5960335745084437,0.08047452667869592,-0.12579350562836544,-1.0251957937802836,-1.790826021856347,-1.7187672890481225,-0.8752700619836192,-0.035841801239177906,0.02775102147852615,-0.7429585417638365,-1.6393836728304914,-1.8373552402950546,-1.154859098023267,-0.21937905172758987,0.10900885821499917,-0.4716136981582781,-1.4274250201959384,-1.8796565863663073,-1.4125287803050677,-0.45551675263467306],[0.03219200248873855,-0.4275056916431217,-1.3839548340584038,-1.9578004941117069,-1.6214516183748735,-0.6841458120480353,-0.007637710860895486,-0.21390574316795685,-1.113308031319875,-1.8789382593959383,-1.8068795265877138,-0.9633822995232106,-0.12395403877876932,-0.06036121606106526,-0.8310707793034279,-1.7274959103700827,-1.9254674778346461,-1.2429713355628584,-0.3074912892671813,0.020896620675407762,-0.5597259356978694,-1.51553725773553,-1.9677688239058986,-1.500641017844659,-0.5436289901742645],[0.46342708199956506,0.0037293878677048253,-0.9527197545475774,-1.5265654146008805,-1.1902165388640469,-0.2529107325372087,0.423597368649931,0.21732933634286966,-0.6820729518090485,-1.4477031798851119,-1.3756444470768874,-0.5321472200123841,0.3072810407320572,0.37087386344976125,-0.39983569979260136,-1.2962608308592563,-1.4942323983238195,-0.8117362560520318,0.12374379024364524,0.4521317001862343,-0.12849085618704298,-1.0843021782247033,-1.5365337443950722,-1.0694059383338326,-0.11239391066343796]],\"type\":\"heatmap\"}],                        {\"template\":{\"data\":{\"histogram2dcontour\":[{\"type\":\"histogram2dcontour\",\"colorbar\":{\"outlinewidth\":0,\"ticks\":\"\"},\"colorscale\":[[0.0,\"#0d0887\"],[0.1111111111111111,\"#46039f\"],[0.2222222222222222,\"#7201a8\"],[0.3333333333333333,\"#9c179e\"],[0.4444444444444444,\"#bd3786\"],[0.5555555555555556,\"#d8576b\"],[0.6666666666666666,\"#ed7953\"],[0.7777777777777778,\"#fb9f3a\"],[0.8888888888888888,\"#fdca26\"],[1.0,\"#f0f921\"]]}],\"choropleth\":[{\"type\":\"choropleth\",\"colorbar\":{\"outlinewidth\":0,\"ticks\":\"\"}}],\"histogram2d\":[{\"type\":\"histogram2d\",\"colorbar\":{\"outlinewidth\":0,\"ticks\":\"\"},\"colorscale\":[[0.0,\"#0d0887\"],[0.1111111111111111,\"#46039f\"],[0.2222222222222222,\"#7201a8\"],[0.3333333333333333,\"#9c179e\"],[0.4444444444444444,\"#bd3786\"],[0.5555555555555556,\"#d8576b\"],[0.6666666666666666,\"#ed7953\"],[0.7777777777777778,\"#fb9f3a\"],[0.8888888888888888,\"#fdca26\"],[1.0,\"#f0f921\"]]}],\"heatmap\":[{\"type\":\"heatmap\",\"colorbar\":{\"outlinewidth\":0,\"ticks\":\"\"},\"colorscale\":[[0.0,\"#0d0887\"],[0.1111111111111111,\"#46039f\"],[0.2222222222222222,\"#7201a8\"],[0.3333333333333333,\"#9c179e\"],[0.4444444444444444,\"#bd3786\"],[0.5555555555555556,\"#d8576b\"],[0.6666666666666666,\"#ed7953\"],[0.7777777777777778,\"#fb9f3a\"],[0.8888888888888888,\"#fdca26\"],[1.0,\"#f0f921\"]]}],\"heatmapgl\":[{\"type\":\"heatmapgl\",\"colorbar\":{\"outlinewidth\":0,\"ticks\":\"\"},\"colorscale\":[[0.0,\"#0d0887\"],[0.1111111111111111,\"#46039f\"],[0.2222222222222222,\"#7201a8\"],[0.3333333333333333,\"#9c179e\"],[0.4444444444444444,\"#bd3786\"],[0.5555555555555556,\"#d8576b\"],[0.6666666666666666,\"#ed7953\"],[0.7777777777777778,\"#fb9f3a\"],[0.8888888888888888,\"#fdca26\"],[1.0,\"#f0f921\"]]}],\"contourcarpet\":[{\"type\":\"contourcarpet\",\"colorbar\":{\"outlinewidth\":0,\"ticks\":\"\"}}],\"contour\":[{\"type\":\"contour\",\"colorbar\":{\"outlinewidth\":0,\"ticks\":\"\"},\"colorscale\":[[0.0,\"#0d0887\"],[0.1111111111111111,\"#46039f\"],[0.2222222222222222,\"#7201a8\"],[0.3333333333333333,\"#9c179e\"],[0.4444444444444444,\"#bd3786\"],[0.5555555555555556,\"#d8576b\"],[0.6666666666666666,\"#ed7953\"],[0.7777777777777778,\"#fb9f3a\"],[0.8888888888888888,\"#fdca26\"],[1.0,\"#f0f921\"]]}],\"surface\":[{\"type\":\"surface\",\"colorbar\":{\"outlinewidth\":0,\"ticks\":\"\"},\"colorscale\":[[0.0,\"#0d0887\"],[0.1111111111111111,\"#46039f\"],[0.2222222222222222,\"#7201a8\"],[0.3333333333333333,\"#9c179e\"],[0.4444444444444444,\"#bd3786\"],[0.5555555555555556,\"#d8576b\"],[0.6666666666666666,\"#ed7953\"],[0.7777777777777778,\"#fb9f3a\"],[0.8888888888888888,\"#fdca26\"],[1.0,\"#f0f921\"]]}],\"mesh3d\":[{\"type\":\"mesh3d\",\"colorbar\":{\"outlinewidth\":0,\"ticks\":\"\"}}],\"scatter\":[{\"fillpattern\":{\"fillmode\":\"overlay\",\"size\":10,\"solidity\":0.2},\"type\":\"scatter\"}],\"parcoords\":[{\"type\":\"parcoords\",\"line\":{\"colorbar\":{\"outlinewidth\":0,\"ticks\":\"\"}}}],\"scatterpolargl\":[{\"type\":\"scatterpolargl\",\"marker\":{\"colorbar\":{\"outlinewidth\":0,\"ticks\":\"\"}}}],\"bar\":[{\"error_x\":{\"color\":\"#2a3f5f\"},\"error_y\":{\"color\":\"#2a3f5f\"},\"marker\":{\"line\":{\"color\":\"#E5ECF6\",\"width\":0.5},\"pattern\":{\"fillmode\":\"overlay\",\"size\":10,\"solidity\":0.2}},\"type\":\"bar\"}],\"scattergeo\":[{\"type\":\"scattergeo\",\"marker\":{\"colorbar\":{\"outlinewidth\":0,\"ticks\":\"\"}}}],\"scatterpolar\":[{\"type\":\"scatterpolar\",\"marker\":{\"colorbar\":{\"outlinewidth\":0,\"ticks\":\"\"}}}],\"histogram\":[{\"marker\":{\"pattern\":{\"fillmode\":\"overlay\",\"size\":10,\"solidity\":0.2}},\"type\":\"histogram\"}],\"scattergl\":[{\"type\":\"scattergl\",\"marker\":{\"colorbar\":{\"outlinewidth\":0,\"ticks\":\"\"}}}],\"scatter3d\":[{\"type\":\"scatter3d\",\"line\":{\"colorbar\":{\"outlinewidth\":0,\"ticks\":\"\"}},\"marker\":{\"colorbar\":{\"outlinewidth\":0,\"ticks\":\"\"}}}],\"scattermapbox\":[{\"type\":\"scattermapbox\",\"marker\":{\"colorbar\":{\"outlinewidth\":0,\"ticks\":\"\"}}}],\"scatterternary\":[{\"type\":\"scatterternary\",\"marker\":{\"colorbar\":{\"outlinewidth\":0,\"ticks\":\"\"}}}],\"scattercarpet\":[{\"type\":\"scattercarpet\",\"marker\":{\"colorbar\":{\"outlinewidth\":0,\"ticks\":\"\"}}}],\"carpet\":[{\"aaxis\":{\"endlinecolor\":\"#2a3f5f\",\"gridcolor\":\"white\",\"linecolor\":\"white\",\"minorgridcolor\":\"white\",\"startlinecolor\":\"#2a3f5f\"},\"baxis\":{\"endlinecolor\":\"#2a3f5f\",\"gridcolor\":\"white\",\"linecolor\":\"white\",\"minorgridcolor\":\"white\",\"startlinecolor\":\"#2a3f5f\"},\"type\":\"carpet\"}],\"table\":[{\"cells\":{\"fill\":{\"color\":\"#EBF0F8\"},\"line\":{\"color\":\"white\"}},\"header\":{\"fill\":{\"color\":\"#C8D4E3\"},\"line\":{\"color\":\"white\"}},\"type\":\"table\"}],\"barpolar\":[{\"marker\":{\"line\":{\"color\":\"#E5ECF6\",\"width\":0.5},\"pattern\":{\"fillmode\":\"overlay\",\"size\":10,\"solidity\":0.2}},\"type\":\"barpolar\"}],\"pie\":[{\"automargin\":true,\"type\":\"pie\"}]},\"layout\":{\"autotypenumbers\":\"strict\",\"colorway\":[\"#636efa\",\"#EF553B\",\"#00cc96\",\"#ab63fa\",\"#FFA15A\",\"#19d3f3\",\"#FF6692\",\"#B6E880\",\"#FF97FF\",\"#FECB52\"],\"font\":{\"color\":\"#2a3f5f\"},\"hovermode\":\"closest\",\"hoverlabel\":{\"align\":\"left\"},\"paper_bgcolor\":\"white\",\"plot_bgcolor\":\"#E5ECF6\",\"polar\":{\"bgcolor\":\"#E5ECF6\",\"angularaxis\":{\"gridcolor\":\"white\",\"linecolor\":\"white\",\"ticks\":\"\"},\"radialaxis\":{\"gridcolor\":\"white\",\"linecolor\":\"white\",\"ticks\":\"\"}},\"ternary\":{\"bgcolor\":\"#E5ECF6\",\"aaxis\":{\"gridcolor\":\"white\",\"linecolor\":\"white\",\"ticks\":\"\"},\"baxis\":{\"gridcolor\":\"white\",\"linecolor\":\"white\",\"ticks\":\"\"},\"caxis\":{\"gridcolor\":\"white\",\"linecolor\":\"white\",\"ticks\":\"\"}},\"coloraxis\":{\"colorbar\":{\"outlinewidth\":0,\"ticks\":\"\"}},\"colorscale\":{\"sequential\":[[0.0,\"#0d0887\"],[0.1111111111111111,\"#46039f\"],[0.2222222222222222,\"#7201a8\"],[0.3333333333333333,\"#9c179e\"],[0.4444444444444444,\"#bd3786\"],[0.5555555555555556,\"#d8576b\"],[0.6666666666666666,\"#ed7953\"],[0.7777777777777778,\"#fb9f3a\"],[0.8888888888888888,\"#fdca26\"],[1.0,\"#f0f921\"]],\"sequentialminus\":[[0.0,\"#0d0887\"],[0.1111111111111111,\"#46039f\"],[0.2222222222222222,\"#7201a8\"],[0.3333333333333333,\"#9c179e\"],[0.4444444444444444,\"#bd3786\"],[0.5555555555555556,\"#d8576b\"],[0.6666666666666666,\"#ed7953\"],[0.7777777777777778,\"#fb9f3a\"],[0.8888888888888888,\"#fdca26\"],[1.0,\"#f0f921\"]],\"diverging\":[[0,\"#8e0152\"],[0.1,\"#c51b7d\"],[0.2,\"#de77ae\"],[0.3,\"#f1b6da\"],[0.4,\"#fde0ef\"],[0.5,\"#f7f7f7\"],[0.6,\"#e6f5d0\"],[0.7,\"#b8e186\"],[0.8,\"#7fbc41\"],[0.9,\"#4d9221\"],[1,\"#276419\"]]},\"xaxis\":{\"gridcolor\":\"white\",\"linecolor\":\"white\",\"ticks\":\"\",\"title\":{\"standoff\":15},\"zerolinecolor\":\"white\",\"automargin\":true,\"zerolinewidth\":2},\"yaxis\":{\"gridcolor\":\"white\",\"linecolor\":\"white\",\"ticks\":\"\",\"title\":{\"standoff\":15},\"zerolinecolor\":\"white\",\"automargin\":true,\"zerolinewidth\":2},\"scene\":{\"xaxis\":{\"backgroundcolor\":\"#E5ECF6\",\"gridcolor\":\"white\",\"linecolor\":\"white\",\"showbackground\":true,\"ticks\":\"\",\"zerolinecolor\":\"white\",\"gridwidth\":2},\"yaxis\":{\"backgroundcolor\":\"#E5ECF6\",\"gridcolor\":\"white\",\"linecolor\":\"white\",\"showbackground\":true,\"ticks\":\"\",\"zerolinecolor\":\"white\",\"gridwidth\":2},\"zaxis\":{\"backgroundcolor\":\"#E5ECF6\",\"gridcolor\":\"white\",\"linecolor\":\"white\",\"showbackground\":true,\"ticks\":\"\",\"zerolinecolor\":\"white\",\"gridwidth\":2}},\"shapedefaults\":{\"line\":{\"color\":\"#2a3f5f\"}},\"annotationdefaults\":{\"arrowcolor\":\"#2a3f5f\",\"arrowhead\":0,\"arrowwidth\":1},\"geo\":{\"bgcolor\":\"white\",\"landcolor\":\"#E5ECF6\",\"subunitcolor\":\"white\",\"showland\":true,\"showlakes\":true,\"lakecolor\":\"white\"},\"title\":{\"x\":0.05},\"mapbox\":{\"style\":\"light\"}}}},                        {\"responsive\": true}                    ).then(function(){\n",
       "                            \n",
       "var gd = document.getElementById('f5f4338b-b86a-4528-aae9-bfe25a3654f7');\n",
       "var x = new MutationObserver(function (mutations, observer) {{\n",
       "        var display = window.getComputedStyle(gd).display;\n",
       "        if (!display || display === 'none') {{\n",
       "            console.log([gd, 'removed!']);\n",
       "            Plotly.purge(gd);\n",
       "            observer.disconnect();\n",
       "        }}\n",
       "}});\n",
       "\n",
       "// Listen for the removal of the full notebook cells\n",
       "var notebookContainer = gd.closest('#notebook-container');\n",
       "if (notebookContainer) {{\n",
       "    x.observe(notebookContainer, {childList: true});\n",
       "}}\n",
       "\n",
       "// Listen for the clearing of the current output cell\n",
       "var outputEl = gd.closest('.output');\n",
       "if (outputEl) {{\n",
       "    x.observe(outputEl, {childList: true});\n",
       "}}\n",
       "\n",
       "                        })                };                            </script>        </div>\n",
       "</body>\n",
       "</html>"
      ]
     },
     "metadata": {},
     "output_type": "display_data"
    }
   ],
   "source": [
    "import plotly.graph_objects as go\n",
    "\n",
    "\n",
    "feature_x = np.arange(0, 50, 2)\n",
    "feature_y = np.arange(0, 50, 3)\n",
    "\n",
    "# Creating 2-D grid of features\n",
    "[X, Y] = np.meshgrid(feature_x, feature_y)\n",
    "\n",
    "Z = np.cos(X / 2) + np.sin(Y / 4)\n",
    "\n",
    "# plotting the figure\n",
    "fig = go.Figure(data =\n",
    "     go.Heatmap(x = feature_x, y = feature_y, z = Z,))\n",
    "\n",
    "fig.show()\n"
   ]
  },
  {
   "cell_type": "markdown",
   "metadata": {},
   "source": [
    "## Bokeh \n",
    "Bokeh is a Python library for creating interactive visualizations for modern web browsers."
   ]
  },
  {
   "cell_type": "markdown",
   "metadata": {},
   "source": [
    "Installing Bokeh"
   ]
  },
  {
   "cell_type": "code",
   "execution_count": null,
   "metadata": {},
   "outputs": [
    {
     "name": "stdout",
     "output_type": "stream",
     "text": [
      "Requirement already satisfied: bokeh in /usr/local/lib/python3.10/dist-packages (3.3.4)\n",
      "Requirement already satisfied: Jinja2>=2.9 in /usr/local/lib/python3.10/dist-packages (from bokeh) (3.1.3)\n",
      "Requirement already satisfied: contourpy>=1 in /usr/local/lib/python3.10/dist-packages (from bokeh) (1.2.0)\n",
      "Requirement already satisfied: numpy>=1.16 in /usr/local/lib/python3.10/dist-packages (from bokeh) (1.25.2)\n",
      "Requirement already satisfied: packaging>=16.8 in /usr/local/lib/python3.10/dist-packages (from bokeh) (24.0)\n",
      "Requirement already satisfied: pandas>=1.2 in /usr/local/lib/python3.10/dist-packages (from bokeh) (1.5.3)\n",
      "Requirement already satisfied: pillow>=7.1.0 in /usr/local/lib/python3.10/dist-packages (from bokeh) (9.4.0)\n",
      "Requirement already satisfied: PyYAML>=3.10 in /usr/local/lib/python3.10/dist-packages (from bokeh) (6.0.1)\n",
      "Requirement already satisfied: tornado>=5.1 in /usr/local/lib/python3.10/dist-packages (from bokeh) (6.3.3)\n",
      "Requirement already satisfied: xyzservices>=2021.09.1 in /usr/local/lib/python3.10/dist-packages (from bokeh) (2023.10.1)\n",
      "Requirement already satisfied: MarkupSafe>=2.0 in /usr/local/lib/python3.10/dist-packages (from Jinja2>=2.9->bokeh) (2.1.5)\n",
      "Requirement already satisfied: python-dateutil>=2.8.1 in /usr/local/lib/python3.10/dist-packages (from pandas>=1.2->bokeh) (2.8.2)\n",
      "Requirement already satisfied: pytz>=2020.1 in /usr/local/lib/python3.10/dist-packages (from pandas>=1.2->bokeh) (2023.4)\n",
      "Requirement already satisfied: six>=1.5 in /usr/local/lib/python3.10/dist-packages (from python-dateutil>=2.8.1->pandas>=1.2->bokeh) (1.16.0)\n"
     ]
    }
   ],
   "source": [
    "#!pip install bokeh"
   ]
  },
  {
   "cell_type": "markdown",
   "metadata": {},
   "source": [
    "Making simple line chart"
   ]
  },
  {
   "cell_type": "code",
   "execution_count": null,
   "metadata": {},
   "outputs": [
    {
     "data": {
      "application/javascript": "(function(root) {\n  function now() {\n    return new Date();\n  }\n\n  const force = true;\n\n  if (typeof root._bokeh_onload_callbacks === \"undefined\" || force === true) {\n    root._bokeh_onload_callbacks = [];\n    root._bokeh_is_loading = undefined;\n  }\n\nconst JS_MIME_TYPE = 'application/javascript';\n  const HTML_MIME_TYPE = 'text/html';\n  const EXEC_MIME_TYPE = 'application/vnd.bokehjs_exec.v0+json';\n  const CLASS_NAME = 'output_bokeh rendered_html';\n\n  /**\n   * Render data to the DOM node\n   */\n  function render(props, node) {\n    const script = document.createElement(\"script\");\n    node.appendChild(script);\n  }\n\n  /**\n   * Handle when an output is cleared or removed\n   */\n  function handleClearOutput(event, handle) {\n    function drop(id) {\n      const view = Bokeh.index.get_by_id(id)\n      if (view != null) {\n        view.model.document.clear()\n        Bokeh.index.delete(view)\n      }\n    }\n\n    const cell = handle.cell;\n\n    const id = cell.output_area._bokeh_element_id;\n    const server_id = cell.output_area._bokeh_server_id;\n\n    // Clean up Bokeh references\n    if (id != null) {\n      drop(id)\n    }\n\n    if (server_id !== undefined) {\n      // Clean up Bokeh references\n      const cmd_clean = \"from bokeh.io.state import curstate; print(curstate().uuid_to_server['\" + server_id + \"'].get_sessions()[0].document.roots[0]._id)\";\n      cell.notebook.kernel.execute(cmd_clean, {\n        iopub: {\n          output: function(msg) {\n            const id = msg.content.text.trim()\n            drop(id)\n          }\n        }\n      });\n      // Destroy server and session\n      const cmd_destroy = \"import bokeh.io.notebook as ion; ion.destroy_server('\" + server_id + \"')\";\n      cell.notebook.kernel.execute(cmd_destroy);\n    }\n  }\n\n  /**\n   * Handle when a new output is added\n   */\n  function handleAddOutput(event, handle) {\n    const output_area = handle.output_area;\n    const output = handle.output;\n\n    // limit handleAddOutput to display_data with EXEC_MIME_TYPE content only\n    if ((output.output_type != \"display_data\") || (!Object.prototype.hasOwnProperty.call(output.data, EXEC_MIME_TYPE))) {\n      return\n    }\n\n    const toinsert = output_area.element.find(\".\" + CLASS_NAME.split(' ')[0]);\n\n    if (output.metadata[EXEC_MIME_TYPE][\"id\"] !== undefined) {\n      toinsert[toinsert.length - 1].firstChild.textContent = output.data[JS_MIME_TYPE];\n      // store reference to embed id on output_area\n      output_area._bokeh_element_id = output.metadata[EXEC_MIME_TYPE][\"id\"];\n    }\n    if (output.metadata[EXEC_MIME_TYPE][\"server_id\"] !== undefined) {\n      const bk_div = document.createElement(\"div\");\n      bk_div.innerHTML = output.data[HTML_MIME_TYPE];\n      const script_attrs = bk_div.children[0].attributes;\n      for (let i = 0; i < script_attrs.length; i++) {\n        toinsert[toinsert.length - 1].firstChild.setAttribute(script_attrs[i].name, script_attrs[i].value);\n        toinsert[toinsert.length - 1].firstChild.textContent = bk_div.children[0].textContent\n      }\n      // store reference to server id on output_area\n      output_area._bokeh_server_id = output.metadata[EXEC_MIME_TYPE][\"server_id\"];\n    }\n  }\n\n  function register_renderer(events, OutputArea) {\n\n    function append_mime(data, metadata, element) {\n      // create a DOM node to render to\n      const toinsert = this.create_output_subarea(\n        metadata,\n        CLASS_NAME,\n        EXEC_MIME_TYPE\n      );\n      this.keyboard_manager.register_events(toinsert);\n      // Render to node\n      const props = {data: data, metadata: metadata[EXEC_MIME_TYPE]};\n      render(props, toinsert[toinsert.length - 1]);\n      element.append(toinsert);\n      return toinsert\n    }\n\n    /* Handle when an output is cleared or removed */\n    events.on('clear_output.CodeCell', handleClearOutput);\n    events.on('delete.Cell', handleClearOutput);\n\n    /* Handle when a new output is added */\n    events.on('output_added.OutputArea', handleAddOutput);\n\n    /**\n     * Register the mime type and append_mime function with output_area\n     */\n    OutputArea.prototype.register_mime_type(EXEC_MIME_TYPE, append_mime, {\n      /* Is output safe? */\n      safe: true,\n      /* Index of renderer in `output_area.display_order` */\n      index: 0\n    });\n  }\n\n  // register the mime type if in Jupyter Notebook environment and previously unregistered\n  if (root.Jupyter !== undefined) {\n    const events = require('base/js/events');\n    const OutputArea = require('notebook/js/outputarea').OutputArea;\n\n    if (OutputArea.prototype.mime_types().indexOf(EXEC_MIME_TYPE) == -1) {\n      register_renderer(events, OutputArea);\n    }\n  }\n  if (typeof (root._bokeh_timeout) === \"undefined\" || force === true) {\n    root._bokeh_timeout = Date.now() + 5000;\n    root._bokeh_failed_load = false;\n  }\n\n  const NB_LOAD_WARNING = {'data': {'text/html':\n     \"<div style='background-color: #fdd'>\\n\"+\n     \"<p>\\n\"+\n     \"BokehJS does not appear to have successfully loaded. If loading BokehJS from CDN, this \\n\"+\n     \"may be due to a slow or bad network connection. Possible fixes:\\n\"+\n     \"</p>\\n\"+\n     \"<ul>\\n\"+\n     \"<li>re-rerun `output_notebook()` to attempt to load from CDN again, or</li>\\n\"+\n     \"<li>use INLINE resources instead, as so:</li>\\n\"+\n     \"</ul>\\n\"+\n     \"<code>\\n\"+\n     \"from bokeh.resources import INLINE\\n\"+\n     \"output_notebook(resources=INLINE)\\n\"+\n     \"</code>\\n\"+\n     \"</div>\"}};\n\n  function display_loaded() {\n    const el = document.getElementById(null);\n    if (el != null) {\n      el.textContent = \"BokehJS is loading...\";\n    }\n    if (root.Bokeh !== undefined) {\n      if (el != null) {\n        el.textContent = \"BokehJS \" + root.Bokeh.version + \" successfully loaded.\";\n      }\n    } else if (Date.now() < root._bokeh_timeout) {\n      setTimeout(display_loaded, 100)\n    }\n  }\n\n  function run_callbacks() {\n    try {\n      root._bokeh_onload_callbacks.forEach(function(callback) {\n        if (callback != null)\n          callback();\n      });\n    } finally {\n      delete root._bokeh_onload_callbacks\n    }\n    console.debug(\"Bokeh: all callbacks have finished\");\n  }\n\n  function load_libs(css_urls, js_urls, callback) {\n    if (css_urls == null) css_urls = [];\n    if (js_urls == null) js_urls = [];\n\n    root._bokeh_onload_callbacks.push(callback);\n    if (root._bokeh_is_loading > 0) {\n      console.debug(\"Bokeh: BokehJS is being loaded, scheduling callback at\", now());\n      return null;\n    }\n    if (js_urls == null || js_urls.length === 0) {\n      run_callbacks();\n      return null;\n    }\n    console.debug(\"Bokeh: BokehJS not loaded, scheduling load and callback at\", now());\n    root._bokeh_is_loading = css_urls.length + js_urls.length;\n\n    function on_load() {\n      root._bokeh_is_loading--;\n      if (root._bokeh_is_loading === 0) {\n        console.debug(\"Bokeh: all BokehJS libraries/stylesheets loaded\");\n        run_callbacks()\n      }\n    }\n\n    function on_error(url) {\n      console.error(\"failed to load \" + url);\n    }\n\n    for (let i = 0; i < css_urls.length; i++) {\n      const url = css_urls[i];\n      const element = document.createElement(\"link\");\n      element.onload = on_load;\n      element.onerror = on_error.bind(null, url);\n      element.rel = \"stylesheet\";\n      element.type = \"text/css\";\n      element.href = url;\n      console.debug(\"Bokeh: injecting link tag for BokehJS stylesheet: \", url);\n      document.body.appendChild(element);\n    }\n\n    for (let i = 0; i < js_urls.length; i++) {\n      const url = js_urls[i];\n      const element = document.createElement('script');\n      element.onload = on_load;\n      element.onerror = on_error.bind(null, url);\n      element.async = false;\n      element.src = url;\n      console.debug(\"Bokeh: injecting script tag for BokehJS library: \", url);\n      document.head.appendChild(element);\n    }\n  };\n\n  function inject_raw_css(css) {\n    const element = document.createElement(\"style\");\n    element.appendChild(document.createTextNode(css));\n    document.body.appendChild(element);\n  }\n\n  const js_urls = [\"https://cdn.bokeh.org/bokeh/release/bokeh-3.3.4.min.js\", \"https://cdn.bokeh.org/bokeh/release/bokeh-gl-3.3.4.min.js\", \"https://cdn.bokeh.org/bokeh/release/bokeh-widgets-3.3.4.min.js\", \"https://cdn.bokeh.org/bokeh/release/bokeh-tables-3.3.4.min.js\", \"https://cdn.bokeh.org/bokeh/release/bokeh-mathjax-3.3.4.min.js\"];\n  const css_urls = [];\n\n  const inline_js = [    function(Bokeh) {\n      Bokeh.set_log_level(\"info\");\n    },\nfunction(Bokeh) {\n    }\n  ];\n\n  function run_inline_js() {\n    if (root.Bokeh !== undefined || force === true) {\n          for (let i = 0; i < inline_js.length; i++) {\n      inline_js[i].call(root, root.Bokeh);\n    }\n} else if (Date.now() < root._bokeh_timeout) {\n      setTimeout(run_inline_js, 100);\n    } else if (!root._bokeh_failed_load) {\n      console.log(\"Bokeh: BokehJS failed to load within specified timeout.\");\n      root._bokeh_failed_load = true;\n    } else if (force !== true) {\n      const cell = $(document.getElementById(null)).parents('.cell').data().cell;\n      cell.output_area.append_execute_result(NB_LOAD_WARNING)\n    }\n  }\n\n  if (root._bokeh_is_loading === 0) {\n    console.debug(\"Bokeh: BokehJS loaded, going straight to plotting\");\n    run_inline_js();\n  } else {\n    load_libs(css_urls, js_urls, function() {\n      console.debug(\"Bokeh: BokehJS plotting callback run at\", now());\n      run_inline_js();\n    });\n  }\n}(window));",
      "application/vnd.bokehjs_load.v0+json": ""
     },
     "metadata": {},
     "output_type": "display_data"
    },
    {
     "data": {
      "text/html": [
       "\n",
       "  <div id=\"c41b9716-0aba-4f5d-8193-8f1d8ab8fb96\" data-root-id=\"p1872\" style=\"display: contents;\"></div>\n"
      ]
     },
     "metadata": {},
     "output_type": "display_data"
    },
    {
     "data": {
      "application/javascript": "(function(root) {\n  function embed_document(root) {\n  const docs_json = {\"4c23f7aa-dfe3-46dd-a9a8-32f48d963b53\":{\"version\":\"3.3.4\",\"title\":\"Bokeh Application\",\"roots\":[{\"type\":\"object\",\"name\":\"Figure\",\"id\":\"p1872\",\"attributes\":{\"x_range\":{\"type\":\"object\",\"name\":\"DataRange1d\",\"id\":\"p1873\"},\"y_range\":{\"type\":\"object\",\"name\":\"DataRange1d\",\"id\":\"p1874\"},\"x_scale\":{\"type\":\"object\",\"name\":\"LinearScale\",\"id\":\"p1882\"},\"y_scale\":{\"type\":\"object\",\"name\":\"LinearScale\",\"id\":\"p1883\"},\"title\":{\"type\":\"object\",\"name\":\"Title\",\"id\":\"p1875\",\"attributes\":{\"text\":\"Bokeh Line Graph\"}},\"renderers\":[{\"type\":\"object\",\"name\":\"GlyphRenderer\",\"id\":\"p1911\",\"attributes\":{\"data_source\":{\"type\":\"object\",\"name\":\"ColumnDataSource\",\"id\":\"p1905\",\"attributes\":{\"selected\":{\"type\":\"object\",\"name\":\"Selection\",\"id\":\"p1906\",\"attributes\":{\"indices\":[],\"line_indices\":[]}},\"selection_policy\":{\"type\":\"object\",\"name\":\"UnionRenderers\",\"id\":\"p1907\"},\"data\":{\"type\":\"map\",\"entries\":[[\"x\",[1,2,3,4,5]],[\"y\",[5,4,3,2,1]]]}}},\"view\":{\"type\":\"object\",\"name\":\"CDSView\",\"id\":\"p1912\",\"attributes\":{\"filter\":{\"type\":\"object\",\"name\":\"AllIndices\",\"id\":\"p1913\"}}},\"glyph\":{\"type\":\"object\",\"name\":\"Line\",\"id\":\"p1908\",\"attributes\":{\"x\":{\"type\":\"field\",\"field\":\"x\"},\"y\":{\"type\":\"field\",\"field\":\"y\"},\"line_color\":\"#1f77b4\"}},\"nonselection_glyph\":{\"type\":\"object\",\"name\":\"Line\",\"id\":\"p1909\",\"attributes\":{\"x\":{\"type\":\"field\",\"field\":\"x\"},\"y\":{\"type\":\"field\",\"field\":\"y\"},\"line_color\":\"#1f77b4\",\"line_alpha\":0.1}},\"muted_glyph\":{\"type\":\"object\",\"name\":\"Line\",\"id\":\"p1910\",\"attributes\":{\"x\":{\"type\":\"field\",\"field\":\"x\"},\"y\":{\"type\":\"field\",\"field\":\"y\"},\"line_color\":\"#1f77b4\",\"line_alpha\":0.2}}}}],\"toolbar\":{\"type\":\"object\",\"name\":\"Toolbar\",\"id\":\"p1881\",\"attributes\":{\"tools\":[{\"type\":\"object\",\"name\":\"PanTool\",\"id\":\"p1894\"},{\"type\":\"object\",\"name\":\"WheelZoomTool\",\"id\":\"p1895\",\"attributes\":{\"renderers\":\"auto\"}},{\"type\":\"object\",\"name\":\"BoxZoomTool\",\"id\":\"p1896\",\"attributes\":{\"overlay\":{\"type\":\"object\",\"name\":\"BoxAnnotation\",\"id\":\"p1897\",\"attributes\":{\"syncable\":false,\"level\":\"overlay\",\"visible\":false,\"left\":{\"type\":\"number\",\"value\":\"nan\"},\"right\":{\"type\":\"number\",\"value\":\"nan\"},\"top\":{\"type\":\"number\",\"value\":\"nan\"},\"bottom\":{\"type\":\"number\",\"value\":\"nan\"},\"left_units\":\"canvas\",\"right_units\":\"canvas\",\"top_units\":\"canvas\",\"bottom_units\":\"canvas\",\"line_color\":\"black\",\"line_alpha\":1.0,\"line_width\":2,\"line_dash\":[4,4],\"fill_color\":\"lightgrey\",\"fill_alpha\":0.5}}}},{\"type\":\"object\",\"name\":\"SaveTool\",\"id\":\"p1902\"},{\"type\":\"object\",\"name\":\"ResetTool\",\"id\":\"p1903\"},{\"type\":\"object\",\"name\":\"HelpTool\",\"id\":\"p1904\"}]}},\"left\":[{\"type\":\"object\",\"name\":\"LinearAxis\",\"id\":\"p1889\",\"attributes\":{\"ticker\":{\"type\":\"object\",\"name\":\"BasicTicker\",\"id\":\"p1890\",\"attributes\":{\"mantissas\":[1,2,5]}},\"formatter\":{\"type\":\"object\",\"name\":\"BasicTickFormatter\",\"id\":\"p1891\"},\"major_label_policy\":{\"type\":\"object\",\"name\":\"AllLabels\",\"id\":\"p1892\"}}}],\"below\":[{\"type\":\"object\",\"name\":\"LinearAxis\",\"id\":\"p1884\",\"attributes\":{\"ticker\":{\"type\":\"object\",\"name\":\"BasicTicker\",\"id\":\"p1885\",\"attributes\":{\"mantissas\":[1,2,5]}},\"formatter\":{\"type\":\"object\",\"name\":\"BasicTickFormatter\",\"id\":\"p1886\"},\"major_label_policy\":{\"type\":\"object\",\"name\":\"AllLabels\",\"id\":\"p1887\"}}}],\"center\":[{\"type\":\"object\",\"name\":\"Grid\",\"id\":\"p1888\",\"attributes\":{\"axis\":{\"id\":\"p1884\"}}},{\"type\":\"object\",\"name\":\"Grid\",\"id\":\"p1893\",\"attributes\":{\"dimension\":1,\"axis\":{\"id\":\"p1889\"}}}]}}]}};\n  const render_items = [{\"docid\":\"4c23f7aa-dfe3-46dd-a9a8-32f48d963b53\",\"roots\":{\"p1872\":\"c41b9716-0aba-4f5d-8193-8f1d8ab8fb96\"},\"root_ids\":[\"p1872\"]}];\n  root.Bokeh.embed.embed_items_notebook(docs_json, render_items);\n  }\n  if (root.Bokeh !== undefined) {\n    embed_document(root);\n  } else {\n    let attempts = 0;\n    const timer = setInterval(function(root) {\n      if (root.Bokeh !== undefined) {\n        clearInterval(timer);\n        embed_document(root);\n      } else {\n        attempts++;\n        if (attempts > 100) {\n          clearInterval(timer);\n          console.log(\"Bokeh: ERROR: Unable to run BokehJS code because BokehJS library is missing\");\n        }\n      }\n    }, 10, root)\n  }\n})(window);",
      "application/vnd.bokehjs_exec.v0+json": ""
     },
     "metadata": {},
     "output_type": "display_data"
    }
   ],
   "source": [
    "# importing the modules\n",
    "from bokeh.plotting import figure, output_file, show\n",
    "\n",
    "# instantiating the figure object\n",
    "graph = figure(title = \"Bokeh Line Graph\")\n",
    "\n",
    "# the points to be plotted\n",
    "x = [1, 2, 3, 4, 5]\n",
    "y = [5, 4, 3, 2, 1]\n",
    "\n",
    "# plotting the line graph\n",
    "graph.line(x, y)\n",
    "\n",
    "# displaying the model\n",
    "show(graph)"
   ]
  },
  {
   "cell_type": "markdown",
   "metadata": {},
   "source": [
    "Adding Annotations and Legends"
   ]
  },
  {
   "cell_type": "code",
   "execution_count": null,
   "metadata": {},
   "outputs": [
    {
     "data": {
      "application/javascript": "(function(root) {\n  function now() {\n    return new Date();\n  }\n\n  const force = true;\n\n  if (typeof root._bokeh_onload_callbacks === \"undefined\" || force === true) {\n    root._bokeh_onload_callbacks = [];\n    root._bokeh_is_loading = undefined;\n  }\n\nconst JS_MIME_TYPE = 'application/javascript';\n  const HTML_MIME_TYPE = 'text/html';\n  const EXEC_MIME_TYPE = 'application/vnd.bokehjs_exec.v0+json';\n  const CLASS_NAME = 'output_bokeh rendered_html';\n\n  /**\n   * Render data to the DOM node\n   */\n  function render(props, node) {\n    const script = document.createElement(\"script\");\n    node.appendChild(script);\n  }\n\n  /**\n   * Handle when an output is cleared or removed\n   */\n  function handleClearOutput(event, handle) {\n    function drop(id) {\n      const view = Bokeh.index.get_by_id(id)\n      if (view != null) {\n        view.model.document.clear()\n        Bokeh.index.delete(view)\n      }\n    }\n\n    const cell = handle.cell;\n\n    const id = cell.output_area._bokeh_element_id;\n    const server_id = cell.output_area._bokeh_server_id;\n\n    // Clean up Bokeh references\n    if (id != null) {\n      drop(id)\n    }\n\n    if (server_id !== undefined) {\n      // Clean up Bokeh references\n      const cmd_clean = \"from bokeh.io.state import curstate; print(curstate().uuid_to_server['\" + server_id + \"'].get_sessions()[0].document.roots[0]._id)\";\n      cell.notebook.kernel.execute(cmd_clean, {\n        iopub: {\n          output: function(msg) {\n            const id = msg.content.text.trim()\n            drop(id)\n          }\n        }\n      });\n      // Destroy server and session\n      const cmd_destroy = \"import bokeh.io.notebook as ion; ion.destroy_server('\" + server_id + \"')\";\n      cell.notebook.kernel.execute(cmd_destroy);\n    }\n  }\n\n  /**\n   * Handle when a new output is added\n   */\n  function handleAddOutput(event, handle) {\n    const output_area = handle.output_area;\n    const output = handle.output;\n\n    // limit handleAddOutput to display_data with EXEC_MIME_TYPE content only\n    if ((output.output_type != \"display_data\") || (!Object.prototype.hasOwnProperty.call(output.data, EXEC_MIME_TYPE))) {\n      return\n    }\n\n    const toinsert = output_area.element.find(\".\" + CLASS_NAME.split(' ')[0]);\n\n    if (output.metadata[EXEC_MIME_TYPE][\"id\"] !== undefined) {\n      toinsert[toinsert.length - 1].firstChild.textContent = output.data[JS_MIME_TYPE];\n      // store reference to embed id on output_area\n      output_area._bokeh_element_id = output.metadata[EXEC_MIME_TYPE][\"id\"];\n    }\n    if (output.metadata[EXEC_MIME_TYPE][\"server_id\"] !== undefined) {\n      const bk_div = document.createElement(\"div\");\n      bk_div.innerHTML = output.data[HTML_MIME_TYPE];\n      const script_attrs = bk_div.children[0].attributes;\n      for (let i = 0; i < script_attrs.length; i++) {\n        toinsert[toinsert.length - 1].firstChild.setAttribute(script_attrs[i].name, script_attrs[i].value);\n        toinsert[toinsert.length - 1].firstChild.textContent = bk_div.children[0].textContent\n      }\n      // store reference to server id on output_area\n      output_area._bokeh_server_id = output.metadata[EXEC_MIME_TYPE][\"server_id\"];\n    }\n  }\n\n  function register_renderer(events, OutputArea) {\n\n    function append_mime(data, metadata, element) {\n      // create a DOM node to render to\n      const toinsert = this.create_output_subarea(\n        metadata,\n        CLASS_NAME,\n        EXEC_MIME_TYPE\n      );\n      this.keyboard_manager.register_events(toinsert);\n      // Render to node\n      const props = {data: data, metadata: metadata[EXEC_MIME_TYPE]};\n      render(props, toinsert[toinsert.length - 1]);\n      element.append(toinsert);\n      return toinsert\n    }\n\n    /* Handle when an output is cleared or removed */\n    events.on('clear_output.CodeCell', handleClearOutput);\n    events.on('delete.Cell', handleClearOutput);\n\n    /* Handle when a new output is added */\n    events.on('output_added.OutputArea', handleAddOutput);\n\n    /**\n     * Register the mime type and append_mime function with output_area\n     */\n    OutputArea.prototype.register_mime_type(EXEC_MIME_TYPE, append_mime, {\n      /* Is output safe? */\n      safe: true,\n      /* Index of renderer in `output_area.display_order` */\n      index: 0\n    });\n  }\n\n  // register the mime type if in Jupyter Notebook environment and previously unregistered\n  if (root.Jupyter !== undefined) {\n    const events = require('base/js/events');\n    const OutputArea = require('notebook/js/outputarea').OutputArea;\n\n    if (OutputArea.prototype.mime_types().indexOf(EXEC_MIME_TYPE) == -1) {\n      register_renderer(events, OutputArea);\n    }\n  }\n  if (typeof (root._bokeh_timeout) === \"undefined\" || force === true) {\n    root._bokeh_timeout = Date.now() + 5000;\n    root._bokeh_failed_load = false;\n  }\n\n  const NB_LOAD_WARNING = {'data': {'text/html':\n     \"<div style='background-color: #fdd'>\\n\"+\n     \"<p>\\n\"+\n     \"BokehJS does not appear to have successfully loaded. If loading BokehJS from CDN, this \\n\"+\n     \"may be due to a slow or bad network connection. Possible fixes:\\n\"+\n     \"</p>\\n\"+\n     \"<ul>\\n\"+\n     \"<li>re-rerun `output_notebook()` to attempt to load from CDN again, or</li>\\n\"+\n     \"<li>use INLINE resources instead, as so:</li>\\n\"+\n     \"</ul>\\n\"+\n     \"<code>\\n\"+\n     \"from bokeh.resources import INLINE\\n\"+\n     \"output_notebook(resources=INLINE)\\n\"+\n     \"</code>\\n\"+\n     \"</div>\"}};\n\n  function display_loaded() {\n    const el = document.getElementById(null);\n    if (el != null) {\n      el.textContent = \"BokehJS is loading...\";\n    }\n    if (root.Bokeh !== undefined) {\n      if (el != null) {\n        el.textContent = \"BokehJS \" + root.Bokeh.version + \" successfully loaded.\";\n      }\n    } else if (Date.now() < root._bokeh_timeout) {\n      setTimeout(display_loaded, 100)\n    }\n  }\n\n  function run_callbacks() {\n    try {\n      root._bokeh_onload_callbacks.forEach(function(callback) {\n        if (callback != null)\n          callback();\n      });\n    } finally {\n      delete root._bokeh_onload_callbacks\n    }\n    console.debug(\"Bokeh: all callbacks have finished\");\n  }\n\n  function load_libs(css_urls, js_urls, callback) {\n    if (css_urls == null) css_urls = [];\n    if (js_urls == null) js_urls = [];\n\n    root._bokeh_onload_callbacks.push(callback);\n    if (root._bokeh_is_loading > 0) {\n      console.debug(\"Bokeh: BokehJS is being loaded, scheduling callback at\", now());\n      return null;\n    }\n    if (js_urls == null || js_urls.length === 0) {\n      run_callbacks();\n      return null;\n    }\n    console.debug(\"Bokeh: BokehJS not loaded, scheduling load and callback at\", now());\n    root._bokeh_is_loading = css_urls.length + js_urls.length;\n\n    function on_load() {\n      root._bokeh_is_loading--;\n      if (root._bokeh_is_loading === 0) {\n        console.debug(\"Bokeh: all BokehJS libraries/stylesheets loaded\");\n        run_callbacks()\n      }\n    }\n\n    function on_error(url) {\n      console.error(\"failed to load \" + url);\n    }\n\n    for (let i = 0; i < css_urls.length; i++) {\n      const url = css_urls[i];\n      const element = document.createElement(\"link\");\n      element.onload = on_load;\n      element.onerror = on_error.bind(null, url);\n      element.rel = \"stylesheet\";\n      element.type = \"text/css\";\n      element.href = url;\n      console.debug(\"Bokeh: injecting link tag for BokehJS stylesheet: \", url);\n      document.body.appendChild(element);\n    }\n\n    for (let i = 0; i < js_urls.length; i++) {\n      const url = js_urls[i];\n      const element = document.createElement('script');\n      element.onload = on_load;\n      element.onerror = on_error.bind(null, url);\n      element.async = false;\n      element.src = url;\n      console.debug(\"Bokeh: injecting script tag for BokehJS library: \", url);\n      document.head.appendChild(element);\n    }\n  };\n\n  function inject_raw_css(css) {\n    const element = document.createElement(\"style\");\n    element.appendChild(document.createTextNode(css));\n    document.body.appendChild(element);\n  }\n\n  const js_urls = [\"https://cdn.bokeh.org/bokeh/release/bokeh-3.3.4.min.js\", \"https://cdn.bokeh.org/bokeh/release/bokeh-gl-3.3.4.min.js\", \"https://cdn.bokeh.org/bokeh/release/bokeh-widgets-3.3.4.min.js\", \"https://cdn.bokeh.org/bokeh/release/bokeh-tables-3.3.4.min.js\", \"https://cdn.bokeh.org/bokeh/release/bokeh-mathjax-3.3.4.min.js\"];\n  const css_urls = [];\n\n  const inline_js = [    function(Bokeh) {\n      Bokeh.set_log_level(\"info\");\n    },\nfunction(Bokeh) {\n    }\n  ];\n\n  function run_inline_js() {\n    if (root.Bokeh !== undefined || force === true) {\n          for (let i = 0; i < inline_js.length; i++) {\n      inline_js[i].call(root, root.Bokeh);\n    }\n} else if (Date.now() < root._bokeh_timeout) {\n      setTimeout(run_inline_js, 100);\n    } else if (!root._bokeh_failed_load) {\n      console.log(\"Bokeh: BokehJS failed to load within specified timeout.\");\n      root._bokeh_failed_load = true;\n    } else if (force !== true) {\n      const cell = $(document.getElementById(null)).parents('.cell').data().cell;\n      cell.output_area.append_execute_result(NB_LOAD_WARNING)\n    }\n  }\n\n  if (root._bokeh_is_loading === 0) {\n    console.debug(\"Bokeh: BokehJS loaded, going straight to plotting\");\n    run_inline_js();\n  } else {\n    load_libs(css_urls, js_urls, function() {\n      console.debug(\"Bokeh: BokehJS plotting callback run at\", now());\n      run_inline_js();\n    });\n  }\n}(window));",
      "application/vnd.bokehjs_load.v0+json": ""
     },
     "metadata": {},
     "output_type": "display_data"
    },
    {
     "data": {
      "text/html": [
       "\n",
       "  <div id=\"ca84a480-d636-4ad4-bcbd-1b0bc50baa8d\" data-root-id=\"p1914\" style=\"display: contents;\"></div>\n"
      ]
     },
     "metadata": {},
     "output_type": "display_data"
    },
    {
     "data": {
      "application/javascript": "(function(root) {\n  function embed_document(root) {\n  const docs_json = {\"7eb9ac89-b4b5-463b-951d-f8bbde6f4b8b\":{\"version\":\"3.3.4\",\"title\":\"Bokeh Application\",\"roots\":[{\"type\":\"object\",\"name\":\"Figure\",\"id\":\"p1914\",\"attributes\":{\"x_range\":{\"type\":\"object\",\"name\":\"DataRange1d\",\"id\":\"p1915\"},\"y_range\":{\"type\":\"object\",\"name\":\"DataRange1d\",\"id\":\"p1916\"},\"x_scale\":{\"type\":\"object\",\"name\":\"LinearScale\",\"id\":\"p1924\"},\"y_scale\":{\"type\":\"object\",\"name\":\"LinearScale\",\"id\":\"p1925\"},\"title\":{\"type\":\"object\",\"name\":\"Title\",\"id\":\"p1917\",\"attributes\":{\"text\":\"Bokeh Line Graph\"}},\"renderers\":[{\"type\":\"object\",\"name\":\"GlyphRenderer\",\"id\":\"p1953\",\"attributes\":{\"data_source\":{\"type\":\"object\",\"name\":\"ColumnDataSource\",\"id\":\"p1947\",\"attributes\":{\"selected\":{\"type\":\"object\",\"name\":\"Selection\",\"id\":\"p1948\",\"attributes\":{\"indices\":[],\"line_indices\":[]}},\"selection_policy\":{\"type\":\"object\",\"name\":\"UnionRenderers\",\"id\":\"p1949\"},\"data\":{\"type\":\"map\",\"entries\":[[\"x\",[1,2,3,4,5]],[\"y\",[1,2,3,4,5]]]}}},\"view\":{\"type\":\"object\",\"name\":\"CDSView\",\"id\":\"p1954\",\"attributes\":{\"filter\":{\"type\":\"object\",\"name\":\"AllIndices\",\"id\":\"p1955\"}}},\"glyph\":{\"type\":\"object\",\"name\":\"Line\",\"id\":\"p1950\",\"attributes\":{\"x\":{\"type\":\"field\",\"field\":\"x\"},\"y\":{\"type\":\"field\",\"field\":\"y\"},\"line_color\":\"#1f77b4\"}},\"nonselection_glyph\":{\"type\":\"object\",\"name\":\"Line\",\"id\":\"p1951\",\"attributes\":{\"x\":{\"type\":\"field\",\"field\":\"x\"},\"y\":{\"type\":\"field\",\"field\":\"y\"},\"line_color\":\"#1f77b4\",\"line_alpha\":0.1}},\"muted_glyph\":{\"type\":\"object\",\"name\":\"Line\",\"id\":\"p1952\",\"attributes\":{\"x\":{\"type\":\"field\",\"field\":\"x\"},\"y\":{\"type\":\"field\",\"field\":\"y\"},\"line_color\":\"#1f77b4\",\"line_alpha\":0.2}}}},{\"type\":\"object\",\"name\":\"GlyphRenderer\",\"id\":\"p1964\",\"attributes\":{\"data_source\":{\"type\":\"object\",\"name\":\"ColumnDataSource\",\"id\":\"p1958\",\"attributes\":{\"selected\":{\"type\":\"object\",\"name\":\"Selection\",\"id\":\"p1959\",\"attributes\":{\"indices\":[],\"line_indices\":[]}},\"selection_policy\":{\"type\":\"object\",\"name\":\"UnionRenderers\",\"id\":\"p1960\"},\"data\":{\"type\":\"map\",\"entries\":[[\"x\",[5,4,3,2,1]],[\"y\",[1,2,3,4,5]]]}}},\"view\":{\"type\":\"object\",\"name\":\"CDSView\",\"id\":\"p1965\",\"attributes\":{\"filter\":{\"type\":\"object\",\"name\":\"AllIndices\",\"id\":\"p1966\"}}},\"glyph\":{\"type\":\"object\",\"name\":\"Line\",\"id\":\"p1961\",\"attributes\":{\"x\":{\"type\":\"field\",\"field\":\"x\"},\"y\":{\"type\":\"field\",\"field\":\"y\"},\"line_color\":\"green\"}},\"nonselection_glyph\":{\"type\":\"object\",\"name\":\"Line\",\"id\":\"p1962\",\"attributes\":{\"x\":{\"type\":\"field\",\"field\":\"x\"},\"y\":{\"type\":\"field\",\"field\":\"y\"},\"line_color\":\"green\",\"line_alpha\":0.1}},\"muted_glyph\":{\"type\":\"object\",\"name\":\"Line\",\"id\":\"p1963\",\"attributes\":{\"x\":{\"type\":\"field\",\"field\":\"x\"},\"y\":{\"type\":\"field\",\"field\":\"y\"},\"line_color\":\"green\",\"line_alpha\":0.2}}}}],\"toolbar\":{\"type\":\"object\",\"name\":\"Toolbar\",\"id\":\"p1923\",\"attributes\":{\"tools\":[{\"type\":\"object\",\"name\":\"PanTool\",\"id\":\"p1936\"},{\"type\":\"object\",\"name\":\"WheelZoomTool\",\"id\":\"p1937\",\"attributes\":{\"renderers\":\"auto\"}},{\"type\":\"object\",\"name\":\"BoxZoomTool\",\"id\":\"p1938\",\"attributes\":{\"overlay\":{\"type\":\"object\",\"name\":\"BoxAnnotation\",\"id\":\"p1939\",\"attributes\":{\"syncable\":false,\"level\":\"overlay\",\"visible\":false,\"left\":{\"type\":\"number\",\"value\":\"nan\"},\"right\":{\"type\":\"number\",\"value\":\"nan\"},\"top\":{\"type\":\"number\",\"value\":\"nan\"},\"bottom\":{\"type\":\"number\",\"value\":\"nan\"},\"left_units\":\"canvas\",\"right_units\":\"canvas\",\"top_units\":\"canvas\",\"bottom_units\":\"canvas\",\"line_color\":\"black\",\"line_alpha\":1.0,\"line_width\":2,\"line_dash\":[4,4],\"fill_color\":\"lightgrey\",\"fill_alpha\":0.5}}}},{\"type\":\"object\",\"name\":\"SaveTool\",\"id\":\"p1944\"},{\"type\":\"object\",\"name\":\"ResetTool\",\"id\":\"p1945\"},{\"type\":\"object\",\"name\":\"HelpTool\",\"id\":\"p1946\"}]}},\"left\":[{\"type\":\"object\",\"name\":\"LinearAxis\",\"id\":\"p1931\",\"attributes\":{\"ticker\":{\"type\":\"object\",\"name\":\"BasicTicker\",\"id\":\"p1932\",\"attributes\":{\"mantissas\":[1,2,5]}},\"formatter\":{\"type\":\"object\",\"name\":\"BasicTickFormatter\",\"id\":\"p1933\"},\"major_label_policy\":{\"type\":\"object\",\"name\":\"AllLabels\",\"id\":\"p1934\"}}}],\"below\":[{\"type\":\"object\",\"name\":\"LinearAxis\",\"id\":\"p1926\",\"attributes\":{\"ticker\":{\"type\":\"object\",\"name\":\"BasicTicker\",\"id\":\"p1927\",\"attributes\":{\"mantissas\":[1,2,5]}},\"formatter\":{\"type\":\"object\",\"name\":\"BasicTickFormatter\",\"id\":\"p1928\"},\"major_label_policy\":{\"type\":\"object\",\"name\":\"AllLabels\",\"id\":\"p1929\"}}}],\"center\":[{\"type\":\"object\",\"name\":\"Grid\",\"id\":\"p1930\",\"attributes\":{\"axis\":{\"id\":\"p1926\"}}},{\"type\":\"object\",\"name\":\"Grid\",\"id\":\"p1935\",\"attributes\":{\"dimension\":1,\"axis\":{\"id\":\"p1931\"}}},{\"type\":\"object\",\"name\":\"Legend\",\"id\":\"p1956\",\"attributes\":{\"items\":[{\"type\":\"object\",\"name\":\"LegendItem\",\"id\":\"p1957\",\"attributes\":{\"label\":{\"type\":\"value\",\"value\":\"Line 1\"},\"renderers\":[{\"id\":\"p1953\"}]}},{\"type\":\"object\",\"name\":\"LegendItem\",\"id\":\"p1967\",\"attributes\":{\"label\":{\"type\":\"value\",\"value\":\"Line 2\"},\"renderers\":[{\"id\":\"p1964\"}]}}]}}]}}]}};\n  const render_items = [{\"docid\":\"7eb9ac89-b4b5-463b-951d-f8bbde6f4b8b\",\"roots\":{\"p1914\":\"ca84a480-d636-4ad4-bcbd-1b0bc50baa8d\"},\"root_ids\":[\"p1914\"]}];\n  root.Bokeh.embed.embed_items_notebook(docs_json, render_items);\n  }\n  if (root.Bokeh !== undefined) {\n    embed_document(root);\n  } else {\n    let attempts = 0;\n    const timer = setInterval(function(root) {\n      if (root.Bokeh !== undefined) {\n        clearInterval(timer);\n        embed_document(root);\n      } else {\n        attempts++;\n        if (attempts > 100) {\n          clearInterval(timer);\n          console.log(\"Bokeh: ERROR: Unable to run BokehJS code because BokehJS library is missing\");\n        }\n      }\n    }, 10, root)\n  }\n})(window);",
      "application/vnd.bokehjs_exec.v0+json": ""
     },
     "metadata": {},
     "output_type": "display_data"
    }
   ],
   "source": [
    "# importing the modules\n",
    "from bokeh.plotting import figure, output_file, show\n",
    "\n",
    "# instantiating the figure object\n",
    "graph = figure(title=\"Bokeh Line Graph\")\n",
    "\n",
    "# the points to be plotted\n",
    "x = [1, 2, 3, 4, 5]\n",
    "y = [5, 4, 3, 2, 1]\n",
    "\n",
    "# plotting the 1st line graph\n",
    "graph.line(x, x, legend_label=\"Line 1\")\n",
    "\n",
    "# plotting the 2nd line graph with a\n",
    "# different color\n",
    "graph.line(y, x, legend_label=\"Line 2\",\n",
    "           line_color=\"green\")\n",
    "\n",
    "# displaying the model\n",
    "show(graph)"
   ]
  },
  {
   "cell_type": "markdown",
   "metadata": {},
   "source": [
    "Making vertical bar"
   ]
  },
  {
   "cell_type": "code",
   "execution_count": null,
   "metadata": {},
   "outputs": [
    {
     "data": {
      "application/javascript": "(function(root) {\n  function now() {\n    return new Date();\n  }\n\n  const force = true;\n\n  if (typeof root._bokeh_onload_callbacks === \"undefined\" || force === true) {\n    root._bokeh_onload_callbacks = [];\n    root._bokeh_is_loading = undefined;\n  }\n\nconst JS_MIME_TYPE = 'application/javascript';\n  const HTML_MIME_TYPE = 'text/html';\n  const EXEC_MIME_TYPE = 'application/vnd.bokehjs_exec.v0+json';\n  const CLASS_NAME = 'output_bokeh rendered_html';\n\n  /**\n   * Render data to the DOM node\n   */\n  function render(props, node) {\n    const script = document.createElement(\"script\");\n    node.appendChild(script);\n  }\n\n  /**\n   * Handle when an output is cleared or removed\n   */\n  function handleClearOutput(event, handle) {\n    function drop(id) {\n      const view = Bokeh.index.get_by_id(id)\n      if (view != null) {\n        view.model.document.clear()\n        Bokeh.index.delete(view)\n      }\n    }\n\n    const cell = handle.cell;\n\n    const id = cell.output_area._bokeh_element_id;\n    const server_id = cell.output_area._bokeh_server_id;\n\n    // Clean up Bokeh references\n    if (id != null) {\n      drop(id)\n    }\n\n    if (server_id !== undefined) {\n      // Clean up Bokeh references\n      const cmd_clean = \"from bokeh.io.state import curstate; print(curstate().uuid_to_server['\" + server_id + \"'].get_sessions()[0].document.roots[0]._id)\";\n      cell.notebook.kernel.execute(cmd_clean, {\n        iopub: {\n          output: function(msg) {\n            const id = msg.content.text.trim()\n            drop(id)\n          }\n        }\n      });\n      // Destroy server and session\n      const cmd_destroy = \"import bokeh.io.notebook as ion; ion.destroy_server('\" + server_id + \"')\";\n      cell.notebook.kernel.execute(cmd_destroy);\n    }\n  }\n\n  /**\n   * Handle when a new output is added\n   */\n  function handleAddOutput(event, handle) {\n    const output_area = handle.output_area;\n    const output = handle.output;\n\n    // limit handleAddOutput to display_data with EXEC_MIME_TYPE content only\n    if ((output.output_type != \"display_data\") || (!Object.prototype.hasOwnProperty.call(output.data, EXEC_MIME_TYPE))) {\n      return\n    }\n\n    const toinsert = output_area.element.find(\".\" + CLASS_NAME.split(' ')[0]);\n\n    if (output.metadata[EXEC_MIME_TYPE][\"id\"] !== undefined) {\n      toinsert[toinsert.length - 1].firstChild.textContent = output.data[JS_MIME_TYPE];\n      // store reference to embed id on output_area\n      output_area._bokeh_element_id = output.metadata[EXEC_MIME_TYPE][\"id\"];\n    }\n    if (output.metadata[EXEC_MIME_TYPE][\"server_id\"] !== undefined) {\n      const bk_div = document.createElement(\"div\");\n      bk_div.innerHTML = output.data[HTML_MIME_TYPE];\n      const script_attrs = bk_div.children[0].attributes;\n      for (let i = 0; i < script_attrs.length; i++) {\n        toinsert[toinsert.length - 1].firstChild.setAttribute(script_attrs[i].name, script_attrs[i].value);\n        toinsert[toinsert.length - 1].firstChild.textContent = bk_div.children[0].textContent\n      }\n      // store reference to server id on output_area\n      output_area._bokeh_server_id = output.metadata[EXEC_MIME_TYPE][\"server_id\"];\n    }\n  }\n\n  function register_renderer(events, OutputArea) {\n\n    function append_mime(data, metadata, element) {\n      // create a DOM node to render to\n      const toinsert = this.create_output_subarea(\n        metadata,\n        CLASS_NAME,\n        EXEC_MIME_TYPE\n      );\n      this.keyboard_manager.register_events(toinsert);\n      // Render to node\n      const props = {data: data, metadata: metadata[EXEC_MIME_TYPE]};\n      render(props, toinsert[toinsert.length - 1]);\n      element.append(toinsert);\n      return toinsert\n    }\n\n    /* Handle when an output is cleared or removed */\n    events.on('clear_output.CodeCell', handleClearOutput);\n    events.on('delete.Cell', handleClearOutput);\n\n    /* Handle when a new output is added */\n    events.on('output_added.OutputArea', handleAddOutput);\n\n    /**\n     * Register the mime type and append_mime function with output_area\n     */\n    OutputArea.prototype.register_mime_type(EXEC_MIME_TYPE, append_mime, {\n      /* Is output safe? */\n      safe: true,\n      /* Index of renderer in `output_area.display_order` */\n      index: 0\n    });\n  }\n\n  // register the mime type if in Jupyter Notebook environment and previously unregistered\n  if (root.Jupyter !== undefined) {\n    const events = require('base/js/events');\n    const OutputArea = require('notebook/js/outputarea').OutputArea;\n\n    if (OutputArea.prototype.mime_types().indexOf(EXEC_MIME_TYPE) == -1) {\n      register_renderer(events, OutputArea);\n    }\n  }\n  if (typeof (root._bokeh_timeout) === \"undefined\" || force === true) {\n    root._bokeh_timeout = Date.now() + 5000;\n    root._bokeh_failed_load = false;\n  }\n\n  const NB_LOAD_WARNING = {'data': {'text/html':\n     \"<div style='background-color: #fdd'>\\n\"+\n     \"<p>\\n\"+\n     \"BokehJS does not appear to have successfully loaded. If loading BokehJS from CDN, this \\n\"+\n     \"may be due to a slow or bad network connection. Possible fixes:\\n\"+\n     \"</p>\\n\"+\n     \"<ul>\\n\"+\n     \"<li>re-rerun `output_notebook()` to attempt to load from CDN again, or</li>\\n\"+\n     \"<li>use INLINE resources instead, as so:</li>\\n\"+\n     \"</ul>\\n\"+\n     \"<code>\\n\"+\n     \"from bokeh.resources import INLINE\\n\"+\n     \"output_notebook(resources=INLINE)\\n\"+\n     \"</code>\\n\"+\n     \"</div>\"}};\n\n  function display_loaded() {\n    const el = document.getElementById(null);\n    if (el != null) {\n      el.textContent = \"BokehJS is loading...\";\n    }\n    if (root.Bokeh !== undefined) {\n      if (el != null) {\n        el.textContent = \"BokehJS \" + root.Bokeh.version + \" successfully loaded.\";\n      }\n    } else if (Date.now() < root._bokeh_timeout) {\n      setTimeout(display_loaded, 100)\n    }\n  }\n\n  function run_callbacks() {\n    try {\n      root._bokeh_onload_callbacks.forEach(function(callback) {\n        if (callback != null)\n          callback();\n      });\n    } finally {\n      delete root._bokeh_onload_callbacks\n    }\n    console.debug(\"Bokeh: all callbacks have finished\");\n  }\n\n  function load_libs(css_urls, js_urls, callback) {\n    if (css_urls == null) css_urls = [];\n    if (js_urls == null) js_urls = [];\n\n    root._bokeh_onload_callbacks.push(callback);\n    if (root._bokeh_is_loading > 0) {\n      console.debug(\"Bokeh: BokehJS is being loaded, scheduling callback at\", now());\n      return null;\n    }\n    if (js_urls == null || js_urls.length === 0) {\n      run_callbacks();\n      return null;\n    }\n    console.debug(\"Bokeh: BokehJS not loaded, scheduling load and callback at\", now());\n    root._bokeh_is_loading = css_urls.length + js_urls.length;\n\n    function on_load() {\n      root._bokeh_is_loading--;\n      if (root._bokeh_is_loading === 0) {\n        console.debug(\"Bokeh: all BokehJS libraries/stylesheets loaded\");\n        run_callbacks()\n      }\n    }\n\n    function on_error(url) {\n      console.error(\"failed to load \" + url);\n    }\n\n    for (let i = 0; i < css_urls.length; i++) {\n      const url = css_urls[i];\n      const element = document.createElement(\"link\");\n      element.onload = on_load;\n      element.onerror = on_error.bind(null, url);\n      element.rel = \"stylesheet\";\n      element.type = \"text/css\";\n      element.href = url;\n      console.debug(\"Bokeh: injecting link tag for BokehJS stylesheet: \", url);\n      document.body.appendChild(element);\n    }\n\n    for (let i = 0; i < js_urls.length; i++) {\n      const url = js_urls[i];\n      const element = document.createElement('script');\n      element.onload = on_load;\n      element.onerror = on_error.bind(null, url);\n      element.async = false;\n      element.src = url;\n      console.debug(\"Bokeh: injecting script tag for BokehJS library: \", url);\n      document.head.appendChild(element);\n    }\n  };\n\n  function inject_raw_css(css) {\n    const element = document.createElement(\"style\");\n    element.appendChild(document.createTextNode(css));\n    document.body.appendChild(element);\n  }\n\n  const js_urls = [\"https://cdn.bokeh.org/bokeh/release/bokeh-3.3.4.min.js\", \"https://cdn.bokeh.org/bokeh/release/bokeh-gl-3.3.4.min.js\", \"https://cdn.bokeh.org/bokeh/release/bokeh-widgets-3.3.4.min.js\", \"https://cdn.bokeh.org/bokeh/release/bokeh-tables-3.3.4.min.js\", \"https://cdn.bokeh.org/bokeh/release/bokeh-mathjax-3.3.4.min.js\"];\n  const css_urls = [];\n\n  const inline_js = [    function(Bokeh) {\n      Bokeh.set_log_level(\"info\");\n    },\nfunction(Bokeh) {\n    }\n  ];\n\n  function run_inline_js() {\n    if (root.Bokeh !== undefined || force === true) {\n          for (let i = 0; i < inline_js.length; i++) {\n      inline_js[i].call(root, root.Bokeh);\n    }\n} else if (Date.now() < root._bokeh_timeout) {\n      setTimeout(run_inline_js, 100);\n    } else if (!root._bokeh_failed_load) {\n      console.log(\"Bokeh: BokehJS failed to load within specified timeout.\");\n      root._bokeh_failed_load = true;\n    } else if (force !== true) {\n      const cell = $(document.getElementById(null)).parents('.cell').data().cell;\n      cell.output_area.append_execute_result(NB_LOAD_WARNING)\n    }\n  }\n\n  if (root._bokeh_is_loading === 0) {\n    console.debug(\"Bokeh: BokehJS loaded, going straight to plotting\");\n    run_inline_js();\n  } else {\n    load_libs(css_urls, js_urls, function() {\n      console.debug(\"Bokeh: BokehJS plotting callback run at\", now());\n      run_inline_js();\n    });\n  }\n}(window));",
      "application/vnd.bokehjs_load.v0+json": ""
     },
     "metadata": {},
     "output_type": "display_data"
    },
    {
     "data": {
      "text/html": [
       "\n",
       "  <div id=\"d586817b-5382-4d65-8b72-50bc69fffb43\" data-root-id=\"p2094\" style=\"display: contents;\"></div>\n"
      ]
     },
     "metadata": {},
     "output_type": "display_data"
    },
    {
     "data": {
      "application/javascript": "(function(root) {\n  function embed_document(root) {\n  const docs_json = {\"70524147-f9d2-43b0-9dfe-d5e3df2cfc58\":{\"version\":\"3.3.4\",\"title\":\"Bokeh Application\",\"roots\":[{\"type\":\"object\",\"name\":\"Figure\",\"id\":\"p2094\",\"attributes\":{\"x_range\":{\"type\":\"object\",\"name\":\"DataRange1d\",\"id\":\"p2095\"},\"y_range\":{\"type\":\"object\",\"name\":\"DataRange1d\",\"id\":\"p2096\"},\"x_scale\":{\"type\":\"object\",\"name\":\"LinearScale\",\"id\":\"p2104\"},\"y_scale\":{\"type\":\"object\",\"name\":\"LinearScale\",\"id\":\"p2105\"},\"title\":{\"type\":\"object\",\"name\":\"Title\",\"id\":\"p2097\",\"attributes\":{\"text\":\"Bokeh Triangle Graph\"}},\"renderers\":[{\"type\":\"object\",\"name\":\"GlyphRenderer\",\"id\":\"p2133\",\"attributes\":{\"data_source\":{\"type\":\"object\",\"name\":\"ColumnDataSource\",\"id\":\"p2127\",\"attributes\":{\"selected\":{\"type\":\"object\",\"name\":\"Selection\",\"id\":\"p2128\",\"attributes\":{\"indices\":[],\"line_indices\":[]}},\"selection_policy\":{\"type\":\"object\",\"name\":\"UnionRenderers\",\"id\":\"p2129\"},\"data\":{\"type\":\"map\"}}},\"view\":{\"type\":\"object\",\"name\":\"CDSView\",\"id\":\"p2134\",\"attributes\":{\"filter\":{\"type\":\"object\",\"name\":\"AllIndices\",\"id\":\"p2135\"}}},\"glyph\":{\"type\":\"object\",\"name\":\"Scatter\",\"id\":\"p2130\",\"attributes\":{\"x\":{\"type\":\"value\",\"value\":1},\"y\":{\"type\":\"value\",\"value\":5},\"size\":{\"type\":\"value\",\"value\":150},\"line_color\":{\"type\":\"value\",\"value\":\"#1f77b4\"},\"fill_color\":{\"type\":\"value\",\"value\":\"#1f77b4\"},\"marker\":{\"type\":\"value\",\"value\":\"triangle\"}}},\"nonselection_glyph\":{\"type\":\"object\",\"name\":\"Scatter\",\"id\":\"p2131\",\"attributes\":{\"x\":{\"type\":\"value\",\"value\":1},\"y\":{\"type\":\"value\",\"value\":5},\"size\":{\"type\":\"value\",\"value\":150},\"line_color\":{\"type\":\"value\",\"value\":\"#1f77b4\"},\"line_alpha\":{\"type\":\"value\",\"value\":0.1},\"fill_color\":{\"type\":\"value\",\"value\":\"#1f77b4\"},\"fill_alpha\":{\"type\":\"value\",\"value\":0.1},\"hatch_alpha\":{\"type\":\"value\",\"value\":0.1},\"marker\":{\"type\":\"value\",\"value\":\"triangle\"}}},\"muted_glyph\":{\"type\":\"object\",\"name\":\"Scatter\",\"id\":\"p2132\",\"attributes\":{\"x\":{\"type\":\"value\",\"value\":1},\"y\":{\"type\":\"value\",\"value\":5},\"size\":{\"type\":\"value\",\"value\":150},\"line_color\":{\"type\":\"value\",\"value\":\"#1f77b4\"},\"line_alpha\":{\"type\":\"value\",\"value\":0.2},\"fill_color\":{\"type\":\"value\",\"value\":\"#1f77b4\"},\"fill_alpha\":{\"type\":\"value\",\"value\":0.2},\"hatch_alpha\":{\"type\":\"value\",\"value\":0.2},\"marker\":{\"type\":\"value\",\"value\":\"triangle\"}}}}}],\"toolbar\":{\"type\":\"object\",\"name\":\"Toolbar\",\"id\":\"p2103\",\"attributes\":{\"tools\":[{\"type\":\"object\",\"name\":\"PanTool\",\"id\":\"p2116\"},{\"type\":\"object\",\"name\":\"WheelZoomTool\",\"id\":\"p2117\",\"attributes\":{\"renderers\":\"auto\"}},{\"type\":\"object\",\"name\":\"BoxZoomTool\",\"id\":\"p2118\",\"attributes\":{\"overlay\":{\"type\":\"object\",\"name\":\"BoxAnnotation\",\"id\":\"p2119\",\"attributes\":{\"syncable\":false,\"level\":\"overlay\",\"visible\":false,\"left\":{\"type\":\"number\",\"value\":\"nan\"},\"right\":{\"type\":\"number\",\"value\":\"nan\"},\"top\":{\"type\":\"number\",\"value\":\"nan\"},\"bottom\":{\"type\":\"number\",\"value\":\"nan\"},\"left_units\":\"canvas\",\"right_units\":\"canvas\",\"top_units\":\"canvas\",\"bottom_units\":\"canvas\",\"line_color\":\"black\",\"line_alpha\":1.0,\"line_width\":2,\"line_dash\":[4,4],\"fill_color\":\"lightgrey\",\"fill_alpha\":0.5}}}},{\"type\":\"object\",\"name\":\"SaveTool\",\"id\":\"p2124\"},{\"type\":\"object\",\"name\":\"ResetTool\",\"id\":\"p2125\"},{\"type\":\"object\",\"name\":\"HelpTool\",\"id\":\"p2126\"}]}},\"left\":[{\"type\":\"object\",\"name\":\"LinearAxis\",\"id\":\"p2111\",\"attributes\":{\"ticker\":{\"type\":\"object\",\"name\":\"BasicTicker\",\"id\":\"p2112\",\"attributes\":{\"mantissas\":[1,2,5]}},\"formatter\":{\"type\":\"object\",\"name\":\"BasicTickFormatter\",\"id\":\"p2113\"},\"major_label_policy\":{\"type\":\"object\",\"name\":\"AllLabels\",\"id\":\"p2114\"}}}],\"below\":[{\"type\":\"object\",\"name\":\"LinearAxis\",\"id\":\"p2106\",\"attributes\":{\"ticker\":{\"type\":\"object\",\"name\":\"BasicTicker\",\"id\":\"p2107\",\"attributes\":{\"mantissas\":[1,2,5]}},\"formatter\":{\"type\":\"object\",\"name\":\"BasicTickFormatter\",\"id\":\"p2108\"},\"major_label_policy\":{\"type\":\"object\",\"name\":\"AllLabels\",\"id\":\"p2109\"}}}],\"center\":[{\"type\":\"object\",\"name\":\"Grid\",\"id\":\"p2110\",\"attributes\":{\"axis\":{\"id\":\"p2106\"}}},{\"type\":\"object\",\"name\":\"Grid\",\"id\":\"p2115\",\"attributes\":{\"dimension\":1,\"axis\":{\"id\":\"p2111\"}}}]}}]}};\n  const render_items = [{\"docid\":\"70524147-f9d2-43b0-9dfe-d5e3df2cfc58\",\"roots\":{\"p2094\":\"d586817b-5382-4d65-8b72-50bc69fffb43\"},\"root_ids\":[\"p2094\"]}];\n  root.Bokeh.embed.embed_items_notebook(docs_json, render_items);\n  }\n  if (root.Bokeh !== undefined) {\n    embed_document(root);\n  } else {\n    let attempts = 0;\n    const timer = setInterval(function(root) {\n      if (root.Bokeh !== undefined) {\n        clearInterval(timer);\n        embed_document(root);\n      } else {\n        attempts++;\n        if (attempts > 100) {\n          clearInterval(timer);\n          console.log(\"Bokeh: ERROR: Unable to run BokehJS code because BokehJS library is missing\");\n        }\n      }\n    }, 10, root)\n  }\n})(window);",
      "application/vnd.bokehjs_exec.v0+json": ""
     },
     "metadata": {},
     "output_type": "display_data"
    }
   ],
   "source": [
    "# importing the modules\n",
    "from bokeh.plotting import figure, output_file, show\n",
    "\n",
    "# instantiating the figure object\n",
    "graph = figure(title = \"Bokeh Triangle Graph\")\n",
    "\n",
    "# the points to be plotted\n",
    "x = 1\n",
    "y = 5\n",
    "\n",
    "# plotting the graph\n",
    "graph.triangle(x, y, size = 150)\n",
    "\n",
    "# displaying the model\n",
    "show(graph)"
   ]
  },
  {
   "cell_type": "code",
   "execution_count": null,
   "metadata": {},
   "outputs": [
    {
     "data": {
      "application/javascript": "(function(root) {\n  function now() {\n    return new Date();\n  }\n\n  const force = true;\n\n  if (typeof root._bokeh_onload_callbacks === \"undefined\" || force === true) {\n    root._bokeh_onload_callbacks = [];\n    root._bokeh_is_loading = undefined;\n  }\n\nconst JS_MIME_TYPE = 'application/javascript';\n  const HTML_MIME_TYPE = 'text/html';\n  const EXEC_MIME_TYPE = 'application/vnd.bokehjs_exec.v0+json';\n  const CLASS_NAME = 'output_bokeh rendered_html';\n\n  /**\n   * Render data to the DOM node\n   */\n  function render(props, node) {\n    const script = document.createElement(\"script\");\n    node.appendChild(script);\n  }\n\n  /**\n   * Handle when an output is cleared or removed\n   */\n  function handleClearOutput(event, handle) {\n    function drop(id) {\n      const view = Bokeh.index.get_by_id(id)\n      if (view != null) {\n        view.model.document.clear()\n        Bokeh.index.delete(view)\n      }\n    }\n\n    const cell = handle.cell;\n\n    const id = cell.output_area._bokeh_element_id;\n    const server_id = cell.output_area._bokeh_server_id;\n\n    // Clean up Bokeh references\n    if (id != null) {\n      drop(id)\n    }\n\n    if (server_id !== undefined) {\n      // Clean up Bokeh references\n      const cmd_clean = \"from bokeh.io.state import curstate; print(curstate().uuid_to_server['\" + server_id + \"'].get_sessions()[0].document.roots[0]._id)\";\n      cell.notebook.kernel.execute(cmd_clean, {\n        iopub: {\n          output: function(msg) {\n            const id = msg.content.text.trim()\n            drop(id)\n          }\n        }\n      });\n      // Destroy server and session\n      const cmd_destroy = \"import bokeh.io.notebook as ion; ion.destroy_server('\" + server_id + \"')\";\n      cell.notebook.kernel.execute(cmd_destroy);\n    }\n  }\n\n  /**\n   * Handle when a new output is added\n   */\n  function handleAddOutput(event, handle) {\n    const output_area = handle.output_area;\n    const output = handle.output;\n\n    // limit handleAddOutput to display_data with EXEC_MIME_TYPE content only\n    if ((output.output_type != \"display_data\") || (!Object.prototype.hasOwnProperty.call(output.data, EXEC_MIME_TYPE))) {\n      return\n    }\n\n    const toinsert = output_area.element.find(\".\" + CLASS_NAME.split(' ')[0]);\n\n    if (output.metadata[EXEC_MIME_TYPE][\"id\"] !== undefined) {\n      toinsert[toinsert.length - 1].firstChild.textContent = output.data[JS_MIME_TYPE];\n      // store reference to embed id on output_area\n      output_area._bokeh_element_id = output.metadata[EXEC_MIME_TYPE][\"id\"];\n    }\n    if (output.metadata[EXEC_MIME_TYPE][\"server_id\"] !== undefined) {\n      const bk_div = document.createElement(\"div\");\n      bk_div.innerHTML = output.data[HTML_MIME_TYPE];\n      const script_attrs = bk_div.children[0].attributes;\n      for (let i = 0; i < script_attrs.length; i++) {\n        toinsert[toinsert.length - 1].firstChild.setAttribute(script_attrs[i].name, script_attrs[i].value);\n        toinsert[toinsert.length - 1].firstChild.textContent = bk_div.children[0].textContent\n      }\n      // store reference to server id on output_area\n      output_area._bokeh_server_id = output.metadata[EXEC_MIME_TYPE][\"server_id\"];\n    }\n  }\n\n  function register_renderer(events, OutputArea) {\n\n    function append_mime(data, metadata, element) {\n      // create a DOM node to render to\n      const toinsert = this.create_output_subarea(\n        metadata,\n        CLASS_NAME,\n        EXEC_MIME_TYPE\n      );\n      this.keyboard_manager.register_events(toinsert);\n      // Render to node\n      const props = {data: data, metadata: metadata[EXEC_MIME_TYPE]};\n      render(props, toinsert[toinsert.length - 1]);\n      element.append(toinsert);\n      return toinsert\n    }\n\n    /* Handle when an output is cleared or removed */\n    events.on('clear_output.CodeCell', handleClearOutput);\n    events.on('delete.Cell', handleClearOutput);\n\n    /* Handle when a new output is added */\n    events.on('output_added.OutputArea', handleAddOutput);\n\n    /**\n     * Register the mime type and append_mime function with output_area\n     */\n    OutputArea.prototype.register_mime_type(EXEC_MIME_TYPE, append_mime, {\n      /* Is output safe? */\n      safe: true,\n      /* Index of renderer in `output_area.display_order` */\n      index: 0\n    });\n  }\n\n  // register the mime type if in Jupyter Notebook environment and previously unregistered\n  if (root.Jupyter !== undefined) {\n    const events = require('base/js/events');\n    const OutputArea = require('notebook/js/outputarea').OutputArea;\n\n    if (OutputArea.prototype.mime_types().indexOf(EXEC_MIME_TYPE) == -1) {\n      register_renderer(events, OutputArea);\n    }\n  }\n  if (typeof (root._bokeh_timeout) === \"undefined\" || force === true) {\n    root._bokeh_timeout = Date.now() + 5000;\n    root._bokeh_failed_load = false;\n  }\n\n  const NB_LOAD_WARNING = {'data': {'text/html':\n     \"<div style='background-color: #fdd'>\\n\"+\n     \"<p>\\n\"+\n     \"BokehJS does not appear to have successfully loaded. If loading BokehJS from CDN, this \\n\"+\n     \"may be due to a slow or bad network connection. Possible fixes:\\n\"+\n     \"</p>\\n\"+\n     \"<ul>\\n\"+\n     \"<li>re-rerun `output_notebook()` to attempt to load from CDN again, or</li>\\n\"+\n     \"<li>use INLINE resources instead, as so:</li>\\n\"+\n     \"</ul>\\n\"+\n     \"<code>\\n\"+\n     \"from bokeh.resources import INLINE\\n\"+\n     \"output_notebook(resources=INLINE)\\n\"+\n     \"</code>\\n\"+\n     \"</div>\"}};\n\n  function display_loaded() {\n    const el = document.getElementById(null);\n    if (el != null) {\n      el.textContent = \"BokehJS is loading...\";\n    }\n    if (root.Bokeh !== undefined) {\n      if (el != null) {\n        el.textContent = \"BokehJS \" + root.Bokeh.version + \" successfully loaded.\";\n      }\n    } else if (Date.now() < root._bokeh_timeout) {\n      setTimeout(display_loaded, 100)\n    }\n  }\n\n  function run_callbacks() {\n    try {\n      root._bokeh_onload_callbacks.forEach(function(callback) {\n        if (callback != null)\n          callback();\n      });\n    } finally {\n      delete root._bokeh_onload_callbacks\n    }\n    console.debug(\"Bokeh: all callbacks have finished\");\n  }\n\n  function load_libs(css_urls, js_urls, callback) {\n    if (css_urls == null) css_urls = [];\n    if (js_urls == null) js_urls = [];\n\n    root._bokeh_onload_callbacks.push(callback);\n    if (root._bokeh_is_loading > 0) {\n      console.debug(\"Bokeh: BokehJS is being loaded, scheduling callback at\", now());\n      return null;\n    }\n    if (js_urls == null || js_urls.length === 0) {\n      run_callbacks();\n      return null;\n    }\n    console.debug(\"Bokeh: BokehJS not loaded, scheduling load and callback at\", now());\n    root._bokeh_is_loading = css_urls.length + js_urls.length;\n\n    function on_load() {\n      root._bokeh_is_loading--;\n      if (root._bokeh_is_loading === 0) {\n        console.debug(\"Bokeh: all BokehJS libraries/stylesheets loaded\");\n        run_callbacks()\n      }\n    }\n\n    function on_error(url) {\n      console.error(\"failed to load \" + url);\n    }\n\n    for (let i = 0; i < css_urls.length; i++) {\n      const url = css_urls[i];\n      const element = document.createElement(\"link\");\n      element.onload = on_load;\n      element.onerror = on_error.bind(null, url);\n      element.rel = \"stylesheet\";\n      element.type = \"text/css\";\n      element.href = url;\n      console.debug(\"Bokeh: injecting link tag for BokehJS stylesheet: \", url);\n      document.body.appendChild(element);\n    }\n\n    for (let i = 0; i < js_urls.length; i++) {\n      const url = js_urls[i];\n      const element = document.createElement('script');\n      element.onload = on_load;\n      element.onerror = on_error.bind(null, url);\n      element.async = false;\n      element.src = url;\n      console.debug(\"Bokeh: injecting script tag for BokehJS library: \", url);\n      document.head.appendChild(element);\n    }\n  };\n\n  function inject_raw_css(css) {\n    const element = document.createElement(\"style\");\n    element.appendChild(document.createTextNode(css));\n    document.body.appendChild(element);\n  }\n\n  const js_urls = [\"https://cdn.bokeh.org/bokeh/release/bokeh-3.3.4.min.js\", \"https://cdn.bokeh.org/bokeh/release/bokeh-gl-3.3.4.min.js\", \"https://cdn.bokeh.org/bokeh/release/bokeh-widgets-3.3.4.min.js\", \"https://cdn.bokeh.org/bokeh/release/bokeh-tables-3.3.4.min.js\", \"https://cdn.bokeh.org/bokeh/release/bokeh-mathjax-3.3.4.min.js\"];\n  const css_urls = [];\n\n  const inline_js = [    function(Bokeh) {\n      Bokeh.set_log_level(\"info\");\n    },\nfunction(Bokeh) {\n    }\n  ];\n\n  function run_inline_js() {\n    if (root.Bokeh !== undefined || force === true) {\n          for (let i = 0; i < inline_js.length; i++) {\n      inline_js[i].call(root, root.Bokeh);\n    }\n} else if (Date.now() < root._bokeh_timeout) {\n      setTimeout(run_inline_js, 100);\n    } else if (!root._bokeh_failed_load) {\n      console.log(\"Bokeh: BokehJS failed to load within specified timeout.\");\n      root._bokeh_failed_load = true;\n    } else if (force !== true) {\n      const cell = $(document.getElementById(null)).parents('.cell').data().cell;\n      cell.output_area.append_execute_result(NB_LOAD_WARNING)\n    }\n  }\n\n  if (root._bokeh_is_loading === 0) {\n    console.debug(\"Bokeh: BokehJS loaded, going straight to plotting\");\n    run_inline_js();\n  } else {\n    load_libs(css_urls, js_urls, function() {\n      console.debug(\"Bokeh: BokehJS plotting callback run at\", now());\n      run_inline_js();\n    });\n  }\n}(window));",
      "application/vnd.bokehjs_load.v0+json": ""
     },
     "metadata": {},
     "output_type": "display_data"
    },
    {
     "data": {
      "text/html": [
       "\n",
       "  <div id=\"fd1e1428-feba-460e-9402-83e9d46f2ad9\" data-root-id=\"p2136\" style=\"display: contents;\"></div>\n"
      ]
     },
     "metadata": {},
     "output_type": "display_data"
    },
    {
     "data": {
      "application/javascript": "(function(root) {\n  function embed_document(root) {\n  const docs_json = {\"71d967bc-6be0-4db0-96c2-898d5e63202b\":{\"version\":\"3.3.4\",\"title\":\"Bokeh Application\",\"roots\":[{\"type\":\"object\",\"name\":\"Figure\",\"id\":\"p2136\",\"attributes\":{\"x_range\":{\"type\":\"object\",\"name\":\"DataRange1d\",\"id\":\"p2137\"},\"y_range\":{\"type\":\"object\",\"name\":\"DataRange1d\",\"id\":\"p2138\"},\"x_scale\":{\"type\":\"object\",\"name\":\"LinearScale\",\"id\":\"p2146\"},\"y_scale\":{\"type\":\"object\",\"name\":\"LinearScale\",\"id\":\"p2147\"},\"title\":{\"type\":\"object\",\"name\":\"Title\",\"id\":\"p2139\",\"attributes\":{\"text\":\"Bokeh Multiple Polygons Graph\"}},\"renderers\":[{\"type\":\"object\",\"name\":\"GlyphRenderer\",\"id\":\"p2175\",\"attributes\":{\"data_source\":{\"type\":\"object\",\"name\":\"ColumnDataSource\",\"id\":\"p2169\",\"attributes\":{\"selected\":{\"type\":\"object\",\"name\":\"Selection\",\"id\":\"p2170\",\"attributes\":{\"indices\":[],\"line_indices\":[]}},\"selection_policy\":{\"type\":\"object\",\"name\":\"UnionRenderers\",\"id\":\"p2171\"},\"data\":{\"type\":\"map\",\"entries\":[[\"xs\",[[[[1,1,3,4]]]]],[\"ys\",[[[[1,3,2,1]]]]]]}}},\"view\":{\"type\":\"object\",\"name\":\"CDSView\",\"id\":\"p2176\",\"attributes\":{\"filter\":{\"type\":\"object\",\"name\":\"AllIndices\",\"id\":\"p2177\"}}},\"glyph\":{\"type\":\"object\",\"name\":\"MultiPolygons\",\"id\":\"p2172\",\"attributes\":{\"xs\":{\"type\":\"field\",\"field\":\"xs\"},\"ys\":{\"type\":\"field\",\"field\":\"ys\"},\"line_color\":{\"type\":\"value\",\"value\":\"#1f77b4\"},\"fill_color\":{\"type\":\"value\",\"value\":\"#1f77b4\"}}},\"nonselection_glyph\":{\"type\":\"object\",\"name\":\"MultiPolygons\",\"id\":\"p2173\",\"attributes\":{\"xs\":{\"type\":\"field\",\"field\":\"xs\"},\"ys\":{\"type\":\"field\",\"field\":\"ys\"},\"line_color\":{\"type\":\"value\",\"value\":\"#1f77b4\"},\"line_alpha\":{\"type\":\"value\",\"value\":0.1},\"fill_color\":{\"type\":\"value\",\"value\":\"#1f77b4\"},\"fill_alpha\":{\"type\":\"value\",\"value\":0.1},\"hatch_alpha\":{\"type\":\"value\",\"value\":0.1}}},\"muted_glyph\":{\"type\":\"object\",\"name\":\"MultiPolygons\",\"id\":\"p2174\",\"attributes\":{\"xs\":{\"type\":\"field\",\"field\":\"xs\"},\"ys\":{\"type\":\"field\",\"field\":\"ys\"},\"line_color\":{\"type\":\"value\",\"value\":\"#1f77b4\"},\"line_alpha\":{\"type\":\"value\",\"value\":0.2},\"fill_color\":{\"type\":\"value\",\"value\":\"#1f77b4\"},\"fill_alpha\":{\"type\":\"value\",\"value\":0.2},\"hatch_alpha\":{\"type\":\"value\",\"value\":0.2}}}}}],\"toolbar\":{\"type\":\"object\",\"name\":\"Toolbar\",\"id\":\"p2145\",\"attributes\":{\"tools\":[{\"type\":\"object\",\"name\":\"PanTool\",\"id\":\"p2158\"},{\"type\":\"object\",\"name\":\"WheelZoomTool\",\"id\":\"p2159\",\"attributes\":{\"renderers\":\"auto\"}},{\"type\":\"object\",\"name\":\"BoxZoomTool\",\"id\":\"p2160\",\"attributes\":{\"overlay\":{\"type\":\"object\",\"name\":\"BoxAnnotation\",\"id\":\"p2161\",\"attributes\":{\"syncable\":false,\"level\":\"overlay\",\"visible\":false,\"left\":{\"type\":\"number\",\"value\":\"nan\"},\"right\":{\"type\":\"number\",\"value\":\"nan\"},\"top\":{\"type\":\"number\",\"value\":\"nan\"},\"bottom\":{\"type\":\"number\",\"value\":\"nan\"},\"left_units\":\"canvas\",\"right_units\":\"canvas\",\"top_units\":\"canvas\",\"bottom_units\":\"canvas\",\"line_color\":\"black\",\"line_alpha\":1.0,\"line_width\":2,\"line_dash\":[4,4],\"fill_color\":\"lightgrey\",\"fill_alpha\":0.5}}}},{\"type\":\"object\",\"name\":\"SaveTool\",\"id\":\"p2166\"},{\"type\":\"object\",\"name\":\"ResetTool\",\"id\":\"p2167\"},{\"type\":\"object\",\"name\":\"HelpTool\",\"id\":\"p2168\"}]}},\"left\":[{\"type\":\"object\",\"name\":\"LinearAxis\",\"id\":\"p2153\",\"attributes\":{\"ticker\":{\"type\":\"object\",\"name\":\"BasicTicker\",\"id\":\"p2154\",\"attributes\":{\"mantissas\":[1,2,5]}},\"formatter\":{\"type\":\"object\",\"name\":\"BasicTickFormatter\",\"id\":\"p2155\"},\"major_label_policy\":{\"type\":\"object\",\"name\":\"AllLabels\",\"id\":\"p2156\"}}}],\"below\":[{\"type\":\"object\",\"name\":\"LinearAxis\",\"id\":\"p2148\",\"attributes\":{\"ticker\":{\"type\":\"object\",\"name\":\"BasicTicker\",\"id\":\"p2149\",\"attributes\":{\"mantissas\":[1,2,5]}},\"formatter\":{\"type\":\"object\",\"name\":\"BasicTickFormatter\",\"id\":\"p2150\"},\"major_label_policy\":{\"type\":\"object\",\"name\":\"AllLabels\",\"id\":\"p2151\"}}}],\"center\":[{\"type\":\"object\",\"name\":\"Grid\",\"id\":\"p2152\",\"attributes\":{\"axis\":{\"id\":\"p2148\"}}},{\"type\":\"object\",\"name\":\"Grid\",\"id\":\"p2157\",\"attributes\":{\"dimension\":1,\"axis\":{\"id\":\"p2153\"}}}]}}]}};\n  const render_items = [{\"docid\":\"71d967bc-6be0-4db0-96c2-898d5e63202b\",\"roots\":{\"p2136\":\"fd1e1428-feba-460e-9402-83e9d46f2ad9\"},\"root_ids\":[\"p2136\"]}];\n  root.Bokeh.embed.embed_items_notebook(docs_json, render_items);\n  }\n  if (root.Bokeh !== undefined) {\n    embed_document(root);\n  } else {\n    let attempts = 0;\n    const timer = setInterval(function(root) {\n      if (root.Bokeh !== undefined) {\n        clearInterval(timer);\n        embed_document(root);\n      } else {\n        attempts++;\n        if (attempts > 100) {\n          clearInterval(timer);\n          console.log(\"Bokeh: ERROR: Unable to run BokehJS code because BokehJS library is missing\");\n        }\n      }\n    }, 10, root)\n  }\n})(window);",
      "application/vnd.bokehjs_exec.v0+json": ""
     },
     "metadata": {},
     "output_type": "display_data"
    }
   ],
   "source": [
    "# importing the modules\n",
    "from bokeh.plotting import figure, output_file, show\n",
    "\n",
    "\n",
    "# instantiating the figure object\n",
    "graph = figure(title = \"Bokeh Multiple Polygons Graph\")\n",
    "\n",
    "# the points to be plotted\n",
    "xs = [[[[1, 1, 3, 4]]]]\n",
    "ys = [[[[1, 3, 2 ,1]]]]\n",
    "\n",
    "# plotting the graph\n",
    "graph.multi_polygons(xs, ys)\n",
    "\n",
    "# displaying the model\n",
    "show(graph)"
   ]
  },
  {
   "cell_type": "code",
   "execution_count": null,
   "metadata": {},
   "outputs": [
    {
     "data": {
      "application/javascript": "(function(root) {\n  function now() {\n    return new Date();\n  }\n\n  const force = true;\n\n  if (typeof root._bokeh_onload_callbacks === \"undefined\" || force === true) {\n    root._bokeh_onload_callbacks = [];\n    root._bokeh_is_loading = undefined;\n  }\n\nconst JS_MIME_TYPE = 'application/javascript';\n  const HTML_MIME_TYPE = 'text/html';\n  const EXEC_MIME_TYPE = 'application/vnd.bokehjs_exec.v0+json';\n  const CLASS_NAME = 'output_bokeh rendered_html';\n\n  /**\n   * Render data to the DOM node\n   */\n  function render(props, node) {\n    const script = document.createElement(\"script\");\n    node.appendChild(script);\n  }\n\n  /**\n   * Handle when an output is cleared or removed\n   */\n  function handleClearOutput(event, handle) {\n    function drop(id) {\n      const view = Bokeh.index.get_by_id(id)\n      if (view != null) {\n        view.model.document.clear()\n        Bokeh.index.delete(view)\n      }\n    }\n\n    const cell = handle.cell;\n\n    const id = cell.output_area._bokeh_element_id;\n    const server_id = cell.output_area._bokeh_server_id;\n\n    // Clean up Bokeh references\n    if (id != null) {\n      drop(id)\n    }\n\n    if (server_id !== undefined) {\n      // Clean up Bokeh references\n      const cmd_clean = \"from bokeh.io.state import curstate; print(curstate().uuid_to_server['\" + server_id + \"'].get_sessions()[0].document.roots[0]._id)\";\n      cell.notebook.kernel.execute(cmd_clean, {\n        iopub: {\n          output: function(msg) {\n            const id = msg.content.text.trim()\n            drop(id)\n          }\n        }\n      });\n      // Destroy server and session\n      const cmd_destroy = \"import bokeh.io.notebook as ion; ion.destroy_server('\" + server_id + \"')\";\n      cell.notebook.kernel.execute(cmd_destroy);\n    }\n  }\n\n  /**\n   * Handle when a new output is added\n   */\n  function handleAddOutput(event, handle) {\n    const output_area = handle.output_area;\n    const output = handle.output;\n\n    // limit handleAddOutput to display_data with EXEC_MIME_TYPE content only\n    if ((output.output_type != \"display_data\") || (!Object.prototype.hasOwnProperty.call(output.data, EXEC_MIME_TYPE))) {\n      return\n    }\n\n    const toinsert = output_area.element.find(\".\" + CLASS_NAME.split(' ')[0]);\n\n    if (output.metadata[EXEC_MIME_TYPE][\"id\"] !== undefined) {\n      toinsert[toinsert.length - 1].firstChild.textContent = output.data[JS_MIME_TYPE];\n      // store reference to embed id on output_area\n      output_area._bokeh_element_id = output.metadata[EXEC_MIME_TYPE][\"id\"];\n    }\n    if (output.metadata[EXEC_MIME_TYPE][\"server_id\"] !== undefined) {\n      const bk_div = document.createElement(\"div\");\n      bk_div.innerHTML = output.data[HTML_MIME_TYPE];\n      const script_attrs = bk_div.children[0].attributes;\n      for (let i = 0; i < script_attrs.length; i++) {\n        toinsert[toinsert.length - 1].firstChild.setAttribute(script_attrs[i].name, script_attrs[i].value);\n        toinsert[toinsert.length - 1].firstChild.textContent = bk_div.children[0].textContent\n      }\n      // store reference to server id on output_area\n      output_area._bokeh_server_id = output.metadata[EXEC_MIME_TYPE][\"server_id\"];\n    }\n  }\n\n  function register_renderer(events, OutputArea) {\n\n    function append_mime(data, metadata, element) {\n      // create a DOM node to render to\n      const toinsert = this.create_output_subarea(\n        metadata,\n        CLASS_NAME,\n        EXEC_MIME_TYPE\n      );\n      this.keyboard_manager.register_events(toinsert);\n      // Render to node\n      const props = {data: data, metadata: metadata[EXEC_MIME_TYPE]};\n      render(props, toinsert[toinsert.length - 1]);\n      element.append(toinsert);\n      return toinsert\n    }\n\n    /* Handle when an output is cleared or removed */\n    events.on('clear_output.CodeCell', handleClearOutput);\n    events.on('delete.Cell', handleClearOutput);\n\n    /* Handle when a new output is added */\n    events.on('output_added.OutputArea', handleAddOutput);\n\n    /**\n     * Register the mime type and append_mime function with output_area\n     */\n    OutputArea.prototype.register_mime_type(EXEC_MIME_TYPE, append_mime, {\n      /* Is output safe? */\n      safe: true,\n      /* Index of renderer in `output_area.display_order` */\n      index: 0\n    });\n  }\n\n  // register the mime type if in Jupyter Notebook environment and previously unregistered\n  if (root.Jupyter !== undefined) {\n    const events = require('base/js/events');\n    const OutputArea = require('notebook/js/outputarea').OutputArea;\n\n    if (OutputArea.prototype.mime_types().indexOf(EXEC_MIME_TYPE) == -1) {\n      register_renderer(events, OutputArea);\n    }\n  }\n  if (typeof (root._bokeh_timeout) === \"undefined\" || force === true) {\n    root._bokeh_timeout = Date.now() + 5000;\n    root._bokeh_failed_load = false;\n  }\n\n  const NB_LOAD_WARNING = {'data': {'text/html':\n     \"<div style='background-color: #fdd'>\\n\"+\n     \"<p>\\n\"+\n     \"BokehJS does not appear to have successfully loaded. If loading BokehJS from CDN, this \\n\"+\n     \"may be due to a slow or bad network connection. Possible fixes:\\n\"+\n     \"</p>\\n\"+\n     \"<ul>\\n\"+\n     \"<li>re-rerun `output_notebook()` to attempt to load from CDN again, or</li>\\n\"+\n     \"<li>use INLINE resources instead, as so:</li>\\n\"+\n     \"</ul>\\n\"+\n     \"<code>\\n\"+\n     \"from bokeh.resources import INLINE\\n\"+\n     \"output_notebook(resources=INLINE)\\n\"+\n     \"</code>\\n\"+\n     \"</div>\"}};\n\n  function display_loaded() {\n    const el = document.getElementById(null);\n    if (el != null) {\n      el.textContent = \"BokehJS is loading...\";\n    }\n    if (root.Bokeh !== undefined) {\n      if (el != null) {\n        el.textContent = \"BokehJS \" + root.Bokeh.version + \" successfully loaded.\";\n      }\n    } else if (Date.now() < root._bokeh_timeout) {\n      setTimeout(display_loaded, 100)\n    }\n  }\n\n  function run_callbacks() {\n    try {\n      root._bokeh_onload_callbacks.forEach(function(callback) {\n        if (callback != null)\n          callback();\n      });\n    } finally {\n      delete root._bokeh_onload_callbacks\n    }\n    console.debug(\"Bokeh: all callbacks have finished\");\n  }\n\n  function load_libs(css_urls, js_urls, callback) {\n    if (css_urls == null) css_urls = [];\n    if (js_urls == null) js_urls = [];\n\n    root._bokeh_onload_callbacks.push(callback);\n    if (root._bokeh_is_loading > 0) {\n      console.debug(\"Bokeh: BokehJS is being loaded, scheduling callback at\", now());\n      return null;\n    }\n    if (js_urls == null || js_urls.length === 0) {\n      run_callbacks();\n      return null;\n    }\n    console.debug(\"Bokeh: BokehJS not loaded, scheduling load and callback at\", now());\n    root._bokeh_is_loading = css_urls.length + js_urls.length;\n\n    function on_load() {\n      root._bokeh_is_loading--;\n      if (root._bokeh_is_loading === 0) {\n        console.debug(\"Bokeh: all BokehJS libraries/stylesheets loaded\");\n        run_callbacks()\n      }\n    }\n\n    function on_error(url) {\n      console.error(\"failed to load \" + url);\n    }\n\n    for (let i = 0; i < css_urls.length; i++) {\n      const url = css_urls[i];\n      const element = document.createElement(\"link\");\n      element.onload = on_load;\n      element.onerror = on_error.bind(null, url);\n      element.rel = \"stylesheet\";\n      element.type = \"text/css\";\n      element.href = url;\n      console.debug(\"Bokeh: injecting link tag for BokehJS stylesheet: \", url);\n      document.body.appendChild(element);\n    }\n\n    for (let i = 0; i < js_urls.length; i++) {\n      const url = js_urls[i];\n      const element = document.createElement('script');\n      element.onload = on_load;\n      element.onerror = on_error.bind(null, url);\n      element.async = false;\n      element.src = url;\n      console.debug(\"Bokeh: injecting script tag for BokehJS library: \", url);\n      document.head.appendChild(element);\n    }\n  };\n\n  function inject_raw_css(css) {\n    const element = document.createElement(\"style\");\n    element.appendChild(document.createTextNode(css));\n    document.body.appendChild(element);\n  }\n\n  const js_urls = [\"https://cdn.bokeh.org/bokeh/release/bokeh-3.3.4.min.js\", \"https://cdn.bokeh.org/bokeh/release/bokeh-gl-3.3.4.min.js\", \"https://cdn.bokeh.org/bokeh/release/bokeh-widgets-3.3.4.min.js\", \"https://cdn.bokeh.org/bokeh/release/bokeh-tables-3.3.4.min.js\", \"https://cdn.bokeh.org/bokeh/release/bokeh-mathjax-3.3.4.min.js\"];\n  const css_urls = [];\n\n  const inline_js = [    function(Bokeh) {\n      Bokeh.set_log_level(\"info\");\n    },\nfunction(Bokeh) {\n    }\n  ];\n\n  function run_inline_js() {\n    if (root.Bokeh !== undefined || force === true) {\n          for (let i = 0; i < inline_js.length; i++) {\n      inline_js[i].call(root, root.Bokeh);\n    }\n} else if (Date.now() < root._bokeh_timeout) {\n      setTimeout(run_inline_js, 100);\n    } else if (!root._bokeh_failed_load) {\n      console.log(\"Bokeh: BokehJS failed to load within specified timeout.\");\n      root._bokeh_failed_load = true;\n    } else if (force !== true) {\n      const cell = $(document.getElementById(null)).parents('.cell').data().cell;\n      cell.output_area.append_execute_result(NB_LOAD_WARNING)\n    }\n  }\n\n  if (root._bokeh_is_loading === 0) {\n    console.debug(\"Bokeh: BokehJS loaded, going straight to plotting\");\n    run_inline_js();\n  } else {\n    load_libs(css_urls, js_urls, function() {\n      console.debug(\"Bokeh: BokehJS plotting callback run at\", now());\n      run_inline_js();\n    });\n  }\n}(window));",
      "application/vnd.bokehjs_load.v0+json": ""
     },
     "metadata": {},
     "output_type": "display_data"
    },
    {
     "data": {
      "text/html": [
       "\n",
       "  <div id=\"f14457a4-7e6a-4a28-9119-72b2facf973c\" data-root-id=\"p2217\" style=\"display: contents;\"></div>\n"
      ]
     },
     "metadata": {},
     "output_type": "display_data"
    },
    {
     "data": {
      "application/javascript": "(function(root) {\n  function embed_document(root) {\n  const docs_json = {\"ce42061c-2cce-44c8-8cb8-23c5d9eac658\":{\"version\":\"3.3.4\",\"title\":\"Bokeh Application\",\"roots\":[{\"type\":\"object\",\"name\":\"Figure\",\"id\":\"p2217\",\"attributes\":{\"x_range\":{\"type\":\"object\",\"name\":\"DataRange1d\",\"id\":\"p2218\"},\"y_range\":{\"type\":\"object\",\"name\":\"DataRange1d\",\"id\":\"p2219\"},\"x_scale\":{\"type\":\"object\",\"name\":\"LinearScale\",\"id\":\"p2227\"},\"y_scale\":{\"type\":\"object\",\"name\":\"LinearScale\",\"id\":\"p2228\"},\"title\":{\"type\":\"object\",\"name\":\"Title\",\"id\":\"p2220\",\"attributes\":{\"text\":\"Bokeh Oval Graph\"}},\"renderers\":[{\"type\":\"object\",\"name\":\"GlyphRenderer\",\"id\":\"p2256\",\"attributes\":{\"data_source\":{\"type\":\"object\",\"name\":\"ColumnDataSource\",\"id\":\"p2250\",\"attributes\":{\"selected\":{\"type\":\"object\",\"name\":\"Selection\",\"id\":\"p2251\",\"attributes\":{\"indices\":[],\"line_indices\":[]}},\"selection_policy\":{\"type\":\"object\",\"name\":\"UnionRenderers\",\"id\":\"p2252\"},\"data\":{\"type\":\"map\"}}},\"view\":{\"type\":\"object\",\"name\":\"CDSView\",\"id\":\"p2257\",\"attributes\":{\"filter\":{\"type\":\"object\",\"name\":\"AllIndices\",\"id\":\"p2258\"}}},\"glyph\":{\"type\":\"object\",\"name\":\"Ellipse\",\"id\":\"p2253\",\"attributes\":{\"x\":{\"type\":\"value\",\"value\":1},\"y\":{\"type\":\"value\",\"value\":2},\"width\":{\"type\":\"value\",\"value\":0.5},\"height\":{\"type\":\"value\",\"value\":1},\"line_color\":{\"type\":\"value\",\"value\":\"#1f77b4\"},\"fill_color\":{\"type\":\"value\",\"value\":\"#1f77b4\"}}},\"nonselection_glyph\":{\"type\":\"object\",\"name\":\"Ellipse\",\"id\":\"p2254\",\"attributes\":{\"x\":{\"type\":\"value\",\"value\":1},\"y\":{\"type\":\"value\",\"value\":2},\"width\":{\"type\":\"value\",\"value\":0.5},\"height\":{\"type\":\"value\",\"value\":1},\"line_color\":{\"type\":\"value\",\"value\":\"#1f77b4\"},\"line_alpha\":{\"type\":\"value\",\"value\":0.1},\"fill_color\":{\"type\":\"value\",\"value\":\"#1f77b4\"},\"fill_alpha\":{\"type\":\"value\",\"value\":0.1},\"hatch_alpha\":{\"type\":\"value\",\"value\":0.1}}},\"muted_glyph\":{\"type\":\"object\",\"name\":\"Ellipse\",\"id\":\"p2255\",\"attributes\":{\"x\":{\"type\":\"value\",\"value\":1},\"y\":{\"type\":\"value\",\"value\":2},\"width\":{\"type\":\"value\",\"value\":0.5},\"height\":{\"type\":\"value\",\"value\":1},\"line_color\":{\"type\":\"value\",\"value\":\"#1f77b4\"},\"line_alpha\":{\"type\":\"value\",\"value\":0.2},\"fill_color\":{\"type\":\"value\",\"value\":\"#1f77b4\"},\"fill_alpha\":{\"type\":\"value\",\"value\":0.2},\"hatch_alpha\":{\"type\":\"value\",\"value\":0.2}}}}},{\"type\":\"object\",\"name\":\"GlyphRenderer\",\"id\":\"p2265\",\"attributes\":{\"data_source\":{\"type\":\"object\",\"name\":\"ColumnDataSource\",\"id\":\"p2259\",\"attributes\":{\"selected\":{\"type\":\"object\",\"name\":\"Selection\",\"id\":\"p2260\",\"attributes\":{\"indices\":[],\"line_indices\":[]}},\"selection_policy\":{\"type\":\"object\",\"name\":\"UnionRenderers\",\"id\":\"p2261\"},\"data\":{\"type\":\"map\"}}},\"view\":{\"type\":\"object\",\"name\":\"CDSView\",\"id\":\"p2266\",\"attributes\":{\"filter\":{\"type\":\"object\",\"name\":\"AllIndices\",\"id\":\"p2267\"}}},\"glyph\":{\"type\":\"object\",\"name\":\"Ellipse\",\"id\":\"p2262\",\"attributes\":{\"x\":{\"type\":\"value\",\"value\":2},\"y\":{\"type\":\"value\",\"value\":4},\"width\":{\"type\":\"value\",\"value\":0.5},\"height\":{\"type\":\"value\",\"value\":1},\"line_color\":{\"type\":\"value\",\"value\":\"#1f77b4\"},\"fill_color\":{\"type\":\"value\",\"value\":\"#1f77b4\"}}},\"nonselection_glyph\":{\"type\":\"object\",\"name\":\"Ellipse\",\"id\":\"p2263\",\"attributes\":{\"x\":{\"type\":\"value\",\"value\":2},\"y\":{\"type\":\"value\",\"value\":4},\"width\":{\"type\":\"value\",\"value\":0.5},\"height\":{\"type\":\"value\",\"value\":1},\"line_color\":{\"type\":\"value\",\"value\":\"#1f77b4\"},\"line_alpha\":{\"type\":\"value\",\"value\":0.1},\"fill_color\":{\"type\":\"value\",\"value\":\"#1f77b4\"},\"fill_alpha\":{\"type\":\"value\",\"value\":0.1},\"hatch_alpha\":{\"type\":\"value\",\"value\":0.1}}},\"muted_glyph\":{\"type\":\"object\",\"name\":\"Ellipse\",\"id\":\"p2264\",\"attributes\":{\"x\":{\"type\":\"value\",\"value\":2},\"y\":{\"type\":\"value\",\"value\":4},\"width\":{\"type\":\"value\",\"value\":0.5},\"height\":{\"type\":\"value\",\"value\":1},\"line_color\":{\"type\":\"value\",\"value\":\"#1f77b4\"},\"line_alpha\":{\"type\":\"value\",\"value\":0.2},\"fill_color\":{\"type\":\"value\",\"value\":\"#1f77b4\"},\"fill_alpha\":{\"type\":\"value\",\"value\":0.2},\"hatch_alpha\":{\"type\":\"value\",\"value\":0.2}}}}},{\"type\":\"object\",\"name\":\"GlyphRenderer\",\"id\":\"p2274\",\"attributes\":{\"data_source\":{\"type\":\"object\",\"name\":\"ColumnDataSource\",\"id\":\"p2268\",\"attributes\":{\"selected\":{\"type\":\"object\",\"name\":\"Selection\",\"id\":\"p2269\",\"attributes\":{\"indices\":[],\"line_indices\":[]}},\"selection_policy\":{\"type\":\"object\",\"name\":\"UnionRenderers\",\"id\":\"p2270\"},\"data\":{\"type\":\"map\"}}},\"view\":{\"type\":\"object\",\"name\":\"CDSView\",\"id\":\"p2275\",\"attributes\":{\"filter\":{\"type\":\"object\",\"name\":\"AllIndices\",\"id\":\"p2276\"}}},\"glyph\":{\"type\":\"object\",\"name\":\"Ellipse\",\"id\":\"p2271\",\"attributes\":{\"x\":{\"type\":\"value\",\"value\":3},\"y\":{\"type\":\"value\",\"value\":6},\"width\":{\"type\":\"value\",\"value\":0.5},\"height\":{\"type\":\"value\",\"value\":1},\"line_color\":{\"type\":\"value\",\"value\":\"#1f77b4\"},\"fill_color\":{\"type\":\"value\",\"value\":\"#1f77b4\"}}},\"nonselection_glyph\":{\"type\":\"object\",\"name\":\"Ellipse\",\"id\":\"p2272\",\"attributes\":{\"x\":{\"type\":\"value\",\"value\":3},\"y\":{\"type\":\"value\",\"value\":6},\"width\":{\"type\":\"value\",\"value\":0.5},\"height\":{\"type\":\"value\",\"value\":1},\"line_color\":{\"type\":\"value\",\"value\":\"#1f77b4\"},\"line_alpha\":{\"type\":\"value\",\"value\":0.1},\"fill_color\":{\"type\":\"value\",\"value\":\"#1f77b4\"},\"fill_alpha\":{\"type\":\"value\",\"value\":0.1},\"hatch_alpha\":{\"type\":\"value\",\"value\":0.1}}},\"muted_glyph\":{\"type\":\"object\",\"name\":\"Ellipse\",\"id\":\"p2273\",\"attributes\":{\"x\":{\"type\":\"value\",\"value\":3},\"y\":{\"type\":\"value\",\"value\":6},\"width\":{\"type\":\"value\",\"value\":0.5},\"height\":{\"type\":\"value\",\"value\":1},\"line_color\":{\"type\":\"value\",\"value\":\"#1f77b4\"},\"line_alpha\":{\"type\":\"value\",\"value\":0.2},\"fill_color\":{\"type\":\"value\",\"value\":\"#1f77b4\"},\"fill_alpha\":{\"type\":\"value\",\"value\":0.2},\"hatch_alpha\":{\"type\":\"value\",\"value\":0.2}}}}},{\"type\":\"object\",\"name\":\"GlyphRenderer\",\"id\":\"p2283\",\"attributes\":{\"data_source\":{\"type\":\"object\",\"name\":\"ColumnDataSource\",\"id\":\"p2277\",\"attributes\":{\"selected\":{\"type\":\"object\",\"name\":\"Selection\",\"id\":\"p2278\",\"attributes\":{\"indices\":[],\"line_indices\":[]}},\"selection_policy\":{\"type\":\"object\",\"name\":\"UnionRenderers\",\"id\":\"p2279\"},\"data\":{\"type\":\"map\"}}},\"view\":{\"type\":\"object\",\"name\":\"CDSView\",\"id\":\"p2284\",\"attributes\":{\"filter\":{\"type\":\"object\",\"name\":\"AllIndices\",\"id\":\"p2285\"}}},\"glyph\":{\"type\":\"object\",\"name\":\"Ellipse\",\"id\":\"p2280\",\"attributes\":{\"x\":{\"type\":\"value\",\"value\":4},\"y\":{\"type\":\"value\",\"value\":8},\"width\":{\"type\":\"value\",\"value\":0.5},\"height\":{\"type\":\"value\",\"value\":1},\"line_color\":{\"type\":\"value\",\"value\":\"#1f77b4\"},\"fill_color\":{\"type\":\"value\",\"value\":\"#1f77b4\"}}},\"nonselection_glyph\":{\"type\":\"object\",\"name\":\"Ellipse\",\"id\":\"p2281\",\"attributes\":{\"x\":{\"type\":\"value\",\"value\":4},\"y\":{\"type\":\"value\",\"value\":8},\"width\":{\"type\":\"value\",\"value\":0.5},\"height\":{\"type\":\"value\",\"value\":1},\"line_color\":{\"type\":\"value\",\"value\":\"#1f77b4\"},\"line_alpha\":{\"type\":\"value\",\"value\":0.1},\"fill_color\":{\"type\":\"value\",\"value\":\"#1f77b4\"},\"fill_alpha\":{\"type\":\"value\",\"value\":0.1},\"hatch_alpha\":{\"type\":\"value\",\"value\":0.1}}},\"muted_glyph\":{\"type\":\"object\",\"name\":\"Ellipse\",\"id\":\"p2282\",\"attributes\":{\"x\":{\"type\":\"value\",\"value\":4},\"y\":{\"type\":\"value\",\"value\":8},\"width\":{\"type\":\"value\",\"value\":0.5},\"height\":{\"type\":\"value\",\"value\":1},\"line_color\":{\"type\":\"value\",\"value\":\"#1f77b4\"},\"line_alpha\":{\"type\":\"value\",\"value\":0.2},\"fill_color\":{\"type\":\"value\",\"value\":\"#1f77b4\"},\"fill_alpha\":{\"type\":\"value\",\"value\":0.2},\"hatch_alpha\":{\"type\":\"value\",\"value\":0.2}}}}},{\"type\":\"object\",\"name\":\"GlyphRenderer\",\"id\":\"p2292\",\"attributes\":{\"data_source\":{\"type\":\"object\",\"name\":\"ColumnDataSource\",\"id\":\"p2286\",\"attributes\":{\"selected\":{\"type\":\"object\",\"name\":\"Selection\",\"id\":\"p2287\",\"attributes\":{\"indices\":[],\"line_indices\":[]}},\"selection_policy\":{\"type\":\"object\",\"name\":\"UnionRenderers\",\"id\":\"p2288\"},\"data\":{\"type\":\"map\"}}},\"view\":{\"type\":\"object\",\"name\":\"CDSView\",\"id\":\"p2293\",\"attributes\":{\"filter\":{\"type\":\"object\",\"name\":\"AllIndices\",\"id\":\"p2294\"}}},\"glyph\":{\"type\":\"object\",\"name\":\"Ellipse\",\"id\":\"p2289\",\"attributes\":{\"x\":{\"type\":\"value\",\"value\":5},\"y\":{\"type\":\"value\",\"value\":10},\"width\":{\"type\":\"value\",\"value\":0.5},\"height\":{\"type\":\"value\",\"value\":1},\"line_color\":{\"type\":\"value\",\"value\":\"#1f77b4\"},\"fill_color\":{\"type\":\"value\",\"value\":\"#1f77b4\"}}},\"nonselection_glyph\":{\"type\":\"object\",\"name\":\"Ellipse\",\"id\":\"p2290\",\"attributes\":{\"x\":{\"type\":\"value\",\"value\":5},\"y\":{\"type\":\"value\",\"value\":10},\"width\":{\"type\":\"value\",\"value\":0.5},\"height\":{\"type\":\"value\",\"value\":1},\"line_color\":{\"type\":\"value\",\"value\":\"#1f77b4\"},\"line_alpha\":{\"type\":\"value\",\"value\":0.1},\"fill_color\":{\"type\":\"value\",\"value\":\"#1f77b4\"},\"fill_alpha\":{\"type\":\"value\",\"value\":0.1},\"hatch_alpha\":{\"type\":\"value\",\"value\":0.1}}},\"muted_glyph\":{\"type\":\"object\",\"name\":\"Ellipse\",\"id\":\"p2291\",\"attributes\":{\"x\":{\"type\":\"value\",\"value\":5},\"y\":{\"type\":\"value\",\"value\":10},\"width\":{\"type\":\"value\",\"value\":0.5},\"height\":{\"type\":\"value\",\"value\":1},\"line_color\":{\"type\":\"value\",\"value\":\"#1f77b4\"},\"line_alpha\":{\"type\":\"value\",\"value\":0.2},\"fill_color\":{\"type\":\"value\",\"value\":\"#1f77b4\"},\"fill_alpha\":{\"type\":\"value\",\"value\":0.2},\"hatch_alpha\":{\"type\":\"value\",\"value\":0.2}}}}}],\"toolbar\":{\"type\":\"object\",\"name\":\"Toolbar\",\"id\":\"p2226\",\"attributes\":{\"tools\":[{\"type\":\"object\",\"name\":\"PanTool\",\"id\":\"p2239\"},{\"type\":\"object\",\"name\":\"WheelZoomTool\",\"id\":\"p2240\",\"attributes\":{\"renderers\":\"auto\"}},{\"type\":\"object\",\"name\":\"BoxZoomTool\",\"id\":\"p2241\",\"attributes\":{\"overlay\":{\"type\":\"object\",\"name\":\"BoxAnnotation\",\"id\":\"p2242\",\"attributes\":{\"syncable\":false,\"level\":\"overlay\",\"visible\":false,\"left\":{\"type\":\"number\",\"value\":\"nan\"},\"right\":{\"type\":\"number\",\"value\":\"nan\"},\"top\":{\"type\":\"number\",\"value\":\"nan\"},\"bottom\":{\"type\":\"number\",\"value\":\"nan\"},\"left_units\":\"canvas\",\"right_units\":\"canvas\",\"top_units\":\"canvas\",\"bottom_units\":\"canvas\",\"line_color\":\"black\",\"line_alpha\":1.0,\"line_width\":2,\"line_dash\":[4,4],\"fill_color\":\"lightgrey\",\"fill_alpha\":0.5}}}},{\"type\":\"object\",\"name\":\"SaveTool\",\"id\":\"p2247\"},{\"type\":\"object\",\"name\":\"ResetTool\",\"id\":\"p2248\"},{\"type\":\"object\",\"name\":\"HelpTool\",\"id\":\"p2249\"}]}},\"left\":[{\"type\":\"object\",\"name\":\"LinearAxis\",\"id\":\"p2234\",\"attributes\":{\"ticker\":{\"type\":\"object\",\"name\":\"BasicTicker\",\"id\":\"p2235\",\"attributes\":{\"mantissas\":[1,2,5]}},\"formatter\":{\"type\":\"object\",\"name\":\"BasicTickFormatter\",\"id\":\"p2236\"},\"major_label_policy\":{\"type\":\"object\",\"name\":\"AllLabels\",\"id\":\"p2237\"}}}],\"below\":[{\"type\":\"object\",\"name\":\"LinearAxis\",\"id\":\"p2229\",\"attributes\":{\"ticker\":{\"type\":\"object\",\"name\":\"BasicTicker\",\"id\":\"p2230\",\"attributes\":{\"mantissas\":[1,2,5]}},\"formatter\":{\"type\":\"object\",\"name\":\"BasicTickFormatter\",\"id\":\"p2231\"},\"major_label_policy\":{\"type\":\"object\",\"name\":\"AllLabels\",\"id\":\"p2232\"}}}],\"center\":[{\"type\":\"object\",\"name\":\"Grid\",\"id\":\"p2233\",\"attributes\":{\"axis\":{\"id\":\"p2229\"}}},{\"type\":\"object\",\"name\":\"Grid\",\"id\":\"p2238\",\"attributes\":{\"dimension\":1,\"axis\":{\"id\":\"p2234\"}}}]}}]}};\n  const render_items = [{\"docid\":\"ce42061c-2cce-44c8-8cb8-23c5d9eac658\",\"roots\":{\"p2217\":\"f14457a4-7e6a-4a28-9119-72b2facf973c\"},\"root_ids\":[\"p2217\"]}];\n  root.Bokeh.embed.embed_items_notebook(docs_json, render_items);\n  }\n  if (root.Bokeh !== undefined) {\n    embed_document(root);\n  } else {\n    let attempts = 0;\n    const timer = setInterval(function(root) {\n      if (root.Bokeh !== undefined) {\n        clearInterval(timer);\n        embed_document(root);\n      } else {\n        attempts++;\n        if (attempts > 100) {\n          clearInterval(timer);\n          console.log(\"Bokeh: ERROR: Unable to run BokehJS code because BokehJS library is missing\");\n        }\n      }\n    }, 10, root)\n  }\n})(window);",
      "application/vnd.bokehjs_exec.v0+json": ""
     },
     "metadata": {},
     "output_type": "display_data"
    }
   ],
   "source": [
    "from bokeh.plotting import figure, output_file, show\n",
    "\n",
    "# instantiate the figure object\n",
    "graph = figure(title=\"Bokeh Oval Graph\")\n",
    "\n",
    "# define the points to be plotted\n",
    "x = [1, 2, 3, 4, 5]\n",
    "y = [i * 2 for i in x]\n",
    "\n",
    "# plot the ellipses\n",
    "for i in range(len(x)):\n",
    "    graph.ellipse(x=x[i], y=y[i], width=0.5, height=1)\n",
    "\n",
    "# display the plot\n",
    "show(graph)"
   ]
  },
  {
   "cell_type": "markdown",
   "metadata": {},
   "source": [
    "## Altair"
   ]
  },
  {
   "cell_type": "markdown",
   "metadata": {},
   "source": [
    "Altair atau Vega-Altair adalah salah satu library yang digunakan untuk melakukan visualisasi. berikut adalah syntax yang secara umum digunakan untuk membuat visualisasi dengan library altair\n",
    "```Python\n",
    "alt.Chart().mark_BentukPlot().encode()\n",
    "```\n"
   ]
  },
  {
   "cell_type": "code",
   "execution_count": null,
   "metadata": {},
   "outputs": [],
   "source": [
    "import pandas as pd\n",
    "import numpy as np\n",
    "import altair as alt\n",
    "from vega_datasets import data"
   ]
  },
  {
   "cell_type": "markdown",
   "metadata": {},
   "source": [
    "### Visualisasi yang dapat dibentuk dengan library Altair:"
   ]
  },
  {
   "cell_type": "code",
   "execution_count": null,
   "metadata": {},
   "outputs": [
    {
     "data": {
      "text/html": [
       "\n",
       "<div id=\"altair-viz-1d69b9b9aa19467bba9c64fef4178aef\"></div>\n",
       "<script type=\"text/javascript\">\n",
       "  var VEGA_DEBUG = (typeof VEGA_DEBUG == \"undefined\") ? {} : VEGA_DEBUG;\n",
       "  (function(spec, embedOpt){\n",
       "    let outputDiv = document.currentScript.previousElementSibling;\n",
       "    if (outputDiv.id !== \"altair-viz-1d69b9b9aa19467bba9c64fef4178aef\") {\n",
       "      outputDiv = document.getElementById(\"altair-viz-1d69b9b9aa19467bba9c64fef4178aef\");\n",
       "    }\n",
       "    const paths = {\n",
       "      \"vega\": \"https://cdn.jsdelivr.net/npm//vega@5?noext\",\n",
       "      \"vega-lib\": \"https://cdn.jsdelivr.net/npm//vega-lib?noext\",\n",
       "      \"vega-lite\": \"https://cdn.jsdelivr.net/npm//vega-lite@4.17.0?noext\",\n",
       "      \"vega-embed\": \"https://cdn.jsdelivr.net/npm//vega-embed@6?noext\",\n",
       "    };\n",
       "\n",
       "    function maybeLoadScript(lib, version) {\n",
       "      var key = `${lib.replace(\"-\", \"\")}_version`;\n",
       "      return (VEGA_DEBUG[key] == version) ?\n",
       "        Promise.resolve(paths[lib]) :\n",
       "        new Promise(function(resolve, reject) {\n",
       "          var s = document.createElement('script');\n",
       "          document.getElementsByTagName(\"head\")[0].appendChild(s);\n",
       "          s.async = true;\n",
       "          s.onload = () => {\n",
       "            VEGA_DEBUG[key] = version;\n",
       "            return resolve(paths[lib]);\n",
       "          };\n",
       "          s.onerror = () => reject(`Error loading script: ${paths[lib]}`);\n",
       "          s.src = paths[lib];\n",
       "        });\n",
       "    }\n",
       "\n",
       "    function showError(err) {\n",
       "      outputDiv.innerHTML = `<div class=\"error\" style=\"color:red;\">${err}</div>`;\n",
       "      throw err;\n",
       "    }\n",
       "\n",
       "    function displayChart(vegaEmbed) {\n",
       "      vegaEmbed(outputDiv, spec, embedOpt)\n",
       "        .catch(err => showError(`Javascript Error: ${err.message}<br>This usually means there's a typo in your chart specification. See the javascript console for the full traceback.`));\n",
       "    }\n",
       "\n",
       "    if(typeof define === \"function\" && define.amd) {\n",
       "      requirejs.config({paths});\n",
       "      require([\"vega-embed\"], displayChart, err => showError(`Error loading script: ${err.message}`));\n",
       "    } else {\n",
       "      maybeLoadScript(\"vega\", \"5\")\n",
       "        .then(() => maybeLoadScript(\"vega-lite\", \"4.17.0\"))\n",
       "        .then(() => maybeLoadScript(\"vega-embed\", \"6\"))\n",
       "        .catch(showError)\n",
       "        .then(() => displayChart(vegaEmbed));\n",
       "    }\n",
       "  })({\"config\": {\"view\": {\"continuousWidth\": 400, \"continuousHeight\": 300}}, \"data\": {\"name\": \"data-c9896de6322bcd9cf0fe9396e0b72d16\"}, \"mark\": \"arc\", \"encoding\": {\"color\": {\"field\": \"category\", \"type\": \"nominal\"}, \"theta\": {\"field\": \"value\", \"type\": \"quantitative\"}}, \"$schema\": \"https://vega.github.io/schema/vega-lite/v4.17.0.json\", \"datasets\": {\"data-c9896de6322bcd9cf0fe9396e0b72d16\": [{\"category\": 1, \"value\": 4}, {\"category\": 2, \"value\": 6}, {\"category\": 3, \"value\": 10}, {\"category\": 4, \"value\": 3}, {\"category\": 5, \"value\": 7}, {\"category\": 6, \"value\": 8}]}}, {\"mode\": \"vega-lite\"});\n",
       "</script>"
      ],
      "text/plain": [
       "alt.Chart(...)"
      ]
     },
     "metadata": {},
     "output_type": "display_data"
    }
   ],
   "source": [
    "# @title Pie Chart\n",
    "source = pd.DataFrame({\"category\": [1, 2, 3, 4, 5, 6], \"value\": [4, 6, 10, 3, 7, 8]})\n",
    "\n",
    "alt.Chart(source).mark_arc().encode(\n",
    "    theta=alt.Theta(field=\"value\", type=\"quantitative\"),\n",
    "    color=alt.Color(field=\"category\", type=\"nominal\"),\n",
    ")"
   ]
  },
  {
   "cell_type": "code",
   "execution_count": null,
   "metadata": {},
   "outputs": [
    {
     "data": {
      "text/html": [
       "\n",
       "<div id=\"altair-viz-a2b3570912314c1b8daf70db7aad92bd\"></div>\n",
       "<script type=\"text/javascript\">\n",
       "  var VEGA_DEBUG = (typeof VEGA_DEBUG == \"undefined\") ? {} : VEGA_DEBUG;\n",
       "  (function(spec, embedOpt){\n",
       "    let outputDiv = document.currentScript.previousElementSibling;\n",
       "    if (outputDiv.id !== \"altair-viz-a2b3570912314c1b8daf70db7aad92bd\") {\n",
       "      outputDiv = document.getElementById(\"altair-viz-a2b3570912314c1b8daf70db7aad92bd\");\n",
       "    }\n",
       "    const paths = {\n",
       "      \"vega\": \"https://cdn.jsdelivr.net/npm//vega@5?noext\",\n",
       "      \"vega-lib\": \"https://cdn.jsdelivr.net/npm//vega-lib?noext\",\n",
       "      \"vega-lite\": \"https://cdn.jsdelivr.net/npm//vega-lite@4.17.0?noext\",\n",
       "      \"vega-embed\": \"https://cdn.jsdelivr.net/npm//vega-embed@6?noext\",\n",
       "    };\n",
       "\n",
       "    function maybeLoadScript(lib, version) {\n",
       "      var key = `${lib.replace(\"-\", \"\")}_version`;\n",
       "      return (VEGA_DEBUG[key] == version) ?\n",
       "        Promise.resolve(paths[lib]) :\n",
       "        new Promise(function(resolve, reject) {\n",
       "          var s = document.createElement('script');\n",
       "          document.getElementsByTagName(\"head\")[0].appendChild(s);\n",
       "          s.async = true;\n",
       "          s.onload = () => {\n",
       "            VEGA_DEBUG[key] = version;\n",
       "            return resolve(paths[lib]);\n",
       "          };\n",
       "          s.onerror = () => reject(`Error loading script: ${paths[lib]}`);\n",
       "          s.src = paths[lib];\n",
       "        });\n",
       "    }\n",
       "\n",
       "    function showError(err) {\n",
       "      outputDiv.innerHTML = `<div class=\"error\" style=\"color:red;\">${err}</div>`;\n",
       "      throw err;\n",
       "    }\n",
       "\n",
       "    function displayChart(vegaEmbed) {\n",
       "      vegaEmbed(outputDiv, spec, embedOpt)\n",
       "        .catch(err => showError(`Javascript Error: ${err.message}<br>This usually means there's a typo in your chart specification. See the javascript console for the full traceback.`));\n",
       "    }\n",
       "\n",
       "    if(typeof define === \"function\" && define.amd) {\n",
       "      requirejs.config({paths});\n",
       "      require([\"vega-embed\"], displayChart, err => showError(`Error loading script: ${err.message}`));\n",
       "    } else {\n",
       "      maybeLoadScript(\"vega\", \"5\")\n",
       "        .then(() => maybeLoadScript(\"vega-lite\", \"4.17.0\"))\n",
       "        .then(() => maybeLoadScript(\"vega-embed\", \"6\"))\n",
       "        .catch(showError)\n",
       "        .then(() => displayChart(vegaEmbed));\n",
       "    }\n",
       "  })({\"config\": {\"view\": {\"continuousWidth\": 400, \"continuousHeight\": 300}}, \"data\": {\"url\": \"https://cdn.jsdelivr.net/npm/vega-datasets@v1.29.0/data/unemployment-across-industries.json\"}, \"mark\": \"area\", \"encoding\": {\"x\": {\"field\": \"date\", \"timeUnit\": \"yearmonth\", \"type\": \"temporal\"}, \"y\": {\"aggregate\": \"sum\", \"field\": \"count\", \"type\": \"quantitative\"}}, \"$schema\": \"https://vega.github.io/schema/vega-lite/v4.17.0.json\"}, {\"mode\": \"vega-lite\"});\n",
       "</script>"
      ],
      "text/plain": [
       "alt.Chart(...)"
      ]
     },
     "metadata": {},
     "output_type": "display_data"
    }
   ],
   "source": [
    "# @title Area Marks\n",
    "source = data.unemployment_across_industries.url\n",
    "\n",
    "alt.Chart(source).mark_area().encode(\n",
    "    x=\"yearmonth(date):T\",\n",
    "    y=\"sum(count):Q\",\n",
    ")"
   ]
  },
  {
   "cell_type": "code",
   "execution_count": null,
   "metadata": {},
   "outputs": [
    {
     "data": {
      "text/html": [
       "\n",
       "<div id=\"altair-viz-1909c3b0ee544d31be0beda65688ca1d\"></div>\n",
       "<script type=\"text/javascript\">\n",
       "  var VEGA_DEBUG = (typeof VEGA_DEBUG == \"undefined\") ? {} : VEGA_DEBUG;\n",
       "  (function(spec, embedOpt){\n",
       "    let outputDiv = document.currentScript.previousElementSibling;\n",
       "    if (outputDiv.id !== \"altair-viz-1909c3b0ee544d31be0beda65688ca1d\") {\n",
       "      outputDiv = document.getElementById(\"altair-viz-1909c3b0ee544d31be0beda65688ca1d\");\n",
       "    }\n",
       "    const paths = {\n",
       "      \"vega\": \"https://cdn.jsdelivr.net/npm//vega@5?noext\",\n",
       "      \"vega-lib\": \"https://cdn.jsdelivr.net/npm//vega-lib?noext\",\n",
       "      \"vega-lite\": \"https://cdn.jsdelivr.net/npm//vega-lite@4.17.0?noext\",\n",
       "      \"vega-embed\": \"https://cdn.jsdelivr.net/npm//vega-embed@6?noext\",\n",
       "    };\n",
       "\n",
       "    function maybeLoadScript(lib, version) {\n",
       "      var key = `${lib.replace(\"-\", \"\")}_version`;\n",
       "      return (VEGA_DEBUG[key] == version) ?\n",
       "        Promise.resolve(paths[lib]) :\n",
       "        new Promise(function(resolve, reject) {\n",
       "          var s = document.createElement('script');\n",
       "          document.getElementsByTagName(\"head\")[0].appendChild(s);\n",
       "          s.async = true;\n",
       "          s.onload = () => {\n",
       "            VEGA_DEBUG[key] = version;\n",
       "            return resolve(paths[lib]);\n",
       "          };\n",
       "          s.onerror = () => reject(`Error loading script: ${paths[lib]}`);\n",
       "          s.src = paths[lib];\n",
       "        });\n",
       "    }\n",
       "\n",
       "    function showError(err) {\n",
       "      outputDiv.innerHTML = `<div class=\"error\" style=\"color:red;\">${err}</div>`;\n",
       "      throw err;\n",
       "    }\n",
       "\n",
       "    function displayChart(vegaEmbed) {\n",
       "      vegaEmbed(outputDiv, spec, embedOpt)\n",
       "        .catch(err => showError(`Javascript Error: ${err.message}<br>This usually means there's a typo in your chart specification. See the javascript console for the full traceback.`));\n",
       "    }\n",
       "\n",
       "    if(typeof define === \"function\" && define.amd) {\n",
       "      requirejs.config({paths});\n",
       "      require([\"vega-embed\"], displayChart, err => showError(`Error loading script: ${err.message}`));\n",
       "    } else {\n",
       "      maybeLoadScript(\"vega\", \"5\")\n",
       "        .then(() => maybeLoadScript(\"vega-lite\", \"4.17.0\"))\n",
       "        .then(() => maybeLoadScript(\"vega-embed\", \"6\"))\n",
       "        .catch(showError)\n",
       "        .then(() => displayChart(vegaEmbed));\n",
       "    }\n",
       "  })({\"config\": {\"view\": {\"continuousWidth\": 400, \"continuousHeight\": 300}}, \"data\": {\"name\": \"data-c2a3e89ba9d5d1687d5e8c28d630a033\"}, \"mark\": \"bar\", \"encoding\": {\"x\": {\"field\": \"a\", \"type\": \"nominal\"}, \"y\": {\"field\": \"b\", \"type\": \"quantitative\"}}, \"$schema\": \"https://vega.github.io/schema/vega-lite/v4.17.0.json\", \"datasets\": {\"data-c2a3e89ba9d5d1687d5e8c28d630a033\": [{\"a\": \"A\", \"b\": 28}, {\"a\": \"B\", \"b\": 55}, {\"a\": \"C\", \"b\": 43}, {\"a\": \"D\", \"b\": 91}, {\"a\": \"E\", \"b\": 81}, {\"a\": \"F\", \"b\": 53}, {\"a\": \"G\", \"b\": 19}, {\"a\": \"H\", \"b\": 87}, {\"a\": \"I\", \"b\": 52}]}}, {\"mode\": \"vega-lite\"});\n",
       "</script>"
      ],
      "text/plain": [
       "alt.Chart(...)"
      ]
     },
     "metadata": {},
     "output_type": "display_data"
    }
   ],
   "source": [
    "# @title Bar Chart\n",
    "source = pd.DataFrame({\n",
    "    'a': ['A', 'B', 'C', 'D', 'E', 'F', 'G', 'H', 'I'],\n",
    "    'b': [28, 55, 43, 91, 81, 53, 19, 87, 52]\n",
    "})\n",
    "\n",
    "alt.Chart(source).mark_bar().encode(\n",
    "    x='a',\n",
    "    y='b'\n",
    ")"
   ]
  },
  {
   "cell_type": "code",
   "execution_count": null,
   "metadata": {},
   "outputs": [
    {
     "data": {
      "text/html": [
       "\n",
       "<div id=\"altair-viz-1b70269ca92a481b9215780697f3500b\"></div>\n",
       "<script type=\"text/javascript\">\n",
       "  var VEGA_DEBUG = (typeof VEGA_DEBUG == \"undefined\") ? {} : VEGA_DEBUG;\n",
       "  (function(spec, embedOpt){\n",
       "    let outputDiv = document.currentScript.previousElementSibling;\n",
       "    if (outputDiv.id !== \"altair-viz-1b70269ca92a481b9215780697f3500b\") {\n",
       "      outputDiv = document.getElementById(\"altair-viz-1b70269ca92a481b9215780697f3500b\");\n",
       "    }\n",
       "    const paths = {\n",
       "      \"vega\": \"https://cdn.jsdelivr.net/npm//vega@5?noext\",\n",
       "      \"vega-lib\": \"https://cdn.jsdelivr.net/npm//vega-lib?noext\",\n",
       "      \"vega-lite\": \"https://cdn.jsdelivr.net/npm//vega-lite@4.17.0?noext\",\n",
       "      \"vega-embed\": \"https://cdn.jsdelivr.net/npm//vega-embed@6?noext\",\n",
       "    };\n",
       "\n",
       "    function maybeLoadScript(lib, version) {\n",
       "      var key = `${lib.replace(\"-\", \"\")}_version`;\n",
       "      return (VEGA_DEBUG[key] == version) ?\n",
       "        Promise.resolve(paths[lib]) :\n",
       "        new Promise(function(resolve, reject) {\n",
       "          var s = document.createElement('script');\n",
       "          document.getElementsByTagName(\"head\")[0].appendChild(s);\n",
       "          s.async = true;\n",
       "          s.onload = () => {\n",
       "            VEGA_DEBUG[key] = version;\n",
       "            return resolve(paths[lib]);\n",
       "          };\n",
       "          s.onerror = () => reject(`Error loading script: ${paths[lib]}`);\n",
       "          s.src = paths[lib];\n",
       "        });\n",
       "    }\n",
       "\n",
       "    function showError(err) {\n",
       "      outputDiv.innerHTML = `<div class=\"error\" style=\"color:red;\">${err}</div>`;\n",
       "      throw err;\n",
       "    }\n",
       "\n",
       "    function displayChart(vegaEmbed) {\n",
       "      vegaEmbed(outputDiv, spec, embedOpt)\n",
       "        .catch(err => showError(`Javascript Error: ${err.message}<br>This usually means there's a typo in your chart specification. See the javascript console for the full traceback.`));\n",
       "    }\n",
       "\n",
       "    if(typeof define === \"function\" && define.amd) {\n",
       "      requirejs.config({paths});\n",
       "      require([\"vega-embed\"], displayChart, err => showError(`Error loading script: ${err.message}`));\n",
       "    } else {\n",
       "      maybeLoadScript(\"vega\", \"5\")\n",
       "        .then(() => maybeLoadScript(\"vega-lite\", \"4.17.0\"))\n",
       "        .then(() => maybeLoadScript(\"vega-embed\", \"6\"))\n",
       "        .catch(showError)\n",
       "        .then(() => displayChart(vegaEmbed));\n",
       "    }\n",
       "  })({\"config\": {\"view\": {\"continuousWidth\": 400, \"continuousHeight\": 300}}, \"data\": {\"name\": \"data-c2be8d05f7d91278cf68a638f99d9a60\"}, \"mark\": \"boxplot\", \"encoding\": {\"x\": {\"field\": \"Category\", \"type\": \"ordinal\"}, \"y\": {\"field\": \"Values\", \"type\": \"quantitative\"}}, \"$schema\": \"https://vega.github.io/schema/vega-lite/v4.17.0.json\", \"datasets\": {\"data-c2be8d05f7d91278cf68a638f99d9a60\": [{\"Category\": \"A\", \"Values\": 0.324083969394795}, {\"Category\": \"A\", \"Values\": -0.38508228041631654}, {\"Category\": \"A\", \"Values\": -0.6769220003059587}, {\"Category\": \"A\", \"Values\": 0.6116762888408679}, {\"Category\": \"A\", \"Values\": 1.030999522495951}, {\"Category\": \"A\", \"Values\": 0.9312801191161986}, {\"Category\": \"A\", \"Values\": -0.8392175232226385}, {\"Category\": \"A\", \"Values\": -0.3092123758512146}, {\"Category\": \"A\", \"Values\": 0.33126343140356396}, {\"Category\": \"A\", \"Values\": 0.9755451271223592}, {\"Category\": \"A\", \"Values\": -0.47917423784528995}, {\"Category\": \"A\", \"Values\": -0.18565897666381712}, {\"Category\": \"A\", \"Values\": -1.1063349740060282}, {\"Category\": \"A\", \"Values\": -1.1962066240806708}, {\"Category\": \"A\", \"Values\": 0.812525822394198}, {\"Category\": \"A\", \"Values\": 1.356240028570823}, {\"Category\": \"A\", \"Values\": -0.07201012158033385}, {\"Category\": \"A\", \"Values\": 1.0035328978920242}, {\"Category\": \"A\", \"Values\": 0.36163602504763415}, {\"Category\": \"A\", \"Values\": -0.6451197546051243}, {\"Category\": \"A\", \"Values\": 0.36139560550841393}, {\"Category\": \"A\", \"Values\": 1.5380365664659692}, {\"Category\": \"A\", \"Values\": -0.03582603910995154}, {\"Category\": \"A\", \"Values\": 1.5646436558140062}, {\"Category\": \"A\", \"Values\": -2.6197451040897444}, {\"Category\": \"A\", \"Values\": 0.8219025043752238}, {\"Category\": \"A\", \"Values\": 0.08704706823817122}, {\"Category\": \"A\", \"Values\": -0.29900735046586746}, {\"Category\": \"A\", \"Values\": 0.0917607765355023}, {\"Category\": \"A\", \"Values\": -1.9875689146008928}, {\"Category\": \"A\", \"Values\": -0.21967188783751193}, {\"Category\": \"A\", \"Values\": 0.3571125715117464}, {\"Category\": \"A\", \"Values\": 1.477894044741516}, {\"Category\": \"A\", \"Values\": -0.5182702182736474}, {\"Category\": \"A\", \"Values\": -0.8084936028931876}, {\"Category\": \"A\", \"Values\": -0.5017570435845365}, {\"Category\": \"A\", \"Values\": 0.9154021177020741}, {\"Category\": \"A\", \"Values\": 0.32875110965968446}, {\"Category\": \"A\", \"Values\": -0.5297602037670388}, {\"Category\": \"A\", \"Values\": 0.5132674331133561}, {\"Category\": \"A\", \"Values\": 0.09707754934804039}, {\"Category\": \"A\", \"Values\": 0.9686449905328892}, {\"Category\": \"A\", \"Values\": -0.7020530938773524}, {\"Category\": \"A\", \"Values\": -0.3276621465977682}, {\"Category\": \"A\", \"Values\": -0.39210815313215763}, {\"Category\": \"A\", \"Values\": -1.4635149481321186}, {\"Category\": \"A\", \"Values\": 0.29612027706457605}, {\"Category\": \"A\", \"Values\": 0.26105527217988933}, {\"Category\": \"A\", \"Values\": 0.00511345664246089}, {\"Category\": \"A\", \"Values\": -0.23458713337514692}, {\"Category\": \"A\", \"Values\": -1.4153707420504142}, {\"Category\": \"A\", \"Values\": -0.42064532276535904}, {\"Category\": \"A\", \"Values\": -0.3427145165267695}, {\"Category\": \"A\", \"Values\": -0.8022772692216189}, {\"Category\": \"A\", \"Values\": -0.16128571166600914}, {\"Category\": \"A\", \"Values\": 0.4040508568145384}, {\"Category\": \"A\", \"Values\": 1.8861859012105302}, {\"Category\": \"A\", \"Values\": 0.17457781283183896}, {\"Category\": \"A\", \"Values\": 0.25755039072276437}, {\"Category\": \"A\", \"Values\": -0.07444591576616721}, {\"Category\": \"A\", \"Values\": -1.9187712152990415}, {\"Category\": \"A\", \"Values\": -0.026513875449216878}, {\"Category\": \"A\", \"Values\": 0.06023020994102644}, {\"Category\": \"A\", \"Values\": 2.463242112485286}, {\"Category\": \"A\", \"Values\": -0.19236096478112252}, {\"Category\": \"A\", \"Values\": 0.30154734233361247}, {\"Category\": \"A\", \"Values\": -0.03471176970524331}, {\"Category\": \"A\", \"Values\": -1.168678037619532}, {\"Category\": \"A\", \"Values\": 1.1428228145150205}, {\"Category\": \"A\", \"Values\": 0.7519330326867741}, {\"Category\": \"A\", \"Values\": 0.7910319470430469}, {\"Category\": \"A\", \"Values\": -0.9093874547947389}, {\"Category\": \"A\", \"Values\": 1.4027943109360992}, {\"Category\": \"A\", \"Values\": -1.4018510627922809}, {\"Category\": \"A\", \"Values\": 0.5868570938002703}, {\"Category\": \"A\", \"Values\": 2.1904556258099785}, {\"Category\": \"A\", \"Values\": -0.9905363251306883}, {\"Category\": \"A\", \"Values\": -0.5662977296027719}, {\"Category\": \"A\", \"Values\": 0.09965136508764122}, {\"Category\": \"A\", \"Values\": -0.5034756541161992}, {\"Category\": \"A\", \"Values\": -1.5506634310661327}, {\"Category\": \"A\", \"Values\": 0.06856297480602733}, {\"Category\": \"A\", \"Values\": -1.0623037137261049}, {\"Category\": \"A\", \"Values\": 0.4735924306351816}, {\"Category\": \"A\", \"Values\": -0.9194242342338032}, {\"Category\": \"A\", \"Values\": 1.5499344050175394}, {\"Category\": \"A\", \"Values\": -0.7832532923362371}, {\"Category\": \"A\", \"Values\": -0.3220615162056756}, {\"Category\": \"A\", \"Values\": 0.8135172173696698}, {\"Category\": \"A\", \"Values\": -1.2308643164339552}, {\"Category\": \"A\", \"Values\": 0.22745993460412942}, {\"Category\": \"A\", \"Values\": 1.307142754282428}, {\"Category\": \"A\", \"Values\": -1.6074832345612275}, {\"Category\": \"A\", \"Values\": 0.1846338585323042}, {\"Category\": \"A\", \"Values\": 0.25988279424842353}, {\"Category\": \"A\", \"Values\": 0.7818228717773104}, {\"Category\": \"A\", \"Values\": -1.236950710878082}, {\"Category\": \"A\", \"Values\": -1.3204566130842763}, {\"Category\": \"A\", \"Values\": 0.5219415656168976}, {\"Category\": \"A\", \"Values\": 0.29698467323318606}, {\"Category\": \"B\", \"Values\": 1.500985700691753}, {\"Category\": \"B\", \"Values\": 1.6928964189939513}, {\"Category\": \"B\", \"Values\": -0.3600494431569816}, {\"Category\": \"B\", \"Values\": 1.464507394322007}, {\"Category\": \"B\", \"Values\": 1.5861449465973625}, {\"Category\": \"B\", \"Values\": -0.4287028360527356}, {\"Category\": \"B\", \"Values\": 4.731549022289514}, {\"Category\": \"B\", \"Values\": 1.947665841823575}, {\"Category\": \"B\", \"Values\": -1.3826069944052972}, {\"Category\": \"B\", \"Values\": 2.3131072172676594}, {\"Category\": \"B\", \"Values\": -0.9493633404546429}, {\"Category\": \"B\", \"Values\": 2.5741692074849043}, {\"Category\": \"B\", \"Values\": 3.317191158014808}, {\"Category\": \"B\", \"Values\": -0.6413646367034209}, {\"Category\": \"B\", \"Values\": 2.9267522584886434}, {\"Category\": \"B\", \"Values\": 1.8255618538729967}, {\"Category\": \"B\", \"Values\": 2.6441203199889802}, {\"Category\": \"B\", \"Values\": 4.793585965307894}, {\"Category\": \"B\", \"Values\": 0.5092237679942591}, {\"Category\": \"B\", \"Values\": -0.5074723287149792}, {\"Category\": \"B\", \"Values\": -0.7790288592510466}, {\"Category\": \"B\", \"Values\": -0.6316205699308766}, {\"Category\": \"B\", \"Values\": 0.8457965811717916}, {\"Category\": \"B\", \"Values\": 1.6823039496332877}, {\"Category\": \"B\", \"Values\": 1.553381598660038}, {\"Category\": \"B\", \"Values\": 2.6543664980720476}, {\"Category\": \"B\", \"Values\": 1.026003783755814}, {\"Category\": \"B\", \"Values\": 3.9070681543146337}, {\"Category\": \"B\", \"Values\": 0.47068633352408784}, {\"Category\": \"B\", \"Values\": 6.440338333179238}, {\"Category\": \"B\", \"Values\": 2.251334695530012}, {\"Category\": \"B\", \"Values\": -0.7143151128325651}, {\"Category\": \"B\", \"Values\": -1.1417849961222246}, {\"Category\": \"B\", \"Values\": 1.9649448304863706}, {\"Category\": \"B\", \"Values\": 0.5530744293482982}, {\"Category\": \"B\", \"Values\": 2.428000988184184}, {\"Category\": \"B\", \"Values\": 1.9464752491470896}, {\"Category\": \"B\", \"Values\": 0.8543421746862545}, {\"Category\": \"B\", \"Values\": -0.69358743613681}, {\"Category\": \"B\", \"Values\": -2.0296944493717293}, {\"Category\": \"B\", \"Values\": 0.10697009586595785}, {\"Category\": \"B\", \"Values\": 2.7127975886469446}, {\"Category\": \"B\", \"Values\": 1.428187488260408}, {\"Category\": \"B\", \"Values\": -1.491477557423976}, {\"Category\": \"B\", \"Values\": 1.346361851702364}, {\"Category\": \"B\", \"Values\": 1.7706347594576735}, {\"Category\": \"B\", \"Values\": -0.767714872402266}, {\"Category\": \"B\", \"Values\": 1.3074502118910558}, {\"Category\": \"B\", \"Values\": 1.1164174368919997}, {\"Category\": \"B\", \"Values\": -1.2859405956612462}, {\"Category\": \"B\", \"Values\": 1.7155747206965666}, {\"Category\": \"B\", \"Values\": 2.1215690527364686}, {\"Category\": \"B\", \"Values\": 3.166102486350554}, {\"Category\": \"B\", \"Values\": 3.107604104069806}, {\"Category\": \"B\", \"Values\": -1.755338735914182}, {\"Category\": \"B\", \"Values\": -0.8756500798302456}, {\"Category\": \"B\", \"Values\": 2.0300705344173195}, {\"Category\": \"B\", \"Values\": 2.027571901824418}, {\"Category\": \"B\", \"Values\": 2.030095372612096}, {\"Category\": \"B\", \"Values\": 8.705462981309442}, {\"Category\": \"B\", \"Values\": 2.141781021386334}, {\"Category\": \"B\", \"Values\": 3.271131280361198}, {\"Category\": \"B\", \"Values\": 2.9080035269864046}, {\"Category\": \"B\", \"Values\": 2.302782502611596}, {\"Category\": \"B\", \"Values\": 0.36946151071930877}, {\"Category\": \"B\", \"Values\": 2.517938440986535}, {\"Category\": \"B\", \"Values\": -0.5456504290751436}, {\"Category\": \"B\", \"Values\": 0.5263627865199823}, {\"Category\": \"B\", \"Values\": 0.029272904341793082}, {\"Category\": \"B\", \"Values\": 1.1637482787726452}, {\"Category\": \"B\", \"Values\": 5.629317133347017}, {\"Category\": \"B\", \"Values\": -2.734530385183496}, {\"Category\": \"B\", \"Values\": 2.3725203807490267}, {\"Category\": \"B\", \"Values\": -2.2254317423793033}, {\"Category\": \"B\", \"Values\": 0.05613626842113306}, {\"Category\": \"B\", \"Values\": 3.177901193934732}, {\"Category\": \"B\", \"Values\": 1.1285600381909255}, {\"Category\": \"B\", \"Values\": -1.1554895558586122}, {\"Category\": \"B\", \"Values\": -0.43060741851993645}, {\"Category\": \"B\", \"Values\": 2.3591954978693517}, {\"Category\": \"B\", \"Values\": -0.46073326343427334}, {\"Category\": \"B\", \"Values\": 1.4329171791639497}, {\"Category\": \"B\", \"Values\": 1.0911436798076275}, {\"Category\": \"B\", \"Values\": -0.3032006952116342}, {\"Category\": \"B\", \"Values\": 5.287888178650651}, {\"Category\": \"B\", \"Values\": 2.2678380446360222}, {\"Category\": \"B\", \"Values\": -3.0502851733152143}, {\"Category\": \"B\", \"Values\": 1.3729086295388553}, {\"Category\": \"B\", \"Values\": -0.32357292953677597}, {\"Category\": \"B\", \"Values\": 2.704866669592448}, {\"Category\": \"B\", \"Values\": -0.5850414768654013}, {\"Category\": \"B\", \"Values\": 0.770527117066202}, {\"Category\": \"B\", \"Values\": 2.0099745579609145}, {\"Category\": \"B\", \"Values\": 2.7315103883402427}, {\"Category\": \"B\", \"Values\": -1.4005928141115525}, {\"Category\": \"B\", \"Values\": 0.33099752831810325}, {\"Category\": \"B\", \"Values\": 0.05010937767808765}, {\"Category\": \"B\", \"Values\": -0.3066584651474238}, {\"Category\": \"B\", \"Values\": 4.530908480562194}, {\"Category\": \"B\", \"Values\": 1.809963421921911}]}}, {\"mode\": \"vega-lite\"});\n",
       "</script>"
      ],
      "text/plain": [
       "alt.Chart(...)"
      ]
     },
     "metadata": {},
     "output_type": "display_data"
    }
   ],
   "source": [
    "# @title Box Plot\n",
    "data = pd.DataFrame({\n",
    "    'Category': ['A'] * 100 + ['B'] * 100,\n",
    "    'Values': np.concatenate([np.random.normal(loc=0, scale=1, size=100),\n",
    "                              np.random.normal(loc=1, scale=2, size=100)])\n",
    "})\n",
    "\n",
    "alt.Chart(data).mark_boxplot().encode(\n",
    "    alt.X('Category:O'),\n",
    "    alt.Y('Values:Q')\n",
    ")"
   ]
  },
  {
   "cell_type": "code",
   "execution_count": null,
   "metadata": {},
   "outputs": [
    {
     "data": {
      "text/html": [
       "\n",
       "<div id=\"altair-viz-ea5231d690594cf084330ba33b0e40dd\"></div>\n",
       "<script type=\"text/javascript\">\n",
       "  var VEGA_DEBUG = (typeof VEGA_DEBUG == \"undefined\") ? {} : VEGA_DEBUG;\n",
       "  (function(spec, embedOpt){\n",
       "    let outputDiv = document.currentScript.previousElementSibling;\n",
       "    if (outputDiv.id !== \"altair-viz-ea5231d690594cf084330ba33b0e40dd\") {\n",
       "      outputDiv = document.getElementById(\"altair-viz-ea5231d690594cf084330ba33b0e40dd\");\n",
       "    }\n",
       "    const paths = {\n",
       "      \"vega\": \"https://cdn.jsdelivr.net/npm//vega@5?noext\",\n",
       "      \"vega-lib\": \"https://cdn.jsdelivr.net/npm//vega-lib?noext\",\n",
       "      \"vega-lite\": \"https://cdn.jsdelivr.net/npm//vega-lite@4.17.0?noext\",\n",
       "      \"vega-embed\": \"https://cdn.jsdelivr.net/npm//vega-embed@6?noext\",\n",
       "    };\n",
       "\n",
       "    function maybeLoadScript(lib, version) {\n",
       "      var key = `${lib.replace(\"-\", \"\")}_version`;\n",
       "      return (VEGA_DEBUG[key] == version) ?\n",
       "        Promise.resolve(paths[lib]) :\n",
       "        new Promise(function(resolve, reject) {\n",
       "          var s = document.createElement('script');\n",
       "          document.getElementsByTagName(\"head\")[0].appendChild(s);\n",
       "          s.async = true;\n",
       "          s.onload = () => {\n",
       "            VEGA_DEBUG[key] = version;\n",
       "            return resolve(paths[lib]);\n",
       "          };\n",
       "          s.onerror = () => reject(`Error loading script: ${paths[lib]}`);\n",
       "          s.src = paths[lib];\n",
       "        });\n",
       "    }\n",
       "\n",
       "    function showError(err) {\n",
       "      outputDiv.innerHTML = `<div class=\"error\" style=\"color:red;\">${err}</div>`;\n",
       "      throw err;\n",
       "    }\n",
       "\n",
       "    function displayChart(vegaEmbed) {\n",
       "      vegaEmbed(outputDiv, spec, embedOpt)\n",
       "        .catch(err => showError(`Javascript Error: ${err.message}<br>This usually means there's a typo in your chart specification. See the javascript console for the full traceback.`));\n",
       "    }\n",
       "\n",
       "    if(typeof define === \"function\" && define.amd) {\n",
       "      requirejs.config({paths});\n",
       "      require([\"vega-embed\"], displayChart, err => showError(`Error loading script: ${err.message}`));\n",
       "    } else {\n",
       "      maybeLoadScript(\"vega\", \"5\")\n",
       "        .then(() => maybeLoadScript(\"vega-lite\", \"4.17.0\"))\n",
       "        .then(() => maybeLoadScript(\"vega-embed\", \"6\"))\n",
       "        .catch(showError)\n",
       "        .then(() => displayChart(vegaEmbed));\n",
       "    }\n",
       "  })({\"config\": {\"view\": {\"continuousWidth\": 400, \"continuousHeight\": 300}}, \"data\": {\"url\": \"https://cdn.jsdelivr.net/npm/vega-datasets@v1.29.0/data/cars.json\"}, \"mark\": \"point\", \"encoding\": {\"x\": {\"field\": \"Horsepower\", \"type\": \"quantitative\"}, \"y\": {\"field\": \"Miles_per_Gallon\", \"type\": \"quantitative\"}}, \"$schema\": \"https://vega.github.io/schema/vega-lite/v4.17.0.json\"}, {\"mode\": \"vega-lite\"});\n",
       "</script>"
      ],
      "text/plain": [
       "alt.Chart(...)"
      ]
     },
     "metadata": {},
     "output_type": "display_data"
    }
   ],
   "source": [
    "# @title Scatter Plot\n",
    "url = data.cars.url\n",
    "\n",
    "alt.Chart(url).mark_point().encode(\n",
    "    x='Horsepower:Q',\n",
    "    y='Miles_per_Gallon:Q'\n",
    ")"
   ]
  },
  {
   "cell_type": "code",
   "execution_count": null,
   "metadata": {},
   "outputs": [],
   "source": [
    "# @title Geoshape\n",
    "import geopandas as gpd\n",
    "\n",
    "url = \"https://naciscdn.org/naturalearth/110m/cultural/ne_110m_admin_0_countries.zip\"\n",
    "gdf_ne = gpd.read_file(url)  # zipped shapefile\n",
    "gdf_ne = gdf_ne[[\"NAME\", \"CONTINENT\", \"POP_EST\", 'geometry']]\n",
    "\n",
    "alt.Chart(gdf_ne).mark_geoshape()"
   ]
  },
  {
   "cell_type": "code",
   "execution_count": null,
   "metadata": {},
   "outputs": [],
   "source": [
    "# @title Line Chart\n",
    "source = data.stocks()\n",
    "\n",
    "alt.Chart(source).mark_line().encode(\n",
    "    x=\"date\",\n",
    "    y=\"price\",\n",
    "    color=\"symbol\"\n",
    ")"
   ]
  },
  {
   "cell_type": "markdown",
   "metadata": {},
   "source": [
    "### Data Tramsformation dengan Library Altair:\n"
   ]
  },
  {
   "cell_type": "code",
   "execution_count": null,
   "metadata": {},
   "outputs": [],
   "source": [
    "# @title Agregat\n",
    "source = data.cars.url\n",
    "\n",
    "alt.Chart(source).mark_bar().encode(\n",
    "    y='Cylinders:O',\n",
    "    x='mean_acc:Q'\n",
    ").transform_aggregate(\n",
    "    mean_acc='mean(Acceleration)',\n",
    "    groupby=[\"Cylinders\"]\n",
    ")"
   ]
  },
  {
   "cell_type": "code",
   "execution_count": null,
   "metadata": {},
   "outputs": [],
   "source": [
    "# @title Bin\n",
    "movies = data.movies.url\n",
    "\n",
    "alt.Chart(movies).mark_bar().encode(\n",
    "    x='binned_rating:O',\n",
    "    y='count()',\n",
    ").transform_bin(\n",
    "    'binned_rating', field='IMDB_Rating'\n",
    ")"
   ]
  },
  {
   "cell_type": "code",
   "execution_count": null,
   "metadata": {},
   "outputs": [],
   "source": [
    "data = pd.DataFrame({'t': range(101)})\n",
    "\n",
    "alt.Chart(data).mark_line().encode(\n",
    "    x='x:Q',\n",
    "    y='y:Q',\n",
    "    order='t:Q'\n",
    ").transform_calculate(\n",
    "    x='cos(datum.t * PI / 50)',\n",
    "    y='sin(datum.t * PI / 25)'\n",
    ")"
   ]
  },
  {
   "cell_type": "code",
   "execution_count": null,
   "metadata": {},
   "outputs": [
    {
     "data": {
      "text/html": [
       "\n",
       "<div id=\"altair-viz-12d447c89b7e440ba73900e99cccbe7a\"></div>\n",
       "<script type=\"text/javascript\">\n",
       "  var VEGA_DEBUG = (typeof VEGA_DEBUG == \"undefined\") ? {} : VEGA_DEBUG;\n",
       "  (function(spec, embedOpt){\n",
       "    let outputDiv = document.currentScript.previousElementSibling;\n",
       "    if (outputDiv.id !== \"altair-viz-12d447c89b7e440ba73900e99cccbe7a\") {\n",
       "      outputDiv = document.getElementById(\"altair-viz-12d447c89b7e440ba73900e99cccbe7a\");\n",
       "    }\n",
       "    const paths = {\n",
       "      \"vega\": \"https://cdn.jsdelivr.net/npm//vega@5?noext\",\n",
       "      \"vega-lib\": \"https://cdn.jsdelivr.net/npm//vega-lib?noext\",\n",
       "      \"vega-lite\": \"https://cdn.jsdelivr.net/npm//vega-lite@4.17.0?noext\",\n",
       "      \"vega-embed\": \"https://cdn.jsdelivr.net/npm//vega-embed@6?noext\",\n",
       "    };\n",
       "\n",
       "    function maybeLoadScript(lib, version) {\n",
       "      var key = `${lib.replace(\"-\", \"\")}_version`;\n",
       "      return (VEGA_DEBUG[key] == version) ?\n",
       "        Promise.resolve(paths[lib]) :\n",
       "        new Promise(function(resolve, reject) {\n",
       "          var s = document.createElement('script');\n",
       "          document.getElementsByTagName(\"head\")[0].appendChild(s);\n",
       "          s.async = true;\n",
       "          s.onload = () => {\n",
       "            VEGA_DEBUG[key] = version;\n",
       "            return resolve(paths[lib]);\n",
       "          };\n",
       "          s.onerror = () => reject(`Error loading script: ${paths[lib]}`);\n",
       "          s.src = paths[lib];\n",
       "        });\n",
       "    }\n",
       "\n",
       "    function showError(err) {\n",
       "      outputDiv.innerHTML = `<div class=\"error\" style=\"color:red;\">${err}</div>`;\n",
       "      throw err;\n",
       "    }\n",
       "\n",
       "    function displayChart(vegaEmbed) {\n",
       "      vegaEmbed(outputDiv, spec, embedOpt)\n",
       "        .catch(err => showError(`Javascript Error: ${err.message}<br>This usually means there's a typo in your chart specification. See the javascript console for the full traceback.`));\n",
       "    }\n",
       "\n",
       "    if(typeof define === \"function\" && define.amd) {\n",
       "      requirejs.config({paths});\n",
       "      require([\"vega-embed\"], displayChart, err => showError(`Error loading script: ${err.message}`));\n",
       "    } else {\n",
       "      maybeLoadScript(\"vega\", \"5\")\n",
       "        .then(() => maybeLoadScript(\"vega-lite\", \"4.17.0\"))\n",
       "        .then(() => maybeLoadScript(\"vega-embed\", \"6\"))\n",
       "        .catch(showError)\n",
       "        .then(() => displayChart(vegaEmbed));\n",
       "    }\n",
       "  })({\"config\": {\"view\": {\"continuousWidth\": 400, \"continuousHeight\": 300}}, \"data\": {\"name\": \"data-c83ce6c4f9db0b31888c500aca3cdf77\"}, \"mark\": \"point\", \"encoding\": {\"x\": {\"field\": \"prob\", \"type\": \"quantitative\"}, \"y\": {\"field\": \"value\", \"type\": \"quantitative\"}}, \"transform\": [{\"quantile\": \"x\", \"step\": 0.01}], \"$schema\": \"https://vega.github.io/schema/vega-lite/v4.17.0.json\", \"datasets\": {\"data-c83ce6c4f9db0b31888c500aca3cdf77\": [{\"x\": 0.4967141530112327}, {\"x\": -0.13826430117118466}, {\"x\": 0.6476885381006925}, {\"x\": 1.5230298564080254}, {\"x\": -0.23415337472333597}, {\"x\": -0.23413695694918055}, {\"x\": 1.5792128155073915}, {\"x\": 0.7674347291529088}, {\"x\": -0.4694743859349521}, {\"x\": 0.5425600435859647}, {\"x\": -0.46341769281246226}, {\"x\": -0.46572975357025687}, {\"x\": 0.24196227156603412}, {\"x\": -1.913280244657798}, {\"x\": -1.7249178325130328}, {\"x\": -0.5622875292409727}, {\"x\": -1.0128311203344238}, {\"x\": 0.3142473325952739}, {\"x\": -0.9080240755212109}, {\"x\": -1.4123037013352915}, {\"x\": 1.465648768921554}, {\"x\": -0.22577630048653566}, {\"x\": 0.06752820468792384}, {\"x\": -1.4247481862134568}, {\"x\": -0.5443827245251827}, {\"x\": 0.11092258970986608}, {\"x\": -1.1509935774223028}, {\"x\": 0.37569801834567196}, {\"x\": -0.600638689918805}, {\"x\": -0.2916937497932768}, {\"x\": -0.6017066122293969}, {\"x\": 1.8522781845089378}, {\"x\": -0.013497224737933921}, {\"x\": -1.0577109289559004}, {\"x\": 0.822544912103189}, {\"x\": -1.2208436499710222}, {\"x\": 0.2088635950047554}, {\"x\": -1.9596701238797756}, {\"x\": -1.3281860488984305}, {\"x\": 0.19686123586912352}, {\"x\": 0.7384665799954104}, {\"x\": 0.1713682811899705}, {\"x\": -0.11564828238824053}, {\"x\": -0.3011036955892888}, {\"x\": -1.4785219903674274}, {\"x\": -0.7198442083947086}, {\"x\": -0.4606387709597875}, {\"x\": 1.0571222262189157}, {\"x\": 0.3436182895684614}, {\"x\": -1.763040155362734}, {\"x\": 0.324083969394795}, {\"x\": -0.38508228041631654}, {\"x\": -0.6769220003059587}, {\"x\": 0.6116762888408679}, {\"x\": 1.030999522495951}, {\"x\": 0.9312801191161986}, {\"x\": -0.8392175232226385}, {\"x\": -0.3092123758512146}, {\"x\": 0.33126343140356396}, {\"x\": 0.9755451271223592}, {\"x\": -0.47917423784528995}, {\"x\": -0.18565897666381712}, {\"x\": -1.1063349740060282}, {\"x\": -1.1962066240806708}, {\"x\": 0.812525822394198}, {\"x\": 1.356240028570823}, {\"x\": -0.07201012158033385}, {\"x\": 1.0035328978920242}, {\"x\": 0.36163602504763415}, {\"x\": -0.6451197546051243}, {\"x\": 0.36139560550841393}, {\"x\": 1.5380365664659692}, {\"x\": -0.03582603910995154}, {\"x\": 1.5646436558140062}, {\"x\": -2.6197451040897444}, {\"x\": 0.8219025043752238}, {\"x\": 0.08704706823817122}, {\"x\": -0.29900735046586746}, {\"x\": 0.0917607765355023}, {\"x\": -1.9875689146008928}, {\"x\": -0.21967188783751193}, {\"x\": 0.3571125715117464}, {\"x\": 1.477894044741516}, {\"x\": -0.5182702182736474}, {\"x\": -0.8084936028931876}, {\"x\": -0.5017570435845365}, {\"x\": 0.9154021177020741}, {\"x\": 0.32875110965968446}, {\"x\": -0.5297602037670388}, {\"x\": 0.5132674331133561}, {\"x\": 0.09707754934804039}, {\"x\": 0.9686449905328892}, {\"x\": -0.7020530938773524}, {\"x\": -0.3276621465977682}, {\"x\": -0.39210815313215763}, {\"x\": -1.4635149481321186}, {\"x\": 0.29612027706457605}, {\"x\": 0.26105527217988933}, {\"x\": 0.00511345664246089}, {\"x\": -0.23458713337514692}, {\"x\": -1.4153707420504142}, {\"x\": -0.42064532276535904}, {\"x\": -0.3427145165267695}, {\"x\": -0.8022772692216189}, {\"x\": -0.16128571166600914}, {\"x\": 0.4040508568145384}, {\"x\": 1.8861859012105302}, {\"x\": 0.17457781283183896}, {\"x\": 0.25755039072276437}, {\"x\": -0.07444591576616721}, {\"x\": -1.9187712152990415}, {\"x\": -0.026513875449216878}, {\"x\": 0.06023020994102644}, {\"x\": 2.463242112485286}, {\"x\": -0.19236096478112252}, {\"x\": 0.30154734233361247}, {\"x\": -0.03471176970524331}, {\"x\": -1.168678037619532}, {\"x\": 1.1428228145150205}, {\"x\": 0.7519330326867741}, {\"x\": 0.7910319470430469}, {\"x\": -0.9093874547947389}, {\"x\": 1.4027943109360992}, {\"x\": -1.4018510627922809}, {\"x\": 0.5868570938002703}, {\"x\": 2.1904556258099785}, {\"x\": -0.9905363251306883}, {\"x\": -0.5662977296027719}, {\"x\": 0.09965136508764122}, {\"x\": -0.5034756541161992}, {\"x\": -1.5506634310661327}, {\"x\": 0.06856297480602733}, {\"x\": -1.0623037137261049}, {\"x\": 0.4735924306351816}, {\"x\": -0.9194242342338032}, {\"x\": 1.5499344050175394}, {\"x\": -0.7832532923362371}, {\"x\": -0.3220615162056756}, {\"x\": 0.8135172173696698}, {\"x\": -1.2308643164339552}, {\"x\": 0.22745993460412942}, {\"x\": 1.307142754282428}, {\"x\": -1.6074832345612275}, {\"x\": 0.1846338585323042}, {\"x\": 0.25988279424842353}, {\"x\": 0.7818228717773104}, {\"x\": -1.236950710878082}, {\"x\": -1.3204566130842763}, {\"x\": 0.5219415656168976}, {\"x\": 0.29698467323318606}, {\"x\": 0.25049285034587654}, {\"x\": 0.3464482094969757}, {\"x\": -0.6800247215784908}, {\"x\": 0.23225369716100355}, {\"x\": 0.29307247329868125}, {\"x\": -0.7143514180263678}, {\"x\": 1.8657745111447566}, {\"x\": 0.4738329209117875}, {\"x\": -1.1913034972026486}, {\"x\": 0.6565536086338297}, {\"x\": -0.9746816702273214}, {\"x\": 0.787084603742452}, {\"x\": 1.158595579007404}, {\"x\": -0.8206823183517105}, {\"x\": 0.9633761292443218}, {\"x\": 0.4127809269364983}, {\"x\": 0.82206015999449}, {\"x\": 1.8967929826539474}, {\"x\": -0.2453881160028705}, {\"x\": -0.7537361643574896}, {\"x\": -0.8895144296255233}, {\"x\": -0.8158102849654383}, {\"x\": -0.0771017094141042}, {\"x\": 0.3411519748166439}, {\"x\": 0.27669079933001905}, {\"x\": 0.8271832490360238}, {\"x\": 0.01300189187790702}, {\"x\": 1.4535340771573169}, {\"x\": -0.2646568332379561}, {\"x\": 2.720169166589619}, {\"x\": 0.6256673477650062}, {\"x\": -0.8571575564162826}, {\"x\": -1.0708924980611123}, {\"x\": 0.4824724152431853}, {\"x\": -0.2234627853258509}, {\"x\": 0.714000494092092}, {\"x\": 0.47323762457354485}, {\"x\": -0.07282891265687277}, {\"x\": -0.846793718068405}, {\"x\": -1.5148472246858646}, {\"x\": -0.4465149520670211}, {\"x\": 0.8563987943234723}, {\"x\": 0.21409374413020396}, {\"x\": -1.245738778711988}, {\"x\": 0.173180925851182}, {\"x\": 0.3853173797288368}, {\"x\": -0.883857436201133}, {\"x\": 0.1537251059455279}, {\"x\": 0.058208718445999896}, {\"x\": -1.142970297830623}]}}, {\"mode\": \"vega-lite\"});\n",
       "</script>"
      ],
      "text/plain": [
       "alt.Chart(...)"
      ]
     },
     "metadata": {},
     "output_type": "display_data"
    }
   ],
   "source": [
    "# @title Quantile\n",
    "np.random.seed(42)\n",
    "df = pd.DataFrame({'x': np.random.randn(200)})\n",
    "\n",
    "alt.Chart(df).transform_quantile(\n",
    "    'x', step=0.01\n",
    ").mark_point().encode(\n",
    "    x='prob:Q',\n",
    "    y='value:Q'\n",
    ")"
   ]
  },
  {
   "cell_type": "code",
   "execution_count": null,
   "metadata": {},
   "outputs": [
    {
     "data": {
      "text/html": [
       "\n",
       "<div id=\"altair-viz-46b2c668454747ea8d2761f06d0a46b5\"></div>\n",
       "<script type=\"text/javascript\">\n",
       "  var VEGA_DEBUG = (typeof VEGA_DEBUG == \"undefined\") ? {} : VEGA_DEBUG;\n",
       "  (function(spec, embedOpt){\n",
       "    let outputDiv = document.currentScript.previousElementSibling;\n",
       "    if (outputDiv.id !== \"altair-viz-46b2c668454747ea8d2761f06d0a46b5\") {\n",
       "      outputDiv = document.getElementById(\"altair-viz-46b2c668454747ea8d2761f06d0a46b5\");\n",
       "    }\n",
       "    const paths = {\n",
       "      \"vega\": \"https://cdn.jsdelivr.net/npm//vega@5?noext\",\n",
       "      \"vega-lib\": \"https://cdn.jsdelivr.net/npm//vega-lib?noext\",\n",
       "      \"vega-lite\": \"https://cdn.jsdelivr.net/npm//vega-lite@4.17.0?noext\",\n",
       "      \"vega-embed\": \"https://cdn.jsdelivr.net/npm//vega-embed@6?noext\",\n",
       "    };\n",
       "\n",
       "    function maybeLoadScript(lib, version) {\n",
       "      var key = `${lib.replace(\"-\", \"\")}_version`;\n",
       "      return (VEGA_DEBUG[key] == version) ?\n",
       "        Promise.resolve(paths[lib]) :\n",
       "        new Promise(function(resolve, reject) {\n",
       "          var s = document.createElement('script');\n",
       "          document.getElementsByTagName(\"head\")[0].appendChild(s);\n",
       "          s.async = true;\n",
       "          s.onload = () => {\n",
       "            VEGA_DEBUG[key] = version;\n",
       "            return resolve(paths[lib]);\n",
       "          };\n",
       "          s.onerror = () => reject(`Error loading script: ${paths[lib]}`);\n",
       "          s.src = paths[lib];\n",
       "        });\n",
       "    }\n",
       "\n",
       "    function showError(err) {\n",
       "      outputDiv.innerHTML = `<div class=\"error\" style=\"color:red;\">${err}</div>`;\n",
       "      throw err;\n",
       "    }\n",
       "\n",
       "    function displayChart(vegaEmbed) {\n",
       "      vegaEmbed(outputDiv, spec, embedOpt)\n",
       "        .catch(err => showError(`Javascript Error: ${err.message}<br>This usually means there's a typo in your chart specification. See the javascript console for the full traceback.`));\n",
       "    }\n",
       "\n",
       "    if(typeof define === \"function\" && define.amd) {\n",
       "      requirejs.config({paths});\n",
       "      require([\"vega-embed\"], displayChart, err => showError(`Error loading script: ${err.message}`));\n",
       "    } else {\n",
       "      maybeLoadScript(\"vega\", \"5\")\n",
       "        .then(() => maybeLoadScript(\"vega-lite\", \"4.17.0\"))\n",
       "        .then(() => maybeLoadScript(\"vega-embed\", \"6\"))\n",
       "        .catch(showError)\n",
       "        .then(() => displayChart(vegaEmbed));\n",
       "    }\n",
       "  })({\"config\": {\"view\": {\"continuousWidth\": 400, \"continuousHeight\": 300}}, \"layer\": [{\"mark\": \"point\", \"encoding\": {\"x\": {\"field\": \"x\", \"type\": \"quantitative\"}, \"y\": {\"field\": \"y\", \"type\": \"quantitative\"}}}, {\"mark\": \"line\", \"encoding\": {\"x\": {\"field\": \"x\", \"type\": \"quantitative\"}, \"y\": {\"field\": \"y\", \"type\": \"quantitative\"}}, \"transform\": [{\"on\": \"x\", \"regression\": \"y\"}]}], \"data\": {\"name\": \"data-04295185ddde84f7f1fd8ac63d0a1a89\"}, \"$schema\": \"https://vega.github.io/schema/vega-lite/v4.17.0.json\", \"datasets\": {\"data-04295185ddde84f7f1fd8ac63d0a1a89\": [{\"x\": 0.0, \"y\": -4.503285846988767}, {\"x\": 0.20408163265306123, \"y\": -4.934182668518123}, {\"x\": 0.40816326530612246, \"y\": -3.9441481965931855}, {\"x\": 0.6122448979591837, \"y\": -2.8647252456327905}, {\"x\": 0.8163265306122449, \"y\": -4.417826844111091}, {\"x\": 1.0204081632653061, \"y\": -4.213728793683875}, {\"x\": 1.2244897959183674, \"y\": -2.196297388574241}, {\"x\": 1.4285714285714286, \"y\": -2.8039938422756623}, {\"x\": 1.6326530612244898, \"y\": -3.836821324710462}, {\"x\": 1.836734693877551, \"y\": -2.6207052625364846}, {\"x\": 2.0408163265306123, \"y\": -3.42260136628185}, {\"x\": 2.2448979591836737, \"y\": -3.220831794386583}, {\"x\": 2.4489795918367347, \"y\": -2.309058136597231}, {\"x\": 2.6530612244897958, \"y\": -4.260219020168002}, {\"x\": 2.857142857142857, \"y\": -3.8677749753701756}, {\"x\": 3.0612244897959187, \"y\": -2.501063039445054}, {\"x\": 3.2653061224489797, \"y\": -2.747524997885444}, {\"x\": 3.4693877551020407, \"y\": -1.2163649123026854}, {\"x\": 3.673469387755102, \"y\": -2.2345546877661087}, {\"x\": 3.8775510204081636, \"y\": -2.534752680927128}, {\"x\": 4.081632653061225, \"y\": 0.5472814219827786}, {\"x\": 4.285714285714286, \"y\": -0.94006201477225}, {\"x\": 4.4897959183673475, \"y\": -0.44267587694472865}, {\"x\": 4.6938775510204085, \"y\": -1.7308706351930483}, {\"x\": 4.8979591836734695, \"y\": -0.6464235408517132}, {\"x\": 5.1020408163265305, \"y\": 0.21296340603639657}, {\"x\": 5.3061224489795915, \"y\": -0.8448711284427113}, {\"x\": 5.510204081632653, \"y\": 0.8859020999783254}, {\"x\": 5.714285714285714, \"y\": 0.11364702436690943}, {\"x\": 5.918367346938775, \"y\": 0.6266735971454986}, {\"x\": 6.122448979591837, \"y\": 0.5207423673624404}, {\"x\": 6.326530612244898, \"y\": 3.1788087967538363}, {\"x\": 6.530612244897959, \"y\": 1.5171150201600254}, {\"x\": 6.73469387755102, \"y\": 0.67698294859512}, {\"x\": 6.938775510204081, \"y\": 2.7613204223072705}, {\"x\": 7.142857142857143, \"y\": 0.922013492886121}, {\"x\": 7.346938775510204, \"y\": 2.5558023705149595}, {\"x\": 7.551020408163265, \"y\": 0.5913502842834897}, {\"x\": 7.755102040816327, \"y\": 1.4269159919178966}, {\"x\": 7.959183673469388, \"y\": 3.1560449093385117}, {\"x\": 8.16326530612245, \"y\": 3.90173188611786}, {\"x\": 8.36734693877551, \"y\": 3.5387152199654808}, {\"x\": 8.571428571428571, \"y\": 3.4557802890403306}, {\"x\": 8.775510204081632, \"y\": 3.4744065084923434}, {\"x\": 8.979591836734695, \"y\": 2.5010698463672676}, {\"x\": 9.183673469387756, \"y\": 3.463829260993047}, {\"x\": 9.387755102040817, \"y\": 3.9271163310810295}, {\"x\": 9.591836734693878, \"y\": 5.648958960912793}, {\"x\": 9.795918367346939, \"y\": 5.1395366569154}, {\"x\": 10.0, \"y\": 3.236959844637266}]}}, {\"mode\": \"vega-lite\"});\n",
       "</script>"
      ],
      "text/plain": [
       "alt.LayerChart(...)"
      ]
     },
     "metadata": {},
     "output_type": "display_data"
    }
   ],
   "source": [
    "# @title Regression\n",
    "np.random.seed(42)\n",
    "x = np.linspace(0, 10)\n",
    "y = x - 5 + np.random.randn(len(x))\n",
    "\n",
    "df = pd.DataFrame({'x': x, 'y': y})\n",
    "\n",
    "chart = alt.Chart(df).mark_point().encode(\n",
    "    x='x',\n",
    "    y='y'\n",
    ")\n",
    "\n",
    "chart + chart.transform_regression('x', 'y').mark_line()"
   ]
  }
 ],
 "metadata": {
  "kernelspec": {
   "display_name": "Python 3",
   "language": "python",
   "name": "python3"
  },
  "language_info": {
   "codemirror_mode": {
    "name": "ipython",
    "version": 3
   },
   "file_extension": ".py",
   "mimetype": "text/x-python",
   "name": "python",
   "nbconvert_exporter": "python",
   "pygments_lexer": "ipython3",
   "version": "3.10.5"
  }
 },
 "nbformat": 4,
 "nbformat_minor": 2
}
