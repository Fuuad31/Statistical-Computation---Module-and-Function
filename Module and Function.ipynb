{
 "cells": [
  {
   "cell_type": "markdown",
   "metadata": {},
   "source": [
    "# Control Flow"
   ]
  },
  {
   "cell_type": "markdown",
   "metadata": {},
   "source": [
    "## Loops in Python – For, While and Nested Loops"
   ]
  },
  {
   "cell_type": "markdown",
   "metadata": {},
   "source": [
    "Sumber: [Belajarpython](https://belajarpython.com/tutorial/loop-python/)"
   ]
  },
  {
   "cell_type": "markdown",
   "metadata": {},
   "source": [
    "Pernyataan pada bahasa pemrograman dieksekusi secara berurutan. Pernyataan pertama dalam sebuah fungsi dijalankan pertama, diikuti oleh yang kedua, dan seterusnya. Tetapi akan ada situasi dimana kita harus menulis banyak kode, dimana kode tersebut sangat banyak. Jika dilakukan secara manual, kita hanya akan **membuang-buang tenaga dengan menulis beratus-ratus** bahkan beribu-ribu kode. Untuk itu, kita perlu menggunakan pengulangan di dalam bahasa pemrograman Python.\n",
    "\n",
    "Di dalam bahasa pemrograman Python pengulangan dibagi menjadi 3 bagian, yaitu\n",
    "*   While Loop\n",
    "*   For Loop\n",
    "*   Nested Loop"
   ]
  },
  {
   "cell_type": "markdown",
   "metadata": {},
   "source": [
    "## While Loop\n",
    "Pengulangan While Loop di dalam bahasa pemrograman Python dieksesusi statement berkali-kali selama kondisi bernilai benar atau True."
   ]
  },
  {
   "cell_type": "code",
   "execution_count": null,
   "metadata": {},
   "outputs": [
    {
     "name": "stdout",
     "output_type": "stream",
     "text": [
      "The count is:  0\n",
      "The count is:  1\n",
      "The count is:  2\n",
      "The count is:  3\n",
      "The count is:  4\n",
      "The count is:  5\n",
      "The count is:  6\n",
      "The count is:  7\n",
      "The count is:  8\n",
      "Good bye!\n"
     ]
    }
   ],
   "source": [
    "#Contoh penggunaan While Loop\n",
    "#Catatan: Penentuan ruang lingkup di Python bisa menggunakan indentansi\n",
    "\n",
    "count = 0\n",
    "while (count < 9):\n",
    "  print (\"The count is: \", count)\n",
    "  count = count + 1\n",
    "\n",
    "print (\"Good bye!\")"
   ]
  },
  {
   "cell_type": "markdown",
   "metadata": {},
   "source": [
    "## For Loop\n",
    "Pengulangan for pada Python memiliki kemampuan untuk mengulangi item dari urutan apapun, seperti list atau string."
   ]
  },
  {
   "cell_type": "code",
   "execution_count": null,
   "metadata": {},
   "outputs": [],
   "source": [
    "#Contoh pengulangan for sederhana\n",
    "angka = [1,2,3,4,5]\n",
    "for x in angka:\n",
    "  print(x)\n",
    "\n",
    "#Contoh pengulangan for\n",
    "buah = [\"nanas\", \"apel\", \"jeruk\"]\n",
    "for makanan in buah:\n",
    "  print (\"Saya suka makan\", makanan)"
   ]
  },
  {
   "cell_type": "markdown",
   "metadata": {},
   "source": [
    "## Nested Loop\n",
    "Bahasa pemrograman Python memungkinkan penggunaan satu lingkaran di dalam loop lain. Bagian berikut menunjukkan beberapa contoh untuk menggambarkan konsep tersebut."
   ]
  },
  {
   "cell_type": "code",
   "execution_count": null,
   "metadata": {},
   "outputs": [],
   "source": [
    "i = 2\n",
    "while(i < 100):\n",
    "  j = 2\n",
    "while(j <= (i/j)):\n",
    "  if not(i%j): break\n",
    "  j = j + 1\n",
    "  if (j > i/j) : print(i, \" is prime\")\n",
    "    i = i + 1\n",
    "\n",
    "print(\"Good bye!\")"
   ]
  },
  {
   "cell_type": "markdown",
   "metadata": {},
   "source": [
    "# Looping"
   ]
  },
  {
   "cell_type": "markdown",
   "metadata": {},
   "source": [
    "# Aplication of Control Flow and Looping"
   ]
  },
  {
   "cell_type": "code",
   "execution_count": null,
   "metadata": {},
   "outputs": [],
   "source": [
    "# @title Fungsi Nilai Akhir Menggunakan R\n",
    "df=data.frame(Nama=c('dafa','dafo','dafi'), Nilai=c(100,70,80), Nilai1=c(50,55,75), Nilai2=c(70,60,100))\n",
    "Nilai_Akhir = function(data){\n",
    "  Hasil_Akhir = data.frame(Nama = data[1], Nilai = character(nrow(data)))\n",
    "  Nilai = NULL\n",
    "  for(i in 1:nrow(data)){\n",
    "    Nilai = sum(data[i,2:ncol(data)])/(ncol(data)-1)\n",
    "    if(Nilai >= 80){\n",
    "      Hasil_Akhir$Nilai[i] = 'A'\n",
    "    }\n",
    "    else if(Nilai >= 70){\n",
    "      Hasil_Akhir$Nilai[i] = 'B'\n",
    "    }\n",
    "    else if(Nilai >= 50){\n",
    "      Hasil_Akhir$Nilai[i] = 'C'\n",
    "    }\n",
    "    else if(Nilai >= 30){\n",
    "      Hasil_Akhir$Nilai[i] = 'D'\n",
    "    }\n",
    "    else{\n",
    "      Hasil_Akhir$Nilai[i] = 'E'\n",
    "    }\n",
    "  }\n",
    "\n",
    "  return(Hasil_Akhir)\n",
    "}\n",
    "\n",
    "Nilai_Akhir(df)\n",
    "\n"
   ]
  },
  {
   "cell_type": "code",
   "execution_count": null,
   "metadata": {},
   "outputs": [],
   "source": [
    "# @title Fungsi Nilai Akhir Menggunakan Python\n",
    "import pandas as pd\n",
    "def Nilai_Akhir(data):\n",
    "  Hasil_Akhir = pd.DataFrame(columns=['Nama','Nilai'])\n",
    "  for i in range(len(data)) :\n",
    "    Rerata = data.iloc[i,1:].mean()\n",
    "    if Rerata >= 80:\n",
    "      Hasil = 'A'\n",
    "    elif Rerata >= 70:\n",
    "      Hasil = 'B'\n",
    "    elif Rerata >= 50:\n",
    "      Hasil = 'C'\n",
    "    elif Rerata >= 30:\n",
    "      Hasil = 'D'\n",
    "    else:\n",
    "      Hasil = 'E'\n",
    "    Hasil_Akhir = Hasil_Akhir.append({'Nama': data.iloc[i, 0], 'Nilai': Hasil}, ignore_index=True)\n",
    "  return(Hasil_Akhir)"
   ]
  },
  {
   "cell_type": "code",
   "execution_count": null,
   "metadata": {},
   "outputs": [
    {
     "name": "stderr",
     "output_type": "stream",
     "text": [
      "<ipython-input-98-8674f9dda86f>:17: FutureWarning: The frame.append method is deprecated and will be removed from pandas in a future version. Use pandas.concat instead.\n",
      "  Hasil_Akhir = Hasil_Akhir.append({'Nama': data.iloc[i, 0], 'Nilai': Hasil}, ignore_index=True)\n",
      "<ipython-input-98-8674f9dda86f>:17: FutureWarning: The frame.append method is deprecated and will be removed from pandas in a future version. Use pandas.concat instead.\n",
      "  Hasil_Akhir = Hasil_Akhir.append({'Nama': data.iloc[i, 0], 'Nilai': Hasil}, ignore_index=True)\n",
      "<ipython-input-98-8674f9dda86f>:17: FutureWarning: The frame.append method is deprecated and will be removed from pandas in a future version. Use pandas.concat instead.\n",
      "  Hasil_Akhir = Hasil_Akhir.append({'Nama': data.iloc[i, 0], 'Nilai': Hasil}, ignore_index=True)\n"
     ]
    },
    {
     "data": {
      "application/vnd.google.colaboratory.intrinsic+json": {
       "summary": "{\n  \"name\": \"Nilai_Akhir(coba)\",\n  \"rows\": 3,\n  \"fields\": [\n    {\n      \"column\": \"Nama\",\n      \"properties\": {\n        \"dtype\": \"string\",\n        \"num_unique_values\": 3,\n        \"samples\": [\n          \"dafa\",\n          \"dafo\",\n          \"dafi\"\n        ],\n        \"semantic_type\": \"\",\n        \"description\": \"\"\n      }\n    },\n    {\n      \"column\": \"Nilai\",\n      \"properties\": {\n        \"dtype\": \"string\",\n        \"num_unique_values\": 3,\n        \"samples\": [\n          \"B\",\n          \"C\",\n          \"A\"\n        ],\n        \"semantic_type\": \"\",\n        \"description\": \"\"\n      }\n    }\n  ]\n}",
       "type": "dataframe"
      },
      "text/html": [
       "\n",
       "  <div id=\"df-2762d784-e1cb-427b-9cc5-2fe50db9e862\" class=\"colab-df-container\">\n",
       "    <div>\n",
       "<style scoped>\n",
       "    .dataframe tbody tr th:only-of-type {\n",
       "        vertical-align: middle;\n",
       "    }\n",
       "\n",
       "    .dataframe tbody tr th {\n",
       "        vertical-align: top;\n",
       "    }\n",
       "\n",
       "    .dataframe thead th {\n",
       "        text-align: right;\n",
       "    }\n",
       "</style>\n",
       "<table border=\"1\" class=\"dataframe\">\n",
       "  <thead>\n",
       "    <tr style=\"text-align: right;\">\n",
       "      <th></th>\n",
       "      <th>Nama</th>\n",
       "      <th>Nilai</th>\n",
       "    </tr>\n",
       "  </thead>\n",
       "  <tbody>\n",
       "    <tr>\n",
       "      <th>0</th>\n",
       "      <td>dafa</td>\n",
       "      <td>B</td>\n",
       "    </tr>\n",
       "    <tr>\n",
       "      <th>1</th>\n",
       "      <td>dafo</td>\n",
       "      <td>C</td>\n",
       "    </tr>\n",
       "    <tr>\n",
       "      <th>2</th>\n",
       "      <td>dafi</td>\n",
       "      <td>A</td>\n",
       "    </tr>\n",
       "  </tbody>\n",
       "</table>\n",
       "</div>\n",
       "    <div class=\"colab-df-buttons\">\n",
       "\n",
       "  <div class=\"colab-df-container\">\n",
       "    <button class=\"colab-df-convert\" onclick=\"convertToInteractive('df-2762d784-e1cb-427b-9cc5-2fe50db9e862')\"\n",
       "            title=\"Convert this dataframe to an interactive table.\"\n",
       "            style=\"display:none;\">\n",
       "\n",
       "  <svg xmlns=\"http://www.w3.org/2000/svg\" height=\"24px\" viewBox=\"0 -960 960 960\">\n",
       "    <path d=\"M120-120v-720h720v720H120Zm60-500h600v-160H180v160Zm220 220h160v-160H400v160Zm0 220h160v-160H400v160ZM180-400h160v-160H180v160Zm440 0h160v-160H620v160ZM180-180h160v-160H180v160Zm440 0h160v-160H620v160Z\"/>\n",
       "  </svg>\n",
       "    </button>\n",
       "\n",
       "  <style>\n",
       "    .colab-df-container {\n",
       "      display:flex;\n",
       "      gap: 12px;\n",
       "    }\n",
       "\n",
       "    .colab-df-convert {\n",
       "      background-color: #E8F0FE;\n",
       "      border: none;\n",
       "      border-radius: 50%;\n",
       "      cursor: pointer;\n",
       "      display: none;\n",
       "      fill: #1967D2;\n",
       "      height: 32px;\n",
       "      padding: 0 0 0 0;\n",
       "      width: 32px;\n",
       "    }\n",
       "\n",
       "    .colab-df-convert:hover {\n",
       "      background-color: #E2EBFA;\n",
       "      box-shadow: 0px 1px 2px rgba(60, 64, 67, 0.3), 0px 1px 3px 1px rgba(60, 64, 67, 0.15);\n",
       "      fill: #174EA6;\n",
       "    }\n",
       "\n",
       "    .colab-df-buttons div {\n",
       "      margin-bottom: 4px;\n",
       "    }\n",
       "\n",
       "    [theme=dark] .colab-df-convert {\n",
       "      background-color: #3B4455;\n",
       "      fill: #D2E3FC;\n",
       "    }\n",
       "\n",
       "    [theme=dark] .colab-df-convert:hover {\n",
       "      background-color: #434B5C;\n",
       "      box-shadow: 0px 1px 3px 1px rgba(0, 0, 0, 0.15);\n",
       "      filter: drop-shadow(0px 1px 2px rgba(0, 0, 0, 0.3));\n",
       "      fill: #FFFFFF;\n",
       "    }\n",
       "  </style>\n",
       "\n",
       "    <script>\n",
       "      const buttonEl =\n",
       "        document.querySelector('#df-2762d784-e1cb-427b-9cc5-2fe50db9e862 button.colab-df-convert');\n",
       "      buttonEl.style.display =\n",
       "        google.colab.kernel.accessAllowed ? 'block' : 'none';\n",
       "\n",
       "      async function convertToInteractive(key) {\n",
       "        const element = document.querySelector('#df-2762d784-e1cb-427b-9cc5-2fe50db9e862');\n",
       "        const dataTable =\n",
       "          await google.colab.kernel.invokeFunction('convertToInteractive',\n",
       "                                                    [key], {});\n",
       "        if (!dataTable) return;\n",
       "\n",
       "        const docLinkHtml = 'Like what you see? Visit the ' +\n",
       "          '<a target=\"_blank\" href=https://colab.research.google.com/notebooks/data_table.ipynb>data table notebook</a>'\n",
       "          + ' to learn more about interactive tables.';\n",
       "        element.innerHTML = '';\n",
       "        dataTable['output_type'] = 'display_data';\n",
       "        await google.colab.output.renderOutput(dataTable, element);\n",
       "        const docLink = document.createElement('div');\n",
       "        docLink.innerHTML = docLinkHtml;\n",
       "        element.appendChild(docLink);\n",
       "      }\n",
       "    </script>\n",
       "  </div>\n",
       "\n",
       "\n",
       "<div id=\"df-33e8eb8f-dd7f-4955-aa19-f506ca929c8c\">\n",
       "  <button class=\"colab-df-quickchart\" onclick=\"quickchart('df-33e8eb8f-dd7f-4955-aa19-f506ca929c8c')\"\n",
       "            title=\"Suggest charts\"\n",
       "            style=\"display:none;\">\n",
       "\n",
       "<svg xmlns=\"http://www.w3.org/2000/svg\" height=\"24px\"viewBox=\"0 0 24 24\"\n",
       "     width=\"24px\">\n",
       "    <g>\n",
       "        <path d=\"M19 3H5c-1.1 0-2 .9-2 2v14c0 1.1.9 2 2 2h14c1.1 0 2-.9 2-2V5c0-1.1-.9-2-2-2zM9 17H7v-7h2v7zm4 0h-2V7h2v10zm4 0h-2v-4h2v4z\"/>\n",
       "    </g>\n",
       "</svg>\n",
       "  </button>\n",
       "\n",
       "<style>\n",
       "  .colab-df-quickchart {\n",
       "      --bg-color: #E8F0FE;\n",
       "      --fill-color: #1967D2;\n",
       "      --hover-bg-color: #E2EBFA;\n",
       "      --hover-fill-color: #174EA6;\n",
       "      --disabled-fill-color: #AAA;\n",
       "      --disabled-bg-color: #DDD;\n",
       "  }\n",
       "\n",
       "  [theme=dark] .colab-df-quickchart {\n",
       "      --bg-color: #3B4455;\n",
       "      --fill-color: #D2E3FC;\n",
       "      --hover-bg-color: #434B5C;\n",
       "      --hover-fill-color: #FFFFFF;\n",
       "      --disabled-bg-color: #3B4455;\n",
       "      --disabled-fill-color: #666;\n",
       "  }\n",
       "\n",
       "  .colab-df-quickchart {\n",
       "    background-color: var(--bg-color);\n",
       "    border: none;\n",
       "    border-radius: 50%;\n",
       "    cursor: pointer;\n",
       "    display: none;\n",
       "    fill: var(--fill-color);\n",
       "    height: 32px;\n",
       "    padding: 0;\n",
       "    width: 32px;\n",
       "  }\n",
       "\n",
       "  .colab-df-quickchart:hover {\n",
       "    background-color: var(--hover-bg-color);\n",
       "    box-shadow: 0 1px 2px rgba(60, 64, 67, 0.3), 0 1px 3px 1px rgba(60, 64, 67, 0.15);\n",
       "    fill: var(--button-hover-fill-color);\n",
       "  }\n",
       "\n",
       "  .colab-df-quickchart-complete:disabled,\n",
       "  .colab-df-quickchart-complete:disabled:hover {\n",
       "    background-color: var(--disabled-bg-color);\n",
       "    fill: var(--disabled-fill-color);\n",
       "    box-shadow: none;\n",
       "  }\n",
       "\n",
       "  .colab-df-spinner {\n",
       "    border: 2px solid var(--fill-color);\n",
       "    border-color: transparent;\n",
       "    border-bottom-color: var(--fill-color);\n",
       "    animation:\n",
       "      spin 1s steps(1) infinite;\n",
       "  }\n",
       "\n",
       "  @keyframes spin {\n",
       "    0% {\n",
       "      border-color: transparent;\n",
       "      border-bottom-color: var(--fill-color);\n",
       "      border-left-color: var(--fill-color);\n",
       "    }\n",
       "    20% {\n",
       "      border-color: transparent;\n",
       "      border-left-color: var(--fill-color);\n",
       "      border-top-color: var(--fill-color);\n",
       "    }\n",
       "    30% {\n",
       "      border-color: transparent;\n",
       "      border-left-color: var(--fill-color);\n",
       "      border-top-color: var(--fill-color);\n",
       "      border-right-color: var(--fill-color);\n",
       "    }\n",
       "    40% {\n",
       "      border-color: transparent;\n",
       "      border-right-color: var(--fill-color);\n",
       "      border-top-color: var(--fill-color);\n",
       "    }\n",
       "    60% {\n",
       "      border-color: transparent;\n",
       "      border-right-color: var(--fill-color);\n",
       "    }\n",
       "    80% {\n",
       "      border-color: transparent;\n",
       "      border-right-color: var(--fill-color);\n",
       "      border-bottom-color: var(--fill-color);\n",
       "    }\n",
       "    90% {\n",
       "      border-color: transparent;\n",
       "      border-bottom-color: var(--fill-color);\n",
       "    }\n",
       "  }\n",
       "</style>\n",
       "\n",
       "  <script>\n",
       "    async function quickchart(key) {\n",
       "      const quickchartButtonEl =\n",
       "        document.querySelector('#' + key + ' button');\n",
       "      quickchartButtonEl.disabled = true;  // To prevent multiple clicks.\n",
       "      quickchartButtonEl.classList.add('colab-df-spinner');\n",
       "      try {\n",
       "        const charts = await google.colab.kernel.invokeFunction(\n",
       "            'suggestCharts', [key], {});\n",
       "      } catch (error) {\n",
       "        console.error('Error during call to suggestCharts:', error);\n",
       "      }\n",
       "      quickchartButtonEl.classList.remove('colab-df-spinner');\n",
       "      quickchartButtonEl.classList.add('colab-df-quickchart-complete');\n",
       "    }\n",
       "    (() => {\n",
       "      let quickchartButtonEl =\n",
       "        document.querySelector('#df-33e8eb8f-dd7f-4955-aa19-f506ca929c8c button');\n",
       "      quickchartButtonEl.style.display =\n",
       "        google.colab.kernel.accessAllowed ? 'block' : 'none';\n",
       "    })();\n",
       "  </script>\n",
       "</div>\n",
       "    </div>\n",
       "  </div>\n"
      ],
      "text/plain": [
       "   Nama Nilai\n",
       "0  dafa     B\n",
       "1  dafo     C\n",
       "2  dafi     A"
      ]
     },
     "metadata": {},
     "output_type": "display_data"
    }
   ],
   "source": [
    "cobalagi = {'nama':['dafa','dafo','dafi'], 'nilai':[100,70,80], 'nilai1':[50,55,75], 'nilai2':[70,60,100]}\n",
    "coba = pd.DataFrame(cobalagi)\n",
    "Nilai_Akhir(coba)"
   ]
  },
  {
   "cell_type": "markdown",
   "metadata": {},
   "source": [
    "# Function"
   ]
  },
  {
   "cell_type": "markdown",
   "metadata": {},
   "source": [
    "## Example of Simple Function"
   ]
  },
  {
   "cell_type": "markdown",
   "metadata": {},
   "source": [
    "### Cube Area"
   ]
  },
  {
   "cell_type": "code",
   "execution_count": 27,
   "metadata": {},
   "outputs": [],
   "source": [
    "def squares_area(a,b = 0):\n",
    "    \"\"\"\n",
    "    This function takes the side of a square and returns the area of the square.\n",
    "    \"\"\"\n",
    "    if (a**2 < 0) or (a*b < 0):\n",
    "        raise ValueError(\"Sides must be positive\")\n",
    "    if b == 0:\n",
    "        return print(\"Squares area =\", [a**2])\n",
    "    else:\n",
    "        return print(\"Squares area =\", [a*b])"
   ]
  },
  {
   "cell_type": "markdown",
   "metadata": {},
   "source": [
    "### Trapezoid Area"
   ]
  },
  {
   "cell_type": "code",
   "execution_count": null,
   "metadata": {},
   "outputs": [],
   "source": [
    "\n",
    "def trapezoid_area(a,b,t):\n",
    "    \"\"\"\n",
    "    This function takes the two parallel sides and the height of a trapezoid and returns the area of the trapezoid.\n",
    "    \"\"\"\n",
    "    if 0.5*(a+b)*t < 0:\n",
    "        raise ValueError(\"Sides must be positive\")\n",
    "    else:\n",
    "        return print(\"Trapezoid area =\", [0.5*(a+b)*t])"
   ]
  },
  {
   "cell_type": "markdown",
   "metadata": {},
   "source": [
    "### Perimeter Circle"
   ]
  },
  {
   "cell_type": "code",
   "execution_count": null,
   "metadata": {},
   "outputs": [],
   "source": [
    "def circle_perimeter(r):\n",
    "    \"\"\"\n",
    "    This function takes the radius of a circle and returns the perimeter of the circle.\n",
    "    \"\"\"\n",
    "    if r<0:\n",
    "        raise ValueError(\"Radius must be positive\")\n",
    "    else:\n",
    "        perim=2*math.pi*r\n",
    "        return perim"
   ]
  },
  {
   "cell_type": "markdown",
   "metadata": {},
   "source": [
    "### Circle Area"
   ]
  },
  {
   "cell_type": "code",
   "execution_count": null,
   "metadata": {},
   "outputs": [],
   "source": [
    "def circle_area(r):\n",
    "    \"\"\"\n",
    "    This function takes the radius of a circle and returns the area of the circle.\n",
    "    \"\"\"\n",
    "    if r<0:\n",
    "        raise ValueError(\"Radius must be positive\")\n",
    "    else:\n",
    "        area = math.pi*r\n",
    "        return area"
   ]
  },
  {
   "cell_type": "markdown",
   "metadata": {},
   "source": [
    "### Parallelogram Area"
   ]
  },
  {
   "cell_type": "code",
   "execution_count": null,
   "metadata": {},
   "outputs": [],
   "source": [
    "def parallelogram_area(base, height):\n",
    "    \"\"\"\n",
    "    This function takes the base and height of a parallelogram and returns the area of the parallelogram.\n",
    "    \"\"\"\n",
    "    if (base < 0 or height < 0):\n",
    "        raise ValueError(\"Base and height must be positive\")\n",
    "    else:\n",
    "        print(f\"The area of the parallelogram with base = {base} and height = {height} is {base * height} square units\")    "
   ]
  },
  {
   "cell_type": "markdown",
   "metadata": {},
   "source": [
    "### tcircle Grad"
   ]
  },
  {
   "cell_type": "code",
   "execution_count": null,
   "metadata": {},
   "outputs": [],
   "source": [
    "def tcircle_grad(m, x, y, r):\n",
    "    \"\"\"\n",
    "    This function takes the gradient of a tangent line to a circle, the coordinates of the center of the circle, and the radius of the circle and returns the equation of the tangent line to the circle.\n",
    "    \"\"\"\n",
    "    if (r < 0):\n",
    "        raise ValueError(\"Radius must be positive\")\n",
    "    else:\n",
    "        print(f\"The equation of the tangent line to the circle with center = ({x}, {y}) and radius = {r} is y = {m}x + {(y - m * x)} +- sqrt({(r ** 2) * (1 + m ** 2)})\")\n",
    "        return f\"y = {m}x + {(y - m * x)} +- sqrt({(r ** 2) * (1 + m ** 2)})\"\n"
   ]
  },
  {
   "cell_type": "markdown",
   "metadata": {},
   "source": [
    "### tcircle Point"
   ]
  },
  {
   "cell_type": "code",
   "execution_count": null,
   "metadata": {},
   "outputs": [],
   "source": [
    "def tcircle_point(x, y, r, x1, y1):\n",
    "    \"\"\"\n",
    "    This function takes the coordinates of the center of a circle, its radius, and the coordinates of a point and returns the equation of the tangent line to the circle that passes through the point.\n",
    "    \"\"\"\n",
    "    if (r < 0):\n",
    "        raise ValueError(\"Radius must be positive\")\n",
    "    elif ((x - x1) ** 2 + (y - y1) ** 2 < r ** 2):\n",
    "        raise ValueError(\"The point must be outside the circle\")\n",
    "    elif ((x - x1) ** 2 + (y - y1) ** 2 == r ** 2):\n",
    "        m = -(x1 - x) / (y1 - y)\n",
    "        print(f\"The equation of the tangent line to the circle with center = ({x}, {y}) and radius = {r} that passes through the tangent point ({x1}, {y1}) is y = {m}x + {y1 - m * x1}\")\n",
    "        return f\"y = {m}x + {y1 - m * x1}\"\n",
    "    else:\n",
    "        m = -(x1 - x) / (y1 - y)\n",
    "        print(f\"The equation of the tangent line to the circle with center = ({x}, {y}) and radius = {r} that passes through the external point ({x1}, {y1}) is y = {m}x + {y - m * x + r**2/(y1-y)}\")\n",
    "        return f\"y = {m}x + {y - m * x + r**2/(y1-y)}\""
   ]
  },
  {
   "cell_type": "markdown",
   "metadata": {},
   "source": [
    "### Panjang Tali Busur"
   ]
  },
  {
   "cell_type": "markdown",
   "metadata": {},
   "source": [
    "### Jari-Jari Lingkaran dalam Segitiga"
   ]
  },
  {
   "cell_type": "code",
   "execution_count": null,
   "metadata": {},
   "outputs": [],
   "source": [
    "def inradius(a,b,c):\n",
    "    \"\"\"\n",
    "    This function takes three sides of a triangle and returns the inradius of the triangle.\n",
    "    \"\"\"\n",
    "    if a+b <= c or a+c <= b or b+c <= a:\n",
    "        raise ValueError(\"The sides do not form a triangle.\")\n",
    "    elif a <= 0 or b <= 0 or c <= 0:\n",
    "        raise ValueError(\"The sides should be positive.\")\n",
    "\n",
    "    s = (a+b+c)/2\n",
    "    print(f'Inradius of the triangle: {(s*(s-a)*(s-b)*(s-c))**0.5/s}')\n",
    "    return ((s*(s-a)*(s-b)*(s-c))**0.5)/s"
   ]
  },
  {
   "cell_type": "markdown",
   "metadata": {},
   "source": [
    "### Jari-Jari Lingkaran luar Segitiga"
   ]
  },
  {
   "cell_type": "code",
   "execution_count": null,
   "metadata": {},
   "outputs": [],
   "source": [
    "def outradius(a,b,c):\n",
    "    \"\"\"\n",
    "    This function takes three sides of a triangle and returns the outradius of the triangle.\n",
    "    \"\"\"\n",
    "    if a+b <= c or a+c <= b or b+c <= a:\n",
    "        raise ValueError(\"The sides do not form a triangle.\")\n",
    "    elif a <= 0 or b <= 0 or c <= 0:\n",
    "        raise ValueError(\"The sides should be positive.\")\n",
    "\n",
    "    s = (a+b+c)/2\n",
    "    L = (s*(s-a)*(s-b)*(s-c))**0.5\n",
    "    print(f'Radius of the circumcircle: {a*b*c/(4*L)}')\n",
    "    return a*b*c/(4*L)"
   ]
  },
  {
   "cell_type": "markdown",
   "metadata": {},
   "source": [
    "## Function in R"
   ]
  },
  {
   "cell_type": "markdown",
   "metadata": {},
   "source": [
    "**Perbedann Fungsi R dan Python**\n",
    "\n",
    " R | Python\n",
    "---|-------\n",
    "fungsi di bentuk dengan perintah ``` Nama_Fungsi = function(argumen){} ```|fungsi dibentuk dengan perintah ```def Nama_Fungsi(argumen): ```\n",
    "fungsi di R dimuat dalam tanda kurung kurawal `{}`|fungsi di Python dituliskan pada baris baru dengan indentasi dan tanpa diapit tanda kurung kurawal `{}`\n",
    "\n",
    "\n",
    "\n",
    "\n",
    "\n"
   ]
  },
  {
   "cell_type": "markdown",
   "metadata": {},
   "source": [
    "# Module"
   ]
  },
  {
   "cell_type": "markdown",
   "metadata": {},
   "source": [
    "Modul hampir sama dengan libraries. Modul berisi kumpulan fungsi. Modul juga dapat berisi variabel-variabel (array, dictionaries, dll.)"
   ]
  },
  {
   "cell_type": "markdown",
   "metadata": {},
   "source": [
    "## Built-in Modules in Python"
   ]
  },
  {
   "cell_type": "markdown",
   "metadata": {},
   "source": [
    "## Creating New Module"
   ]
  },
  {
   "cell_type": "markdown",
   "metadata": {},
   "source": [
    "Langkah-Langkah Membuat Module di Python:\n",
    "1. Kumpulkan beberapa kode ke satu file.\n",
    "2. Simpan dalam bentuk `.py`\n",
    "3. Panggil Module dengan cara *import nama_module*\n",
    "4. Renaming module dapat dilakukan dengan `as`\n",
    "5. Fungsi dalam modul dapat digunakan dengan syntax *module_name.function_name*\n"
   ]
  },
  {
   "cell_type": "code",
   "execution_count": 21,
   "metadata": {},
   "outputs": [],
   "source": [
    "# Create file .py dan simpan dengan nama \"mymodule.py\"\n",
    "# Call module yang sudah dibuat dengan cara import mymodule\n",
    "import mymodule"
   ]
  },
  {
   "cell_type": "code",
   "execution_count": 22,
   "metadata": {},
   "outputs": [
    {
     "data": {
      "text/plain": [
       "['__builtins__',\n",
       " '__cached__',\n",
       " '__doc__',\n",
       " '__file__',\n",
       " '__loader__',\n",
       " '__name__',\n",
       " '__package__',\n",
       " '__spec__',\n",
       " 'greeting']"
      ]
     },
     "execution_count": 22,
     "metadata": {},
     "output_type": "execute_result"
    }
   ],
   "source": [
    "dir(mymodule)"
   ]
  },
  {
   "cell_type": "code",
   "execution_count": 25,
   "metadata": {},
   "outputs": [
    {
     "name": "stdout",
     "output_type": "stream",
     "text": [
      "Hello, Jonathan\n"
     ]
    }
   ],
   "source": [
    "# Using function from module\n",
    "mymodule.greeting(\"Jonathan\")"
   ]
  },
  {
   "cell_type": "code",
   "execution_count": 26,
   "metadata": {},
   "outputs": [
    {
     "ename": "AttributeError",
     "evalue": "module 'mymodule' has no attribute 'person1'",
     "output_type": "error",
     "traceback": [
      "\u001b[1;31m---------------------------------------------------------------------------\u001b[0m",
      "\u001b[1;31mAttributeError\u001b[0m                            Traceback (most recent call last)",
      "Cell \u001b[1;32mIn[26], line 2\u001b[0m\n\u001b[0;32m      1\u001b[0m \u001b[38;5;28;01mimport\u001b[39;00m \u001b[38;5;21;01mmymodule\u001b[39;00m \u001b[38;5;28;01mas\u001b[39;00m \u001b[38;5;21;01mmx\u001b[39;00m\n\u001b[1;32m----> 2\u001b[0m x \u001b[38;5;241m=\u001b[39m \u001b[43mmx\u001b[49m\u001b[38;5;241;43m.\u001b[39;49m\u001b[43mperson1\u001b[49m[\u001b[38;5;124m\"\u001b[39m\u001b[38;5;124mage\u001b[39m\u001b[38;5;124m\"\u001b[39m]\n\u001b[0;32m      3\u001b[0m x\n",
      "\u001b[1;31mAttributeError\u001b[0m: module 'mymodule' has no attribute 'person1'"
     ]
    }
   ],
   "source": [
    "import mymodule as mx\n",
    "x = mx.person1[\"age\"]\n",
    "x"
   ]
  },
  {
   "cell_type": "markdown",
   "metadata": {},
   "source": [
    "## List all function in the modules"
   ]
  },
  {
   "cell_type": "markdown",
   "metadata": {},
   "source": [
    "Untuk mendapatkan list fungsi-fungsi yang terdapat pada modul, dapat digunakan dir()"
   ]
  },
  {
   "cell_type": "code",
   "execution_count": 9,
   "metadata": {},
   "outputs": [
    {
     "data": {
      "text/plain": [
       "['__doc__',\n",
       " '__loader__',\n",
       " '__name__',\n",
       " '__package__',\n",
       " '__spec__',\n",
       " 'acos',\n",
       " 'acosh',\n",
       " 'asin',\n",
       " 'asinh',\n",
       " 'atan',\n",
       " 'atan2',\n",
       " 'atanh',\n",
       " 'ceil',\n",
       " 'comb',\n",
       " 'copysign',\n",
       " 'cos',\n",
       " 'cosh',\n",
       " 'degrees',\n",
       " 'dist',\n",
       " 'e',\n",
       " 'erf',\n",
       " 'erfc',\n",
       " 'exp',\n",
       " 'expm1',\n",
       " 'fabs',\n",
       " 'factorial',\n",
       " 'floor',\n",
       " 'fmod',\n",
       " 'frexp',\n",
       " 'fsum',\n",
       " 'gamma',\n",
       " 'gcd',\n",
       " 'hypot',\n",
       " 'inf',\n",
       " 'isclose',\n",
       " 'isfinite',\n",
       " 'isinf',\n",
       " 'isnan',\n",
       " 'isqrt',\n",
       " 'lcm',\n",
       " 'ldexp',\n",
       " 'lgamma',\n",
       " 'log',\n",
       " 'log10',\n",
       " 'log1p',\n",
       " 'log2',\n",
       " 'modf',\n",
       " 'nan',\n",
       " 'nextafter',\n",
       " 'perm',\n",
       " 'pi',\n",
       " 'pow',\n",
       " 'prod',\n",
       " 'radians',\n",
       " 'remainder',\n",
       " 'sin',\n",
       " 'sinh',\n",
       " 'sqrt',\n",
       " 'tan',\n",
       " 'tanh',\n",
       " 'tau',\n",
       " 'trunc',\n",
       " 'ulp']"
      ]
     },
     "execution_count": 9,
     "metadata": {},
     "output_type": "execute_result"
    }
   ],
   "source": [
    "import math \n",
    "dir(math)"
   ]
  },
  {
   "cell_type": "markdown",
   "metadata": {},
   "source": [
    "## New Module"
   ]
  },
  {
   "cell_type": "code",
   "execution_count": 23,
   "metadata": {},
   "outputs": [],
   "source": [
    "import geomeow as meo"
   ]
  },
  {
   "cell_type": "code",
   "execution_count": 24,
   "metadata": {},
   "outputs": [
    {
     "data": {
      "text/plain": [
       "['__builtins__',\n",
       " '__cached__',\n",
       " '__doc__',\n",
       " '__file__',\n",
       " '__loader__',\n",
       " '__name__',\n",
       " '__package__',\n",
       " '__spec__',\n",
       " 'circle_area',\n",
       " 'circle_perimeter',\n",
       " 'inradius',\n",
       " 'math',\n",
       " 'outradius',\n",
       " 'parallelogram_area',\n",
       " 'squares_area',\n",
       " 'tcircle_grad',\n",
       " 'tcircle_point',\n",
       " 'trapezoid_area']"
      ]
     },
     "execution_count": 24,
     "metadata": {},
     "output_type": "execute_result"
    }
   ],
   "source": [
    "dir(meo)"
   ]
  },
  {
   "cell_type": "code",
   "execution_count": 8,
   "metadata": {},
   "outputs": [],
   "source": [
    "from geometry import inradius "
   ]
  },
  {
   "cell_type": "markdown",
   "metadata": {},
   "source": [
    "# Visualization in Python"
   ]
  },
  {
   "cell_type": "markdown",
   "metadata": {},
   "source": [
    "## Matplotlib"
   ]
  },
  {
   "cell_type": "markdown",
   "metadata": {},
   "source": [
    "Sumber:\n",
    "* [ngodingdata.com](https://ngodingdata.com/pengenalan-library-matplotlib/)\n",
    "*[sekolahstata.com](https://sekolahstata.com/visualisasi-data-dengan-matplotlib-konsep-dan-implementasi/)\n",
    "* [matplotlib.org](https://matplotlib.org/stable/)"
   ]
  },
  {
   "cell_type": "markdown",
   "metadata": {},
   "source": [
    "Matplotlib adalah sebuah **library Python yang kuat dan populer untuk visualisasi data**. Dengan Matplotlib, kita dapat membuat berbagai jenis plot, seperti plot garis, scatter plot, bar plot, histogram, pie chart, dan banyak lagi. Matplotlib menyediakan antarmuka yang intuitif dan fleksibel untuk membuat dan mengatur tampilan plot dengan mudah."
   ]
  },
  {
   "cell_type": "markdown",
   "metadata": {},
   "source": [
    "Sebelum kita dapat menggunakan Matplotlib, kita perlu memasangnya terlebih dahulu."
   ]
  },
  {
   "cell_type": "code",
   "execution_count": null,
   "metadata": {},
   "outputs": [],
   "source": [
    "pip install seaborn"
   ]
  },
  {
   "cell_type": "markdown",
   "metadata": {},
   "source": [
    "Biasanya untuk mempermudah secara umum matplotlib.pyplot disingkat menjadi plt"
   ]
  },
  {
   "cell_type": "code",
   "execution_count": null,
   "metadata": {},
   "outputs": [],
   "source": [
    "import matplotlib.pyplot as plt"
   ]
  },
  {
   "cell_type": "markdown",
   "metadata": {},
   "source": [
    "### Jenis-Jenis Plot dalam Matplotlib\n",
    "#### Pairwise Data\n",
    "*   plot(x,y)\n",
    "*   scatter(x,y)\n",
    "*   bar(x,height)\n",
    "*   stem(x,y)\n",
    "*   fill_between(x,y1,y2)\n",
    "*   stackplot(x,y)\n",
    "*   stairs(values)\n",
    "\n",
    "#### Statistical Distributions\n",
    "*   hist(x)\n",
    "*   boxplot(x)\n",
    "*   errorbar(x,y,yerr,xerr)\n",
    "*   violinplot(D)\n",
    "*   eventplot(D)\n",
    "*   hisrt2d(x,y)\n",
    "*   hexbin(x,y,C)\n",
    "*   pie(x)\n",
    "*   ecdf(x)\n",
    "\n",
    "#### Gridded data\n",
    "*   imshow(Z)\n",
    "*   pcolormesh(X, Y, Z)\n",
    "*   contour(X, Y, Z)\n",
    "*   contourf(X, Y, Z)\n",
    "*   barbs(X, Y, U, V)\n",
    "*   quiver(X, Y, U, V)\n",
    "*   streamplot(X, Y, U, V)\n",
    "\n",
    "#### Irregularly Gridded Data\n",
    "*   tricontour(x, y, z)\n",
    "*   tricontourf(x, y, z)\n",
    "*   tripcolor(x, y, z)\n",
    "*   triplot(x, y)\n",
    "\n",
    "#### 3D and Volumetric Data\n",
    "*   scatter(xs, ys, zs)\n",
    "*   plot_surface(X, Y, Z)\n",
    "*   plot_trisurf(x, y, z)\n",
    "*   voxels([x, y, z], filled)\n",
    "*   plot_wireframe(X, Y, Z)\n"
   ]
  },
  {
   "cell_type": "markdown",
   "metadata": {},
   "source": [
    "### Contoh Membuat Plot Sederhana"
   ]
  },
  {
   "cell_type": "code",
   "execution_count": null,
   "metadata": {},
   "outputs": [
    {
     "data": {
      "text/plain": [
       "[<matplotlib.lines.Line2D at 0x7e1d3863c1c0>]"
      ]
     },
     "metadata": {},
     "output_type": "display_data"
    },
    {
     "data": {
      "image/png": "[encoded data removed]",
      "text/plain": [
       "<Figure size 640x480 with 1 Axes>"
      ]
     },
     "metadata": {},
     "output_type": "display_data"
    }
   ],
   "source": [
    "# Data\n",
    "x = [1, 2, 3, 4, 5]\n",
    "y = [1, 4, 4, 8, 12]\n",
    "\n",
    "# Membuat plot garis\n",
    "plt.plot(x, y)\n",
    "plt.show()"
   ]
  },
  {
   "cell_type": "code",
   "execution_count": null,
   "metadata": {},
   "outputs": [
    {
     "data": {
      "text/plain": [
       "(array([2., 0., 0., 3., 0., 0., 3., 0., 0., 2.]),\n",
       " array([1. , 1.3, 1.6, 1.9, 2.2, 2.5, 2.8, 3.1, 3.4, 3.7, 4. ]),\n",
       " <BarContainer object of 10 artists>)"
      ]
     },
     "metadata": {},
     "output_type": "display_data"
    },
    {
     "data": {
      "image/png": "[encoded data removed]",
      "text/plain": [
       "<Figure size 640x480 with 1 Axes>"
      ]
     },
     "metadata": {},
     "output_type": "display_data"
    }
   ],
   "source": [
    "# Data\n",
    "data = [2, 3, 1, 4, 3, 2, 4, 1, 3, 2]\n",
    "plt.hist(data)\n",
    "plt.show()"
   ]
  },
  {
   "cell_type": "code",
   "execution_count": null,
   "metadata": {},
   "outputs": [
    {
     "data": {
      "text/plain": [
       "<matplotlib.collections.PathCollection at 0x7e1d190a1420>"
      ]
     },
     "metadata": {},
     "output_type": "display_data"
    },
    {
     "data": {
      "image/png": "[encoded data removed]",
      "text/plain": [
       "<Figure size 640x480 with 1 Axes>"
      ]
     },
     "metadata": {},
     "output_type": "display_data"
    }
   ],
   "source": [
    "# Data\n",
    "x = [1, 1, 3, 4, 5]\n",
    "y = [2, 4, 4, 8, 10]\n",
    "\n",
    "# Membuat scatter plot\n",
    "plt.scatter(x, y)\n",
    "plt.show()"
   ]
  },
  {
   "cell_type": "code",
   "execution_count": null,
   "metadata": {},
   "outputs": [
    {
     "data": {
      "image/png": "[encoded data removed]",
      "text/plain": [
       "<Figure size 640x480 with 1 Axes>"
      ]
     },
     "metadata": {},
     "output_type": "display_data"
    }
   ],
   "source": [
    "# Data\n",
    "labels = [\"A\", \"B\", \"C\", \"D\"]\n",
    "sizes = [15, 30, 45, 10]\n",
    "\n",
    "# Membuat pie chart\n",
    "plt.pie(sizes, labels=labels)\n",
    "plt.show()"
   ]
  },
  {
   "cell_type": "markdown",
   "metadata": {},
   "source": [
    "## Seaborn\n",
    "Sumber:\n",
    "* [sekolahstata.com](https://sekolahstata.com/visualisasi-data-dengan-seaborn-konsep-dan-implementasi/)\n",
    "* [revou.co](https://revou.co/panduan-teknis/seaborn-python)\n"
   ]
  },
  {
   "cell_type": "markdown",
   "metadata": {},
   "source": [
    "Seaborn adalah library visualisasi data berbasis Python yang menyediakan **high-level interface (antarmuka tingkat tinggi)** untuk menggambar grafik statistik yang **informatif**. Seaborn menyediakan sejumlah plot dan gaya yang siap pakai untuk memvisualisasikan data.\n",
    "\n",
    "Seaborn **dibangun di atas Matplotlib**, yaitu salah satu library visualisasi data paling dasar dan populer di Python. Artinya, Seaborn **memanfaatkan fungsionalitas inti dari Matplotlib** dengan menambahkan lapisan abstraksi untuk **memudahkan analyst** membuat visualisasi yang lebih kompleks.\n",
    "\n",
    "\n",
    "Menurut GeeksforGeeks, Seaborn memudahkan dalam memvisualisasikan data dengan berbagai jenis plot seperti distribusi, kategorikal, matriks, dan banyak lagi. Dengan kata lain, jika kamu **ingin melihat distribusi data** atau **hubungan antara dua variabel**, Seaborn memiliki alat yang tepat untuk melakukannya."
   ]
  },
  {
   "cell_type": "markdown",
   "metadata": {},
   "source": [
    "#### Perbedaan Seaborn vs Matplotlib\n",
    "Seaborn dan Matplotlib adalah dua library visualisasi data yang populer di Python, tetapi keduanya memiliki karakteristik dan kegunaan yang berbeda.\n",
    "\n",
    "Berikut perbedaan keduanya.\n",
    "\n",
    "* **Desain dan estetika**: Secara default, **Seaborn memiliki tema dan palet warna yang lebih menarik **dibandingkan dengan Matplotlib. Hal ini memungkinkan kamu untuk lebih mudah membuat visualisasi tanpa perlu banyak penyesuaian.\n",
    "\n",
    "* **Fungsionalitas**: meskipun Seaborn dibangun di atas Matplotlib dan memanfaatkannya sebagai dasar, **Seaborn menawarkan berbagai jenis plot khusus yang dioptimalkan untuk analisis statistik**, seperti plot distribusi, plot kategorikal, dan plot matriks. Di sisi lain, **Matplotlib lebih fleksibel dan memungkinkan kamu membuat hampir semua jenis visualisasi, tetapi memerlukan lebih banyak kod**e.\n",
    "\n",
    "* **Integrasi dengan Pandas**:  **Seaborn bekerja dengan sangat baik dengan DataFrame Pandas**, memudahkan pengguna untuk memvisualisasikan data langsung dari DataFrame. Meskipun Matplotlib juga mendukung DataFrame Pandas, Seaborn menyediakan interface yang lebih intuitif.\n",
    "\n",
    "* **Kustomisasi**: sebagai library dasar, **Matplotlib memberikan kontrol lebih besar kepada analyst dalam hal kustomisasi**. Semenetara itu, Seaborn mengoptimalkan untuk kasus penggunaan umum, tetapi mungkin tidak sefleksibel Matplotlib untuk kebutuhan kustomisasi yang sangat spesifik.\n",
    "\n",
    "Dalam prakteknya, banyak **data analyst menggunakan keduanya secara bersamaan**. Seaborn untuk visualisasi cepat yang menarik dan informatif, sementara Matplotlib untuk kustomisasi lebih lanjut atau jenis visualisasi yang lebih kompleks."
   ]
  },
  {
   "cell_type": "markdown",
   "metadata": {},
   "source": [
    "Sebelum kita dapat menggunakan Seaborn, kita perlu memasangnya terlebih dahulu."
   ]
  },
  {
   "cell_type": "code",
   "execution_count": null,
   "metadata": {},
   "outputs": [],
   "source": [
    "pip install seaborn"
   ]
  },
  {
   "cell_type": "markdown",
   "metadata": {},
   "source": [
    "Setelah Seaborn terpasang, kita perlu **mengimpor** library yang dibutuhkan dalam program Python kita."
   ]
  },
  {
   "cell_type": "code",
   "execution_count": null,
   "metadata": {},
   "outputs": [],
   "source": [
    "import seaborn as sns"
   ]
  },
  {
   "cell_type": "markdown",
   "metadata": {},
   "source": [
    "Ada banyak fungsi yang bisa dipakai dalam modul seaborn.\n",
    "Berikut beberapa di antaranya."
   ]
  },
  {
   "cell_type": "markdown",
   "metadata": {},
   "source": [
    "#### 1. Scatter Plot"
   ]
  },
  {
   "cell_type": "code",
   "execution_count": null,
   "metadata": {},
   "outputs": [
    {
     "ename": "NameError",
     "evalue": "name 'sns' is not defined",
     "output_type": "error",
     "traceback": [
      "\u001b[0;31m---------------------------------------------------------------------------\u001b[0m\n",
      "\u001b[0;31mNameError\u001b[0m                                 Traceback (most recent call last)\n",
      "\u001b[0;32m<ipython-input-2-91168b576e55>\u001b[0m in \u001b[0;36m<cell line: 1>\u001b[0;34m()\u001b[0m\n",
      "\u001b[0;32m----> 1\u001b[0;31m \u001b[0mdata\u001b[0m \u001b[0;34m=\u001b[0m \u001b[0msns\u001b[0m\u001b[0;34m.\u001b[0m\u001b[0mload_dataset\u001b[0m\u001b[0;34m(\u001b[0m\u001b[0;34m'tips'\u001b[0m\u001b[0;34m)\u001b[0m\u001b[0;34m\u001b[0m\u001b[0;34m\u001b[0m\u001b[0m\n",
      "\u001b[0m\u001b[1;32m      2\u001b[0m \u001b[0msns\u001b[0m\u001b[0;34m.\u001b[0m\u001b[0mscatterplot\u001b[0m\u001b[0;34m(\u001b[0m\u001b[0mx\u001b[0m\u001b[0;34m=\u001b[0m\u001b[0;34m'total_bill'\u001b[0m\u001b[0;34m,\u001b[0m \u001b[0my\u001b[0m\u001b[0;34m=\u001b[0m\u001b[0;34m'tip'\u001b[0m\u001b[0;34m,\u001b[0m \u001b[0mdata\u001b[0m\u001b[0;34m=\u001b[0m\u001b[0mdata\u001b[0m\u001b[0;34m)\u001b[0m\u001b[0;34m\u001b[0m\u001b[0;34m\u001b[0m\u001b[0m\n",
      "\n",
      "\u001b[0;31mNameError\u001b[0m: name 'sns' is not defined"
     ]
    }
   ],
   "source": [
    "data = sns.load_dataset('tips')\n",
    "sns.scatterplot(x='total_bill', y='tip', data=data)"
   ]
  },
  {
   "cell_type": "markdown",
   "metadata": {},
   "source": [
    "#### 2. Line plot"
   ]
  },
  {
   "cell_type": "code",
   "execution_count": null,
   "metadata": {},
   "outputs": [
    {
     "data": {
      "text/plain": [
       "<Axes: xlabel='month'>"
      ]
     },
     "metadata": {},
     "output_type": "display_data"
    },
    {
     "data": {
      "image/png": "[encoded data removed]",
      "text/plain": [
       "<Figure size 640x480 with 1 Axes>"
      ]
     },
     "metadata": {},
     "output_type": "display_data"
    }
   ],
   "source": [
    "data = sns.load_dataset('flights')\n",
    "data_pivot = data.pivot_table(index='month', columns='year', values='passengers')\n",
    "sns.lineplot(data=data_pivot)"
   ]
  },
  {
   "cell_type": "markdown",
   "metadata": {},
   "source": [
    "#### 3. Bar Plot"
   ]
  },
  {
   "cell_type": "code",
   "execution_count": null,
   "metadata": {},
   "outputs": [
    {
     "data": {
      "text/plain": [
       "<Axes: xlabel='day', ylabel='total_bill'>"
      ]
     },
     "metadata": {},
     "output_type": "display_data"
    },
    {
     "data": {
      "image/png": "[encoded data removed]",
      "text/plain": [
       "<Figure size 640x480 with 1 Axes>"
      ]
     },
     "metadata": {},
     "output_type": "display_data"
    }
   ],
   "source": [
    "data = sns.load_dataset('tips')\n",
    "sns.barplot(x='day', y='total_bill', data=data)"
   ]
  },
  {
   "cell_type": "markdown",
   "metadata": {},
   "source": [
    "#### 4. Histogram"
   ]
  },
  {
   "cell_type": "code",
   "execution_count": null,
   "metadata": {},
   "outputs": [
    {
     "data": {
      "text/plain": [
       "<Axes: xlabel='total_bill', ylabel='Count'>"
      ]
     },
     "metadata": {},
     "output_type": "display_data"
    },
    {
     "data": {
      "image/png": "[encoded data removed]",
      "text/plain": [
       "<Figure size 640x480 with 1 Axes>"
      ]
     },
     "metadata": {},
     "output_type": "display_data"
    }
   ],
   "source": [
    "data = sns.load_dataset('tips')\n",
    "sns.histplot(data['total_bill'])"
   ]
  },
  {
   "cell_type": "markdown",
   "metadata": {},
   "source": [
    "#### 5. Boxplot"
   ]
  },
  {
   "cell_type": "code",
   "execution_count": null,
   "metadata": {},
   "outputs": [
    {
     "data": {
      "text/plain": [
       "<Axes: xlabel='day', ylabel='total_bill'>"
      ]
     },
     "metadata": {},
     "output_type": "display_data"
    },
    {
     "data": {
      "image/png": "[encoded data removed]",
      "text/plain": [
       "<Figure size 640x480 with 1 Axes>"
      ]
     },
     "metadata": {},
     "output_type": "display_data"
    }
   ],
   "source": [
    "data = sns.load_dataset('tips')\n",
    "sns.boxplot(x='day', y='total_bill', data=data)"
   ]
  },
  {
   "cell_type": "markdown",
   "metadata": {},
   "source": [
    "#### 6. Heatmap"
   ]
  },
  {
   "cell_type": "code",
   "execution_count": null,
   "metadata": {},
   "outputs": [
    {
     "data": {
      "text/plain": [
       "<Axes: xlabel='year', ylabel='month'>"
      ]
     },
     "metadata": {},
     "output_type": "display_data"
    },
    {
     "data": {
      "image/png": "[encoded data removed]",
      "text/plain": [
       "<Figure size 640x480 with 2 Axes>"
      ]
     },
     "metadata": {},
     "output_type": "display_data"
    }
   ],
   "source": [
    "data = sns.load_dataset('flights')\n",
    "data_pivot = data.pivot_table(index='month', columns='year', values='passengers')\n",
    "sns.heatmap(data_pivot, cmap='YlGnBu')"
   ]
  },
  {
   "cell_type": "markdown",
   "metadata": {},
   "source": [
    "#### Estimating regression fits"
   ]
  },
  {
   "cell_type": "code",
   "execution_count": null,
   "metadata": {},
   "outputs": [
    {
     "data": {
      "image/png": "[encoded data removed]",
      "text/plain": [
       "<Figure size 640x480 with 1 Axes>"
      ]
     },
     "metadata": {},
     "output_type": "display_data"
    }
   ],
   "source": [
    "tips = sns.load_dataset(\"tips\")\n",
    "sns.regplot(x=\"total_bill\", y=\"tip\", data=tips);"
   ]
  },
  {
   "cell_type": "markdown",
   "metadata": {},
   "source": [
    "## Plotly"
   ]
  },
  {
   "cell_type": "markdown",
   "metadata": {},
   "source": [
    "## Bokeh"
   ]
  },
  {
   "cell_type": "markdown",
   "metadata": {},
   "source": [
    "## Altair"
   ]
  },
  {
   "cell_type": "markdown",
   "metadata": {},
   "source": [
    "Altair atau Vega-Altair adalah salah satu library yang digunakan untuk melakukan visualisasi. berikut adalah syntax yang secara umum digunakan untuk membuat visualisasi dengan library altair\n",
    "```Python\n",
    "alt.Chart().mark_BentukPlot().encode()\n",
    "```\n"
   ]
  },
  {
   "cell_type": "code",
   "execution_count": null,
   "metadata": {},
   "outputs": [],
   "source": [
    "import pandas as pd\n",
    "import numpy as np\n",
    "import altair as alt\n",
    "from vega_datasets import data"
   ]
  },
  {
   "cell_type": "markdown",
   "metadata": {},
   "source": [
    "### Visualisasi yang dapat dibentuk dengan library Altair:"
   ]
  },
  {
   "cell_type": "code",
   "execution_count": null,
   "metadata": {},
   "outputs": [
    {
     "data": {
      "text/html": [
       "\n",
       "<div id=\"altair-viz-1d69b9b9aa19467bba9c64fef4178aef\"></div>\n",
       "<script type=\"text/javascript\">\n",
       "  var VEGA_DEBUG = (typeof VEGA_DEBUG == \"undefined\") ? {} : VEGA_DEBUG;\n",
       "  (function(spec, embedOpt){\n",
       "    let outputDiv = document.currentScript.previousElementSibling;\n",
       "    if (outputDiv.id !== \"altair-viz-1d69b9b9aa19467bba9c64fef4178aef\") {\n",
       "      outputDiv = document.getElementById(\"altair-viz-1d69b9b9aa19467bba9c64fef4178aef\");\n",
       "    }\n",
       "    const paths = {\n",
       "      \"vega\": \"https://cdn.jsdelivr.net/npm//vega@5?noext\",\n",
       "      \"vega-lib\": \"https://cdn.jsdelivr.net/npm//vega-lib?noext\",\n",
       "      \"vega-lite\": \"https://cdn.jsdelivr.net/npm//vega-lite@4.17.0?noext\",\n",
       "      \"vega-embed\": \"https://cdn.jsdelivr.net/npm//vega-embed@6?noext\",\n",
       "    };\n",
       "\n",
       "    function maybeLoadScript(lib, version) {\n",
       "      var key = `${lib.replace(\"-\", \"\")}_version`;\n",
       "      return (VEGA_DEBUG[key] == version) ?\n",
       "        Promise.resolve(paths[lib]) :\n",
       "        new Promise(function(resolve, reject) {\n",
       "          var s = document.createElement('script');\n",
       "          document.getElementsByTagName(\"head\")[0].appendChild(s);\n",
       "          s.async = true;\n",
       "          s.onload = () => {\n",
       "            VEGA_DEBUG[key] = version;\n",
       "            return resolve(paths[lib]);\n",
       "          };\n",
       "          s.onerror = () => reject(`Error loading script: ${paths[lib]}`);\n",
       "          s.src = paths[lib];\n",
       "        });\n",
       "    }\n",
       "\n",
       "    function showError(err) {\n",
       "      outputDiv.innerHTML = `<div class=\"error\" style=\"color:red;\">${err}</div>`;\n",
       "      throw err;\n",
       "    }\n",
       "\n",
       "    function displayChart(vegaEmbed) {\n",
       "      vegaEmbed(outputDiv, spec, embedOpt)\n",
       "        .catch(err => showError(`Javascript Error: ${err.message}<br>This usually means there's a typo in your chart specification. See the javascript console for the full traceback.`));\n",
       "    }\n",
       "\n",
       "    if(typeof define === \"function\" && define.amd) {\n",
       "      requirejs.config({paths});\n",
       "      require([\"vega-embed\"], displayChart, err => showError(`Error loading script: ${err.message}`));\n",
       "    } else {\n",
       "      maybeLoadScript(\"vega\", \"5\")\n",
       "        .then(() => maybeLoadScript(\"vega-lite\", \"4.17.0\"))\n",
       "        .then(() => maybeLoadScript(\"vega-embed\", \"6\"))\n",
       "        .catch(showError)\n",
       "        .then(() => displayChart(vegaEmbed));\n",
       "    }\n",
       "  })({\"config\": {\"view\": {\"continuousWidth\": 400, \"continuousHeight\": 300}}, \"data\": {\"name\": \"data-c9896de6322bcd9cf0fe9396e0b72d16\"}, \"mark\": \"arc\", \"encoding\": {\"color\": {\"field\": \"category\", \"type\": \"nominal\"}, \"theta\": {\"field\": \"value\", \"type\": \"quantitative\"}}, \"$schema\": \"https://vega.github.io/schema/vega-lite/v4.17.0.json\", \"datasets\": {\"data-c9896de6322bcd9cf0fe9396e0b72d16\": [{\"category\": 1, \"value\": 4}, {\"category\": 2, \"value\": 6}, {\"category\": 3, \"value\": 10}, {\"category\": 4, \"value\": 3}, {\"category\": 5, \"value\": 7}, {\"category\": 6, \"value\": 8}]}}, {\"mode\": \"vega-lite\"});\n",
       "</script>"
      ],
      "text/plain": [
       "alt.Chart(...)"
      ]
     },
     "metadata": {},
     "output_type": "display_data"
    }
   ],
   "source": [
    "# @title Pie Chart\n",
    "source = pd.DataFrame({\"category\": [1, 2, 3, 4, 5, 6], \"value\": [4, 6, 10, 3, 7, 8]})\n",
    "\n",
    "alt.Chart(source).mark_arc().encode(\n",
    "    theta=alt.Theta(field=\"value\", type=\"quantitative\"),\n",
    "    color=alt.Color(field=\"category\", type=\"nominal\"),\n",
    ")"
   ]
  },
  {
   "cell_type": "code",
   "execution_count": null,
   "metadata": {},
   "outputs": [
    {
     "data": {
      "text/html": [
       "\n",
       "<div id=\"altair-viz-a2b3570912314c1b8daf70db7aad92bd\"></div>\n",
       "<script type=\"text/javascript\">\n",
       "  var VEGA_DEBUG = (typeof VEGA_DEBUG == \"undefined\") ? {} : VEGA_DEBUG;\n",
       "  (function(spec, embedOpt){\n",
       "    let outputDiv = document.currentScript.previousElementSibling;\n",
       "    if (outputDiv.id !== \"altair-viz-a2b3570912314c1b8daf70db7aad92bd\") {\n",
       "      outputDiv = document.getElementById(\"altair-viz-a2b3570912314c1b8daf70db7aad92bd\");\n",
       "    }\n",
       "    const paths = {\n",
       "      \"vega\": \"https://cdn.jsdelivr.net/npm//vega@5?noext\",\n",
       "      \"vega-lib\": \"https://cdn.jsdelivr.net/npm//vega-lib?noext\",\n",
       "      \"vega-lite\": \"https://cdn.jsdelivr.net/npm//vega-lite@4.17.0?noext\",\n",
       "      \"vega-embed\": \"https://cdn.jsdelivr.net/npm//vega-embed@6?noext\",\n",
       "    };\n",
       "\n",
       "    function maybeLoadScript(lib, version) {\n",
       "      var key = `${lib.replace(\"-\", \"\")}_version`;\n",
       "      return (VEGA_DEBUG[key] == version) ?\n",
       "        Promise.resolve(paths[lib]) :\n",
       "        new Promise(function(resolve, reject) {\n",
       "          var s = document.createElement('script');\n",
       "          document.getElementsByTagName(\"head\")[0].appendChild(s);\n",
       "          s.async = true;\n",
       "          s.onload = () => {\n",
       "            VEGA_DEBUG[key] = version;\n",
       "            return resolve(paths[lib]);\n",
       "          };\n",
       "          s.onerror = () => reject(`Error loading script: ${paths[lib]}`);\n",
       "          s.src = paths[lib];\n",
       "        });\n",
       "    }\n",
       "\n",
       "    function showError(err) {\n",
       "      outputDiv.innerHTML = `<div class=\"error\" style=\"color:red;\">${err}</div>`;\n",
       "      throw err;\n",
       "    }\n",
       "\n",
       "    function displayChart(vegaEmbed) {\n",
       "      vegaEmbed(outputDiv, spec, embedOpt)\n",
       "        .catch(err => showError(`Javascript Error: ${err.message}<br>This usually means there's a typo in your chart specification. See the javascript console for the full traceback.`));\n",
       "    }\n",
       "\n",
       "    if(typeof define === \"function\" && define.amd) {\n",
       "      requirejs.config({paths});\n",
       "      require([\"vega-embed\"], displayChart, err => showError(`Error loading script: ${err.message}`));\n",
       "    } else {\n",
       "      maybeLoadScript(\"vega\", \"5\")\n",
       "        .then(() => maybeLoadScript(\"vega-lite\", \"4.17.0\"))\n",
       "        .then(() => maybeLoadScript(\"vega-embed\", \"6\"))\n",
       "        .catch(showError)\n",
       "        .then(() => displayChart(vegaEmbed));\n",
       "    }\n",
       "  })({\"config\": {\"view\": {\"continuousWidth\": 400, \"continuousHeight\": 300}}, \"data\": {\"url\": \"https://cdn.jsdelivr.net/npm/vega-datasets@v1.29.0/data/unemployment-across-industries.json\"}, \"mark\": \"area\", \"encoding\": {\"x\": {\"field\": \"date\", \"timeUnit\": \"yearmonth\", \"type\": \"temporal\"}, \"y\": {\"aggregate\": \"sum\", \"field\": \"count\", \"type\": \"quantitative\"}}, \"$schema\": \"https://vega.github.io/schema/vega-lite/v4.17.0.json\"}, {\"mode\": \"vega-lite\"});\n",
       "</script>"
      ],
      "text/plain": [
       "alt.Chart(...)"
      ]
     },
     "metadata": {},
     "output_type": "display_data"
    }
   ],
   "source": [
    "# @title Area Marks\n",
    "source = data.unemployment_across_industries.url\n",
    "\n",
    "alt.Chart(source).mark_area().encode(\n",
    "    x=\"yearmonth(date):T\",\n",
    "    y=\"sum(count):Q\",\n",
    ")"
   ]
  },
  {
   "cell_type": "code",
   "execution_count": null,
   "metadata": {},
   "outputs": [
    {
     "data": {
      "text/html": [
       "\n",
       "<div id=\"altair-viz-1909c3b0ee544d31be0beda65688ca1d\"></div>\n",
       "<script type=\"text/javascript\">\n",
       "  var VEGA_DEBUG = (typeof VEGA_DEBUG == \"undefined\") ? {} : VEGA_DEBUG;\n",
       "  (function(spec, embedOpt){\n",
       "    let outputDiv = document.currentScript.previousElementSibling;\n",
       "    if (outputDiv.id !== \"altair-viz-1909c3b0ee544d31be0beda65688ca1d\") {\n",
       "      outputDiv = document.getElementById(\"altair-viz-1909c3b0ee544d31be0beda65688ca1d\");\n",
       "    }\n",
       "    const paths = {\n",
       "      \"vega\": \"https://cdn.jsdelivr.net/npm//vega@5?noext\",\n",
       "      \"vega-lib\": \"https://cdn.jsdelivr.net/npm//vega-lib?noext\",\n",
       "      \"vega-lite\": \"https://cdn.jsdelivr.net/npm//vega-lite@4.17.0?noext\",\n",
       "      \"vega-embed\": \"https://cdn.jsdelivr.net/npm//vega-embed@6?noext\",\n",
       "    };\n",
       "\n",
       "    function maybeLoadScript(lib, version) {\n",
       "      var key = `${lib.replace(\"-\", \"\")}_version`;\n",
       "      return (VEGA_DEBUG[key] == version) ?\n",
       "        Promise.resolve(paths[lib]) :\n",
       "        new Promise(function(resolve, reject) {\n",
       "          var s = document.createElement('script');\n",
       "          document.getElementsByTagName(\"head\")[0].appendChild(s);\n",
       "          s.async = true;\n",
       "          s.onload = () => {\n",
       "            VEGA_DEBUG[key] = version;\n",
       "            return resolve(paths[lib]);\n",
       "          };\n",
       "          s.onerror = () => reject(`Error loading script: ${paths[lib]}`);\n",
       "          s.src = paths[lib];\n",
       "        });\n",
       "    }\n",
       "\n",
       "    function showError(err) {\n",
       "      outputDiv.innerHTML = `<div class=\"error\" style=\"color:red;\">${err}</div>`;\n",
       "      throw err;\n",
       "    }\n",
       "\n",
       "    function displayChart(vegaEmbed) {\n",
       "      vegaEmbed(outputDiv, spec, embedOpt)\n",
       "        .catch(err => showError(`Javascript Error: ${err.message}<br>This usually means there's a typo in your chart specification. See the javascript console for the full traceback.`));\n",
       "    }\n",
       "\n",
       "    if(typeof define === \"function\" && define.amd) {\n",
       "      requirejs.config({paths});\n",
       "      require([\"vega-embed\"], displayChart, err => showError(`Error loading script: ${err.message}`));\n",
       "    } else {\n",
       "      maybeLoadScript(\"vega\", \"5\")\n",
       "        .then(() => maybeLoadScript(\"vega-lite\", \"4.17.0\"))\n",
       "        .then(() => maybeLoadScript(\"vega-embed\", \"6\"))\n",
       "        .catch(showError)\n",
       "        .then(() => displayChart(vegaEmbed));\n",
       "    }\n",
       "  })({\"config\": {\"view\": {\"continuousWidth\": 400, \"continuousHeight\": 300}}, \"data\": {\"name\": \"data-c2a3e89ba9d5d1687d5e8c28d630a033\"}, \"mark\": \"bar\", \"encoding\": {\"x\": {\"field\": \"a\", \"type\": \"nominal\"}, \"y\": {\"field\": \"b\", \"type\": \"quantitative\"}}, \"$schema\": \"https://vega.github.io/schema/vega-lite/v4.17.0.json\", \"datasets\": {\"data-c2a3e89ba9d5d1687d5e8c28d630a033\": [{\"a\": \"A\", \"b\": 28}, {\"a\": \"B\", \"b\": 55}, {\"a\": \"C\", \"b\": 43}, {\"a\": \"D\", \"b\": 91}, {\"a\": \"E\", \"b\": 81}, {\"a\": \"F\", \"b\": 53}, {\"a\": \"G\", \"b\": 19}, {\"a\": \"H\", \"b\": 87}, {\"a\": \"I\", \"b\": 52}]}}, {\"mode\": \"vega-lite\"});\n",
       "</script>"
      ],
      "text/plain": [
       "alt.Chart(...)"
      ]
     },
     "metadata": {},
     "output_type": "display_data"
    }
   ],
   "source": [
    "# @title Bar Chart\n",
    "source = pd.DataFrame({\n",
    "    'a': ['A', 'B', 'C', 'D', 'E', 'F', 'G', 'H', 'I'],\n",
    "    'b': [28, 55, 43, 91, 81, 53, 19, 87, 52]\n",
    "})\n",
    "\n",
    "alt.Chart(source).mark_bar().encode(\n",
    "    x='a',\n",
    "    y='b'\n",
    ")"
   ]
  },
  {
   "cell_type": "code",
   "execution_count": null,
   "metadata": {},
   "outputs": [
    {
     "data": {
      "text/html": [
       "\n",
       "<div id=\"altair-viz-1b70269ca92a481b9215780697f3500b\"></div>\n",
       "<script type=\"text/javascript\">\n",
       "  var VEGA_DEBUG = (typeof VEGA_DEBUG == \"undefined\") ? {} : VEGA_DEBUG;\n",
       "  (function(spec, embedOpt){\n",
       "    let outputDiv = document.currentScript.previousElementSibling;\n",
       "    if (outputDiv.id !== \"altair-viz-1b70269ca92a481b9215780697f3500b\") {\n",
       "      outputDiv = document.getElementById(\"altair-viz-1b70269ca92a481b9215780697f3500b\");\n",
       "    }\n",
       "    const paths = {\n",
       "      \"vega\": \"https://cdn.jsdelivr.net/npm//vega@5?noext\",\n",
       "      \"vega-lib\": \"https://cdn.jsdelivr.net/npm//vega-lib?noext\",\n",
       "      \"vega-lite\": \"https://cdn.jsdelivr.net/npm//vega-lite@4.17.0?noext\",\n",
       "      \"vega-embed\": \"https://cdn.jsdelivr.net/npm//vega-embed@6?noext\",\n",
       "    };\n",
       "\n",
       "    function maybeLoadScript(lib, version) {\n",
       "      var key = `${lib.replace(\"-\", \"\")}_version`;\n",
       "      return (VEGA_DEBUG[key] == version) ?\n",
       "        Promise.resolve(paths[lib]) :\n",
       "        new Promise(function(resolve, reject) {\n",
       "          var s = document.createElement('script');\n",
       "          document.getElementsByTagName(\"head\")[0].appendChild(s);\n",
       "          s.async = true;\n",
       "          s.onload = () => {\n",
       "            VEGA_DEBUG[key] = version;\n",
       "            return resolve(paths[lib]);\n",
       "          };\n",
       "          s.onerror = () => reject(`Error loading script: ${paths[lib]}`);\n",
       "          s.src = paths[lib];\n",
       "        });\n",
       "    }\n",
       "\n",
       "    function showError(err) {\n",
       "      outputDiv.innerHTML = `<div class=\"error\" style=\"color:red;\">${err}</div>`;\n",
       "      throw err;\n",
       "    }\n",
       "\n",
       "    function displayChart(vegaEmbed) {\n",
       "      vegaEmbed(outputDiv, spec, embedOpt)\n",
       "        .catch(err => showError(`Javascript Error: ${err.message}<br>This usually means there's a typo in your chart specification. See the javascript console for the full traceback.`));\n",
       "    }\n",
       "\n",
       "    if(typeof define === \"function\" && define.amd) {\n",
       "      requirejs.config({paths});\n",
       "      require([\"vega-embed\"], displayChart, err => showError(`Error loading script: ${err.message}`));\n",
       "    } else {\n",
       "      maybeLoadScript(\"vega\", \"5\")\n",
       "        .then(() => maybeLoadScript(\"vega-lite\", \"4.17.0\"))\n",
       "        .then(() => maybeLoadScript(\"vega-embed\", \"6\"))\n",
       "        .catch(showError)\n",
       "        .then(() => displayChart(vegaEmbed));\n",
       "    }\n",
       "  })({\"config\": {\"view\": {\"continuousWidth\": 400, \"continuousHeight\": 300}}, \"data\": {\"name\": \"data-c2be8d05f7d91278cf68a638f99d9a60\"}, \"mark\": \"boxplot\", \"encoding\": {\"x\": {\"field\": \"Category\", \"type\": \"ordinal\"}, \"y\": {\"field\": \"Values\", \"type\": \"quantitative\"}}, \"$schema\": \"https://vega.github.io/schema/vega-lite/v4.17.0.json\", \"datasets\": {\"data-c2be8d05f7d91278cf68a638f99d9a60\": [{\"Category\": \"A\", \"Values\": 0.324083969394795}, {\"Category\": \"A\", \"Values\": -0.38508228041631654}, {\"Category\": \"A\", \"Values\": -0.6769220003059587}, {\"Category\": \"A\", \"Values\": 0.6116762888408679}, {\"Category\": \"A\", \"Values\": 1.030999522495951}, {\"Category\": \"A\", \"Values\": 0.9312801191161986}, {\"Category\": \"A\", \"Values\": -0.8392175232226385}, {\"Category\": \"A\", \"Values\": -0.3092123758512146}, {\"Category\": \"A\", \"Values\": 0.33126343140356396}, {\"Category\": \"A\", \"Values\": 0.9755451271223592}, {\"Category\": \"A\", \"Values\": -0.47917423784528995}, {\"Category\": \"A\", \"Values\": -0.18565897666381712}, {\"Category\": \"A\", \"Values\": -1.1063349740060282}, {\"Category\": \"A\", \"Values\": -1.1962066240806708}, {\"Category\": \"A\", \"Values\": 0.812525822394198}, {\"Category\": \"A\", \"Values\": 1.356240028570823}, {\"Category\": \"A\", \"Values\": -0.07201012158033385}, {\"Category\": \"A\", \"Values\": 1.0035328978920242}, {\"Category\": \"A\", \"Values\": 0.36163602504763415}, {\"Category\": \"A\", \"Values\": -0.6451197546051243}, {\"Category\": \"A\", \"Values\": 0.36139560550841393}, {\"Category\": \"A\", \"Values\": 1.5380365664659692}, {\"Category\": \"A\", \"Values\": -0.03582603910995154}, {\"Category\": \"A\", \"Values\": 1.5646436558140062}, {\"Category\": \"A\", \"Values\": -2.6197451040897444}, {\"Category\": \"A\", \"Values\": 0.8219025043752238}, {\"Category\": \"A\", \"Values\": 0.08704706823817122}, {\"Category\": \"A\", \"Values\": -0.29900735046586746}, {\"Category\": \"A\", \"Values\": 0.0917607765355023}, {\"Category\": \"A\", \"Values\": -1.9875689146008928}, {\"Category\": \"A\", \"Values\": -0.21967188783751193}, {\"Category\": \"A\", \"Values\": 0.3571125715117464}, {\"Category\": \"A\", \"Values\": 1.477894044741516}, {\"Category\": \"A\", \"Values\": -0.5182702182736474}, {\"Category\": \"A\", \"Values\": -0.8084936028931876}, {\"Category\": \"A\", \"Values\": -0.5017570435845365}, {\"Category\": \"A\", \"Values\": 0.9154021177020741}, {\"Category\": \"A\", \"Values\": 0.32875110965968446}, {\"Category\": \"A\", \"Values\": -0.5297602037670388}, {\"Category\": \"A\", \"Values\": 0.5132674331133561}, {\"Category\": \"A\", \"Values\": 0.09707754934804039}, {\"Category\": \"A\", \"Values\": 0.9686449905328892}, {\"Category\": \"A\", \"Values\": -0.7020530938773524}, {\"Category\": \"A\", \"Values\": -0.3276621465977682}, {\"Category\": \"A\", \"Values\": -0.39210815313215763}, {\"Category\": \"A\", \"Values\": -1.4635149481321186}, {\"Category\": \"A\", \"Values\": 0.29612027706457605}, {\"Category\": \"A\", \"Values\": 0.26105527217988933}, {\"Category\": \"A\", \"Values\": 0.00511345664246089}, {\"Category\": \"A\", \"Values\": -0.23458713337514692}, {\"Category\": \"A\", \"Values\": -1.4153707420504142}, {\"Category\": \"A\", \"Values\": -0.42064532276535904}, {\"Category\": \"A\", \"Values\": -0.3427145165267695}, {\"Category\": \"A\", \"Values\": -0.8022772692216189}, {\"Category\": \"A\", \"Values\": -0.16128571166600914}, {\"Category\": \"A\", \"Values\": 0.4040508568145384}, {\"Category\": \"A\", \"Values\": 1.8861859012105302}, {\"Category\": \"A\", \"Values\": 0.17457781283183896}, {\"Category\": \"A\", \"Values\": 0.25755039072276437}, {\"Category\": \"A\", \"Values\": -0.07444591576616721}, {\"Category\": \"A\", \"Values\": -1.9187712152990415}, {\"Category\": \"A\", \"Values\": -0.026513875449216878}, {\"Category\": \"A\", \"Values\": 0.06023020994102644}, {\"Category\": \"A\", \"Values\": 2.463242112485286}, {\"Category\": \"A\", \"Values\": -0.19236096478112252}, {\"Category\": \"A\", \"Values\": 0.30154734233361247}, {\"Category\": \"A\", \"Values\": -0.03471176970524331}, {\"Category\": \"A\", \"Values\": -1.168678037619532}, {\"Category\": \"A\", \"Values\": 1.1428228145150205}, {\"Category\": \"A\", \"Values\": 0.7519330326867741}, {\"Category\": \"A\", \"Values\": 0.7910319470430469}, {\"Category\": \"A\", \"Values\": -0.9093874547947389}, {\"Category\": \"A\", \"Values\": 1.4027943109360992}, {\"Category\": \"A\", \"Values\": -1.4018510627922809}, {\"Category\": \"A\", \"Values\": 0.5868570938002703}, {\"Category\": \"A\", \"Values\": 2.1904556258099785}, {\"Category\": \"A\", \"Values\": -0.9905363251306883}, {\"Category\": \"A\", \"Values\": -0.5662977296027719}, {\"Category\": \"A\", \"Values\": 0.09965136508764122}, {\"Category\": \"A\", \"Values\": -0.5034756541161992}, {\"Category\": \"A\", \"Values\": -1.5506634310661327}, {\"Category\": \"A\", \"Values\": 0.06856297480602733}, {\"Category\": \"A\", \"Values\": -1.0623037137261049}, {\"Category\": \"A\", \"Values\": 0.4735924306351816}, {\"Category\": \"A\", \"Values\": -0.9194242342338032}, {\"Category\": \"A\", \"Values\": 1.5499344050175394}, {\"Category\": \"A\", \"Values\": -0.7832532923362371}, {\"Category\": \"A\", \"Values\": -0.3220615162056756}, {\"Category\": \"A\", \"Values\": 0.8135172173696698}, {\"Category\": \"A\", \"Values\": -1.2308643164339552}, {\"Category\": \"A\", \"Values\": 0.22745993460412942}, {\"Category\": \"A\", \"Values\": 1.307142754282428}, {\"Category\": \"A\", \"Values\": -1.6074832345612275}, {\"Category\": \"A\", \"Values\": 0.1846338585323042}, {\"Category\": \"A\", \"Values\": 0.25988279424842353}, {\"Category\": \"A\", \"Values\": 0.7818228717773104}, {\"Category\": \"A\", \"Values\": -1.236950710878082}, {\"Category\": \"A\", \"Values\": -1.3204566130842763}, {\"Category\": \"A\", \"Values\": 0.5219415656168976}, {\"Category\": \"A\", \"Values\": 0.29698467323318606}, {\"Category\": \"B\", \"Values\": 1.500985700691753}, {\"Category\": \"B\", \"Values\": 1.6928964189939513}, {\"Category\": \"B\", \"Values\": -0.3600494431569816}, {\"Category\": \"B\", \"Values\": 1.464507394322007}, {\"Category\": \"B\", \"Values\": 1.5861449465973625}, {\"Category\": \"B\", \"Values\": -0.4287028360527356}, {\"Category\": \"B\", \"Values\": 4.731549022289514}, {\"Category\": \"B\", \"Values\": 1.947665841823575}, {\"Category\": \"B\", \"Values\": -1.3826069944052972}, {\"Category\": \"B\", \"Values\": 2.3131072172676594}, {\"Category\": \"B\", \"Values\": -0.9493633404546429}, {\"Category\": \"B\", \"Values\": 2.5741692074849043}, {\"Category\": \"B\", \"Values\": 3.317191158014808}, {\"Category\": \"B\", \"Values\": -0.6413646367034209}, {\"Category\": \"B\", \"Values\": 2.9267522584886434}, {\"Category\": \"B\", \"Values\": 1.8255618538729967}, {\"Category\": \"B\", \"Values\": 2.6441203199889802}, {\"Category\": \"B\", \"Values\": 4.793585965307894}, {\"Category\": \"B\", \"Values\": 0.5092237679942591}, {\"Category\": \"B\", \"Values\": -0.5074723287149792}, {\"Category\": \"B\", \"Values\": -0.7790288592510466}, {\"Category\": \"B\", \"Values\": -0.6316205699308766}, {\"Category\": \"B\", \"Values\": 0.8457965811717916}, {\"Category\": \"B\", \"Values\": 1.6823039496332877}, {\"Category\": \"B\", \"Values\": 1.553381598660038}, {\"Category\": \"B\", \"Values\": 2.6543664980720476}, {\"Category\": \"B\", \"Values\": 1.026003783755814}, {\"Category\": \"B\", \"Values\": 3.9070681543146337}, {\"Category\": \"B\", \"Values\": 0.47068633352408784}, {\"Category\": \"B\", \"Values\": 6.440338333179238}, {\"Category\": \"B\", \"Values\": 2.251334695530012}, {\"Category\": \"B\", \"Values\": -0.7143151128325651}, {\"Category\": \"B\", \"Values\": -1.1417849961222246}, {\"Category\": \"B\", \"Values\": 1.9649448304863706}, {\"Category\": \"B\", \"Values\": 0.5530744293482982}, {\"Category\": \"B\", \"Values\": 2.428000988184184}, {\"Category\": \"B\", \"Values\": 1.9464752491470896}, {\"Category\": \"B\", \"Values\": 0.8543421746862545}, {\"Category\": \"B\", \"Values\": -0.69358743613681}, {\"Category\": \"B\", \"Values\": -2.0296944493717293}, {\"Category\": \"B\", \"Values\": 0.10697009586595785}, {\"Category\": \"B\", \"Values\": 2.7127975886469446}, {\"Category\": \"B\", \"Values\": 1.428187488260408}, {\"Category\": \"B\", \"Values\": -1.491477557423976}, {\"Category\": \"B\", \"Values\": 1.346361851702364}, {\"Category\": \"B\", \"Values\": 1.7706347594576735}, {\"Category\": \"B\", \"Values\": -0.767714872402266}, {\"Category\": \"B\", \"Values\": 1.3074502118910558}, {\"Category\": \"B\", \"Values\": 1.1164174368919997}, {\"Category\": \"B\", \"Values\": -1.2859405956612462}, {\"Category\": \"B\", \"Values\": 1.7155747206965666}, {\"Category\": \"B\", \"Values\": 2.1215690527364686}, {\"Category\": \"B\", \"Values\": 3.166102486350554}, {\"Category\": \"B\", \"Values\": 3.107604104069806}, {\"Category\": \"B\", \"Values\": -1.755338735914182}, {\"Category\": \"B\", \"Values\": -0.8756500798302456}, {\"Category\": \"B\", \"Values\": 2.0300705344173195}, {\"Category\": \"B\", \"Values\": 2.027571901824418}, {\"Category\": \"B\", \"Values\": 2.030095372612096}, {\"Category\": \"B\", \"Values\": 8.705462981309442}, {\"Category\": \"B\", \"Values\": 2.141781021386334}, {\"Category\": \"B\", \"Values\": 3.271131280361198}, {\"Category\": \"B\", \"Values\": 2.9080035269864046}, {\"Category\": \"B\", \"Values\": 2.302782502611596}, {\"Category\": \"B\", \"Values\": 0.36946151071930877}, {\"Category\": \"B\", \"Values\": 2.517938440986535}, {\"Category\": \"B\", \"Values\": -0.5456504290751436}, {\"Category\": \"B\", \"Values\": 0.5263627865199823}, {\"Category\": \"B\", \"Values\": 0.029272904341793082}, {\"Category\": \"B\", \"Values\": 1.1637482787726452}, {\"Category\": \"B\", \"Values\": 5.629317133347017}, {\"Category\": \"B\", \"Values\": -2.734530385183496}, {\"Category\": \"B\", \"Values\": 2.3725203807490267}, {\"Category\": \"B\", \"Values\": -2.2254317423793033}, {\"Category\": \"B\", \"Values\": 0.05613626842113306}, {\"Category\": \"B\", \"Values\": 3.177901193934732}, {\"Category\": \"B\", \"Values\": 1.1285600381909255}, {\"Category\": \"B\", \"Values\": -1.1554895558586122}, {\"Category\": \"B\", \"Values\": -0.43060741851993645}, {\"Category\": \"B\", \"Values\": 2.3591954978693517}, {\"Category\": \"B\", \"Values\": -0.46073326343427334}, {\"Category\": \"B\", \"Values\": 1.4329171791639497}, {\"Category\": \"B\", \"Values\": 1.0911436798076275}, {\"Category\": \"B\", \"Values\": -0.3032006952116342}, {\"Category\": \"B\", \"Values\": 5.287888178650651}, {\"Category\": \"B\", \"Values\": 2.2678380446360222}, {\"Category\": \"B\", \"Values\": -3.0502851733152143}, {\"Category\": \"B\", \"Values\": 1.3729086295388553}, {\"Category\": \"B\", \"Values\": -0.32357292953677597}, {\"Category\": \"B\", \"Values\": 2.704866669592448}, {\"Category\": \"B\", \"Values\": -0.5850414768654013}, {\"Category\": \"B\", \"Values\": 0.770527117066202}, {\"Category\": \"B\", \"Values\": 2.0099745579609145}, {\"Category\": \"B\", \"Values\": 2.7315103883402427}, {\"Category\": \"B\", \"Values\": -1.4005928141115525}, {\"Category\": \"B\", \"Values\": 0.33099752831810325}, {\"Category\": \"B\", \"Values\": 0.05010937767808765}, {\"Category\": \"B\", \"Values\": -0.3066584651474238}, {\"Category\": \"B\", \"Values\": 4.530908480562194}, {\"Category\": \"B\", \"Values\": 1.809963421921911}]}}, {\"mode\": \"vega-lite\"});\n",
       "</script>"
      ],
      "text/plain": [
       "alt.Chart(...)"
      ]
     },
     "metadata": {},
     "output_type": "display_data"
    }
   ],
   "source": [
    "# @title Box Plot\n",
    "data = pd.DataFrame({\n",
    "    'Category': ['A'] * 100 + ['B'] * 100,\n",
    "    'Values': np.concatenate([np.random.normal(loc=0, scale=1, size=100),\n",
    "                              np.random.normal(loc=1, scale=2, size=100)])\n",
    "})\n",
    "\n",
    "alt.Chart(data).mark_boxplot().encode(\n",
    "    alt.X('Category:O'),\n",
    "    alt.Y('Values:Q')\n",
    ")"
   ]
  },
  {
   "cell_type": "code",
   "execution_count": null,
   "metadata": {},
   "outputs": [
    {
     "data": {
      "text/html": [
       "\n",
       "<div id=\"altair-viz-ea5231d690594cf084330ba33b0e40dd\"></div>\n",
       "<script type=\"text/javascript\">\n",
       "  var VEGA_DEBUG = (typeof VEGA_DEBUG == \"undefined\") ? {} : VEGA_DEBUG;\n",
       "  (function(spec, embedOpt){\n",
       "    let outputDiv = document.currentScript.previousElementSibling;\n",
       "    if (outputDiv.id !== \"altair-viz-ea5231d690594cf084330ba33b0e40dd\") {\n",
       "      outputDiv = document.getElementById(\"altair-viz-ea5231d690594cf084330ba33b0e40dd\");\n",
       "    }\n",
       "    const paths = {\n",
       "      \"vega\": \"https://cdn.jsdelivr.net/npm//vega@5?noext\",\n",
       "      \"vega-lib\": \"https://cdn.jsdelivr.net/npm//vega-lib?noext\",\n",
       "      \"vega-lite\": \"https://cdn.jsdelivr.net/npm//vega-lite@4.17.0?noext\",\n",
       "      \"vega-embed\": \"https://cdn.jsdelivr.net/npm//vega-embed@6?noext\",\n",
       "    };\n",
       "\n",
       "    function maybeLoadScript(lib, version) {\n",
       "      var key = `${lib.replace(\"-\", \"\")}_version`;\n",
       "      return (VEGA_DEBUG[key] == version) ?\n",
       "        Promise.resolve(paths[lib]) :\n",
       "        new Promise(function(resolve, reject) {\n",
       "          var s = document.createElement('script');\n",
       "          document.getElementsByTagName(\"head\")[0].appendChild(s);\n",
       "          s.async = true;\n",
       "          s.onload = () => {\n",
       "            VEGA_DEBUG[key] = version;\n",
       "            return resolve(paths[lib]);\n",
       "          };\n",
       "          s.onerror = () => reject(`Error loading script: ${paths[lib]}`);\n",
       "          s.src = paths[lib];\n",
       "        });\n",
       "    }\n",
       "\n",
       "    function showError(err) {\n",
       "      outputDiv.innerHTML = `<div class=\"error\" style=\"color:red;\">${err}</div>`;\n",
       "      throw err;\n",
       "    }\n",
       "\n",
       "    function displayChart(vegaEmbed) {\n",
       "      vegaEmbed(outputDiv, spec, embedOpt)\n",
       "        .catch(err => showError(`Javascript Error: ${err.message}<br>This usually means there's a typo in your chart specification. See the javascript console for the full traceback.`));\n",
       "    }\n",
       "\n",
       "    if(typeof define === \"function\" && define.amd) {\n",
       "      requirejs.config({paths});\n",
       "      require([\"vega-embed\"], displayChart, err => showError(`Error loading script: ${err.message}`));\n",
       "    } else {\n",
       "      maybeLoadScript(\"vega\", \"5\")\n",
       "        .then(() => maybeLoadScript(\"vega-lite\", \"4.17.0\"))\n",
       "        .then(() => maybeLoadScript(\"vega-embed\", \"6\"))\n",
       "        .catch(showError)\n",
       "        .then(() => displayChart(vegaEmbed));\n",
       "    }\n",
       "  })({\"config\": {\"view\": {\"continuousWidth\": 400, \"continuousHeight\": 300}}, \"data\": {\"url\": \"https://cdn.jsdelivr.net/npm/vega-datasets@v1.29.0/data/cars.json\"}, \"mark\": \"point\", \"encoding\": {\"x\": {\"field\": \"Horsepower\", \"type\": \"quantitative\"}, \"y\": {\"field\": \"Miles_per_Gallon\", \"type\": \"quantitative\"}}, \"$schema\": \"https://vega.github.io/schema/vega-lite/v4.17.0.json\"}, {\"mode\": \"vega-lite\"});\n",
       "</script>"
      ],
      "text/plain": [
       "alt.Chart(...)"
      ]
     },
     "metadata": {},
     "output_type": "display_data"
    }
   ],
   "source": [
    "# @title Scatter Plot\n",
    "url = data.cars.url\n",
    "\n",
    "alt.Chart(url).mark_point().encode(\n",
    "    x='Horsepower:Q',\n",
    "    y='Miles_per_Gallon:Q'\n",
    ")"
   ]
  },
  {
   "cell_type": "code",
   "execution_count": null,
   "metadata": {},
   "outputs": [],
   "source": [
    "# @title Geoshape\n",
    "import geopandas as gpd\n",
    "\n",
    "url = \"https://naciscdn.org/naturalearth/110m/cultural/ne_110m_admin_0_countries.zip\"\n",
    "gdf_ne = gpd.read_file(url)  # zipped shapefile\n",
    "gdf_ne = gdf_ne[[\"NAME\", \"CONTINENT\", \"POP_EST\", 'geometry']]\n",
    "\n",
    "alt.Chart(gdf_ne).mark_geoshape()"
   ]
  },
  {
   "cell_type": "code",
   "execution_count": null,
   "metadata": {},
   "outputs": [],
   "source": [
    "# @title Line Chart\n",
    "source = data.stocks()\n",
    "\n",
    "alt.Chart(source).mark_line().encode(\n",
    "    x=\"date\",\n",
    "    y=\"price\",\n",
    "    color=\"symbol\"\n",
    ")"
   ]
  },
  {
   "cell_type": "markdown",
   "metadata": {},
   "source": [
    "### Data Tramsformation dengan Library Altair:\n"
   ]
  },
  {
   "cell_type": "code",
   "execution_count": null,
   "metadata": {},
   "outputs": [],
   "source": [
    "# @title Agregat\n",
    "source = data.cars.url\n",
    "\n",
    "alt.Chart(source).mark_bar().encode(\n",
    "    y='Cylinders:O',\n",
    "    x='mean_acc:Q'\n",
    ").transform_aggregate(\n",
    "    mean_acc='mean(Acceleration)',\n",
    "    groupby=[\"Cylinders\"]\n",
    ")"
   ]
  },
  {
   "cell_type": "code",
   "execution_count": null,
   "metadata": {},
   "outputs": [],
   "source": [
    "# @title Bin\n",
    "movies = data.movies.url\n",
    "\n",
    "alt.Chart(movies).mark_bar().encode(\n",
    "    x='binned_rating:O',\n",
    "    y='count()',\n",
    ").transform_bin(\n",
    "    'binned_rating', field='IMDB_Rating'\n",
    ")"
   ]
  },
  {
   "cell_type": "code",
   "execution_count": null,
   "metadata": {},
   "outputs": [],
   "source": [
    "data = pd.DataFrame({'t': range(101)})\n",
    "\n",
    "alt.Chart(data).mark_line().encode(\n",
    "    x='x:Q',\n",
    "    y='y:Q',\n",
    "    order='t:Q'\n",
    ").transform_calculate(\n",
    "    x='cos(datum.t * PI / 50)',\n",
    "    y='sin(datum.t * PI / 25)'\n",
    ")"
   ]
  },
  {
   "cell_type": "code",
   "execution_count": null,
   "metadata": {},
   "outputs": [
    {
     "data": {
      "text/html": [
       "\n",
       "<div id=\"altair-viz-12d447c89b7e440ba73900e99cccbe7a\"></div>\n",
       "<script type=\"text/javascript\">\n",
       "  var VEGA_DEBUG = (typeof VEGA_DEBUG == \"undefined\") ? {} : VEGA_DEBUG;\n",
       "  (function(spec, embedOpt){\n",
       "    let outputDiv = document.currentScript.previousElementSibling;\n",
       "    if (outputDiv.id !== \"altair-viz-12d447c89b7e440ba73900e99cccbe7a\") {\n",
       "      outputDiv = document.getElementById(\"altair-viz-12d447c89b7e440ba73900e99cccbe7a\");\n",
       "    }\n",
       "    const paths = {\n",
       "      \"vega\": \"https://cdn.jsdelivr.net/npm//vega@5?noext\",\n",
       "      \"vega-lib\": \"https://cdn.jsdelivr.net/npm//vega-lib?noext\",\n",
       "      \"vega-lite\": \"https://cdn.jsdelivr.net/npm//vega-lite@4.17.0?noext\",\n",
       "      \"vega-embed\": \"https://cdn.jsdelivr.net/npm//vega-embed@6?noext\",\n",
       "    };\n",
       "\n",
       "    function maybeLoadScript(lib, version) {\n",
       "      var key = `${lib.replace(\"-\", \"\")}_version`;\n",
       "      return (VEGA_DEBUG[key] == version) ?\n",
       "        Promise.resolve(paths[lib]) :\n",
       "        new Promise(function(resolve, reject) {\n",
       "          var s = document.createElement('script');\n",
       "          document.getElementsByTagName(\"head\")[0].appendChild(s);\n",
       "          s.async = true;\n",
       "          s.onload = () => {\n",
       "            VEGA_DEBUG[key] = version;\n",
       "            return resolve(paths[lib]);\n",
       "          };\n",
       "          s.onerror = () => reject(`Error loading script: ${paths[lib]}`);\n",
       "          s.src = paths[lib];\n",
       "        });\n",
       "    }\n",
       "\n",
       "    function showError(err) {\n",
       "      outputDiv.innerHTML = `<div class=\"error\" style=\"color:red;\">${err}</div>`;\n",
       "      throw err;\n",
       "    }\n",
       "\n",
       "    function displayChart(vegaEmbed) {\n",
       "      vegaEmbed(outputDiv, spec, embedOpt)\n",
       "        .catch(err => showError(`Javascript Error: ${err.message}<br>This usually means there's a typo in your chart specification. See the javascript console for the full traceback.`));\n",
       "    }\n",
       "\n",
       "    if(typeof define === \"function\" && define.amd) {\n",
       "      requirejs.config({paths});\n",
       "      require([\"vega-embed\"], displayChart, err => showError(`Error loading script: ${err.message}`));\n",
       "    } else {\n",
       "      maybeLoadScript(\"vega\", \"5\")\n",
       "        .then(() => maybeLoadScript(\"vega-lite\", \"4.17.0\"))\n",
       "        .then(() => maybeLoadScript(\"vega-embed\", \"6\"))\n",
       "        .catch(showError)\n",
       "        .then(() => displayChart(vegaEmbed));\n",
       "    }\n",
       "  })({\"config\": {\"view\": {\"continuousWidth\": 400, \"continuousHeight\": 300}}, \"data\": {\"name\": \"data-c83ce6c4f9db0b31888c500aca3cdf77\"}, \"mark\": \"point\", \"encoding\": {\"x\": {\"field\": \"prob\", \"type\": \"quantitative\"}, \"y\": {\"field\": \"value\", \"type\": \"quantitative\"}}, \"transform\": [{\"quantile\": \"x\", \"step\": 0.01}], \"$schema\": \"https://vega.github.io/schema/vega-lite/v4.17.0.json\", \"datasets\": {\"data-c83ce6c4f9db0b31888c500aca3cdf77\": [{\"x\": 0.4967141530112327}, {\"x\": -0.13826430117118466}, {\"x\": 0.6476885381006925}, {\"x\": 1.5230298564080254}, {\"x\": -0.23415337472333597}, {\"x\": -0.23413695694918055}, {\"x\": 1.5792128155073915}, {\"x\": 0.7674347291529088}, {\"x\": -0.4694743859349521}, {\"x\": 0.5425600435859647}, {\"x\": -0.46341769281246226}, {\"x\": -0.46572975357025687}, {\"x\": 0.24196227156603412}, {\"x\": -1.913280244657798}, {\"x\": -1.7249178325130328}, {\"x\": -0.5622875292409727}, {\"x\": -1.0128311203344238}, {\"x\": 0.3142473325952739}, {\"x\": -0.9080240755212109}, {\"x\": -1.4123037013352915}, {\"x\": 1.465648768921554}, {\"x\": -0.22577630048653566}, {\"x\": 0.06752820468792384}, {\"x\": -1.4247481862134568}, {\"x\": -0.5443827245251827}, {\"x\": 0.11092258970986608}, {\"x\": -1.1509935774223028}, {\"x\": 0.37569801834567196}, {\"x\": -0.600638689918805}, {\"x\": -0.2916937497932768}, {\"x\": -0.6017066122293969}, {\"x\": 1.8522781845089378}, {\"x\": -0.013497224737933921}, {\"x\": -1.0577109289559004}, {\"x\": 0.822544912103189}, {\"x\": -1.2208436499710222}, {\"x\": 0.2088635950047554}, {\"x\": -1.9596701238797756}, {\"x\": -1.3281860488984305}, {\"x\": 0.19686123586912352}, {\"x\": 0.7384665799954104}, {\"x\": 0.1713682811899705}, {\"x\": -0.11564828238824053}, {\"x\": -0.3011036955892888}, {\"x\": -1.4785219903674274}, {\"x\": -0.7198442083947086}, {\"x\": -0.4606387709597875}, {\"x\": 1.0571222262189157}, {\"x\": 0.3436182895684614}, {\"x\": -1.763040155362734}, {\"x\": 0.324083969394795}, {\"x\": -0.38508228041631654}, {\"x\": -0.6769220003059587}, {\"x\": 0.6116762888408679}, {\"x\": 1.030999522495951}, {\"x\": 0.9312801191161986}, {\"x\": -0.8392175232226385}, {\"x\": -0.3092123758512146}, {\"x\": 0.33126343140356396}, {\"x\": 0.9755451271223592}, {\"x\": -0.47917423784528995}, {\"x\": -0.18565897666381712}, {\"x\": -1.1063349740060282}, {\"x\": -1.1962066240806708}, {\"x\": 0.812525822394198}, {\"x\": 1.356240028570823}, {\"x\": -0.07201012158033385}, {\"x\": 1.0035328978920242}, {\"x\": 0.36163602504763415}, {\"x\": -0.6451197546051243}, {\"x\": 0.36139560550841393}, {\"x\": 1.5380365664659692}, {\"x\": -0.03582603910995154}, {\"x\": 1.5646436558140062}, {\"x\": -2.6197451040897444}, {\"x\": 0.8219025043752238}, {\"x\": 0.08704706823817122}, {\"x\": -0.29900735046586746}, {\"x\": 0.0917607765355023}, {\"x\": -1.9875689146008928}, {\"x\": -0.21967188783751193}, {\"x\": 0.3571125715117464}, {\"x\": 1.477894044741516}, {\"x\": -0.5182702182736474}, {\"x\": -0.8084936028931876}, {\"x\": -0.5017570435845365}, {\"x\": 0.9154021177020741}, {\"x\": 0.32875110965968446}, {\"x\": -0.5297602037670388}, {\"x\": 0.5132674331133561}, {\"x\": 0.09707754934804039}, {\"x\": 0.9686449905328892}, {\"x\": -0.7020530938773524}, {\"x\": -0.3276621465977682}, {\"x\": -0.39210815313215763}, {\"x\": -1.4635149481321186}, {\"x\": 0.29612027706457605}, {\"x\": 0.26105527217988933}, {\"x\": 0.00511345664246089}, {\"x\": -0.23458713337514692}, {\"x\": -1.4153707420504142}, {\"x\": -0.42064532276535904}, {\"x\": -0.3427145165267695}, {\"x\": -0.8022772692216189}, {\"x\": -0.16128571166600914}, {\"x\": 0.4040508568145384}, {\"x\": 1.8861859012105302}, {\"x\": 0.17457781283183896}, {\"x\": 0.25755039072276437}, {\"x\": -0.07444591576616721}, {\"x\": -1.9187712152990415}, {\"x\": -0.026513875449216878}, {\"x\": 0.06023020994102644}, {\"x\": 2.463242112485286}, {\"x\": -0.19236096478112252}, {\"x\": 0.30154734233361247}, {\"x\": -0.03471176970524331}, {\"x\": -1.168678037619532}, {\"x\": 1.1428228145150205}, {\"x\": 0.7519330326867741}, {\"x\": 0.7910319470430469}, {\"x\": -0.9093874547947389}, {\"x\": 1.4027943109360992}, {\"x\": -1.4018510627922809}, {\"x\": 0.5868570938002703}, {\"x\": 2.1904556258099785}, {\"x\": -0.9905363251306883}, {\"x\": -0.5662977296027719}, {\"x\": 0.09965136508764122}, {\"x\": -0.5034756541161992}, {\"x\": -1.5506634310661327}, {\"x\": 0.06856297480602733}, {\"x\": -1.0623037137261049}, {\"x\": 0.4735924306351816}, {\"x\": -0.9194242342338032}, {\"x\": 1.5499344050175394}, {\"x\": -0.7832532923362371}, {\"x\": -0.3220615162056756}, {\"x\": 0.8135172173696698}, {\"x\": -1.2308643164339552}, {\"x\": 0.22745993460412942}, {\"x\": 1.307142754282428}, {\"x\": -1.6074832345612275}, {\"x\": 0.1846338585323042}, {\"x\": 0.25988279424842353}, {\"x\": 0.7818228717773104}, {\"x\": -1.236950710878082}, {\"x\": -1.3204566130842763}, {\"x\": 0.5219415656168976}, {\"x\": 0.29698467323318606}, {\"x\": 0.25049285034587654}, {\"x\": 0.3464482094969757}, {\"x\": -0.6800247215784908}, {\"x\": 0.23225369716100355}, {\"x\": 0.29307247329868125}, {\"x\": -0.7143514180263678}, {\"x\": 1.8657745111447566}, {\"x\": 0.4738329209117875}, {\"x\": -1.1913034972026486}, {\"x\": 0.6565536086338297}, {\"x\": -0.9746816702273214}, {\"x\": 0.787084603742452}, {\"x\": 1.158595579007404}, {\"x\": -0.8206823183517105}, {\"x\": 0.9633761292443218}, {\"x\": 0.4127809269364983}, {\"x\": 0.82206015999449}, {\"x\": 1.8967929826539474}, {\"x\": -0.2453881160028705}, {\"x\": -0.7537361643574896}, {\"x\": -0.8895144296255233}, {\"x\": -0.8158102849654383}, {\"x\": -0.0771017094141042}, {\"x\": 0.3411519748166439}, {\"x\": 0.27669079933001905}, {\"x\": 0.8271832490360238}, {\"x\": 0.01300189187790702}, {\"x\": 1.4535340771573169}, {\"x\": -0.2646568332379561}, {\"x\": 2.720169166589619}, {\"x\": 0.6256673477650062}, {\"x\": -0.8571575564162826}, {\"x\": -1.0708924980611123}, {\"x\": 0.4824724152431853}, {\"x\": -0.2234627853258509}, {\"x\": 0.714000494092092}, {\"x\": 0.47323762457354485}, {\"x\": -0.07282891265687277}, {\"x\": -0.846793718068405}, {\"x\": -1.5148472246858646}, {\"x\": -0.4465149520670211}, {\"x\": 0.8563987943234723}, {\"x\": 0.21409374413020396}, {\"x\": -1.245738778711988}, {\"x\": 0.173180925851182}, {\"x\": 0.3853173797288368}, {\"x\": -0.883857436201133}, {\"x\": 0.1537251059455279}, {\"x\": 0.058208718445999896}, {\"x\": -1.142970297830623}]}}, {\"mode\": \"vega-lite\"});\n",
       "</script>"
      ],
      "text/plain": [
       "alt.Chart(...)"
      ]
     },
     "metadata": {},
     "output_type": "display_data"
    }
   ],
   "source": [
    "# @title Quantile\n",
    "np.random.seed(42)\n",
    "df = pd.DataFrame({'x': np.random.randn(200)})\n",
    "\n",
    "alt.Chart(df).transform_quantile(\n",
    "    'x', step=0.01\n",
    ").mark_point().encode(\n",
    "    x='prob:Q',\n",
    "    y='value:Q'\n",
    ")"
   ]
  },
  {
   "cell_type": "code",
   "execution_count": null,
   "metadata": {},
   "outputs": [
    {
     "data": {
      "text/html": [
       "\n",
       "<div id=\"altair-viz-46b2c668454747ea8d2761f06d0a46b5\"></div>\n",
       "<script type=\"text/javascript\">\n",
       "  var VEGA_DEBUG = (typeof VEGA_DEBUG == \"undefined\") ? {} : VEGA_DEBUG;\n",
       "  (function(spec, embedOpt){\n",
       "    let outputDiv = document.currentScript.previousElementSibling;\n",
       "    if (outputDiv.id !== \"altair-viz-46b2c668454747ea8d2761f06d0a46b5\") {\n",
       "      outputDiv = document.getElementById(\"altair-viz-46b2c668454747ea8d2761f06d0a46b5\");\n",
       "    }\n",
       "    const paths = {\n",
       "      \"vega\": \"https://cdn.jsdelivr.net/npm//vega@5?noext\",\n",
       "      \"vega-lib\": \"https://cdn.jsdelivr.net/npm//vega-lib?noext\",\n",
       "      \"vega-lite\": \"https://cdn.jsdelivr.net/npm//vega-lite@4.17.0?noext\",\n",
       "      \"vega-embed\": \"https://cdn.jsdelivr.net/npm//vega-embed@6?noext\",\n",
       "    };\n",
       "\n",
       "    function maybeLoadScript(lib, version) {\n",
       "      var key = `${lib.replace(\"-\", \"\")}_version`;\n",
       "      return (VEGA_DEBUG[key] == version) ?\n",
       "        Promise.resolve(paths[lib]) :\n",
       "        new Promise(function(resolve, reject) {\n",
       "          var s = document.createElement('script');\n",
       "          document.getElementsByTagName(\"head\")[0].appendChild(s);\n",
       "          s.async = true;\n",
       "          s.onload = () => {\n",
       "            VEGA_DEBUG[key] = version;\n",
       "            return resolve(paths[lib]);\n",
       "          };\n",
       "          s.onerror = () => reject(`Error loading script: ${paths[lib]}`);\n",
       "          s.src = paths[lib];\n",
       "        });\n",
       "    }\n",
       "\n",
       "    function showError(err) {\n",
       "      outputDiv.innerHTML = `<div class=\"error\" style=\"color:red;\">${err}</div>`;\n",
       "      throw err;\n",
       "    }\n",
       "\n",
       "    function displayChart(vegaEmbed) {\n",
       "      vegaEmbed(outputDiv, spec, embedOpt)\n",
       "        .catch(err => showError(`Javascript Error: ${err.message}<br>This usually means there's a typo in your chart specification. See the javascript console for the full traceback.`));\n",
       "    }\n",
       "\n",
       "    if(typeof define === \"function\" && define.amd) {\n",
       "      requirejs.config({paths});\n",
       "      require([\"vega-embed\"], displayChart, err => showError(`Error loading script: ${err.message}`));\n",
       "    } else {\n",
       "      maybeLoadScript(\"vega\", \"5\")\n",
       "        .then(() => maybeLoadScript(\"vega-lite\", \"4.17.0\"))\n",
       "        .then(() => maybeLoadScript(\"vega-embed\", \"6\"))\n",
       "        .catch(showError)\n",
       "        .then(() => displayChart(vegaEmbed));\n",
       "    }\n",
       "  })({\"config\": {\"view\": {\"continuousWidth\": 400, \"continuousHeight\": 300}}, \"layer\": [{\"mark\": \"point\", \"encoding\": {\"x\": {\"field\": \"x\", \"type\": \"quantitative\"}, \"y\": {\"field\": \"y\", \"type\": \"quantitative\"}}}, {\"mark\": \"line\", \"encoding\": {\"x\": {\"field\": \"x\", \"type\": \"quantitative\"}, \"y\": {\"field\": \"y\", \"type\": \"quantitative\"}}, \"transform\": [{\"on\": \"x\", \"regression\": \"y\"}]}], \"data\": {\"name\": \"data-04295185ddde84f7f1fd8ac63d0a1a89\"}, \"$schema\": \"https://vega.github.io/schema/vega-lite/v4.17.0.json\", \"datasets\": {\"data-04295185ddde84f7f1fd8ac63d0a1a89\": [{\"x\": 0.0, \"y\": -4.503285846988767}, {\"x\": 0.20408163265306123, \"y\": -4.934182668518123}, {\"x\": 0.40816326530612246, \"y\": -3.9441481965931855}, {\"x\": 0.6122448979591837, \"y\": -2.8647252456327905}, {\"x\": 0.8163265306122449, \"y\": -4.417826844111091}, {\"x\": 1.0204081632653061, \"y\": -4.213728793683875}, {\"x\": 1.2244897959183674, \"y\": -2.196297388574241}, {\"x\": 1.4285714285714286, \"y\": -2.8039938422756623}, {\"x\": 1.6326530612244898, \"y\": -3.836821324710462}, {\"x\": 1.836734693877551, \"y\": -2.6207052625364846}, {\"x\": 2.0408163265306123, \"y\": -3.42260136628185}, {\"x\": 2.2448979591836737, \"y\": -3.220831794386583}, {\"x\": 2.4489795918367347, \"y\": -2.309058136597231}, {\"x\": 2.6530612244897958, \"y\": -4.260219020168002}, {\"x\": 2.857142857142857, \"y\": -3.8677749753701756}, {\"x\": 3.0612244897959187, \"y\": -2.501063039445054}, {\"x\": 3.2653061224489797, \"y\": -2.747524997885444}, {\"x\": 3.4693877551020407, \"y\": -1.2163649123026854}, {\"x\": 3.673469387755102, \"y\": -2.2345546877661087}, {\"x\": 3.8775510204081636, \"y\": -2.534752680927128}, {\"x\": 4.081632653061225, \"y\": 0.5472814219827786}, {\"x\": 4.285714285714286, \"y\": -0.94006201477225}, {\"x\": 4.4897959183673475, \"y\": -0.44267587694472865}, {\"x\": 4.6938775510204085, \"y\": -1.7308706351930483}, {\"x\": 4.8979591836734695, \"y\": -0.6464235408517132}, {\"x\": 5.1020408163265305, \"y\": 0.21296340603639657}, {\"x\": 5.3061224489795915, \"y\": -0.8448711284427113}, {\"x\": 5.510204081632653, \"y\": 0.8859020999783254}, {\"x\": 5.714285714285714, \"y\": 0.11364702436690943}, {\"x\": 5.918367346938775, \"y\": 0.6266735971454986}, {\"x\": 6.122448979591837, \"y\": 0.5207423673624404}, {\"x\": 6.326530612244898, \"y\": 3.1788087967538363}, {\"x\": 6.530612244897959, \"y\": 1.5171150201600254}, {\"x\": 6.73469387755102, \"y\": 0.67698294859512}, {\"x\": 6.938775510204081, \"y\": 2.7613204223072705}, {\"x\": 7.142857142857143, \"y\": 0.922013492886121}, {\"x\": 7.346938775510204, \"y\": 2.5558023705149595}, {\"x\": 7.551020408163265, \"y\": 0.5913502842834897}, {\"x\": 7.755102040816327, \"y\": 1.4269159919178966}, {\"x\": 7.959183673469388, \"y\": 3.1560449093385117}, {\"x\": 8.16326530612245, \"y\": 3.90173188611786}, {\"x\": 8.36734693877551, \"y\": 3.5387152199654808}, {\"x\": 8.571428571428571, \"y\": 3.4557802890403306}, {\"x\": 8.775510204081632, \"y\": 3.4744065084923434}, {\"x\": 8.979591836734695, \"y\": 2.5010698463672676}, {\"x\": 9.183673469387756, \"y\": 3.463829260993047}, {\"x\": 9.387755102040817, \"y\": 3.9271163310810295}, {\"x\": 9.591836734693878, \"y\": 5.648958960912793}, {\"x\": 9.795918367346939, \"y\": 5.1395366569154}, {\"x\": 10.0, \"y\": 3.236959844637266}]}}, {\"mode\": \"vega-lite\"});\n",
       "</script>"
      ],
      "text/plain": [
       "alt.LayerChart(...)"
      ]
     },
     "metadata": {},
     "output_type": "display_data"
    }
   ],
   "source": [
    "# @title Regression\n",
    "np.random.seed(42)\n",
    "x = np.linspace(0, 10)\n",
    "y = x - 5 + np.random.randn(len(x))\n",
    "\n",
    "df = pd.DataFrame({'x': x, 'y': y})\n",
    "\n",
    "chart = alt.Chart(df).mark_point().encode(\n",
    "    x='x',\n",
    "    y='y'\n",
    ")\n",
    "\n",
    "chart + chart.transform_regression('x', 'y').mark_line()"
   ]
  }
 ],
 "metadata": {
  "kernelspec": {
   "display_name": "Python 3",
   "language": "python",
   "name": "python3"
  },
  "language_info": {
   "codemirror_mode": {
    "name": "ipython",
    "version": 3
   },
   "file_extension": ".py",
   "mimetype": "text/x-python",
   "name": "python",
   "nbconvert_exporter": "python",
   "pygments_lexer": "ipython3",
   "version": "3.10.5"
  }
 },
 "nbformat": 4,
 "nbformat_minor": 2
}
